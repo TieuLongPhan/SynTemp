{
 "cells": [
  {
   "cell_type": "markdown",
   "metadata": {},
   "source": [
    "# **1. Consensus atom mapping**"
   ]
  },
  {
   "cell_type": "code",
   "execution_count": null,
   "metadata": {},
   "outputs": [],
   "source": [
    "import sys\n",
    "\n",
    "sys.path.append(\"../../\")\n",
    "from syntemp.pipeline import run_aam\n",
    "from syntemp.SynUtils.utils import load_database\n",
    "\n",
    "data = load_database(f\"../../Data/Testcase/demo.json.gz\")[:10]\n",
    "mapped_reactions = run_aam(\n",
    "    data,\n",
    "    mapper_types=[\"local_mapper\", \"rxn_mapper\", \"graphormer\"],\n",
    "    rsmi_column=\"reactions\",\n",
    ")"
   ]
  },
  {
   "cell_type": "markdown",
   "metadata": {},
   "source": [
    "# **2. ITSG and Rule Extraction**\n",
    "\n",
    "Assume that you run consensus atom mapping (take time)"
   ]
  },
  {
   "cell_type": "markdown",
   "metadata": {},
   "source": [
    "## 2.1. Extraction"
   ]
  },
  {
   "cell_type": "code",
   "execution_count": null,
   "metadata": {},
   "outputs": [],
   "source": [
    "import sys\n",
    "\n",
    "sys.path.append(\"../../\")\n",
    "from syntemp.SynAAM.aam_postprocess import AMMPostprocessor\n",
    "from syntemp.SynITS.its_extraction import ITSExtraction\n",
    "from syntemp.SynUtils.utils import load_database, save_database\n",
    "\n",
    "data = mapped_reactions\n",
    "mapper_name = [\"rxn_mapper\", \"graphormer\", \"local_mapper\"]\n",
    "\n",
    "# make sure reactions all have atom mapping\n",
    "check_valid = AMMPostprocessor.parallel_postprocess(\n",
    "    data, mapper_name, threshold=3, n_jobs=5, verbose=1\n",
    ")\n",
    "valid_data = [reaction for reaction in check_valid if reaction.get(\"Valid\")]"
   ]
  },
  {
   "cell_type": "code",
   "execution_count": null,
   "metadata": {},
   "outputs": [],
   "source": [
    "# Extract rules and graph rules based on Imaginary Transition State (ITS)\n",
    "its_graph, its_graph_wrong = ITSExtraction.parallel_process_smiles(\n",
    "    data, mapper_name, n_jobs=5, verbose=1, export_full=False, check_method=\"RC\"\n",
    ")\n",
    "\n",
    "len(its_graph)"
   ]
  },
  {
   "cell_type": "code",
   "execution_count": null,
   "metadata": {},
   "outputs": [],
   "source": [
    "from syntemp.SynVis.chemical_graph_visualizer import ChemicalGraphVisualizer\n",
    "\n",
    "vis_graph = ChemicalGraphVisualizer(seed=42)\n",
    "fig = vis_graph.visualize_all(its_graph[0][\"ITSGraph\"], its_graph[0][\"GraphRules\"])\n",
    "fig"
   ]
  },
  {
   "cell_type": "markdown",
   "metadata": {},
   "source": [
    "## 2.2. Rules Extension"
   ]
  },
  {
   "cell_type": "code",
   "execution_count": null,
   "metadata": {},
   "outputs": [],
   "source": [
    "from syntemp.SynRule.rules_extraction import RuleExtraction\n",
    "\n",
    "its_graph_rules = RuleExtraction.process_rules_extraction(\n",
    "    its_graph, mapper_type=\"ITSGraph\", n_jobs=1, verbose=0, extend=True, n_knn=1\n",
    ")\n",
    "vis_graph.vis_three_graph(\n",
    "    its_graph_rules[0][\"GraphRules\"],\n",
    "    left_graph_title=\"L\",\n",
    "    right_graph_title=\"R\",\n",
    "    k_graph_title=\"K\",\n",
    ")"
   ]
  },
  {
   "cell_type": "markdown",
   "metadata": {},
   "source": [
    "# **3. ITS Completation**\n",
    "\n",
    "Make sure ITSG be a cyclic graph"
   ]
  },
  {
   "cell_type": "markdown",
   "metadata": {},
   "source": [
    "## 3.1. Cyclic ITS Graph"
   ]
  },
  {
   "cell_type": "code",
   "execution_count": null,
   "metadata": {},
   "outputs": [],
   "source": [
    "from syntemp.SynITS.its_hadjuster import ITSHAdjuster\n",
    "\n",
    "from copy import deepcopy\n",
    "\n",
    "test_list = deepcopy(its_graph)\n",
    "print(len(test_list))\n",
    "\n",
    "process_graph_data = ITSHAdjuster.process_graph_data_parallel(\n",
    "    test_list, \"ITSGraph\", n_jobs=5, verbose=2\n",
    ")\n",
    "process_graph_data = [\n",
    "    value for _, value in enumerate(process_graph_data) if value[\"ITSGraph\"] is not None\n",
    "]\n",
    "len(process_graph_data)"
   ]
  },
  {
   "cell_type": "code",
   "execution_count": null,
   "metadata": {},
   "outputs": [],
   "source": [
    "vis_graph.visualize_all(\n",
    "    process_graph_data[2][\"ITSGraph\"], process_graph_data[2][\"GraphRules\"]\n",
    ")"
   ]
  },
  {
   "cell_type": "markdown",
   "metadata": {},
   "source": [
    "## 3.2. Ambiguous hydrogen"
   ]
  },
  {
   "cell_type": "code",
   "execution_count": null,
   "metadata": {},
   "outputs": [],
   "source": [
    "test = \"[CH:10]=1[CH:11]=[CH:12][C:7](=[CH:8][CH:9]=1)[N:5]([OH:6])[C:3](=[O:4])[O:2][CH3:1].[Cl:16][C:14]([Cl:13])([Cl:15])[C:17]#[N:18]>>[Cl:13][C:14]([Cl:16])([Cl:15])[C:17]([NH:18][C:12]=1[C:7](=[CH:8][CH:9]=[CH:10][CH:11]=1)[NH:5][C:3]([O:2][CH3:1])=[O:4])=[O:6]\"\n",
    "from syntemp.SynVis.chemical_reaction_visualizer import ChemicalReactionVisualizer\n",
    "\n",
    "vis = ChemicalReactionVisualizer()\n",
    "vis.visualize_reaction(test, show_atom_map=True, img_size=(1000, 300))"
   ]
  },
  {
   "cell_type": "code",
   "execution_count": null,
   "metadata": {},
   "outputs": [],
   "source": [
    "test_arbitrary = [{\"R-id\": \"C1\", \"mapper\": test}]\n",
    "from syntemp.SynITS.its_extraction import ITSExtraction\n",
    "\n",
    "mapper_names = [\"mapper\"]\n",
    "correct, incorrect = ITSExtraction.parallel_process_smiles(\n",
    "    test_arbitrary,\n",
    "    mapper_names=mapper_names,\n",
    "    check_method=\"RC\",\n",
    ")\n",
    "react_graph, product_graph, rule_graph = (\n",
    "    correct[0][\"ITSGraph\"][0],\n",
    "    correct[0][\"ITSGraph\"][1],\n",
    "    correct[0][\"ITSGraph\"][2],\n",
    ")"
   ]
  },
  {
   "cell_type": "code",
   "execution_count": null,
   "metadata": {},
   "outputs": [],
   "source": [
    "from syntemp.SynITS.its_hadjuster import ITSHAdjuster\n",
    "from syntemp.SynITS.its_construction import ITSConstruction\n",
    "\n",
    "variations = ITSHAdjuster.add_hydrogen_nodes_multiple(react_graph, product_graph)\n",
    "its_list = [ITSConstruction.ITSGraph(i[0], i[1]) for i in variations]\n",
    "\n",
    "group_1, group_2 = variations[0] + (its_list[0],), variations[1] + (its_list[1],)\n",
    "rules_1 = RuleExtraction.extract_reaction_rules(*group_1, extend=False, n_knn=1)\n",
    "rules_2 = RuleExtraction.extract_reaction_rules(*group_2, extend=False, n_knn=1)"
   ]
  },
  {
   "cell_type": "code",
   "execution_count": null,
   "metadata": {},
   "outputs": [],
   "source": [
    "from syntemp.SynVis.chemical_graph_visualizer import ChemicalGraphVisualizer\n",
    "\n",
    "vis_graph = ChemicalGraphVisualizer(seed=42)\n",
    "vis_graph.vis_three_graph(\n",
    "    rules_1, left_graph_title=\"L\", right_graph_title=\"R\", k_graph_title=\"K\"\n",
    ")"
   ]
  },
  {
   "cell_type": "code",
   "execution_count": null,
   "metadata": {},
   "outputs": [],
   "source": [
    "vis_graph.vis_three_graph(\n",
    "    rules_2, left_graph_title=\"L\", right_graph_title=\"R\", k_graph_title=\"K\"\n",
    ")"
   ]
  },
  {
   "cell_type": "markdown",
   "metadata": {},
   "source": [
    "# **4. Rule Clustering**"
   ]
  },
  {
   "cell_type": "code",
   "execution_count": null,
   "metadata": {},
   "outputs": [],
   "source": [
    "import sys\n",
    "\n",
    "sys.path.append(\"../\")\n",
    "from syntemp.SynUtils.utils import load_database, load_from_pickle\n",
    "from syntemp.SynRule.rules_extraction import RuleExtraction\n",
    "from syntemp.SynVis.chemical_graph_visualizer import ChemicalGraphVisualizer\n",
    "from syntemp.SynRule.rule_cluster import RuleCluster\n",
    "\n",
    "process_graph_data[0]"
   ]
  },
  {
   "cell_type": "code",
   "execution_count": null,
   "metadata": {},
   "outputs": [],
   "source": [
    "from syntemp.SynRule.hierarchical_clustering import HierarchicalClustering\n",
    "\n",
    "node_label_names = [\"element\", \"charge\"]\n",
    "hier_cluster = HierarchicalClustering(\n",
    "    node_label_names=node_label_names,\n",
    "    node_label_default=[\"*\", 0],\n",
    "    edge_attribute=\"order\",\n",
    ")\n",
    "\n",
    "reaction_dicts, templates, hier_templates = hier_cluster.fit(\n",
    "    process_graph_data, \"ITSGraph\"\n",
    ")"
   ]
  },
  {
   "cell_type": "code",
   "execution_count": null,
   "metadata": {},
   "outputs": [],
   "source": [
    "for i in range(len(templates)):\n",
    "    print(f\"Number of templates within radii {i}\", len(templates[i]))"
   ]
  },
  {
   "cell_type": "markdown",
   "metadata": {},
   "source": [
    "# **5. Graph Modelling Language - MØD_rules** "
   ]
  },
  {
   "cell_type": "code",
   "execution_count": null,
   "metadata": {},
   "outputs": [],
   "source": [
    "from syntemp.SynRule.rule_writing import RuleWriting\n",
    "\n",
    "results = RuleWriting.auto_extraction(\n",
    "    process_graph_data,\n",
    "    reindex=True,\n",
    "    save_path=None,\n",
    "    rule_column=\"GraphRules\",\n",
    "    n_jobs=1,\n",
    "    attributes=[\"charge\", \"isomer\"],\n",
    ")\n",
    "print(results[0])"
   ]
  }
 ],
 "metadata": {
  "kernelspec": {
   "display_name": "SynITSG",
   "language": "python",
   "name": "python3"
  },
  "language_info": {
   "codemirror_mode": {
    "name": "ipython",
    "version": 3
   },
   "file_extension": ".py",
   "mimetype": "text/x-python",
   "name": "python",
   "nbconvert_exporter": "python",
   "pygments_lexer": "ipython3",
   "version": "3.11.5"
  }
 },
 "nbformat": 4,
 "nbformat_minor": 2
}
