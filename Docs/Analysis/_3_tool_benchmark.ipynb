{
 "cells": [
  {
   "cell_type": "markdown",
   "metadata": {},
   "source": [
    "# **1. CGRTool**"
   ]
  },
  {
   "cell_type": "code",
   "execution_count": null,
   "metadata": {},
   "outputs": [],
   "source": [
    "import sys\n",
    "\n",
    "sys.path.append(\"../../\")\n",
    "from syntemp.SynUtils.utils import load_database, save_database\n",
    "import pandas as pd\n",
    "\n",
    "uspto_3k = pd.read_csv(\"../../Data/AAM/aam_benchmark/USPTO_sampled.csv\")"
   ]
  },
  {
   "cell_type": "markdown",
   "metadata": {},
   "source": [
    "## 1.1 Generate unbias ground truth"
   ]
  },
  {
   "cell_type": "code",
   "execution_count": null,
   "metadata": {},
   "outputs": [],
   "source": [
    "import pandas as pd\n",
    "import re\n",
    "\n",
    "\n",
    "def add_ground_truth_column(df):\n",
    "    # Precompile the regex pattern outside of the function to avoid recompilation\n",
    "    atom_map_pattern = re.compile(r\":\\d+\")\n",
    "\n",
    "    # Helper function to count atom mappings\n",
    "    def count_atom_mappings(smiles_string):\n",
    "        if pd.isna(smiles_string):\n",
    "            return 0\n",
    "        mappings = atom_map_pattern.findall(smiles_string)\n",
    "        return len(set(mappings))\n",
    "\n",
    "    # Vectorize the counting of atom mappings for each mapper based on the correct flag\n",
    "    for mapper in [\"RXNMapper\", \"GraphMapper\", \"LocalMapper\"]:\n",
    "        df[mapper + \"_count\"] = df.apply(\n",
    "            lambda x: count_atom_mappings(x[mapper]) if x[mapper + \"_correct\"] else 0,\n",
    "            axis=1,\n",
    "        )\n",
    "\n",
    "    # Function to determine the ground truth based on the highest count of atom mappings\n",
    "    def determine_ground_truth(row):\n",
    "        # Collect counts and corresponding SMILES strings if the count is positive\n",
    "        mapping_data = {\n",
    "            \"RXNMapper\": (row[\"RXNMapper_count\"], row[\"RXNMapper\"]),\n",
    "            \"GraphMapper\": (row[\"GraphMapper_count\"], row[\"GraphMapper\"]),\n",
    "            \"LocalMapper\": (row[\"LocalMapper_count\"], row[\"LocalMapper\"]),\n",
    "        }\n",
    "        # Select the mapper with the highest non-zero count\n",
    "        max_mapper, (max_count, max_smiles) = max(\n",
    "            mapping_data.items(), key=lambda x: x[1][0], default=(None, (0, None))\n",
    "        )\n",
    "        # Return the SMILES string of the mapper with the highest count or None if all counts are zero\n",
    "        return max_smiles if max_count > 0 else None\n",
    "\n",
    "    # Apply the function to determine the ground truth for each row\n",
    "    df[\"Ground Truth\"] = df.apply(determine_ground_truth, axis=1)\n",
    "    return df"
   ]
  },
  {
   "cell_type": "code",
   "execution_count": null,
   "metadata": {},
   "outputs": [],
   "source": [
    "df = add_ground_truth_column(uspto_3k)\n",
    "df.to_csv(\"../../Data/AAM/cgrtool_benchmark/USPTO_3K.csv\", index=False)"
   ]
  },
  {
   "cell_type": "markdown",
   "metadata": {},
   "source": [
    "## 1.2. Benchmark with CGRTool"
   ]
  },
  {
   "cell_type": "code",
   "execution_count": 31,
   "metadata": {},
   "outputs": [],
   "source": [
    "df_u1 = pd.read_csv(\n",
    "    \"../../Data/AAM/cgrtool_benchmark/uspto_3k_cgrtool_old.csv\", index_col=0\n",
    ")\n",
    "df_u2 = pd.read_csv(\n",
    "    \"../../Data/AAM/cgrtool_benchmark/uspto_3k_cgrtool_new.csv\", index_col=0\n",
    ")"
   ]
  },
  {
   "cell_type": "code",
   "execution_count": 32,
   "metadata": {},
   "outputs": [],
   "source": [
    "df_u1 = df_u1[\n",
    "    [\n",
    "        \"Ground Truth\",\n",
    "        \"RXNMapper_correct\",\n",
    "        \"GraphMapper_correct\",\n",
    "        \"LocalMapper_correct\",\n",
    "        \"CGRTool_rxnmapper\",\n",
    "        \"CGRTool_graphmapper\",\n",
    "        \"CGRTool_localmapper\",\n",
    "    ]\n",
    "]\n",
    "\n",
    "df_u2 = df_u2[\n",
    "    [\n",
    "        \"Ground Truth\",\n",
    "        \"RXNMapper_correct\",\n",
    "        \"GraphMapper_correct\",\n",
    "        \"LocalMapper_correct\",\n",
    "        \"CGRTool_rxnmapper\",\n",
    "        \"CGRTool_graphmapper\",\n",
    "        \"CGRTool_localmapper\",\n",
    "    ]\n",
    "]"
   ]
  },
  {
   "cell_type": "code",
   "execution_count": 33,
   "metadata": {},
   "outputs": [
    {
     "data": {
      "text/html": [
       "<div>\n",
       "<style scoped>\n",
       "    .dataframe tbody tr th:only-of-type {\n",
       "        vertical-align: middle;\n",
       "    }\n",
       "\n",
       "    .dataframe tbody tr th {\n",
       "        vertical-align: top;\n",
       "    }\n",
       "\n",
       "    .dataframe thead th {\n",
       "        text-align: right;\n",
       "    }\n",
       "</style>\n",
       "<table border=\"1\" class=\"dataframe\">\n",
       "  <thead>\n",
       "    <tr style=\"text-align: right;\">\n",
       "      <th></th>\n",
       "      <th>Ground Truth (%)</th>\n",
       "    </tr>\n",
       "  </thead>\n",
       "  <tbody>\n",
       "    <tr>\n",
       "      <th>RXNMapper</th>\n",
       "      <td>93.53</td>\n",
       "    </tr>\n",
       "    <tr>\n",
       "      <th>Graphormer</th>\n",
       "      <td>95.10</td>\n",
       "    </tr>\n",
       "    <tr>\n",
       "      <th>LocalMapper</th>\n",
       "      <td>100.00</td>\n",
       "    </tr>\n",
       "  </tbody>\n",
       "</table>\n",
       "</div>"
      ],
      "text/plain": [
       "             Ground Truth (%)\n",
       "RXNMapper               93.53\n",
       "Graphormer              95.10\n",
       "LocalMapper            100.00"
      ]
     },
     "execution_count": 33,
     "metadata": {},
     "output_type": "execute_result"
    }
   ],
   "source": [
    "ground_data = pd.DataFrame(\n",
    "    [\n",
    "        {\n",
    "            \"RXNMapper\": round(\n",
    "                100 * df_u1[\"RXNMapper_correct\"].sum() / len(df_u1), 2\n",
    "            ),\n",
    "            \"Graphormer\": round(\n",
    "                100 * df_u1[\"GraphMapper_correct\"].sum() / len(df_u1), 2\n",
    "            ),\n",
    "            \"LocalMapper\": round(\n",
    "                100 * df_u1[\"LocalMapper_correct\"].sum() / len(df_u1), 2\n",
    "            ),\n",
    "        }\n",
    "    ]\n",
    ").T\n",
    "ground_data.rename(columns={0: \"Ground Truth (%)\"}, inplace=True)\n",
    "ground_data"
   ]
  },
  {
   "cell_type": "code",
   "execution_count": null,
   "metadata": {},
   "outputs": [],
   "source": [
    "cgrtool_old = pd.DataFrame(\n",
    "    [\n",
    "        {\n",
    "            \"RXNMapper\": round(\n",
    "                100 * df_u1[\"CGRTool_rxnmapper\"].sum() / len(df_u1), 2\n",
    "            ),\n",
    "            \"Graphormer\": round(\n",
    "                100 * df_u1[\"CGRTool_graphmapper\"].sum() / len(df_u1), 2\n",
    "            ),\n",
    "            \"LocalMapper\": round(\n",
    "                100 * df_u1[\"CGRTool_localmapper\"].sum() / len(df_u1), 2\n",
    "            ),\n",
    "        }\n",
    "    ]\n",
    ").T\n",
    "\n",
    "cgrtool_old.rename(columns={0: \"CGRTools 1 (%)\"}, inplace=True)\n",
    "cgrtool_old"
   ]
  },
  {
   "cell_type": "code",
   "execution_count": null,
   "metadata": {},
   "outputs": [],
   "source": [
    "cgrtool_new = pd.DataFrame(\n",
    "    [\n",
    "        {\n",
    "            \"RXNMapper\": round(\n",
    "                100 * df_new[\"CGRTool_rxnmapper\"].sum() / len(df_new), 2\n",
    "            ),\n",
    "            \"Graphormer\": round(\n",
    "                100 * df_new[\"CGRTool_graphmapper\"].sum() / len(df_new), 2\n",
    "            ),\n",
    "            \"LocalMapper\": round(\n",
    "                100 * df_new[\"CGRTool_localmapper\"].sum() / len(df_new), 2\n",
    "            ),\n",
    "        }\n",
    "    ]\n",
    ").T\n",
    "\n",
    "cgrtool_new.rename(columns={0: \"CGRTools 2 (%)\"}, inplace=True)\n",
    "cgrtool_new"
   ]
  },
  {
   "cell_type": "code",
   "execution_count": null,
   "metadata": {},
   "outputs": [],
   "source": [
    "cgr_data = pd.concat([ground_data, cgrtool_old, cgrtool_new], axis=1)\n",
    "cgr_data"
   ]
  },
  {
   "cell_type": "code",
   "execution_count": null,
   "metadata": {},
   "outputs": [],
   "source": [
    "from syntemp.SynAAM.aam_validator import AAMValidator\n",
    "\n",
    "df_old = pd.read_csv(\n",
    "    \"../../Data/AAM/cgrtool_benchmark/uspto_3k_cgrtool_old.csv\", index_col=0\n",
    ")\n",
    "df_new = pd.read_csv(\n",
    "    \"../../Data/AAM/cgrtool_benchmark/uspto_3k_cgrtool_new.csv\", index_col=0\n",
    ")\n",
    "results_old_its = AAMValidator.validate_smiles(\n",
    "    data=df_old,\n",
    "    ground_truth_col=\"GroundTruth\",\n",
    "    mapped_cols=[\"RXNMapper\", \"GraphMapper\", \"LocalMapper\"],\n",
    "    check_method=\"ITS\",\n",
    "    ignore_aromaticity=False,\n",
    "    n_jobs=4,\n",
    "    verbose=0,\n",
    "    ensemble=False,\n",
    "    strategies=[[\"rxn_mapper\", \"graphormer\", \"local_mapper\"]],\n",
    "    ignore_tautomers=False,\n",
    ")\n",
    "\n",
    "\n",
    "results_new_its = AAMValidator.validate_smiles(\n",
    "    data=df_new,\n",
    "    ground_truth_col=\"GroundTruth\",\n",
    "    mapped_cols=[\"RXNMapper\", \"GraphMapper\", \"LocalMapper\"],\n",
    "    check_method=\"ITS\",\n",
    "    ignore_aromaticity=False,\n",
    "    n_jobs=4,\n",
    "    verbose=0,\n",
    "    ensemble=False,\n",
    "    strategies=[[\"rxn_mapper\", \"graphormer\", \"local_mapper\"]],\n",
    "    ignore_tautomers=False,\n",
    ")"
   ]
  },
  {
   "cell_type": "code",
   "execution_count": null,
   "metadata": {},
   "outputs": [],
   "source": [
    "df_old = pd.read_csv(\n",
    "    \"../../Data/AAM/cgrtool_benchmark/uspto_3k_cgrtool_old.csv\", index_col=0\n",
    ")\n",
    "df_new = pd.read_csv(\n",
    "    \"../../Data/AAM/cgrtool_benchmark/uspto_3k_cgrtool_new.csv\", index_col=0\n",
    ")\n",
    "results_old = AAMValidator.validate_smiles(\n",
    "    data=df_old,\n",
    "    ground_truth_col=\"GroundTruth\",\n",
    "    mapped_cols=[\"RXNMapper\", \"GraphMapper\", \"LocalMapper\"],\n",
    "    check_method=\"RC\",\n",
    "    ignore_aromaticity=False,\n",
    "    n_jobs=4,\n",
    "    verbose=0,\n",
    "    ensemble=False,\n",
    "    strategies=[[\"rxn_mapper\", \"graphormer\", \"local_mapper\"]],\n",
    "    ignore_tautomers=False,\n",
    ")\n",
    "\n",
    "\n",
    "results_new = AAMValidator.validate_smiles(\n",
    "    data=df_new,\n",
    "    ground_truth_col=\"GroundTruth\",\n",
    "    mapped_cols=[\"RXNMapper\", \"GraphMapper\", \"LocalMapper\"],\n",
    "    check_method=\"RC\",\n",
    "    ignore_aromaticity=False,\n",
    "    n_jobs=4,\n",
    "    verbose=0,\n",
    "    ensemble=False,\n",
    "    strategies=[[\"rxn_mapper\", \"graphormer\", \"local_mapper\"]],\n",
    "    ignore_tautomers=False,\n",
    ")"
   ]
  },
  {
   "cell_type": "code",
   "execution_count": null,
   "metadata": {},
   "outputs": [],
   "source": [
    "import numpy as np\n",
    "\n",
    "np.sum(results_new_its[0][0][\"results\"])"
   ]
  },
  {
   "cell_type": "code",
   "execution_count": null,
   "metadata": {},
   "outputs": [],
   "source": [
    "np.sum(results_new[0][0][\"results\"])"
   ]
  },
  {
   "cell_type": "code",
   "execution_count": null,
   "metadata": {},
   "outputs": [],
   "source": [
    "np.sum(results_old[0][0][\"results\"])"
   ]
  },
  {
   "cell_type": "code",
   "execution_count": null,
   "metadata": {},
   "outputs": [],
   "source": [
    "pd.DataFrame(results_new[0])"
   ]
  },
  {
   "cell_type": "code",
   "execution_count": null,
   "metadata": {},
   "outputs": [],
   "source": [
    "pd.DataFrame(results_old[0])"
   ]
  },
  {
   "cell_type": "code",
   "execution_count": null,
   "metadata": {},
   "outputs": [],
   "source": [
    "pd.DataFrame(results_new_its[0][0][\"results\"]) != pd.DataFrame(\n",
    "    results_new[0][0][\"results\"]\n",
    ")"
   ]
  },
  {
   "cell_type": "code",
   "execution_count": null,
   "metadata": {},
   "outputs": [],
   "source": [
    "wrong_index = []\n",
    "for key, value in enumerate(results_new[0][0][\"results\"]):\n",
    "    if value != results_new_its[0][0][\"results\"][key]:\n",
    "        print(value)\n",
    "        wrong_index.append(key)"
   ]
  },
  {
   "cell_type": "code",
   "execution_count": null,
   "metadata": {},
   "outputs": [],
   "source": [
    "wrong_index"
   ]
  },
  {
   "cell_type": "code",
   "execution_count": null,
   "metadata": {},
   "outputs": [],
   "source": [
    "results_new[0][0][\"results\"]"
   ]
  },
  {
   "cell_type": "code",
   "execution_count": null,
   "metadata": {},
   "outputs": [],
   "source": []
  },
  {
   "cell_type": "code",
   "execution_count": null,
   "metadata": {},
   "outputs": [],
   "source": [
    "aam_new = pd.DataFrame(results_new[0])[[\"mapper\", \"accuracy\"]]\n",
    "aam_new[\"mapper\"][1] = \"Graphormer\""
   ]
  },
  {
   "cell_type": "code",
   "execution_count": null,
   "metadata": {},
   "outputs": [],
   "source": [
    "aam_new = pd.DataFrame(results_new[0])[[\"mapper\", \"accuracy\"]]\n",
    "aam_new[\"mapper\"][1] = \"Graphormer\"\n",
    "aam_new.index = aam_new[\"mapper\"].tolist()\n",
    "aam_new.drop([\"mapper\"], axis=1, inplace=True)\n",
    "aam_new.rename(columns={\"accuracy\": \"SynTemp 2 (%)\"}, inplace=True)"
   ]
  },
  {
   "cell_type": "code",
   "execution_count": null,
   "metadata": {},
   "outputs": [],
   "source": [
    "aam_new"
   ]
  },
  {
   "cell_type": "code",
   "execution_count": null,
   "metadata": {},
   "outputs": [],
   "source": [
    "aam_old = pd.DataFrame(results_old[0])[[\"mapper\", \"accuracy\"]]\n",
    "aam_old[\"mapper\"][1] = \"Graphormer\"\n",
    "aam_old.index = aam_old[\"mapper\"].tolist()\n",
    "aam_old.drop([\"mapper\"], axis=1, inplace=True)\n",
    "aam_old.rename(columns={\"accuracy\": \"SynTemp 1 (%)\"}, inplace=True)"
   ]
  },
  {
   "cell_type": "code",
   "execution_count": null,
   "metadata": {},
   "outputs": [],
   "source": [
    "benchmark = pd.concat([cgr_data, aam_old, aam_new], axis=1)"
   ]
  },
  {
   "cell_type": "code",
   "execution_count": null,
   "metadata": {},
   "outputs": [],
   "source": [
    "benchmark"
   ]
  },
  {
   "cell_type": "markdown",
   "metadata": {},
   "source": [
    "### 1.2.2. EEquaam"
   ]
  },
  {
   "cell_type": "code",
   "execution_count": null,
   "metadata": {},
   "outputs": [],
   "source": [
    "from syntemp.SynChemistry.balance_checker import BalanceReactionCheck\n",
    "\n",
    "df_old = pd.read_csv(\n",
    "    \"../../Data/AAM/cgrtool_benchmark/uspto_3k_cgrtool_old.csv\", index_col=0\n",
    ")\n",
    "df_new = pd.read_csv(\n",
    "    \"../../Data/AAM/cgrtool_benchmark/uspto_3k_cgrtool_new.csv\", index_col=0\n",
    ")\n",
    "check_balance = BalanceReactionCheck()\n",
    "df_new_balance, _ = check_balance.dicts_balance_check(\n",
    "    df_new.to_dict(\"records\"), \"GroundTruth\"\n",
    ")\n",
    "\n",
    "df_old_balance, _ = check_balance.dicts_balance_check(\n",
    "    df_old.to_dict(\"records\"), \"GroundTruth\"\n",
    ")"
   ]
  },
  {
   "cell_type": "code",
   "execution_count": null,
   "metadata": {},
   "outputs": [],
   "source": [
    "results_old_aam, _ = AAMValidator.validate_smiles(\n",
    "    data=df_old_balance,\n",
    "    ground_truth_col=\"GroundTruth\",\n",
    "    mapped_cols=[\"RXNMapper\", \"GraphMapper\", \"LocalMapper\"],\n",
    "    check_method=\"RC\",\n",
    "    ignore_aromaticity=False,\n",
    "    n_jobs=4,\n",
    "    verbose=0,\n",
    "    ensemble=False,\n",
    "    strategies=[[\"rxn_mapper\", \"graphormer\", \"local_mapper\"]],\n",
    "    ignore_tautomers=False,\n",
    ")\n",
    "\n",
    "\n",
    "results_new_aam, _ = AAMValidator.validate_smiles(\n",
    "    data=df_new_balance,\n",
    "    ground_truth_col=\"GroundTruth\",\n",
    "    mapped_cols=[\"RXNMapper\", \"GraphMapper\", \"LocalMapper\"],\n",
    "    check_method=\"RC\",\n",
    "    ignore_aromaticity=False,\n",
    "    n_jobs=4,\n",
    "    verbose=0,\n",
    "    ensemble=False,\n",
    "    strategies=[[\"rxn_mapper\", \"graphormer\", \"local_mapper\"]],\n",
    "    ignore_tautomers=False,\n",
    ")"
   ]
  },
  {
   "cell_type": "code",
   "execution_count": 30,
   "metadata": {},
   "outputs": [
    {
     "ename": "NameError",
     "evalue": "name 'results_old_aam' is not defined",
     "output_type": "error",
     "traceback": [
      "\u001b[0;31m---------------------------------------------------------------------------\u001b[0m",
      "\u001b[0;31mNameError\u001b[0m                                 Traceback (most recent call last)",
      "\u001b[1;32m/homes/biertank/tieu/Documents/Project/TACsy/SynEco/SynTemp/Docs/Analysis/_3_tool_benchmark.ipynb Cell 36\u001b[0m line \u001b[0;36m1\n\u001b[0;32m----> <a href='vscode-notebook-cell:/homes/biertank/tieu/Documents/Project/TACsy/SynEco/SynTemp/Docs/Analysis/_3_tool_benchmark.ipynb#X50sZmlsZQ%3D%3D?line=0'>1</a>\u001b[0m pd\u001b[39m.\u001b[39mDataFrame(results_old_aam)\n",
      "\u001b[0;31mNameError\u001b[0m: name 'results_old_aam' is not defined"
     ]
    }
   ],
   "source": [
    "pd.DataFrame(results_old_aam)"
   ]
  },
  {
   "cell_type": "code",
   "execution_count": null,
   "metadata": {},
   "outputs": [],
   "source": [
    "pd.DataFrame(results_new_aam)"
   ]
  },
  {
   "cell_type": "code",
   "execution_count": null,
   "metadata": {},
   "outputs": [],
   "source": [
    "results_old_eqquaam, _ = AAMValidator.validate_smiles(\n",
    "    data=df_old_balance,\n",
    "    ground_truth_col=\"GroundTruth\",\n",
    "    mapped_cols=[\"RXNMapper\", \"GraphMapper\", \"LocalMapper\"],\n",
    "    check_method=\"ITS\",\n",
    "    ignore_aromaticity=False,\n",
    "    n_jobs=4,\n",
    "    verbose=0,\n",
    "    ensemble=False,\n",
    "    strategies=[[\"rxn_mapper\", \"graphormer\", \"local_mapper\"]],\n",
    "    ignore_tautomers=True,\n",
    ")\n",
    "\n",
    "\n",
    "results_new_eqquaam, _ = AAMValidator.validate_smiles(\n",
    "    data=df_new_balance,\n",
    "    ground_truth_col=\"GroundTruth\",\n",
    "    mapped_cols=[\"RXNMapper\", \"GraphMapper\", \"LocalMapper\"],\n",
    "    check_method=\"ITS\",\n",
    "    ignore_aromaticity=False,\n",
    "    n_jobs=4,\n",
    "    verbose=0,\n",
    "    ensemble=False,\n",
    "    strategies=[[\"rxn_mapper\", \"graphormer\", \"local_mapper\"]],\n",
    "    ignore_tautomers=True,\n",
    ")"
   ]
  },
  {
   "cell_type": "code",
   "execution_count": null,
   "metadata": {},
   "outputs": [],
   "source": [
    "pd.DataFrame(results_new_eqquaam)"
   ]
  },
  {
   "cell_type": "markdown",
   "metadata": {},
   "source": [
    "## 1.3. Analyze difference from Ground Truth"
   ]
  },
  {
   "cell_type": "code",
   "execution_count": null,
   "metadata": {},
   "outputs": [],
   "source": [
    "data_check = pd.DataFrame(results_new[0])"
   ]
  },
  {
   "cell_type": "code",
   "execution_count": null,
   "metadata": {},
   "outputs": [],
   "source": [
    "list_diff_rxn = []\n",
    "for key, value in enumerate(df_new[\"RXNMapper_correct\"]):\n",
    "    if value != data_check[\"results\"][0][key]:\n",
    "        list_diff_rxn.append(key)\n",
    "\n",
    "list_diff_graph = []\n",
    "for key, value in enumerate(df_new[\"GraphMapper_correct\"]):\n",
    "    if value != data_check[\"results\"][1][key]:\n",
    "        list_diff_graph.append(key)\n",
    "print(\"Differences in RXNMapper:\", list_diff_rxn)\n",
    "print(\"Differences in GraphMapper:\", list_diff_graph)"
   ]
  },
  {
   "cell_type": "code",
   "execution_count": null,
   "metadata": {},
   "outputs": [],
   "source": [
    "from syntemp.SynVis.chemical_reaction_visualizer import ChemicalReactionVisualizer\n",
    "\n",
    "vis = ChemicalReactionVisualizer()\n",
    "i = 192\n",
    "display(\n",
    "    vis.visualize_reaction(\n",
    "        df_new.loc[i, \"GroundTruth\"], img_size=(1000, 300), show_atom_map=True\n",
    "    )\n",
    ")\n",
    "display(\n",
    "    vis.visualize_reaction(\n",
    "        df_new.loc[i, \"RXNMapper\"], img_size=(1000, 300), show_atom_map=True\n",
    "    )\n",
    ")\n",
    "print(df_new.loc[i, \"RXNMapper_correct\"])"
   ]
  },
  {
   "cell_type": "code",
   "execution_count": null,
   "metadata": {},
   "outputs": [],
   "source": [
    "i = 2157\n",
    "display(\n",
    "    vis.visualize_reaction(\n",
    "        df_new.loc[i, \"GroundTruth\"], img_size=(1000, 300), show_atom_map=True\n",
    "    )\n",
    ")\n",
    "display(\n",
    "    vis.visualize_reaction(\n",
    "        df_new.loc[i, \"RXNMapper\"], img_size=(1000, 300), show_atom_map=True\n",
    "    )\n",
    ")\n",
    "print(df_new.loc[i, \"RXNMapper_correct\"])"
   ]
  },
  {
   "cell_type": "code",
   "execution_count": null,
   "metadata": {},
   "outputs": [],
   "source": [
    "df_new.loc[i, \"RXNMapper\"]"
   ]
  },
  {
   "cell_type": "code",
   "execution_count": null,
   "metadata": {},
   "outputs": [],
   "source": [
    "reaction_smiles = [\n",
    "    df_new.loc[192, \"GroundTruth\"],\n",
    "    df_new.loc[192, \"RXNMapper\"],\n",
    "    df_new.loc[2157, \"GroundTruth\"],\n",
    "    df_new.loc[2157, \"RXNMapper\"],\n",
    "]\n",
    "subtitles = [\"A\", \"B\", \"C\", \"D\"]"
   ]
  },
  {
   "cell_type": "markdown",
   "metadata": {},
   "source": [
    "## 1.4. Analyze difference from CGRTool"
   ]
  },
  {
   "cell_type": "code",
   "execution_count": null,
   "metadata": {},
   "outputs": [],
   "source": [
    "old_rxn = df_old[df_old[\"CGRTool_rxnmapper\"] != data_check[\"results\"][0]]\n",
    "old_graph = df_old[df_old[\"CGRTool_graphmapper\"] != data_check[\"results\"][1]]\n",
    "\n",
    "new_rxn = df_new[df_new[\"CGRTool_rxnmapper\"] != data_check[\"results\"][0]]\n",
    "new_local = df_new[df_new[\"CGRTool_localmapper\"] != data_check[\"results\"][2]]"
   ]
  },
  {
   "cell_type": "code",
   "execution_count": null,
   "metadata": {},
   "outputs": [],
   "source": [
    "def op_results(bool):\n",
    "    if bool:\n",
    "        return False\n",
    "    else:\n",
    "        return True"
   ]
  },
  {
   "cell_type": "code",
   "execution_count": null,
   "metadata": {},
   "outputs": [],
   "source": [
    "data_1 = old_rxn[[\"RXNMapper\", \"CGRTool_rxnmapper\", \"GroundTruth\"]]\n",
    "data_1.rename(\n",
    "    columns={\"RXNMapper\": \"Mapped\", \"CGRTool_rxnmapper\": \"CGRTool\"}, inplace=True\n",
    ")\n",
    "data_1[\"SynTemp\"] = data_1[\"CGRTool\"].apply(op_results)\n",
    "\n",
    "\n",
    "data_2 = old_graph[[\"GraphMapper\", \"CGRTool_graphmapper\", \"GroundTruth\"]]\n",
    "data_2.rename(\n",
    "    columns={\"GraphMapper\": \"Mapped\", \"CGRTool_graphmapper\": \"CGRTool\"}, inplace=True\n",
    ")\n",
    "data_2[\"SynTemp\"] = data_2[\"CGRTool\"].apply(op_results)\n",
    "\n",
    "\n",
    "data_3 = new_rxn[[\"RXNMapper\", \"CGRTool_rxnmapper\", \"GroundTruth\"]]\n",
    "data_3.rename(\n",
    "    columns={\"RXNMapper\": \"Mapped\", \"CGRTool_rxnmapper\": \"CGRTool\"}, inplace=True\n",
    ")\n",
    "data_3[\"SynTemp\"] = data_3[\"CGRTool\"].apply(op_results)\n",
    "\n",
    "data_4 = new_local[[\"LocalMapper\", \"CGRTool_localmapper\", \"GroundTruth\"]]\n",
    "data_4.rename(\n",
    "    columns={\"LocalMapper\": \"Mapped\", \"CGRTool_localmapper\": \"CGRTool\"}, inplace=True\n",
    ")\n",
    "data_4[\"SynTemp\"] = data_4[\"CGRTool\"].apply(op_results)"
   ]
  },
  {
   "cell_type": "code",
   "execution_count": null,
   "metadata": {},
   "outputs": [],
   "source": [
    "all_data = pd.concat([data_1, data_2, data_3, data_4], axis=0)\n",
    "all_data = all_data.drop_duplicates(subset=[\"Mapped\"])\n",
    "all_data.shape"
   ]
  },
  {
   "cell_type": "code",
   "execution_count": null,
   "metadata": {},
   "outputs": [],
   "source": [
    "test = all_data.to_dict(\"records\")"
   ]
  },
  {
   "cell_type": "code",
   "execution_count": null,
   "metadata": {},
   "outputs": [],
   "source": [
    "save_database(test, \"../../Data/AAM/cgrtool_benchmark/cgr_diff.json.gz\")"
   ]
  },
  {
   "cell_type": "code",
   "execution_count": null,
   "metadata": {},
   "outputs": [],
   "source": [
    "from synrbl.SynVis import save_reactions_to_pdf\n",
    "\n",
    "save_reactions_to_pdf(\n",
    "    test,\n",
    "    old_reaction_col=\"GroundTruth\",\n",
    "    new_reaction_col=\"Mapped\",\n",
    "    pdf_filename=\"../../Data/AAM/cgrtool_benchmark/cgr_diff.pdf\",\n",
    "    compare=True,\n",
    "    show_atom_numbers=True,\n",
    "    orientation=\"vertical\",\n",
    ")"
   ]
  },
  {
   "cell_type": "code",
   "execution_count": null,
   "metadata": {},
   "outputs": [],
   "source": [
    "df_old.iloc[2157, :][\"LocalMapper\"]"
   ]
  },
  {
   "cell_type": "code",
   "execution_count": null,
   "metadata": {},
   "outputs": [],
   "source": []
  }
 ],
 "metadata": {
  "kernelspec": {
   "display_name": "SynITS",
   "language": "python",
   "name": "python3"
  },
  "language_info": {
   "codemirror_mode": {
    "name": "ipython",
    "version": 3
   },
   "file_extension": ".py",
   "mimetype": "text/x-python",
   "name": "python",
   "nbconvert_exporter": "python",
   "pygments_lexer": "ipython3",
   "version": "3.11.5"
  }
 },
 "nbformat": 4,
 "nbformat_minor": 2
}
