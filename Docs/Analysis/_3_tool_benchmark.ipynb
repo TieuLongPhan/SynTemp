{
 "cells": [
  {
   "cell_type": "markdown",
   "metadata": {},
   "source": [
    "# **1. CGRTool**"
   ]
  },
  {
   "cell_type": "code",
   "execution_count": null,
   "metadata": {},
   "outputs": [],
   "source": [
    "import sys\n",
    "\n",
    "sys.path.append(\"../../\")\n",
    "from syntemp.SynUtils.utils import load_database, save_database\n",
    "import pandas as pd\n",
    "\n",
    "uspto_3k = pd.read_csv(\"../../Data/AAM/aam_benchmark/USPTO_sampled.csv\")"
   ]
  },
  {
   "cell_type": "markdown",
   "metadata": {},
   "source": [
    "## 1.1 Generate unbias ground truth"
   ]
  },
  {
   "cell_type": "code",
   "execution_count": null,
   "metadata": {},
   "outputs": [],
   "source": [
    "import pandas as pd\n",
    "import re\n",
    "\n",
    "\n",
    "def add_ground_truth_column(df):\n",
    "    # Precompile the regex pattern outside of the function to avoid recompilation\n",
    "    atom_map_pattern = re.compile(r\":\\d+\")\n",
    "\n",
    "    # Helper function to count atom mappings\n",
    "    def count_atom_mappings(smiles_string):\n",
    "        if pd.isna(smiles_string):\n",
    "            return 0\n",
    "        mappings = atom_map_pattern.findall(smiles_string)\n",
    "        return len(set(mappings))\n",
    "\n",
    "    # Vectorize the counting of atom mappings for each mapper based on the correct flag\n",
    "    for mapper in [\"RXNMapper\", \"GraphMapper\", \"LocalMapper\"]:\n",
    "        df[mapper + \"_count\"] = df.apply(\n",
    "            lambda x: count_atom_mappings(x[mapper]) if x[mapper + \"_correct\"] else 0,\n",
    "            axis=1,\n",
    "        )\n",
    "\n",
    "    # Function to determine the ground truth based on the highest count of atom mappings\n",
    "    def determine_ground_truth(row):\n",
    "        # Collect counts and corresponding SMILES strings if the count is positive\n",
    "        mapping_data = {\n",
    "            \"RXNMapper\": (row[\"RXNMapper_count\"], row[\"RXNMapper\"]),\n",
    "            \"GraphMapper\": (row[\"GraphMapper_count\"], row[\"GraphMapper\"]),\n",
    "            \"LocalMapper\": (row[\"LocalMapper_count\"], row[\"LocalMapper\"]),\n",
    "        }\n",
    "        # Select the mapper with the highest non-zero count\n",
    "        max_mapper, (max_count, max_smiles) = max(\n",
    "            mapping_data.items(), key=lambda x: x[1][0], default=(None, (0, None))\n",
    "        )\n",
    "        # Return the SMILES string of the mapper with the highest count or None if all counts are zero\n",
    "        return max_smiles if max_count > 0 else None\n",
    "\n",
    "    # Apply the function to determine the ground truth for each row\n",
    "    df[\"Ground Truth\"] = df.apply(determine_ground_truth, axis=1)\n",
    "    return df"
   ]
  },
  {
   "cell_type": "code",
   "execution_count": null,
   "metadata": {},
   "outputs": [],
   "source": [
    "df = add_ground_truth_column(uspto_3k)\n",
    "df.to_csv(\"../../Data/AAM/cgrtool_benchmark/USPTO_3K.csv\", index=False)"
   ]
  },
  {
   "cell_type": "markdown",
   "metadata": {},
   "source": [
    "## 1.2. Benchmark with CGRTool"
   ]
  },
  {
   "cell_type": "code",
   "execution_count": null,
   "metadata": {},
   "outputs": [],
   "source": [
    "df_u1 = pd.read_csv(\n",
    "    \"../../Data/AAM/cgrtool_benchmark/uspto_3k_cgrtool_old.csv\", index_col=0\n",
    ")\n",
    "df_u2 = pd.read_csv(\n",
    "    \"../../Data/AAM/cgrtool_benchmark/uspto_3k_cgrtool_new.csv\", index_col=0\n",
    ")"
   ]
  },
  {
   "cell_type": "code",
   "execution_count": null,
   "metadata": {},
   "outputs": [],
   "source": [
    "df_u1 = df_u1[\n",
    "    [\n",
    "        \"Ground Truth\",\n",
    "        \"RXNMapper_correct\",\n",
    "        \"GraphMapper_correct\",\n",
    "        \"LocalMapper_correct\",\n",
    "        \"CGRTool_rxnmapper\",\n",
    "        \"CGRTool_graphmapper\",\n",
    "        \"CGRTool_localmapper\",\n",
    "    ]\n",
    "]\n",
    "\n",
    "df_u2 = df_u2[\n",
    "    [\n",
    "        \"Ground Truth\",\n",
    "        \"RXNMapper_correct\",\n",
    "        \"GraphMapper_correct\",\n",
    "        \"LocalMapper_correct\",\n",
    "        \"CGRTool_rxnmapper\",\n",
    "        \"CGRTool_graphmapper\",\n",
    "        \"CGRTool_localmapper\",\n",
    "    ]\n",
    "]"
   ]
  },
  {
   "cell_type": "code",
   "execution_count": null,
   "metadata": {},
   "outputs": [],
   "source": [
    "ground_data = pd.DataFrame(\n",
    "    [\n",
    "        {\n",
    "            \"RXNMapper\": round(100 * df_u1[\"RXNMapper_correct\"].sum() / len(df_u1), 2),\n",
    "            \"Graphormer\": round(\n",
    "                100 * df_u1[\"GraphMapper_correct\"].sum() / len(df_u1), 2\n",
    "            ),\n",
    "            \"LocalMapper\": round(\n",
    "                100 * df_u1[\"LocalMapper_correct\"].sum() / len(df_u1), 2\n",
    "            ),\n",
    "        }\n",
    "    ]\n",
    ").T\n",
    "ground_data.rename(columns={0: \"Ground Truth (%)\"}, inplace=True)\n",
    "ground_data"
   ]
  },
  {
   "cell_type": "code",
   "execution_count": null,
   "metadata": {},
   "outputs": [],
   "source": [
    "cgrtool_u1 = pd.DataFrame(\n",
    "    [\n",
    "        {\n",
    "            \"RXNMapper\": round(100 * df_u1[\"CGRTool_rxnmapper\"].sum() / len(df_u1), 2),\n",
    "            \"Graphormer\": round(\n",
    "                100 * df_u1[\"CGRTool_graphmapper\"].sum() / len(df_u1), 2\n",
    "            ),\n",
    "            \"LocalMapper\": round(\n",
    "                100 * df_u1[\"CGRTool_localmapper\"].sum() / len(df_u1), 2\n",
    "            ),\n",
    "        }\n",
    "    ]\n",
    ").T\n",
    "\n",
    "cgrtool_u1.rename(columns={0: \"CGRTools 1 (%)\"}, inplace=True)\n",
    "cgrtool_u1"
   ]
  },
  {
   "cell_type": "code",
   "execution_count": null,
   "metadata": {},
   "outputs": [],
   "source": [
    "cgrtool_u2 = pd.DataFrame(\n",
    "    [\n",
    "        {\n",
    "            \"RXNMapper\": round(100 * df_u2[\"CGRTool_rxnmapper\"].sum() / len(df_u2), 2),\n",
    "            \"Graphormer\": round(\n",
    "                100 * df_u2[\"CGRTool_graphmapper\"].sum() / len(df_u2), 2\n",
    "            ),\n",
    "            \"LocalMapper\": round(\n",
    "                100 * df_u2[\"CGRTool_localmapper\"].sum() / len(df_u2), 2\n",
    "            ),\n",
    "        }\n",
    "    ]\n",
    ").T\n",
    "\n",
    "cgrtool_u2.rename(columns={0: \"CGRTools 2 (%)\"}, inplace=True)\n",
    "cgrtool_u2"
   ]
  },
  {
   "cell_type": "code",
   "execution_count": null,
   "metadata": {},
   "outputs": [],
   "source": [
    "cgr_data = pd.concat([ground_data, cgrtool_u1, cgrtool_u2], axis=1)\n",
    "cgr_data.rename(index={\"Graphormer\": \"GraphMapper\"}, inplace=True)"
   ]
  },
  {
   "cell_type": "code",
   "execution_count": null,
   "metadata": {},
   "outputs": [],
   "source": [
    "from syntemp.SynAAM.aam_validator import AAMValidator\n",
    "\n",
    "df_u1 = pd.read_csv(\n",
    "    \"../../Data/AAM/cgrtool_benchmark/uspto_3k_cgrtool_old.csv\", index_col=0\n",
    ")\n",
    "df_u2 = pd.read_csv(\n",
    "    \"../../Data/AAM/cgrtool_benchmark/uspto_3k_cgrtool_new.csv\", index_col=0\n",
    ")\n",
    "syntemp_u1 = AAMValidator.validate_smiles(\n",
    "    data=df_u1,\n",
    "    ground_truth_col=\"GroundTruth\",\n",
    "    mapped_cols=[\"RXNMapper\", \"GraphMapper\", \"LocalMapper\"],\n",
    "    check_method=\"RC\",\n",
    "    ignore_aromaticity=False,\n",
    "    n_jobs=4,\n",
    "    verbose=0,\n",
    "    ensemble=False,\n",
    "    strategies=[[\"rxn_mapper\", \"graphormer\", \"local_mapper\"]],\n",
    "    ignore_tautomers=False,\n",
    ")\n",
    "\n",
    "\n",
    "syntemp_u2 = AAMValidator.validate_smiles(\n",
    "    data=df_u2,\n",
    "    ground_truth_col=\"GroundTruth\",\n",
    "    mapped_cols=[\"RXNMapper\", \"GraphMapper\", \"LocalMapper\"],\n",
    "    check_method=\"RC\",\n",
    "    ignore_aromaticity=False,\n",
    "    n_jobs=4,\n",
    "    verbose=0,\n",
    "    ensemble=False,\n",
    "    strategies=[[\"rxn_mapper\", \"graphormer\", \"local_mapper\"]],\n",
    "    ignore_tautomers=False,\n",
    ")"
   ]
  },
  {
   "cell_type": "code",
   "execution_count": null,
   "metadata": {},
   "outputs": [],
   "source": [
    "temp_u1 = pd.DataFrame(syntemp_u1[0])\n",
    "temp_u1.rename(columns={\"accuracy\": \"syntemp_u1\"}, inplace=True)\n",
    "temp_u1.index = temp_u1[\"mapper\"]\n",
    "\n",
    "temp_u2 = pd.DataFrame(syntemp_u2[0])\n",
    "temp_u2.rename(columns={\"accuracy\": \"syntemp_u2\"}, inplace=True)\n",
    "temp_u2.index = temp_u2[\"mapper\"]\n",
    "\n",
    "benchmark_df = pd.concat(\n",
    "    [cgr_data, temp_u1[\"syntemp_u1\"], temp_u2[\"syntemp_u2\"]], axis=1\n",
    ")\n",
    "\n",
    "benchmark_df"
   ]
  },
  {
   "cell_type": "markdown",
   "metadata": {},
   "source": [
    "## 1.3. Analyze difference from Ground Truth"
   ]
  },
  {
   "cell_type": "code",
   "execution_count": null,
   "metadata": {},
   "outputs": [],
   "source": [
    "data_check = pd.DataFrame(syntemp_u2[0])"
   ]
  },
  {
   "cell_type": "code",
   "execution_count": null,
   "metadata": {},
   "outputs": [],
   "source": [
    "list_diff_rxn = []\n",
    "for key, value in enumerate(df_u2[\"RXNMapper_correct\"]):\n",
    "    if value != data_check[\"results\"][0][key]:\n",
    "        list_diff_rxn.append(key)\n",
    "\n",
    "list_diff_graph = []\n",
    "for key, value in enumerate(df_u2[\"GraphMapper_correct\"]):\n",
    "    if value != data_check[\"results\"][1][key]:\n",
    "        list_diff_graph.append(key)\n",
    "print(\"Differences in RXNMapper:\", list_diff_rxn)\n",
    "print(\"Differences in GraphMapper:\", list_diff_graph)"
   ]
  },
  {
   "cell_type": "code",
   "execution_count": null,
   "metadata": {},
   "outputs": [],
   "source": [
    "from syntemp.SynVis.chemical_reaction_visualizer import ChemicalReactionVisualizer\n",
    "\n",
    "vis = ChemicalReactionVisualizer()\n",
    "i = 192\n",
    "display(\n",
    "    vis.visualize_reaction(\n",
    "        df_u2.loc[i, \"GroundTruth\"], img_size=(1000, 300), show_atom_map=True\n",
    "    )\n",
    ")\n",
    "display(\n",
    "    vis.visualize_reaction(\n",
    "        df_u2.loc[i, \"RXNMapper\"], img_size=(1000, 300), show_atom_map=True\n",
    "    )\n",
    ")\n",
    "print(df_u2.loc[i, \"RXNMapper_correct\"])"
   ]
  },
  {
   "cell_type": "code",
   "execution_count": null,
   "metadata": {},
   "outputs": [],
   "source": [
    "i = 2157\n",
    "display(\n",
    "    vis.visualize_reaction(\n",
    "        df_u2.loc[i, \"GroundTruth\"], img_size=(1000, 300), show_atom_map=True\n",
    "    )\n",
    ")\n",
    "display(\n",
    "    vis.visualize_reaction(\n",
    "        df_u2.loc[i, \"RXNMapper\"], img_size=(1000, 300), show_atom_map=True\n",
    "    )\n",
    ")\n",
    "print(df_u2.loc[i, \"RXNMapper_correct\"])"
   ]
  },
  {
   "cell_type": "code",
   "execution_count": null,
   "metadata": {},
   "outputs": [],
   "source": []
  }
 ],
 "metadata": {
  "kernelspec": {
   "display_name": "SynITS",
   "language": "python",
   "name": "python3"
  },
  "language_info": {
   "codemirror_mode": {
    "name": "ipython",
    "version": 3
   },
   "file_extension": ".py",
   "mimetype": "text/x-python",
   "name": "python",
   "nbconvert_exporter": "python",
   "pygments_lexer": "ipython3",
   "version": "3.11.5"
  }
 },
 "nbformat": 4,
 "nbformat_minor": 2
}
