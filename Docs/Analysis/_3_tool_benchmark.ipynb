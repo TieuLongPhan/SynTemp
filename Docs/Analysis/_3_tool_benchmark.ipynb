{
 "cells": [
  {
   "cell_type": "markdown",
   "metadata": {},
   "source": [
    "# **1. CGRTool**"
   ]
  },
  {
   "cell_type": "code",
   "execution_count": null,
   "metadata": {},
   "outputs": [],
   "source": [
    "import sys\n",
    "\n",
    "sys.path.append(\"../../\")\n",
    "from SynTemp.SynUtils.utils import load_database, save_database\n",
    "import pandas as pd\n",
    "\n",
    "uspto_3k = pd.read_csv(\"../../Data/AAM/aam_benchmark/USPTO_sampled.csv\")"
   ]
  },
  {
   "cell_type": "markdown",
   "metadata": {},
   "source": [
    "## 1.1 Generate unbias ground truth"
   ]
  },
  {
   "cell_type": "code",
   "execution_count": null,
   "metadata": {},
   "outputs": [],
   "source": [
    "import pandas as pd\n",
    "import re\n",
    "\n",
    "\n",
    "def add_ground_truth_column(df):\n",
    "    # Precompile the regex pattern outside of the function to avoid recompilation\n",
    "    atom_map_pattern = re.compile(r\":\\d+\")\n",
    "\n",
    "    # Helper function to count atom mappings\n",
    "    def count_atom_mappings(smiles_string):\n",
    "        if pd.isna(smiles_string):\n",
    "            return 0\n",
    "        mappings = atom_map_pattern.findall(smiles_string)\n",
    "        return len(set(mappings))\n",
    "\n",
    "    # Vectorize the counting of atom mappings for each mapper based on the correct flag\n",
    "    for mapper in [\"RXNMapper\", \"GraphMapper\", \"LocalMapper\"]:\n",
    "        df[mapper + \"_count\"] = df.apply(\n",
    "            lambda x: count_atom_mappings(x[mapper]) if x[mapper + \"_correct\"] else 0,\n",
    "            axis=1,\n",
    "        )\n",
    "\n",
    "    # Function to determine the ground truth based on the highest count of atom mappings\n",
    "    def determine_ground_truth(row):\n",
    "        # Collect counts and corresponding SMILES strings if the count is positive\n",
    "        mapping_data = {\n",
    "            \"RXNMapper\": (row[\"RXNMapper_count\"], row[\"RXNMapper\"]),\n",
    "            \"GraphMapper\": (row[\"GraphMapper_count\"], row[\"GraphMapper\"]),\n",
    "            \"LocalMapper\": (row[\"LocalMapper_count\"], row[\"LocalMapper\"]),\n",
    "        }\n",
    "        # Select the mapper with the highest non-zero count\n",
    "        max_mapper, (max_count, max_smiles) = max(\n",
    "            mapping_data.items(), key=lambda x: x[1][0], default=(None, (0, None))\n",
    "        )\n",
    "        # Return the SMILES string of the mapper with the highest count or None if all counts are zero\n",
    "        return max_smiles if max_count > 0 else None\n",
    "\n",
    "    # Apply the function to determine the ground truth for each row\n",
    "    df[\"Ground Truth\"] = df.apply(determine_ground_truth, axis=1)\n",
    "    return df"
   ]
  },
  {
   "cell_type": "code",
   "execution_count": null,
   "metadata": {},
   "outputs": [],
   "source": [
    "df = add_ground_truth_column(uspto_3k)\n",
    "df.to_csv(\"../../Data/AAM/cgrtool_benchmark/USPTO_3K.csv\", index=False)"
   ]
  },
  {
   "cell_type": "markdown",
   "metadata": {},
   "source": [
    "## 1.2. Benchmark with CGRTool"
   ]
  },
  {
   "cell_type": "code",
   "execution_count": null,
   "metadata": {},
   "outputs": [],
   "source": [
    "df_old = pd.read_csv(\n",
    "    \"../../Data/AAM/cgrtool_benchmark/uspto_3k_cgrtool_old.csv\", index_col=0\n",
    ")\n",
    "df_new = pd.read_csv(\n",
    "    \"../../Data/AAM/cgrtool_benchmark/uspto_3k_cgrtool_new.csv\", index_col=0\n",
    ")"
   ]
  },
  {
   "cell_type": "code",
   "execution_count": null,
   "metadata": {},
   "outputs": [],
   "source": [
    "df_old = df_old[\n",
    "    [\n",
    "        \"Ground Truth\",\n",
    "        \"RXNMapper_correct\",\n",
    "        \"GraphMapper_correct\",\n",
    "        \"LocalMapper_correct\",\n",
    "        \"CGRTool_rxnmapper\",\n",
    "        \"CGRTool_graphmapper\",\n",
    "        \"CGRTool_localmapper\",\n",
    "    ]\n",
    "]\n",
    "\n",
    "df_new = df_new[\n",
    "    [\n",
    "        \"Ground Truth\",\n",
    "        \"RXNMapper_correct\",\n",
    "        \"GraphMapper_correct\",\n",
    "        \"LocalMapper_correct\",\n",
    "        \"CGRTool_rxnmapper\",\n",
    "        \"CGRTool_graphmapper\",\n",
    "        \"CGRTool_localmapper\",\n",
    "    ]\n",
    "]"
   ]
  },
  {
   "cell_type": "code",
   "execution_count": null,
   "metadata": {},
   "outputs": [],
   "source": [
    "df_new.iloc[609, :][\"RXNMapper\"]"
   ]
  },
  {
   "cell_type": "code",
   "execution_count": null,
   "metadata": {},
   "outputs": [],
   "source": [
    "df_new.iloc[609, :][\"GroundTruth\"]"
   ]
  },
  {
   "cell_type": "code",
   "execution_count": null,
   "metadata": {},
   "outputs": [],
   "source": [
    "ground_data = pd.DataFrame(\n",
    "    [\n",
    "        {\n",
    "            \"RXNMapper\": round(\n",
    "                100 * df_old[\"RXNMapper_correct\"].sum() / len(df_old), 2\n",
    "            ),\n",
    "            \"Graphormer\": round(\n",
    "                100 * df_old[\"GraphMapper_correct\"].sum() / len(df_old), 2\n",
    "            ),\n",
    "            \"LocalMapper\": round(\n",
    "                100 * df_old[\"LocalMapper_correct\"].sum() / len(df_old), 2\n",
    "            ),\n",
    "        }\n",
    "    ]\n",
    ").T\n",
    "ground_data.rename(columns={0: \"Ground Truth (%)\"}, inplace=True)\n",
    "ground_data"
   ]
  },
  {
   "cell_type": "code",
   "execution_count": null,
   "metadata": {},
   "outputs": [],
   "source": [
    "cgrtool_old = pd.DataFrame(\n",
    "    [\n",
    "        {\n",
    "            \"RXNMapper\": round(\n",
    "                100 * df_old[\"CGRTool_rxnmapper\"].sum() / len(df_old), 2\n",
    "            ),\n",
    "            \"Graphormer\": round(\n",
    "                100 * df_old[\"CGRTool_graphmapper\"].sum() / len(df_old), 2\n",
    "            ),\n",
    "            \"LocalMapper\": round(\n",
    "                100 * df_old[\"CGRTool_localmapper\"].sum() / len(df_old), 2\n",
    "            ),\n",
    "        }\n",
    "    ]\n",
    ").T\n",
    "\n",
    "cgrtool_old.rename(columns={0: \"CGRTools 1 (%)\"}, inplace=True)\n",
    "cgrtool_old"
   ]
  },
  {
   "cell_type": "code",
   "execution_count": null,
   "metadata": {},
   "outputs": [],
   "source": [
    "cgrtool_new = pd.DataFrame(\n",
    "    [\n",
    "        {\n",
    "            \"RXNMapper\": round(\n",
    "                100 * df_new[\"CGRTool_rxnmapper\"].sum() / len(df_new), 2\n",
    "            ),\n",
    "            \"Graphormer\": round(\n",
    "                100 * df_new[\"CGRTool_graphmapper\"].sum() / len(df_new), 2\n",
    "            ),\n",
    "            \"LocalMapper\": round(\n",
    "                100 * df_new[\"CGRTool_localmapper\"].sum() / len(df_new), 2\n",
    "            ),\n",
    "        }\n",
    "    ]\n",
    ").T\n",
    "\n",
    "cgrtool_new.rename(columns={0: \"CGRTools 2 (%)\"}, inplace=True)\n",
    "cgrtool_new"
   ]
  },
  {
   "cell_type": "code",
   "execution_count": null,
   "metadata": {},
   "outputs": [],
   "source": [
    "cgr_data = pd.concat([ground_data, cgrtool_old, cgrtool_new], axis=1)\n",
    "cgr_data"
   ]
  },
  {
   "cell_type": "code",
   "execution_count": null,
   "metadata": {},
   "outputs": [],
   "source": [
    "from SynTemp.SynAAM.aam_validator import AMMValidator\n",
    "\n",
    "df_old = pd.read_csv(\n",
    "    \"../../Data/AAM/cgrtool_benchmark/uspto_3k_cgrtool_old.csv\", index_col=0\n",
    ")\n",
    "df_new = pd.read_csv(\n",
    "    \"../../Data/AAM/cgrtool_benchmark/uspto_3k_cgrtool_new.csv\", index_col=0\n",
    ")\n",
    "results_old_its = AMMValidator.validate_smiles(\n",
    "    data=df_old,\n",
    "    ground_truth_col=\"GroundTruth\",\n",
    "    mapped_cols=[\"RXNMapper\", \"GraphMapper\", \"LocalMapper\"],\n",
    "    check_method=\"ITS\",\n",
    "    ignore_aromaticity=False,\n",
    "    n_jobs=4,\n",
    "    verbose=0,\n",
    "    ensemble=False,\n",
    "    strategies=[[\"rxn_mapper\", \"graphormer\", \"local_mapper\"]],\n",
    "    ignore_tautomers=False,\n",
    ")\n",
    "\n",
    "\n",
    "results_new_its = AMMValidator.validate_smiles(\n",
    "    data=df_new,\n",
    "    ground_truth_col=\"GroundTruth\",\n",
    "    mapped_cols=[\"RXNMapper\", \"GraphMapper\", \"LocalMapper\"],\n",
    "    check_method=\"ITS\",\n",
    "    ignore_aromaticity=False,\n",
    "    n_jobs=4,\n",
    "    verbose=0,\n",
    "    ensemble=False,\n",
    "    strategies=[[\"rxn_mapper\", \"graphormer\", \"local_mapper\"]],\n",
    "    ignore_tautomers=False,\n",
    ")"
   ]
  },
  {
   "cell_type": "code",
   "execution_count": null,
   "metadata": {},
   "outputs": [],
   "source": [
    "from SynTemp.SynAAM.aam_validator import AMMValidator\n",
    "\n",
    "df_old = pd.read_csv(\n",
    "    \"../../Data/AAM/cgrtool_benchmark/uspto_3k_cgrtool_old.csv\", index_col=0\n",
    ")\n",
    "df_new = pd.read_csv(\n",
    "    \"../../Data/AAM/cgrtool_benchmark/uspto_3k_cgrtool_new.csv\", index_col=0\n",
    ")\n",
    "results_old = AMMValidator.validate_smiles(\n",
    "    data=df_old,\n",
    "    ground_truth_col=\"GroundTruth\",\n",
    "    mapped_cols=[\"RXNMapper\", \"GraphMapper\", \"LocalMapper\"],\n",
    "    check_method=\"RC\",\n",
    "    ignore_aromaticity=False,\n",
    "    n_jobs=4,\n",
    "    verbose=0,\n",
    "    ensemble=False,\n",
    "    strategies=[[\"rxn_mapper\", \"graphormer\", \"local_mapper\"]],\n",
    "    ignore_tautomers=False,\n",
    ")\n",
    "\n",
    "\n",
    "results_new = AMMValidator.validate_smiles(\n",
    "    data=df_new,\n",
    "    ground_truth_col=\"GroundTruth\",\n",
    "    mapped_cols=[\"RXNMapper\", \"GraphMapper\", \"LocalMapper\"],\n",
    "    check_method=\"RC\",\n",
    "    ignore_aromaticity=False,\n",
    "    n_jobs=4,\n",
    "    verbose=0,\n",
    "    ensemble=False,\n",
    "    strategies=[[\"rxn_mapper\", \"graphormer\", \"local_mapper\"]],\n",
    "    ignore_tautomers=False,\n",
    ")"
   ]
  },
  {
   "cell_type": "code",
   "execution_count": null,
   "metadata": {},
   "outputs": [],
   "source": [
    "pd.DataFrame(results_new_its[0])"
   ]
  },
  {
   "cell_type": "code",
   "execution_count": null,
   "metadata": {},
   "outputs": [],
   "source": [
    "import numpy as np\n",
    "\n",
    "np.sum(results_new_its[0][0][\"results\"])"
   ]
  },
  {
   "cell_type": "code",
   "execution_count": null,
   "metadata": {},
   "outputs": [],
   "source": [
    "np.sum(results_new[0][0][\"results\"])"
   ]
  },
  {
   "cell_type": "code",
   "execution_count": null,
   "metadata": {},
   "outputs": [],
   "source": []
  },
  {
   "cell_type": "code",
   "execution_count": null,
   "metadata": {},
   "outputs": [],
   "source": [
    "pd.DataFrame(results_new[0])"
   ]
  },
  {
   "cell_type": "code",
   "execution_count": null,
   "metadata": {},
   "outputs": [],
   "source": [
    "pd.DataFrame(results_new_its[0][0][\"results\"]) != pd.DataFrame(\n",
    "    results_new[0][0][\"results\"]\n",
    ")"
   ]
  },
  {
   "cell_type": "code",
   "execution_count": null,
   "metadata": {},
   "outputs": [],
   "source": [
    "wrong_index = []\n",
    "for key, value in enumerate(results_new[0][0][\"results\"]):\n",
    "    if value != results_new_its[0][0][\"results\"][key]:\n",
    "        print(value)\n",
    "        wrong_index.append(key)"
   ]
  },
  {
   "cell_type": "code",
   "execution_count": null,
   "metadata": {},
   "outputs": [],
   "source": [
    "wrong_index"
   ]
  },
  {
   "cell_type": "code",
   "execution_count": null,
   "metadata": {},
   "outputs": [],
   "source": [
    "results_new[0][0][\"results\"]"
   ]
  },
  {
   "cell_type": "code",
   "execution_count": null,
   "metadata": {},
   "outputs": [],
   "source": []
  },
  {
   "cell_type": "code",
   "execution_count": null,
   "metadata": {},
   "outputs": [],
   "source": [
    "aam_new = pd.DataFrame(results_new[0])[[\"mapper\", \"accuracy\"]]\n",
    "aam_new[\"mapper\"][1] = \"Graphormer\""
   ]
  },
  {
   "cell_type": "code",
   "execution_count": null,
   "metadata": {},
   "outputs": [],
   "source": [
    "aam_new = pd.DataFrame(results_new[0])[[\"mapper\", \"accuracy\"]]\n",
    "aam_new[\"mapper\"][1] = \"Graphormer\"\n",
    "aam_new.index = aam_new[\"mapper\"].tolist()\n",
    "aam_new.drop([\"mapper\"], axis=1, inplace=True)\n",
    "aam_new.rename(columns={\"accuracy\": \"SynTemp 2 (%)\"}, inplace=True)"
   ]
  },
  {
   "cell_type": "code",
   "execution_count": null,
   "metadata": {},
   "outputs": [],
   "source": [
    "aam_new"
   ]
  },
  {
   "cell_type": "code",
   "execution_count": null,
   "metadata": {},
   "outputs": [],
   "source": [
    "aam_old = pd.DataFrame(results_old[0])[[\"mapper\", \"accuracy\"]]\n",
    "aam_old[\"mapper\"][1] = \"Graphormer\"\n",
    "aam_old.index = aam_old[\"mapper\"].tolist()\n",
    "aam_old.drop([\"mapper\"], axis=1, inplace=True)\n",
    "aam_old.rename(columns={\"accuracy\": \"SynTemp 1 (%)\"}, inplace=True)"
   ]
  },
  {
   "cell_type": "code",
   "execution_count": null,
   "metadata": {},
   "outputs": [],
   "source": [
    "benchmark = pd.concat([cgr_data, aam_old, aam_new], axis=1)"
   ]
  },
  {
   "cell_type": "code",
   "execution_count": null,
   "metadata": {},
   "outputs": [],
   "source": [
    "benchmark"
   ]
  },
  {
   "cell_type": "markdown",
   "metadata": {},
   "source": [
    "### 1.2.2. EEquaam"
   ]
  },
  {
   "cell_type": "code",
   "execution_count": null,
   "metadata": {},
   "outputs": [],
   "source": [
    "from SynTemp.SynChemistry.balance_checker import BalanceReactionCheck\n",
    "\n",
    "df_old = pd.read_csv(\n",
    "    \"../../Data/AAM/cgrtool_benchmark/uspto_3k_cgrtool_old.csv\", index_col=0\n",
    ")\n",
    "df_new = pd.read_csv(\n",
    "    \"../../Data/AAM/cgrtool_benchmark/uspto_3k_cgrtool_new.csv\", index_col=0\n",
    ")\n",
    "check_balance = BalanceReactionCheck()\n",
    "df_new_balance, _ = check_balance.dicts_balance_check(\n",
    "    df_new.to_dict(\"records\"), \"GroundTruth\"\n",
    ")\n",
    "\n",
    "df_old_balance, _ = check_balance.dicts_balance_check(\n",
    "    df_old.to_dict(\"records\"), \"GroundTruth\"\n",
    ")"
   ]
  },
  {
   "cell_type": "code",
   "execution_count": null,
   "metadata": {},
   "outputs": [],
   "source": [
    "from SynTemp.SynAAM.aam_validator import AMMValidator"
   ]
  },
  {
   "cell_type": "code",
   "execution_count": null,
   "metadata": {},
   "outputs": [],
   "source": [
    "results_old_aam, _ = AMMValidator.validate_smiles(\n",
    "    data=df_old_balance,\n",
    "    ground_truth_col=\"GroundTruth\",\n",
    "    mapped_cols=[\"RXNMapper\", \"GraphMapper\", \"LocalMapper\"],\n",
    "    check_method=\"RC\",\n",
    "    ignore_aromaticity=False,\n",
    "    n_jobs=4,\n",
    "    verbose=0,\n",
    "    ensemble=False,\n",
    "    strategies=[[\"rxn_mapper\", \"graphormer\", \"local_mapper\"]],\n",
    "    ignore_tautomers=False,\n",
    ")\n",
    "\n",
    "\n",
    "results_new_aam, _ = AMMValidator.validate_smiles(\n",
    "    data=df_new_balance,\n",
    "    ground_truth_col=\"GroundTruth\",\n",
    "    mapped_cols=[\"RXNMapper\", \"GraphMapper\", \"LocalMapper\"],\n",
    "    check_method=\"RC\",\n",
    "    ignore_aromaticity=False,\n",
    "    n_jobs=4,\n",
    "    verbose=0,\n",
    "    ensemble=False,\n",
    "    strategies=[[\"rxn_mapper\", \"graphormer\", \"local_mapper\"]],\n",
    "    ignore_tautomers=False,\n",
    ")"
   ]
  },
  {
   "cell_type": "code",
   "execution_count": null,
   "metadata": {},
   "outputs": [],
   "source": [
    "pd.DataFrame(results_old_aam)"
   ]
  },
  {
   "cell_type": "code",
   "execution_count": null,
   "metadata": {},
   "outputs": [],
   "source": [
    "pd.DataFrame(results_new_aam)"
   ]
  },
  {
   "cell_type": "code",
   "execution_count": null,
   "metadata": {},
   "outputs": [],
   "source": [
    "results_old_eqquaam, _ = AMMValidator.validate_smiles(\n",
    "    data=df_old_balance,\n",
    "    ground_truth_col=\"GroundTruth\",\n",
    "    mapped_cols=[\"RXNMapper\", \"GraphMapper\", \"LocalMapper\"],\n",
    "    check_method=\"ITS\",\n",
    "    ignore_aromaticity=False,\n",
    "    n_jobs=4,\n",
    "    verbose=0,\n",
    "    ensemble=False,\n",
    "    strategies=[[\"rxn_mapper\", \"graphormer\", \"local_mapper\"]],\n",
    "    ignore_tautomers=True,\n",
    ")\n",
    "\n",
    "\n",
    "results_new_eqquaam, _ = AMMValidator.validate_smiles(\n",
    "    data=df_new_balance,\n",
    "    ground_truth_col=\"GroundTruth\",\n",
    "    mapped_cols=[\"RXNMapper\", \"GraphMapper\", \"LocalMapper\"],\n",
    "    check_method=\"ITS\",\n",
    "    ignore_aromaticity=False,\n",
    "    n_jobs=4,\n",
    "    verbose=0,\n",
    "    ensemble=False,\n",
    "    strategies=[[\"rxn_mapper\", \"graphormer\", \"local_mapper\"]],\n",
    "    ignore_tautomers=True,\n",
    ")"
   ]
  },
  {
   "cell_type": "code",
   "execution_count": null,
   "metadata": {},
   "outputs": [],
   "source": [
    "pd.DataFrame(results_new_eqquaam)"
   ]
  },
  {
   "cell_type": "markdown",
   "metadata": {},
   "source": [
    "## 1.3. Analyze difference from Ground Truth"
   ]
  },
  {
   "cell_type": "code",
   "execution_count": null,
   "metadata": {},
   "outputs": [],
   "source": [
    "data_check = pd.DataFrame(results_new[0])"
   ]
  },
  {
   "cell_type": "code",
   "execution_count": null,
   "metadata": {},
   "outputs": [],
   "source": [
    "list_diff_rxn = []\n",
    "for key, value in enumerate(df_new[\"RXNMapper_correct\"]):\n",
    "    if value != data_check[\"results\"][0][key]:\n",
    "        list_diff_rxn.append(key)\n",
    "\n",
    "list_diff_graph = []\n",
    "for key, value in enumerate(df_new[\"GraphMapper_correct\"]):\n",
    "    if value != data_check[\"results\"][1][key]:\n",
    "        list_diff_graph.append(key)\n",
    "print(\"Differences in RXNMapper:\", list_diff_rxn)\n",
    "print(\"Differences in GraphMapper:\", list_diff_graph)"
   ]
  },
  {
   "cell_type": "code",
   "execution_count": null,
   "metadata": {},
   "outputs": [],
   "source": [
    "from SynTemp.SynVis.chemical_reaction_visualizer import ChemicalReactionVisualizer\n",
    "\n",
    "vis = ChemicalReactionVisualizer()\n",
    "i = 192\n",
    "display(\n",
    "    vis.visualize_reaction(\n",
    "        df_new.loc[i, \"GroundTruth\"], img_size=(1000, 300), show_atom_map=True\n",
    "    )\n",
    ")\n",
    "display(\n",
    "    vis.visualize_reaction(\n",
    "        df_new.loc[i, \"RXNMapper\"], img_size=(1000, 300), show_atom_map=True\n",
    "    )\n",
    ")\n",
    "print(df_new.loc[i, \"RXNMapper_correct\"])"
   ]
  },
  {
   "cell_type": "code",
   "execution_count": null,
   "metadata": {},
   "outputs": [],
   "source": [
    "i = 2157\n",
    "display(\n",
    "    vis.visualize_reaction(\n",
    "        df_new.loc[i, \"GroundTruth\"], img_size=(1000, 300), show_atom_map=True\n",
    "    )\n",
    ")\n",
    "display(\n",
    "    vis.visualize_reaction(\n",
    "        df_new.loc[i, \"RXNMapper\"], img_size=(1000, 300), show_atom_map=True\n",
    "    )\n",
    ")\n",
    "print(df_new.loc[i, \"RXNMapper_correct\"])"
   ]
  },
  {
   "cell_type": "code",
   "execution_count": null,
   "metadata": {},
   "outputs": [],
   "source": [
    "df_new.loc[i, \"RXNMapper\"]"
   ]
  },
  {
   "cell_type": "code",
   "execution_count": null,
   "metadata": {},
   "outputs": [],
   "source": [
    "reaction_smiles = [\n",
    "    df_new.loc[192, \"GroundTruth\"],\n",
    "    df_new.loc[192, \"RXNMapper\"],\n",
    "    df_new.loc[2157, \"GroundTruth\"],\n",
    "    df_new.loc[2157, \"RXNMapper\"],\n",
    "]\n",
    "subtitles = [\"A\", \"B\", \"C\", \"D\"]"
   ]
  },
  {
   "cell_type": "code",
   "execution_count": null,
   "metadata": {},
   "outputs": [],
   "source": [
    "import io\n",
    "import rdkit.Chem.rdmolfiles as rdmolfiles\n",
    "import rdkit.Chem.Draw.rdMolDraw2D as rdMolDraw2D\n",
    "import rdkit.Chem.rdChemReactions as rdChemReactions\n",
    "import matplotlib.pyplot as plt\n",
    "import matplotlib.patches as patches\n",
    "import matplotlib.backends.backend_pdf\n",
    "\n",
    "from PIL import Image\n",
    "from synrbl.SynUtils.chem_utils import remove_atom_mapping, normalize_smiles\n",
    "\n",
    "\n",
    "class RxnVis:\n",
    "    def __init__(\n",
    "        self,\n",
    "        nrows=1,\n",
    "        ncols=1,\n",
    "        dpi=400,\n",
    "        figsize=(16, 9),\n",
    "        cairosize=(1600, 900),\n",
    "        border=10,\n",
    "        show=True,\n",
    "        remove_aam=False,\n",
    "        normalize=False,\n",
    "        close_fig=True,\n",
    "    ):\n",
    "        self.nrows = nrows\n",
    "        self.ncols = ncols\n",
    "        self.dpi = dpi\n",
    "        self.figsize = figsize\n",
    "        self.cairosize = cairosize\n",
    "        self.border = border\n",
    "        self.show = show\n",
    "        self.remove_aam = remove_aam\n",
    "        self.normalize = normalize\n",
    "        self.close_fig = close_fig\n",
    "\n",
    "    def get_rxn_img(self, smiles):\n",
    "        drawer = rdMolDraw2D.MolDraw2DCairo(*self.cairosize)\n",
    "        opts = drawer.drawOptions()\n",
    "        opts.scale = 1\n",
    "        opts.bondLineWidth = 8\n",
    "        opts.atomLabelFontSize = 50\n",
    "        opts.padding = 0.1\n",
    "        if \">>\" in smiles:\n",
    "            rxn = rdChemReactions.ReactionFromSmarts(smiles, useSmiles=True)\n",
    "            drawer.DrawReaction(rxn)\n",
    "        else:\n",
    "            mol = rdmolfiles.MolFromSmiles(smiles)\n",
    "            if mol is None:\n",
    "                mol = rdmolfiles.MolFromSmarts(smiles)\n",
    "            drawer.DrawMolecule(mol)\n",
    "        drawer.FinishDrawing()\n",
    "        img = Image.open(io.BytesIO(drawer.GetDrawingText()))\n",
    "        nonwhite_positions = [\n",
    "            (x, y)\n",
    "            for x in range(img.size[0])\n",
    "            for y in range(img.size[1])\n",
    "            if img.getdata()[x + y * img.size[0]] != (255, 255, 255)  # type: ignore\n",
    "        ]\n",
    "        rect = (\n",
    "            min([x - self.border for x, y in nonwhite_positions]),\n",
    "            min([y - self.border for x, y in nonwhite_positions]),\n",
    "            max([x + self.border for x, y in nonwhite_positions]),\n",
    "            max([y + self.border for x, y in nonwhite_positions]),\n",
    "        )\n",
    "        return img.crop(rect)\n",
    "\n",
    "    def __parse_input(self, smiles, titles):\n",
    "        if isinstance(smiles, str):\n",
    "            smiles = [smiles]\n",
    "        if titles is None:\n",
    "            titles = [None for _ in range(len(smiles))]\n",
    "        return smiles, titles\n",
    "\n",
    "    def __get_fig(self):\n",
    "        fig, axs = plt.subplots(\n",
    "            self.nrows, self.ncols, dpi=self.dpi, figsize=self.figsize\n",
    "        )\n",
    "        if self.ncols * self.nrows == 1:\n",
    "            axs = [[axs]]\n",
    "        elif self.nrows == 1:\n",
    "            axs = [axs]\n",
    "        elif self.ncols == 1:\n",
    "            axs = [[a] for a in axs]\n",
    "        return fig, axs\n",
    "\n",
    "    def __get_ax(self, axs, i, title=None):\n",
    "        i_r = int(i / self.ncols)\n",
    "        i_c = int(i % self.ncols)\n",
    "        ax = axs[i_r][i_c]\n",
    "        if title is not None:\n",
    "            ax.set_title(title)\n",
    "        ax.axis(\"off\")\n",
    "        return ax\n",
    "\n",
    "    def plot(\n",
    "        self,\n",
    "        smiles: str | list[str],\n",
    "        titles=None,\n",
    "        savefig=None,\n",
    "        show=None,\n",
    "        remove_aam=None,\n",
    "        normalize=None,\n",
    "        close_fig=None,\n",
    "    ):\n",
    "        smiles, titles = self.__parse_input(smiles, titles)\n",
    "        show = show if show is not None else self.show\n",
    "        remove_aam = remove_aam if remove_aam is not None else self.remove_aam\n",
    "        normalize = normalize if normalize is not None else self.normalize\n",
    "        close_fig = close_fig if close_fig is not None else self.close_fig\n",
    "\n",
    "        if normalize:\n",
    "            smiles = [normalize_smiles(s) for s in smiles]\n",
    "        elif remove_aam:\n",
    "            smiles = [remove_atom_mapping(s) for s in smiles]\n",
    "\n",
    "        fig, axs = self.__get_fig()\n",
    "        for i, (s, t) in enumerate(zip(smiles, titles)):\n",
    "            if i == self.nrows * self.ncols:\n",
    "                print(\n",
    "                    \"[WARN] {} reactions will not be displayed.\".format(len(smiles) - i)\n",
    "                )\n",
    "                break\n",
    "            ax = self.__get_ax(axs, i, title=t)\n",
    "            if s is not None and len(s) > 0:\n",
    "                img = self.get_rxn_img(s)\n",
    "                ax.imshow(img)\n",
    "        # fig.tight_layout()\n",
    "        if savefig is not None:\n",
    "            fig.savefig(savefig)\n",
    "        if show is True:\n",
    "            plt.show()\n",
    "        elif close_fig:\n",
    "            plt.close(fig)\n",
    "            fig = None\n",
    "        return fig, axs\n",
    "\n",
    "\n",
    "class Rxn2Pdf:\n",
    "    def __init__(self, file, **kwargs):\n",
    "        kwargs = Rxn2Pdf.__override_kwargs(**kwargs)\n",
    "        self.rxnvis = RxnVis(**kwargs)\n",
    "        self.pdf = matplotlib.backends.backend_pdf.PdfPages(file)\n",
    "\n",
    "    @staticmethod\n",
    "    def __override_kwargs(**kwargs):\n",
    "        kwargs[\"close_fig\"] = False\n",
    "        kwargs[\"show\"] = False\n",
    "        return kwargs\n",
    "\n",
    "    def add(self, smiles, **kwargs):\n",
    "        if self.pdf is None:\n",
    "            raise RuntimeError(\"Pdf is already closed.\")\n",
    "        kwargs = Rxn2Pdf.__override_kwargs(**kwargs)\n",
    "        fig, _ = self.rxnvis.plot(smiles, **kwargs)\n",
    "        self.pdf.savefig(fig)\n",
    "        plt.close(fig)\n",
    "\n",
    "    def close(self):\n",
    "        if self.pdf is None:\n",
    "            raise RuntimeError(\"Pdf is already closed.\")\n",
    "        self.pdf.close()\n",
    "        self.pdf = None"
   ]
  },
  {
   "cell_type": "code",
   "execution_count": null,
   "metadata": {},
   "outputs": [],
   "source": [
    "import seaborn as sns\n",
    "\n",
    "sns.set_theme()"
   ]
  },
  {
   "cell_type": "code",
   "execution_count": null,
   "metadata": {},
   "outputs": [],
   "source": [
    "# from synrbl.SynVis.rxnvis import RxnVis\n",
    "rxn_vis = RxnVis(\n",
    "    nrows=2, ncols=2, cairosize=(3000, 1000), border=10, figsize=(10, 4), dpi=600\n",
    ")\n",
    "rxn_vis.plot(\n",
    "    reaction_smiles,\n",
    "    subtitles,\n",
    "    savefig=\"./Fig/benchmark_dif.pdf\",\n",
    ")"
   ]
  },
  {
   "cell_type": "markdown",
   "metadata": {},
   "source": [
    "## 1.4. Analyze difference from CGRTool"
   ]
  },
  {
   "cell_type": "code",
   "execution_count": null,
   "metadata": {},
   "outputs": [],
   "source": [
    "old_rxn = df_old[df_old[\"CGRTool_rxnmapper\"] != data_check[\"results\"][0]]\n",
    "old_graph = df_old[df_old[\"CGRTool_graphmapper\"] != data_check[\"results\"][1]]\n",
    "\n",
    "new_rxn = df_new[df_new[\"CGRTool_rxnmapper\"] != data_check[\"results\"][0]]\n",
    "new_local = df_new[df_new[\"CGRTool_localmapper\"] != data_check[\"results\"][2]]"
   ]
  },
  {
   "cell_type": "code",
   "execution_count": null,
   "metadata": {},
   "outputs": [],
   "source": [
    "def op_results(bool):\n",
    "    if bool:\n",
    "        return False\n",
    "    else:\n",
    "        return True"
   ]
  },
  {
   "cell_type": "code",
   "execution_count": null,
   "metadata": {},
   "outputs": [],
   "source": [
    "data_1 = old_rxn[[\"RXNMapper\", \"CGRTool_rxnmapper\", \"GroundTruth\"]]\n",
    "data_1.rename(\n",
    "    columns={\"RXNMapper\": \"Mapped\", \"CGRTool_rxnmapper\": \"CGRTool\"}, inplace=True\n",
    ")\n",
    "data_1[\"SynTemp\"] = data_1[\"CGRTool\"].apply(op_results)\n",
    "\n",
    "\n",
    "data_2 = old_graph[[\"GraphMapper\", \"CGRTool_graphmapper\", \"GroundTruth\"]]\n",
    "data_2.rename(\n",
    "    columns={\"GraphMapper\": \"Mapped\", \"CGRTool_graphmapper\": \"CGRTool\"}, inplace=True\n",
    ")\n",
    "data_2[\"SynTemp\"] = data_2[\"CGRTool\"].apply(op_results)\n",
    "\n",
    "\n",
    "data_3 = new_rxn[[\"RXNMapper\", \"CGRTool_rxnmapper\", \"GroundTruth\"]]\n",
    "data_3.rename(\n",
    "    columns={\"RXNMapper\": \"Mapped\", \"CGRTool_rxnmapper\": \"CGRTool\"}, inplace=True\n",
    ")\n",
    "data_3[\"SynTemp\"] = data_3[\"CGRTool\"].apply(op_results)\n",
    "\n",
    "data_4 = new_local[[\"LocalMapper\", \"CGRTool_localmapper\", \"GroundTruth\"]]\n",
    "data_4.rename(\n",
    "    columns={\"LocalMapper\": \"Mapped\", \"CGRTool_localmapper\": \"CGRTool\"}, inplace=True\n",
    ")\n",
    "data_4[\"SynTemp\"] = data_4[\"CGRTool\"].apply(op_results)"
   ]
  },
  {
   "cell_type": "code",
   "execution_count": null,
   "metadata": {},
   "outputs": [],
   "source": [
    "all_data = pd.concat([data_1, data_2, data_3, data_4], axis=0)\n",
    "all_data = all_data.drop_duplicates(subset=[\"Mapped\"])\n",
    "all_data.shape"
   ]
  },
  {
   "cell_type": "code",
   "execution_count": null,
   "metadata": {},
   "outputs": [],
   "source": [
    "test = all_data.to_dict(\"records\")"
   ]
  },
  {
   "cell_type": "code",
   "execution_count": null,
   "metadata": {},
   "outputs": [],
   "source": [
    "save_database(test, \"../../Data/AAM/cgrtool_benchmark/cgr_diff.json.gz\")"
   ]
  },
  {
   "cell_type": "code",
   "execution_count": null,
   "metadata": {},
   "outputs": [],
   "source": [
    "from synrbl.SynVis import save_reactions_to_pdf\n",
    "\n",
    "save_reactions_to_pdf(\n",
    "    test,\n",
    "    old_reaction_col=\"GroundTruth\",\n",
    "    new_reaction_col=\"Mapped\",\n",
    "    pdf_filename=\"../../Data/AAM/cgrtool_benchmark/cgr_diff.pdf\",\n",
    "    compare=True,\n",
    "    show_atom_numbers=True,\n",
    "    orientation=\"vertical\",\n",
    ")"
   ]
  },
  {
   "cell_type": "code",
   "execution_count": null,
   "metadata": {},
   "outputs": [],
   "source": [
    "df_old.iloc[2157, :][\"LocalMapper\"]"
   ]
  },
  {
   "cell_type": "code",
   "execution_count": null,
   "metadata": {},
   "outputs": [],
   "source": []
  }
 ],
 "metadata": {
  "kernelspec": {
   "display_name": "SynITS",
   "language": "python",
   "name": "python3"
  },
  "language_info": {
   "codemirror_mode": {
    "name": "ipython",
    "version": 3
   },
   "file_extension": ".py",
   "mimetype": "text/x-python",
   "name": "python",
   "nbconvert_exporter": "python",
   "pygments_lexer": "ipython3",
   "version": "3.11.5"
  }
 },
 "nbformat": 4,
 "nbformat_minor": 2
}
