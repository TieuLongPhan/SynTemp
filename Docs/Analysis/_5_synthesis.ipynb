{
 "cells": [
  {
   "cell_type": "code",
   "execution_count": 18,
   "metadata": {},
   "outputs": [],
   "source": [
    "import sys\n",
    "sys.path.append('../../')\n",
    "import pandas as pd\n",
    "from SynTemp.SynUtils.utils import load_database, save_database, load_from_pickle\n",
    "\n",
    "non_h_r0 = load_database('../../Data/DPO/USPTO_50K/Non_hydrogen/Output/bw_0.json.gz')\n",
    "h_r0 = load_database('../../Data/DPO/USPTO_50K/Hydrogen/Output/bw_0.json.gz')"
   ]
  },
  {
   "cell_type": "markdown",
   "metadata": {},
   "source": [
    "# 1. Coverage analysis"
   ]
  },
  {
   "cell_type": "code",
   "execution_count": 19,
   "metadata": {},
   "outputs": [
    {
     "name": "stdout",
     "output_type": "stream",
     "text": [
      "Average Solution 27.62954818072771\n",
      "Average coverage 0.8004798080767693\n"
     ]
    }
   ],
   "source": [
    "coverage = 0\n",
    "total_solution = 0\n",
    "for value in h_r0:\n",
    "    total_solution += len(value['unrank'])\n",
    "    if value['positive_reactions']:\n",
    "        coverage += 1\n",
    "\n",
    "print('Average Solution', total_solution/len(h_r0))\n",
    "print('Average coverage', coverage/len(h_r0))"
   ]
  },
  {
   "cell_type": "markdown",
   "metadata": {},
   "source": []
  },
  {
   "cell_type": "code",
   "execution_count": null,
   "metadata": {},
   "outputs": [],
   "source": []
  }
 ],
 "metadata": {
  "kernelspec": {
   "display_name": "SynITSG",
   "language": "python",
   "name": "python3"
  },
  "language_info": {
   "codemirror_mode": {
    "name": "ipython",
    "version": 3
   },
   "file_extension": ".py",
   "mimetype": "text/x-python",
   "name": "python",
   "nbconvert_exporter": "python",
   "pygments_lexer": "ipython3",
   "version": "3.11.5"
  }
 },
 "nbformat": 4,
 "nbformat_minor": 2
}
