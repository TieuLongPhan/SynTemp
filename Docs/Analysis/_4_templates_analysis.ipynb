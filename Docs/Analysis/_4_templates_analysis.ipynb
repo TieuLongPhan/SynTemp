{
 "cells": [
  {
   "cell_type": "code",
   "execution_count": null,
   "metadata": {},
   "outputs": [],
   "source": [
    "import sys\n",
    "\n",
    "sys.path.append(\"../../\")\n",
    "from syntemp.SynUtils.utils import load_database, load_from_pickle"
   ]
  },
  {
   "cell_type": "markdown",
   "metadata": {},
   "source": [
    "## 1. Split data"
   ]
  },
  {
   "cell_type": "code",
   "execution_count": null,
   "metadata": {},
   "outputs": [],
   "source": [
    "import pandas as pd\n",
    "from syntemp.SynUtils.utils import train_val_test_split_df, save_database\n",
    "\n",
    "original_data = load_database(\"../../Data/Temp/data_aam.json.gz\")\n",
    "original_data = pd.DataFrame(original_data)\n",
    "\n",
    "train, test, valid = train_val_test_split_df(original_data, target=\"class\")\n",
    "train, test, valid = (\n",
    "    train.to_dict(\"records\"),\n",
    "    test.to_dict(\"records\"),\n",
    "    valid.to_dict(\"records\"),\n",
    ")\n",
    "\n",
    "save_database(train, \"../../Data/Temp/Benchmark/train.json.gz\")\n",
    "save_database(test, \"../../Data/Temp/Benchmark/test.json.gz\")\n",
    "save_database(valid, \"../../Data/Temp/Benchmark/valid.json.gz\")"
   ]
  },
  {
   "cell_type": "markdown",
   "metadata": {},
   "source": [
    "# Count number of templates"
   ]
  },
  {
   "cell_type": "code",
   "execution_count": null,
   "metadata": {},
   "outputs": [],
   "source": [
    "raw = load_from_pickle(\"../../Data/Temp/Benchmark/Raw/templates.pkl.gz\")\n",
    "complete = load_from_pickle(\"../../Data/Temp/Benchmark/Complete/templates.pkl.gz\")\n",
    "expand = load_from_pickle(\"../../Data/Temp/Benchmark/Expand/templates.pkl.gz\")"
   ]
  },
  {
   "cell_type": "code",
   "execution_count": null,
   "metadata": {},
   "outputs": [],
   "source": [
    "def calculate(data):\n",
    "    number = []\n",
    "    for i in range(len(data)):\n",
    "        number.append(len(data[i]))\n",
    "    return number\n",
    "\n",
    "\n",
    "raw_result = calculate(raw)\n",
    "complete_result = calculate(complete)\n",
    "expand_result = calculate(expand)\n",
    "\n",
    "print(raw_result)\n",
    "print(complete_result)\n",
    "print(expand_result)"
   ]
  },
  {
   "cell_type": "markdown",
   "metadata": {},
   "source": [
    "# Analyze descriptors"
   ]
  },
  {
   "cell_type": "code",
   "execution_count": null,
   "metadata": {},
   "outputs": [],
   "source": [
    "complete = load_from_pickle(\"../../Data/Temp/Benchmark/Complete/templates.pkl.gz\")\n",
    "data_cluster = load_from_pickle(\n",
    "    \"../../Data/Temp/Benchmark/Complete/data_cluster.pkl.gz\"\n",
    ")\n",
    "temp_0 = complete[0]"
   ]
  },
  {
   "cell_type": "code",
   "execution_count": null,
   "metadata": {},
   "outputs": [],
   "source": [
    "len(temp_0)"
   ]
  },
  {
   "cell_type": "code",
   "execution_count": null,
   "metadata": {},
   "outputs": [],
   "source": [
    "33690 / 40012"
   ]
  },
  {
   "cell_type": "markdown",
   "metadata": {},
   "source": [
    "## Template percentage and DPO rule"
   ]
  },
  {
   "cell_type": "markdown",
   "metadata": {},
   "source": [
    "- 8: amine alkylation - Fluoro\n",
    "- 2: amine alkylation - cloro\n",
    "- 6: amid + H20\n",
    "- 5: ester + h20\n",
    "- 0: amine alkylation - bromo\n",
    "- 12: C-C formation with boron br\n",
    "- 14: imin + reduction\n",
    "- 3: C-Cl + h2O\n",
    "- 1: C-Br + H2O\n",
    "- 13: S-Cl + NH\n",
    "- 10: HI + C-OH\n",
    "- 21: amine alkylation - ido\n",
    "- 4: NH+C=N??\n",
    "- 23: reduction carbonyl\n",
    "- 17: amine alkylation - Fluoro (aromatic)\n",
    "- 7: reduction alkene\n",
    "- 44: imin \n",
    "- 46 : C-C formation with boron Cl\n",
    "- 15: S-Cl + OH\n",
    "- 37: C-I + OH"
   ]
  },
  {
   "cell_type": "code",
   "execution_count": null,
   "metadata": {},
   "outputs": [],
   "source": [
    "import matplotlib.pyplot as plt\n",
    "import matplotlib.gridspec as gridspec\n",
    "from _analysis._plot_analysis import plot_top_rules_with_seaborn, load_and_title_png\n",
    "\n",
    "# Set up the figure and GridSpec layout\n",
    "fig = plt.figure(figsize=(16, 10))\n",
    "gs = gridspec.GridSpec(2, 2, height_ratios=[1, 1], width_ratios=[1, 1], figure=fig)\n",
    "\n",
    "# Create a subplot that spans the first row across both columns\n",
    "ax1 = fig.add_subplot(\n",
    "    gs[0, :]\n",
    ")  # The ':' indicates spanning across all columns in row 0\n",
    "\n",
    "\n",
    "plot_top_rules_with_seaborn(temp_0, top_n=20, ax=ax1)\n",
    "\n",
    "# Plot on the second row, first column\n",
    "ax2 = fig.add_subplot(gs[1, 0])\n",
    "load_and_title_png(\n",
    "    \"../../Docs/Analysis/fig/rule8.png\",\n",
    "    title=\"B. Rule 8 - Amine Aklylation (Fluoro)\",\n",
    "    ax=ax2,\n",
    ")\n",
    "\n",
    "# Plot on the second row, second column\n",
    "ax3 = fig.add_subplot(gs[1, 1])\n",
    "load_and_title_png(\n",
    "    \"../../Docs/Analysis/fig/rule2.png\",\n",
    "    title=\"C. Rule 2 - Amine Aklylation (Chloro)\",\n",
    "    ax=ax3,\n",
    ")\n",
    "\n",
    "# Adjust the layout to add space between subplots and potentially solve the overlapping issue\n",
    "plt.subplots_adjust(hspace=0.1, wspace=0.5)\n",
    "\n",
    "# Adjust the layout to add space between subplots, addressing overlapping xtick and ytick labels\n",
    "plt.tight_layout(pad=0.5)\n",
    "\n",
    "plt.savefig(\n",
    "    \"../../Docs/Analysis/fig/rule_distribution.pdf\",\n",
    "    dpi=600,\n",
    "    bbox_inches=\"tight\",\n",
    "    pad_inches=0,\n",
    ")\n",
    "plt.show()"
   ]
  },
  {
   "cell_type": "markdown",
   "metadata": {},
   "source": [
    "## Descriptors Analysis"
   ]
  },
  {
   "cell_type": "code",
   "execution_count": null,
   "metadata": {},
   "outputs": [],
   "source": [
    "from _analysis._plot_analysis import calculate_value_percentage"
   ]
  },
  {
   "cell_type": "code",
   "execution_count": null,
   "metadata": {},
   "outputs": [],
   "source": [
    "print(calculate_value_percentage(temp_0, \"Reaction Type\"))\n",
    "print(calculate_value_percentage(data_cluster, \"Reaction Type\"))"
   ]
  },
  {
   "cell_type": "code",
   "execution_count": null,
   "metadata": {},
   "outputs": [],
   "source": [
    "print(calculate_value_percentage(temp_0, \"Topo Type\"))\n",
    "print(calculate_value_percentage(data_cluster, \"Topo Type\"))"
   ]
  },
  {
   "cell_type": "code",
   "execution_count": null,
   "metadata": {},
   "outputs": [],
   "source": [
    "print(calculate_value_percentage(temp_0, \"Reaction Step\"))\n",
    "print(calculate_value_percentage(data_cluster, \"Reaction Step\"))"
   ]
  },
  {
   "cell_type": "code",
   "execution_count": null,
   "metadata": {},
   "outputs": [],
   "source": [
    "acyl = [value for value in temp_0 if value[\"Topo Type\"] == \"Acyclic\"]\n",
    "single = [value for value in temp_0 if value[\"Topo Type\"] == \"Single Cyclic\"]\n",
    "combo = [value for value in temp_0 if value[\"Topo Type\"] == \"Combinatorial Cyclic\"]\n",
    "comp = [value for value in temp_0 if value[\"Topo Type\"] == \"Complex Cyclic\"]\n",
    "print(\"Acyclic\", calculate_value_percentage(acyl, \"Rings\"))\n",
    "print(\"Single Cyclic\", calculate_value_percentage(single, \"Rings\"))\n",
    "print(\"Combinatorial Cyclic\", calculate_value_percentage(combo, \"Rings\"))\n",
    "print(\"Complex Cyclic\", calculate_value_percentage(comp, \"Rings\"))"
   ]
  },
  {
   "cell_type": "code",
   "execution_count": null,
   "metadata": {},
   "outputs": [],
   "source": [
    "acyl = [value for value in data_cluster if value[\"Topo Type\"] == \"Acyclic\"]\n",
    "single = [value for value in data_cluster if value[\"Topo Type\"] == \"Single Cyclic\"]\n",
    "combo = [\n",
    "    value for value in data_cluster if value[\"Topo Type\"] == \"Combinatorial Cyclic\"\n",
    "]\n",
    "comp = [value for value in data_cluster if value[\"Topo Type\"] == \"Complex Cyclic\"]\n",
    "print(\"Acyclic\", calculate_value_percentage(acyl, \"Rings\"))\n",
    "print(\"Single Cyclic\", calculate_value_percentage(single, \"Rings\"))\n",
    "print(\"Combinatorial Cyclic\", calculate_value_percentage(combo, \"Rings\"))\n",
    "print(\"Complex Cyclic\", calculate_value_percentage(comp, \"Rings\"))"
   ]
  },
  {
   "cell_type": "markdown",
   "metadata": {},
   "source": [
    "## Descriptors Visualization"
   ]
  },
  {
   "cell_type": "markdown",
   "metadata": {},
   "source": [
    "### Pie chart"
   ]
  },
  {
   "cell_type": "code",
   "execution_count": null,
   "metadata": {},
   "outputs": [],
   "source": [
    "from _analysis._plot_analysis import create_pie_chart\n",
    "import matplotlib.pyplot as plt\n",
    "\n",
    "fig, axs = plt.subplots(2, 2, figsize=(16, 10))  # Adjust size as needed\n",
    "\n",
    "# Plot the pie chart in the first subplot (top-left)\n",
    "create_pie_chart(\n",
    "    temp_0,\n",
    "    \"Reaction Type\",\n",
    "    ax=axs[0, 1],\n",
    "    title=\"B. Template library\",\n",
    "    color_pallet=\"pastel\",\n",
    ")\n",
    "\n",
    "create_pie_chart(\n",
    "    data_cluster,\n",
    "    \"Reaction Type\",\n",
    "    ax=axs[0, 0],\n",
    "    title=\"A. Database\",\n",
    "    color_pallet=\"pastel\",\n",
    ")\n",
    "\n",
    "create_pie_chart(\n",
    "    temp_0,\n",
    "    \"Topo Type\",\n",
    "    ax=axs[1, 1],\n",
    "    title=\"D. Template library\",\n",
    "    color_pallet=\"coolwarm\",\n",
    ")\n",
    "\n",
    "create_pie_chart(\n",
    "    data_cluster,\n",
    "    \"Topo Type\",\n",
    "    ax=axs[1, 0],\n",
    "    title=\"C. Database\",\n",
    "    color_pallet=\"coolwarm\",\n",
    ")\n",
    "\n",
    "\n",
    "plt.tight_layout()\n",
    "plt.savefig(\n",
    "    \"../../Docs/Analysis/fig/Analysis_rtype_topo.pdf\",\n",
    "    dpi=600,\n",
    "    bbox_inches=\"tight\",\n",
    "    pad_inches=0,\n",
    ")\n",
    "plt.show()"
   ]
  },
  {
   "cell_type": "markdown",
   "metadata": {},
   "source": [
    "### Distribution"
   ]
  },
  {
   "cell_type": "code",
   "execution_count": null,
   "metadata": {},
   "outputs": [],
   "source": [
    "from _analysis._plot_analysis import count_column_values, plot_rules_distribution"
   ]
  },
  {
   "cell_type": "code",
   "execution_count": null,
   "metadata": {},
   "outputs": [],
   "source": [
    "element = [value for value in temp_0 if value[\"Reaction Type\"] in [\"Elementary\"]]\n",
    "complex = [value for value in temp_0 if value[\"Reaction Type\"] in [\"Complicated\"]]\n",
    "element_count = count_column_values(element, \"Rings\")\n",
    "complex_count = count_column_values(complex, \"Rings\")"
   ]
  },
  {
   "cell_type": "code",
   "execution_count": null,
   "metadata": {},
   "outputs": [],
   "source": [
    "element_all = [\n",
    "    value for value in data_cluster if value[\"Reaction Type\"] in [\"Elementary\"]\n",
    "]\n",
    "complex_all = [\n",
    "    value for value in data_cluster if value[\"Reaction Type\"] in [\"Complicated\"]\n",
    "]\n",
    "element_count_all = count_column_values(element_all, \"Rings\")\n",
    "complex_count_all = count_column_values(complex_all, \"Rings\")"
   ]
  },
  {
   "cell_type": "code",
   "execution_count": null,
   "metadata": {},
   "outputs": [],
   "source": [
    "import matplotlib.pyplot as plt\n",
    "\n",
    "fig, axs = plt.subplots(2, 2, figsize=(16, 12))\n",
    "\n",
    "\n",
    "plot_rules_distribution(\n",
    "    element_count,\n",
    "    ax=axs[0, 1],\n",
    "    title=\"B. Elementary reactions in templates\",\n",
    "    color_pallet=\"pastel\",\n",
    ")\n",
    "plot_rules_distribution(\n",
    "    element_count_all,\n",
    "    ax=axs[0, 0],\n",
    "    title=\"A. Elementary reactions in database\",\n",
    "    color_pallet=\"pastel\",\n",
    ")\n",
    "plot_rules_distribution(\n",
    "    complex_count,\n",
    "    ax=axs[1, 1],\n",
    "    title=\"D. Complicated reactions in templates\",\n",
    "    refinement=True,\n",
    "    color_pallet=\"coolwarm\",\n",
    ")\n",
    "plot_rules_distribution(\n",
    "    complex_count_all,\n",
    "    ax=axs[1, 0],\n",
    "    title=\"C. Complicated reactions in database\",\n",
    "    refinement=True,\n",
    "    color_pallet=\"coolwarm\",\n",
    "    threshold=0.3,\n",
    ")\n",
    "\n",
    "\n",
    "plt.tight_layout()\n",
    "plt.savefig(\n",
    "    \"../../Docs/Analysis/fig/rings_type.pdf\", dpi=600, bbox_inches=\"tight\", pad_inches=0\n",
    ")\n",
    "plt.show()"
   ]
  },
  {
   "cell_type": "markdown",
   "metadata": {},
   "source": [
    "## Time Benchmark for Rule Clustering"
   ]
  },
  {
   "cell_type": "code",
   "execution_count": null,
   "metadata": {},
   "outputs": [],
   "source": [
    "data = [\n",
    "    {\n",
    "        \"Type\": \"Hierarchical\",\n",
    "        \"R0\": f\"{58.9 / 60:.2f}\",\n",
    "        \"R1\": f\"{47.21 / 60:.2f}\",\n",
    "        \"R2\": f\"{90.92 / 60:.2f}\",\n",
    "        \"R3\": f\"{101.66 / 60:.2f}\",\n",
    "    },\n",
    "    {\n",
    "        \"Type\": \"Empirical\",\n",
    "        \"R0\": f\"{57.82 / 60:.2f}\",\n",
    "        \"R1\": f\"{275.02 / 60:.2f}\",\n",
    "        \"R2\": f\"{1807.58 / 60:.2f}\",\n",
    "        \"R3\": f\"{5675.54 / 60:.2f}\",\n",
    "    },\n",
    "]"
   ]
  },
  {
   "cell_type": "code",
   "execution_count": null,
   "metadata": {},
   "outputs": [],
   "source": [
    "import matplotlib.pyplot as plt\n",
    "\n",
    "plt.rc(\"text\", usetex=True)  # Enable LaTeX rendering\n",
    "plt.rc(\"font\", family=\"serif\")  # Optional: use serif font\n",
    "from _analysis._plot_analysis import plot_bar_compare, plot_cumulative_line\n",
    "\n",
    "fig, axes = plt.subplots(1, 2, figsize=(14, 6))\n",
    "radius = [0, 1, 2, 3]\n",
    "hier = [58.9, 47.21, 90.92, 101.66]\n",
    "hier = [round(value / 60, 2) for value in hier]\n",
    "emp = [57.82, 275.02, 1807.58, 5675.54]\n",
    "emp = [round(value / 60, 2) for value in emp]\n",
    "# Plot on the first subplot for demonstration\n",
    "plot_bar_compare(data, axes[0])\n",
    "plot_cumulative_line(axes[1], radius, hier, emp)\n",
    "\n",
    "# Adjust layout and show the plot\n",
    "plt.tight_layout()\n",
    "plt.savefig(\n",
    "    \"../../Docs/Analysis/fig/time_cluster.pdf\",\n",
    "    dpi=600,\n",
    "    bbox_inches=\"tight\",\n",
    "    pad_inches=0,\n",
    ")\n",
    "plt.show()"
   ]
  },
  {
   "cell_type": "markdown",
   "metadata": {},
   "source": [
    "## Rule Composition"
   ]
  },
  {
   "cell_type": "code",
   "execution_count": null,
   "metadata": {},
   "outputs": [],
   "source": [
    "import sys\n",
    "\n",
    "sys.path.append(\"../../\")\n",
    "from syntemp.SynITS.its_extraction import ITSExtraction\n",
    "from syntemp.pipeline import extract_its, rule_extract, write_gml"
   ]
  },
  {
   "cell_type": "code",
   "execution_count": null,
   "metadata": {},
   "outputs": [],
   "source": [
    "data = [\n",
    "    {\"R-id\": \"Alkyne-reduction\", \"rsmi\": \"[CH:1]#[CH:2].[H:3][H:4]>>[CH2:1]=[CH2:2]\"},\n",
    "    {\"R-id\": \"Alkene-reduction\", \"rsmi\": \"[CH2:1]=[CH2:2].[H:3][H:4]>>[CH3:1]-[CH3:2]\"},\n",
    "]"
   ]
  },
  {
   "cell_type": "code",
   "execution_count": null,
   "metadata": {},
   "outputs": [],
   "source": [
    "its_correct, its_incorrect, all_uncertain_hydrogen = extract_its(\n",
    "    data, mapper_types=[\"rsmi\"], n_jobs=1\n",
    ")\n",
    "\n",
    "reaction_dicts, templates, hier_templates = rule_extract(\n",
    "    its_correct,\n",
    ")\n",
    "\n",
    "\n",
    "gml_rules = write_gml(templates, None, \"Cluster_id\", \"RC\", True)"
   ]
  },
  {
   "cell_type": "code",
   "execution_count": null,
   "metadata": {},
   "outputs": [],
   "source": [
    "from syntemp.SynComp.rule_compose import RuleCompose\n",
    "from mod import *\n",
    "\n",
    "rule_0 = ruleGMLString(gml_rules[0][0])\n",
    "rule_1 = ruleGMLString(gml_rules[0][1])\n",
    "\n",
    "combo = RuleCompose._compose(rule_0, rule_1)"
   ]
  },
  {
   "cell_type": "code",
   "execution_count": null,
   "metadata": {},
   "outputs": [],
   "source": [
    "print(combo[0].getGMLString())"
   ]
  },
  {
   "cell_type": "code",
   "execution_count": null,
   "metadata": {},
   "outputs": [],
   "source": [
    "from syntemp.SynUtils.utils import load_database, load_from_pickle\n",
    "\n",
    "complete = load_from_pickle(\"../../Data/Temp/Benchmark/Complete/templates.pkl.gz\")\n",
    "data_cluster = load_from_pickle(\n",
    "    \"../../Data/Temp/Benchmark/Complete/data_cluster.pkl.gz\"\n",
    ")"
   ]
  },
  {
   "cell_type": "code",
   "execution_count": null,
   "metadata": {},
   "outputs": [],
   "source": [
    "temp_0 = complete[0]"
   ]
  },
  {
   "cell_type": "code",
   "execution_count": null,
   "metadata": {},
   "outputs": [],
   "source": [
    "single = [value for value in temp_0 if value[\"Reaction Step\"] == 1]\n",
    "double = [value for value in temp_0 if value[\"Reaction Step\"] == 2]\n",
    "triple = [value for value in temp_0 if value[\"Reaction Step\"] == 3]"
   ]
  },
  {
   "cell_type": "code",
   "execution_count": null,
   "metadata": {},
   "outputs": [],
   "source": [
    "single_path = \"../../Data/Temp/RuleComp/Single\"\n",
    "double_path = \"../../Data/Temp/RuleComp/Double\""
   ]
  },
  {
   "cell_type": "code",
   "execution_count": null,
   "metadata": {},
   "outputs": [],
   "source": [
    "from syntemp.pipeline import write_gml"
   ]
  },
  {
   "cell_type": "code",
   "execution_count": null,
   "metadata": {},
   "outputs": [],
   "source": [
    "write_gml([double], double_path)"
   ]
  },
  {
   "cell_type": "code",
   "execution_count": null,
   "metadata": {},
   "outputs": [],
   "source": [
    "import glob\n",
    "\n",
    "compose = []\n",
    "for i in glob.glob(\"../../Data/Temp/RuleComp/Compose/*gml\"):\n",
    "    compose.append(i)"
   ]
  },
  {
   "cell_type": "code",
   "execution_count": null,
   "metadata": {},
   "outputs": [],
   "source": [
    "len(compose)"
   ]
  },
  {
   "cell_type": "code",
   "execution_count": null,
   "metadata": {},
   "outputs": [],
   "source": []
  }
 ],
 "metadata": {
  "kernelspec": {
   "display_name": "SynITSG",
   "language": "python",
   "name": "python3"
  },
  "language_info": {
   "codemirror_mode": {
    "name": "ipython",
    "version": 3
   },
   "file_extension": ".py",
   "mimetype": "text/x-python",
   "name": "python",
   "nbconvert_exporter": "python",
   "pygments_lexer": "ipython3",
   "version": "3.11.5"
  }
 },
 "nbformat": 4,
 "nbformat_minor": 2
}
