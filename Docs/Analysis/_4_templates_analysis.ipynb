{
 "cells": [
  {
   "cell_type": "code",
   "execution_count": null,
   "metadata": {},
   "outputs": [],
   "source": [
    "import sys\n",
    "\n",
    "sys.path.append(\"../../\")\n",
    "from syntemp.SynUtils.utils import load_from_pickle"
   ]
  },
  {
   "cell_type": "markdown",
   "metadata": {},
   "source": [
    "## 1. Split data"
   ]
  },
  {
   "cell_type": "code",
   "execution_count": null,
   "metadata": {},
   "outputs": [],
   "source": [
    "# import pandas as pd\n",
    "# from syntemp.SynUtils.utils import train_val_test_split_df, save_database\n",
    "\n",
    "# original_data = load_database(\"../../Data/Temp/data_aam.json.gz\")\n",
    "# original_data = pd.DataFrame(original_data)\n",
    "\n",
    "# train, test, valid = train_val_test_split_df(original_data, target=\"class\")\n",
    "# train, test, valid = (\n",
    "#     train.to_dict(\"records\"),\n",
    "#     test.to_dict(\"records\"),\n",
    "#     valid.to_dict(\"records\"),\n",
    "# )\n",
    "\n",
    "# save_database(train, \"../../Data/Temp/Benchmark/train.json.gz\")\n",
    "# save_database(test, \"../../Data/Temp/Benchmark/test.json.gz\")\n",
    "# save_database(valid, \"../../Data/Temp/Benchmark/valid.json.gz\")"
   ]
  },
  {
   "cell_type": "markdown",
   "metadata": {},
   "source": [
    "# Count number of templates"
   ]
  },
  {
   "cell_type": "code",
   "execution_count": null,
   "metadata": {},
   "outputs": [],
   "source": [
    "raw = load_from_pickle(\"../../Data/Temp/Benchmark/Raw/templates.pkl.gz\")\n",
    "complete = load_from_pickle(\"../../Data/Temp/Benchmark/Complete/templates.pkl.gz\")\n",
    "\n",
    "\n",
    "def calculate(data):\n",
    "    number = []\n",
    "    for i in range(len(data)):\n",
    "        number.append(len(data[i]))\n",
    "    return number\n",
    "\n",
    "\n",
    "raw_result = calculate(raw)\n",
    "complete_result = calculate(complete)\n",
    "\n",
    "print(raw_result)\n",
    "print(complete_result)"
   ]
  },
  {
   "cell_type": "markdown",
   "metadata": {},
   "source": [
    "# Analyze descriptors"
   ]
  },
  {
   "cell_type": "code",
   "execution_count": null,
   "metadata": {},
   "outputs": [],
   "source": [
    "complete = load_from_pickle(\"../../Data/Temp/Benchmark/Complete/templates.pkl.gz\")\n",
    "data_cluster = load_from_pickle(\n",
    "    \"../../Data/Temp/Benchmark/Complete/data_cluster.pkl.gz\"\n",
    ")\n",
    "temp_0 = complete[0]"
   ]
  },
  {

   "cell_type": "markdown",
   "metadata": {},
   "source": [
    "## Template percentage and DPO rule"
   ]
  },
  {
   "cell_type": "code",
   "execution_count": null,
   "metadata": {},
   "outputs": [],
   "source": []
  },
  {
   "cell_type": "code",
   "execution_count": null,
   "metadata": {},
   "outputs": [],
   "source": [
    "import matplotlib.pyplot as plt\n",
    "\n",
    "plt.rc(\"text\", usetex=True)\n",
    "plt.rc(\"text.latex\", preamble=r\"\\usepackage{amsmath}\")\n",
    "\n",
    "\n",
    "from _analysis._plot_analysis import plot_top_rules_with_seaborn\n",
    "\n",
    "fig, ax = plt.subplots(figsize=(16, 10))  # Correctly create a figure and an axes object\n",
    "\n",
    "plot_top_rules_with_seaborn(temp_0, top_n=20, ax=ax)  # Use the ax object correctly\n",
    "plt.tight_layout(pad=0.5)\n",
    "\n",
    "plt.savefig(\n",
    "    \"../../Docs/Analysis/fig/FigS2A_rule_distribution.pdf\",\n",
    "    dpi=600,\n",
    "    bbox_inches=\"tight\",\n",
    "    pad_inches=0,\n",
    ")\n",
    "plt.show()"
   ]
  },
  {
   "cell_type": "markdown",
   "metadata": {},
   "source": [
    "## Descriptors Analysis"
   ]
  },
  {
   "cell_type": "code",
   "execution_count": null,
   "metadata": {},
   "outputs": [],
   "source": [
    "from _analysis._plot_analysis import calculate_value_percentage"
   ]
  },
  {
   "cell_type": "code",
   "execution_count": null,
   "metadata": {},
   "outputs": [],
   "source": [
    "print(calculate_value_percentage(temp_0, \"Reaction Type\"))\n",
    "print(calculate_value_percentage(data_cluster, \"Reaction Type\"))"
   ]
  },
  {
   "cell_type": "code",
   "execution_count": null,
   "metadata": {},
   "outputs": [],
   "source": [
    "print(calculate_value_percentage(temp_0, \"Topo Type\"))\n",
    "print(calculate_value_percentage(data_cluster, \"Topo Type\"))"
   ]
  },
  {
   "cell_type": "code",
   "execution_count": null,
   "metadata": {},
   "outputs": [],
   "source": [
    "print(calculate_value_percentage(temp_0, \"Reaction Step\"))\n",
    "print(calculate_value_percentage(data_cluster, \"Reaction Step\"))"
   ]
  },
  {
   "cell_type": "code",
   "execution_count": null,
   "metadata": {},
   "outputs": [],
   "source": [
    "acyl = [value for value in temp_0 if value[\"Topo Type\"] == \"Acyclic\"]\n",
    "single = [value for value in temp_0 if value[\"Topo Type\"] == \"Single Cyclic\"]\n",
    "combo = [value for value in temp_0 if value[\"Topo Type\"] == \"Combinatorial Cyclic\"]\n",
    "comp = [value for value in temp_0 if value[\"Topo Type\"] == \"Complex Cyclic\"]\n",
    "print(\"Acyclic\", calculate_value_percentage(acyl, \"Rings\"))\n",
    "print(\"Single Cyclic\", calculate_value_percentage(single, \"Rings\"))\n",
    "print(\"Combinatorial Cyclic\", calculate_value_percentage(combo, \"Rings\"))\n",
    "print(\"Complex Cyclic\", calculate_value_percentage(comp, \"Rings\"))"
   ]
  },
  {
   "cell_type": "code",
   "execution_count": null,
   "metadata": {},
   "outputs": [],
   "source": [
    "acyl = [value for value in data_cluster if value[\"Topo Type\"] == \"Acyclic\"]\n",
    "single = [value for value in data_cluster if value[\"Topo Type\"] == \"Single Cyclic\"]\n",
    "combo = [\n",
    "    value for value in data_cluster if value[\"Topo Type\"] == \"Combinatorial Cyclic\"\n",
    "]\n",
    "comp = [value for value in data_cluster if value[\"Topo Type\"] == \"Complex Cyclic\"]\n",
    "print(\"Acyclic\", calculate_value_percentage(acyl, \"Rings\"))\n",
    "print(\"Single Cyclic\", calculate_value_percentage(single, \"Rings\"))\n",
    "print(\"Combinatorial Cyclic\", calculate_value_percentage(combo, \"Rings\"))\n",
    "print(\"Complex Cyclic\", calculate_value_percentage(comp, \"Rings\"))"
   ]
  },
  {
   "cell_type": "markdown",
   "metadata": {},
   "source": [
    "## Descriptors Visualization"
   ]
  },
  {
   "cell_type": "markdown",
   "metadata": {},
   "source": [
    "### Pie chart"
   ]
  },
  {
   "cell_type": "code",
   "execution_count": null,
   "metadata": {},
   "outputs": [],
   "source": [
    "for key, value in enumerate(temp_0):\n",
    "    if value[\"Topo Type\"] == \"Acyclic\":\n",
    "        temp_0[key][\"Topo Type\"] = \"Acyclic Graph\"\n",
    "    elif value[\"Topo Type\"] == \"Complex\":\n",
    "        temp_0[key][\"Topo Type\"] = \"Hybrid Graph\""
   ]
  },
  {
   "cell_type": "code",
   "execution_count": null,
   "metadata": {},
   "outputs": [],
   "source": [
    "for key, value in enumerate(data_cluster):\n",
    "    if value[\"Topo Type\"] == \"Acyclic\":\n",
    "        data_cluster[key][\"Topo Type\"] = \"Acyclic Graph\"\n",
    "    elif value[\"Topo Type\"] == \"Complex\":\n",
    "        data_cluster[key][\"Topo Type\"] = \"Hybrid Graph\""
   ]
  },
  {
   "cell_type": "code",
   "execution_count": null,
   "metadata": {},
   "outputs": [],
   "source": [
    "# from _analysis._plot_analysis import create_pie_chart\n",
    "import matplotlib.pyplot as plt\n",
    "import pandas as pd\n",
    "import seaborn as sns\n",
    "\n",
    "\n",
    "def create_pie_chart(data, column, ax=None, title=None, color_pallet=\"pastel\"):\n",
    "    \"\"\"\n",
    "    Generates a pie chart for the specified column from a list of dictionaries.\n",
    "    Displays percentage labels inside the slices only and category names in an external\n",
    "    legend without percentages. Allows customization of the plot title, supporting LaTeX\n",
    "    formatted strings.\n",
    "\n",
    "    Parameters:\n",
    "    - data (list of dict): Data to plot.\n",
    "    - column (str): Column name to plot percentages for.\n",
    "    - ax (matplotlib.axes.Axes, optional): Matplotlib axis object to plot on.\n",
    "    - title (str, optional): Title for the pie chart, supports LaTeX formatted strings.\n",
    "\n",
    "    Returns:\n",
    "    - matplotlib.axes.Axes: The axis with the pie chart.\n",
    "    \"\"\"\n",
    "    # Enable LaTeX formatting for better quality text rendering\n",
    "    plt.rc(\"text\", usetex=True)\n",
    "    plt.rc(\"font\", family=\"serif\")\n",
    "\n",
    "    # Convert list of dictionaries to DataFrame\n",
    "    df = pd.DataFrame(data)\n",
    "\n",
    "    # Calculate percentage\n",
    "    percentage = df[column].value_counts(normalize=True) * 100\n",
    "\n",
    "    # Define a color palette using Seaborn\n",
    "    colors = sns.color_palette(color_pallet, len(percentage))\n",
    "\n",
    "    # Create pie plot\n",
    "    if ax is None:\n",
    "        fig, ax = plt.subplots()\n",
    "\n",
    "    wedges, texts, autotexts = ax.pie(\n",
    "        percentage,\n",
    "        startangle=90,\n",
    "        colors=colors,\n",
    "        autopct=\"%1.1f%%\",\n",
    "        pctdistance=0.85,\n",
    "        explode=[0.05] * len(percentage),\n",
    "    )\n",
    "\n",
    "    # Draw a circle at the center of pie to make it look like a donut\n",
    "    centre_circle = plt.Circle((0, 0), 0.70, fc=\"white\")\n",
    "    ax.add_artist(centre_circle)\n",
    "\n",
    "    # Equal aspect ratio ensures that pie is drawn as a circle.\n",
    "    ax.axis(\"equal\")\n",
    "\n",
    "    # Add legend with category names only\n",
    "    ax.legend(\n",
    "        wedges,\n",
    "        [rf\"{label}\" for label in percentage.index],\n",
    "        title=column,\n",
    "        loc=\"lower right\",\n",
    "        bbox_to_anchor=(0.6, 0.1, 0.68, 1),\n",
    "        prop={\"size\": 20},\n",
    "        title_fontsize=24,\n",
    "    )  # Set label font size\n",
    "\n",
    "    # Set title using LaTeX if provided, else default to a generic title\n",
    "    if title:\n",
    "        ax.set_title(title, fontsize=32)\n",
    "    else:\n",
    "        ax.set_title(f\"Pie Chart of {column}\", fontsize=32)\n",
    "\n",
    "    # Enhance the font size and color of the autotexts\n",
    "    for autotext in autotexts:\n",
    "        autotext.set_color(\"black\")\n",
    "        autotext.set_fontsize(20)\n",
    "\n",
    "    return ax\n",
    "\n",
    "\n",
    "fig, axs = plt.subplots(2, 2, figsize=(18, 10))\n",
    "create_pie_chart(\n",
    "    temp_0,\n",
    "    \"Reaction Type\",\n",
    "    ax=axs[0, 1],\n",
    "    title=r\"B. Template library\",\n",
    "    color_pallet=\"pastel\",\n",
    ")\n",
    "\n",
    "create_pie_chart(\n",
    "    data_cluster,\n",
    "    \"Reaction Type\",\n",
    "    ax=axs[0, 0],\n",
    "    title=r\"A. Database\",\n",
    "    color_pallet=\"pastel\",\n",
    ")\n",
    "\n",
    "create_pie_chart(\n",
    "    temp_0,\n",
    "    \"Topo Type\",\n",
    "    ax=axs[1, 1],\n",
    "    title=r\"D. Template library\",\n",
    "    color_pallet=\"coolwarm\",\n",
    ")\n",
    "\n",
    "create_pie_chart(\n",
    "    data_cluster,\n",
    "    \"Topo Type\",\n",
    "    ax=axs[1, 0],\n",
    "    title=r\"C. Database\",\n",
    "    color_pallet=\"coolwarm\",\n",
    ")\n",
    "\n",
    "\n",
    "plt.tight_layout()\n",
    "plt.savefig(\n",
    "    \"../../Docs/Analysis/fig/Fig8_Analysis_rtype_topo.pdf\",\n",
    "    dpi=600,\n",
    "    bbox_inches=\"tight\",\n",
    "    pad_inches=0,\n",
    ")\n",
    "plt.show()"
   ]
  },
  {
   "cell_type": "markdown",
   "metadata": {},
   "source": [
    "### Distribution"
   ]
  },
  {
   "cell_type": "code",
   "execution_count": null,
   "metadata": {},
   "outputs": [],
   "source": [
    "from _analysis._plot_analysis import count_column_values"
   ]
  },
  {
   "cell_type": "code",
   "execution_count": null,
   "metadata": {},
   "outputs": [],
   "source": [
    "element = [value for value in temp_0 if value[\"Reaction Type\"] in [\"Elementary\"]]\n",
    "complex = [value for value in temp_0 if value[\"Reaction Type\"] in [\"Complicated\"]]\n",
    "element_count = count_column_values(element, \"Rings\")\n",
    "complex_count = count_column_values(complex, \"Rings\")"
   ]
  },
  {
   "cell_type": "code",
   "execution_count": null,
   "metadata": {},
   "outputs": [],
   "source": [
    "element_all = [\n",
    "    value for value in data_cluster if value[\"Reaction Type\"] in [\"Elementary\"]\n",
    "]\n",
    "complex_all = [\n",
    "    value for value in data_cluster if value[\"Reaction Type\"] in [\"Complicated\"]\n",
    "]\n",
    "element_count_all = count_column_values(element_all, \"Rings\")\n",
    "complex_count_all = count_column_values(complex_all, \"Rings\")"
   ]
  },
  {
   "cell_type": "code",
   "execution_count": null,
   "metadata": {},
   "outputs": [],
   "source": [
    "from typing import *\n",
    "from matplotlib.axes import Axes\n",
    "\n",
    "\n",
    "def plot_rules_distribution(\n",
    "    rules: Dict[str, int],\n",
    "    rule_type: str = \"single\",\n",
    "    ax: Optional[Axes] = None,\n",
    "    title: Optional[str] = None,\n",
    "    refinement: bool = False,\n",
    "    threshold: float = 1,\n",
    "    remove: bool = True,\n",
    "    color_pallet: str = \"pastel\",\n",
    ") -> None:\n",
    "    \"\"\"\n",
    "    Plots the distribution of rules in a bar chart, optionally combining all entries under\n",
    "    the threshold into a single category 'Under 1%' if `refinement` is True.\n",
    "\n",
    "    Parameters:\n",
    "    - rules (Dict[str, int]): Dictionary with rule counts keyed by rule name,\n",
    "    where the values are counts.\n",
    "    - rule_type (str, optional): Specifies the type of rules to plot\n",
    "    ('single' or 'complex'). Default is 'single'.\n",
    "    - ax (matplotlib.axes.Axes, optional): Matplotlib axis object to plot on.\n",
    "    If None, a new figure is created.\n",
    "    - title (str, optional): Optional title for the chart. If None,\n",
    "    a default title based on `rule_type` is used.\n",
    "    - refinement (bool, optional): If True, combines all percentages under\n",
    "    the threshold into one category 'Under 1%'. Default is False.\n",
    "    - threshold (float, optional): The percentage threshold under which all\n",
    "    categories are combined into 'Under 1%' if `refinement` is True. Default is 1.\n",
    "    - remove (bool, optional): If True, removes the last category from the plot.\n",
    "    Default is True.\n",
    "    - color_pallet (str, optional): Color palette to use for the plot.\n",
    "    Default is 'pastel'.\n",
    "\n",
    "    Returns:\n",
    "    - None: The function directly modifies the `ax` object or creates a new plot.\n",
    "    \"\"\"\n",
    "    # Calculate total counts for the rules\n",
    "    total_rules = sum(rules.values())\n",
    "\n",
    "    # Convert counts to percentages and optionally combine small values\n",
    "    if refinement:\n",
    "        refined_rules = {}\n",
    "        small_value_aggregate = 0\n",
    "        for key, value in rules.items():\n",
    "            percentage = value / total_rules * 100\n",
    "            if percentage < threshold:\n",
    "                small_value_aggregate += percentage\n",
    "            else:\n",
    "                refined_rules[key] = percentage\n",
    "        if small_value_aggregate > 0:\n",
    "            refined_rules[\"Under 1%\"] = small_value_aggregate\n",
    "        percentages = list(refined_rules.values())\n",
    "        types_of_rules = list(refined_rules.keys())\n",
    "        if remove:\n",
    "            percentages = percentages[:-1]\n",
    "            types_of_rules = types_of_rules[:-1]\n",
    "    else:\n",
    "        percentages = [value / total_rules * 100 for value in rules.values()]\n",
    "        types_of_rules = list(rules.keys())\n",
    "\n",
    "    # Set style\n",
    "    sns.set(style=\"whitegrid\")\n",
    "\n",
    "    # Enable LaTeX rendering in matplotlib\n",
    "    plt.rc(\"text\", usetex=True)\n",
    "    plt.rc(\"text.latex\", preamble=r\"\\usepackage{amsmath}\")  # Ensure amsmath is loaded\n",
    "\n",
    "    # Create figure and axis if not provided\n",
    "    if ax is None:\n",
    "        fig, ax = plt.subplots(figsize=(10, 6), dpi=120)\n",
    "\n",
    "    # Plot the data\n",
    "    sns.barplot(ax=ax, x=types_of_rules, y=percentages, palette=color_pallet)\n",
    "    if title:\n",
    "        ax.set_title(rf\"{title}\", fontsize=24)\n",
    "    else:\n",
    "        ax.set_title(f\"Distribution of {rule_type.capitalize()} Rules\", fontsize=16)\n",
    "    ax.set_xlabel(\"Cycle length\", fontsize=18)\n",
    "    ax.set_ylabel(r\"Percentage (\\%)\", fontsize=18)\n",
    "    ax.set_xticklabels(ax.get_xticklabels(), rotation=45, ha=\"right\")\n",
    "\n",
    "    # Set font size for x-tick and y-tick labels\n",
    "    ax.tick_params(axis=\"x\", labelsize=16)\n",
    "    ax.tick_params(axis=\"y\", labelsize=16)\n",
    "\n",
    "    # Add text labels above the bars\n",
    "    for index, value in enumerate(percentages):\n",
    "        ax.text(\n",
    "            index, value + 0.5, f\"{value:.1f}%\", ha=\"center\", va=\"bottom\", fontsize=18\n",
    "        )\n",
    "\n",
    "    # Only show plot if ax is not provided (i.e., we created the figure here)\n",
    "    if ax is None:\n",
    "        plt.show()"
   ]
  },
  {
   "cell_type": "code",
   "execution_count": null,
   "metadata": {},
   "outputs": [],
   "source": [
    "import matplotlib.pyplot as plt\n",
    "import seaborn as sns\n",
    "\n",
    "sns.set_theme(style=\"whitegrid\")\n",
    "\n",
    "\n",
    "# Enable LaTeX rendering in matplotlib\n",
    "plt.rc(\"text\", usetex=True)\n",
    "plt.rc(\"text.latex\", preamble=r\"\\usepackage{amsmath}\")  # Ensure amsmath is loaded\n",
    "fig, axs = plt.subplots(2, 2, figsize=(16, 12))\n",
    "\n",
    "\n",
    "plot_rules_distribution(\n",
    "    element_count,\n",
    "    ax=axs[0, 1],\n",
    "    title=r\"B. Elementary reactions in template library\",\n",
    "    color_pallet=\"pastel\",\n",
    ")\n",
    "plot_rules_distribution(\n",
    "    element_count_all,\n",
    "    ax=axs[0, 0],\n",
    "    title=r\"A. Elementary reactions in Database\",\n",
    "    color_pallet=\"pastel\",\n",
    ")\n",
    "plot_rules_distribution(\n",
    "    complex_count,\n",
    "    ax=axs[1, 1],\n",
    "    title=r\"D. Complicated reactions in template library\",\n",
    "    refinement=True,\n",
    "    color_pallet=\"coolwarm\",\n",
    ")\n",
    "plot_rules_distribution(\n",
    "    complex_count_all,\n",
    "    ax=axs[1, 0],\n",
    "    title=r\"C. Complicated reactions in database\",\n",
    "    refinement=True,\n",
    "    color_pallet=\"coolwarm\",\n",
    "    threshold=0.3,\n",
    ")\n",
    "\n",
    "\n",
    "plt.tight_layout()\n",
    "plt.savefig(\n",
    "    \"../../Docs/Analysis/fig/Fig9_rings_type.pdf\",\n",
    "    dpi=600,\n",
    "    bbox_inches=\"tight\",\n",
    "    pad_inches=0,\n",
    ")\n",
    "plt.show()"
   ]
  },
  {
   "cell_type": "markdown",
   "metadata": {},
   "source": [
    "## Time Benchmark for Rule Clustering"
   ]
  },
  {
   "cell_type": "code",
   "execution_count": null,
   "metadata": {},
   "outputs": [],
   "source": [
    "data = [\n",
    "    {\n",
    "        \"Type\": \"Hierarchical\",\n",
    "        \"R0\": f\"{58.9 / 60:.2f}\",\n",
    "        \"R1\": f\"{47.21 / 60:.2f}\",\n",
    "        \"R2\": f\"{90.92 / 60:.2f}\",\n",
    "        \"R3\": f\"{101.66 / 60:.2f}\",\n",
    "    },\n",
    "    {\n",
    "        \"Type\": \"Empirical\",\n",
    "        \"R0\": f\"{57.82 / 60:.2f}\",\n",
    "        \"R1\": f\"{275.02 / 60:.2f}\",\n",
    "        \"R2\": f\"{1807.58 / 60:.2f}\",\n",
    "        \"R3\": f\"{5675.54 / 60:.2f}\",\n",
    "    },\n",
    "]"
   ]
  },
  {
   "cell_type": "code",
   "execution_count": null,
   "metadata": {},
   "outputs": [],
   "source": [
    "import matplotlib.pyplot as plt\n",
    "\n",
    "plt.rc(\"text\", usetex=True)  # Enable LaTeX rendering\n",
    "plt.rc(\"font\", family=\"serif\")  # Optional: use serif font\n",
    "from _analysis._plot_analysis import plot_bar_compare, plot_cumulative_line\n",
    "\n",
    "fig, axes = plt.subplots(1, 2, figsize=(14, 6))\n",
    "radius = [0, 1, 2, 3]\n",
    "hier = [58.9, 47.21, 90.92, 101.66]\n",
    "hier = [round(value / 60, 2) for value in hier]\n",
    "emp = [57.82, 275.02, 1807.58, 5675.54]\n",
    "emp = [round(value / 60, 2) for value in emp]\n",
    "# Plot on the first subplot for demonstration\n",
    "plot_bar_compare(data, axes[0])\n",
    "plot_cumulative_line(axes[1], radius, hier, emp)\n",
    "\n",
    "# Adjust layout and show the plot\n",
    "plt.tight_layout()\n",
    "plt.savefig(\n",
    "    \"../../Docs/Analysis/fig/FigA3_time_cluster.pdf\",\n",
    "    dpi=600,\n",
    "    bbox_inches=\"tight\",\n",
    "    pad_inches=0,\n",
    ")\n",
    "plt.show()"
   ]
  },
  {
   "cell_type": "markdown",
   "metadata": {},
   "source": [
    "## Rule Composition"
   ]
  },
  {
   "cell_type": "code",
   "execution_count": null,
   "metadata": {},
   "outputs": [],
   "source": [
    "import sys\n",
    "\n",
    "sys.path.append(\"../../\")\n",
    "from syntemp.pipeline import extract_its, rule_extract, write_gml"
   ]
  },
  {
   "cell_type": "code",
   "execution_count": null,
   "metadata": {},
   "outputs": [],
   "source": [
    "data = [\n",
    "    {\"R-id\": \"Alkyne-reduction\", \"rsmi\": \"[CH:1]#[CH:2].[H:3][H:4]>>[CH2:1]=[CH2:2]\"},\n",
    "    {\"R-id\": \"Alkene-reduction\", \"rsmi\": \"[CH2:1]=[CH2:2].[H:3][H:4]>>[CH3:1]-[CH3:2]\"},\n",
    "]"
   ]
  },
  {
   "cell_type": "code",
   "execution_count": null,
   "metadata": {},
   "outputs": [],
   "source": [
    "its_correct, its_incorrect, all_uncertain_hydrogen = extract_its(\n",
    "    data, mapper_types=[\"rsmi\"], n_jobs=1\n",
    ")\n",
    "\n",
    "reaction_dicts, templates, hier_templates = rule_extract(\n",
    "    its_correct,\n",
    ")\n",
    "\n",
    "\n",
    "gml_rules = write_gml(templates, None, \"Cluster_id\", \"RC\", True)"
   ]
  },
  {
   "cell_type": "code",
   "execution_count": null,
   "metadata": {},
   "outputs": [],
   "source": [
    "from syntemp.SynComp.rule_compose import RuleCompose\n",
    "from mod import *\n",
    "\n",
    "rule_0 = ruleGMLString(gml_rules[0][0])\n",
    "rule_1 = ruleGMLString(gml_rules[0][1])\n",
    "\n",
    "combo = RuleCompose._compose(rule_0, rule_1)"
   ]
  },
  {
   "cell_type": "code",
   "execution_count": null,
   "metadata": {},
   "outputs": [],
   "source": [
    "print(combo[0].getGMLString())"
   ]
  },
  {
   "cell_type": "code",
   "execution_count": null,
   "metadata": {},
   "outputs": [],
   "source": [
    "from syntemp.SynUtils.utils import load_from_pickle\n",
    "\n",
    "complete = load_from_pickle(\"../../Data/Temp/Benchmark/Complete/templates.pkl.gz\")\n",
    "data_cluster = load_from_pickle(\n",
    "    \"../../Data/Temp/Benchmark/Complete/data_cluster.pkl.gz\"\n",
    ")"
   ]
  },
  {
   "cell_type": "code",
   "execution_count": null,
   "metadata": {},
   "outputs": [],
   "source": [
    "temp_0 = complete[0]"
   ]
  },
  {
   "cell_type": "code",
   "execution_count": null,
   "metadata": {},
   "outputs": [],
   "source": [
    "single = [value for value in temp_0 if value[\"Reaction Step\"] == 1]\n",
    "double = [value for value in temp_0 if value[\"Reaction Step\"] == 2]\n",
    "triple = [value for value in temp_0 if value[\"Reaction Step\"] == 3]"
   ]
  },
  {
   "cell_type": "code",
   "execution_count": null,
   "metadata": {},
   "outputs": [],
   "source": [
    "len(single)"
   ]
  },
  {
   "cell_type": "code",
   "execution_count": null,
   "metadata": {},
   "outputs": [],
   "source": [
    "single_path = \"../../Data/Temp/RuleComp/Single\"\n",
    "double_path = \"../../Data/Temp/RuleComp/Double\""
   ]
  },
  {
   "cell_type": "code",
   "execution_count": null,
   "metadata": {},
   "outputs": [],
   "source": [
    "from syntemp.pipeline import write_gml"
   ]
  },
  {
   "cell_type": "code",
   "execution_count": null,
   "metadata": {},
   "outputs": [],
   "source": [
    "write_gml([double], double_path)"
   ]
  },
  {
   "cell_type": "code",
   "execution_count": null,
   "metadata": {},
   "outputs": [],
   "source": [
    "write_gml([single], single_path)"
   ]
  },
  {
   "cell_type": "code",
   "execution_count": null,
   "metadata": {},
   "outputs": [],
   "source": [
    "import glob\n",
    "\n",
    "compose = []\n",
    "for i in glob.glob(\"../../Data/Temp/RuleComp/Compose/*gml\"):\n",
    "    compose.append(i)"
   ]
  },
  {
   "cell_type": "code",
   "execution_count": null,
   "metadata": {},
   "outputs": [],
   "source": [
    "len(compose)"
   ]
  }
 ],
 "metadata": {
  "kernelspec": {
   "display_name": "SynITSG",
   "language": "python",
   "name": "python3"
  },
  "language_info": {
   "codemirror_mode": {
    "name": "ipython",
    "version": 3
   },
   "file_extension": ".py",
   "mimetype": "text/x-python",
   "name": "python",
   "nbconvert_exporter": "python",
   "pygments_lexer": "ipython3",
   "version": "3.11.5"
  }
 },
 "nbformat": 4,
 "nbformat_minor": 2
}
