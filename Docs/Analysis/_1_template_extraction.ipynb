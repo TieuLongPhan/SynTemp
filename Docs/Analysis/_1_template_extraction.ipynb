{
 "cells": [
  {
   "cell_type": "code",
   "execution_count": null,
   "metadata": {},
   "outputs": [],
   "source": [
    "import sys\n",
    "sys.path.append('../../')\n",
    "\n",
    "from SynTemp.SynITS.its_extraction import ITSExtraction\n",
    "from SynTemp.SynUtils.utils import load_database, save_database\n",
    "\n",
    "toy_sample = [{'balanced': True,\n",
    "  'R-id': 'USPTO_50K_31',\n",
    "  'reactions': 'C=C1C(=C)C2OC1C(=C)C2=C.C=CC(C)=O>>C=C1C(=C)C2OC1C1=C2CC(C(C)=O)CC1',\n",
    "  'local_mapper': '[CH2:4]=[C:3]1[C:2](=[CH2:1])[CH:7]2[O:6][CH:5]1[C:9](=[CH2:10])[C:8]2=[CH2:16].[CH2:15]=[CH:11][C:12]([CH3:13])=[O:14]>>[CH2:1]=[C:2]1[C:3](=[CH2:4])[CH:5]2[O:6][CH:7]1[C:8]1=[C:9]2[CH2:10][CH:11]([C:12]([CH3:13])=[O:14])[CH2:15][CH2:16]1',\n",
    "  'rxn_mapper': '[CH2:1]=[C:2]1[C:3](=[CH2:4])[CH:5]2[O:6][CH:7]1[C:8](=[CH2:16])[C:9]2=[CH2:15].[CH2:10]=[CH:11][C:12]([CH3:13])=[O:14]>>[CH2:1]=[C:2]1[C:3](=[CH2:4])[CH:5]2[O:6][CH:7]1[C:8]1=[C:9]2[CH2:10][CH:11]([C:12]([CH3:13])=[O:14])[CH2:15][CH2:16]1',\n",
    "  'graphormer': '[CH2:1]=[C:2]1[C:3](=[CH2:4])[CH:5]2[C:10](=[CH2:11])[C:8](=[CH2:9])[CH:7]1[O:6]2.[CH3:15][C:14](=[O:16])[CH:13]=[CH2:12]>>[CH3:12][C:15]([CH:14]1[CH2:13][CH2:11][C:10]2=[C:8]([CH:7]3[O:6][CH:5]2[C:3](=[CH2:4])[C:2]3=[CH2:1])[CH2:9]1)=[O:16]',\n",
    "  'Valid': True}]"
   ]
  },
  {
   "cell_type": "markdown",
   "metadata": {},
   "source": [
    "# **1. ITS and Templates Extraction**"
   ]
  },
  {
   "cell_type": "code",
   "execution_count": null,
   "metadata": {},
   "outputs": [],
   "source": [
    "from SynTemp.SynVis.chemical_reaction_visualizer import ChemicalReactionVisualizer\n",
    "reaction_vis = ChemicalReactionVisualizer()\n",
    "reaction_vis.visualize_reaction(toy_sample[0]['rxn_mapper'])"
   ]
  },
  {
   "cell_type": "code",
   "execution_count": null,
   "metadata": {},
   "outputs": [],
   "source": [
    "reaction_vis.visualize_reaction(toy_sample[0]['local_mapper'])"
   ]
  },
  {
   "cell_type": "code",
   "execution_count": null,
   "metadata": {},
   "outputs": [],
   "source": [
    "reaction_vis.visualize_reaction(toy_sample[0]['graphormer'], show_atom_map=True)"
   ]
  },
  {
   "cell_type": "code",
   "execution_count": null,
   "metadata": {},
   "outputs": [],
   "source": [
    "from SynTemp.SynVis.its_visualizer import ITSVisualizer\n",
    "from IPython.display import Image\n",
    "its_vis = ITSVisualizer(toy_sample[0]['rxn_mapper'])\n",
    "display(Image(its_vis.draw_product_with_modified_bonds()))"
   ]
  },
  {
   "cell_type": "code",
   "execution_count": null,
   "metadata": {},
   "outputs": [],
   "source": [
    "its_vis = ITSVisualizer(toy_sample[0]['local_mapper'])\n",
    "display(Image(its_vis.draw_product_with_modified_bonds()))"
   ]
  },
  {
   "cell_type": "code",
   "execution_count": null,
   "metadata": {},
   "outputs": [],
   "source": [
    "its_vis = ITSVisualizer(toy_sample[0]['graphormer'])\n",
    "display(Image(its_vis.draw_product_with_modified_bonds()))"
   ]
  },
  {
   "cell_type": "code",
   "execution_count": null,
   "metadata": {},
   "outputs": [],
   "source": [
    "# Extract rules and graph rules based on Imaginary Transition State (ITS)\n",
    "mapper_name = ['rxn_mapper', 'graphormer', 'local_mapper']\n",
    "its_graph, its_graph_wrong = ITSExtraction.parallel_process_smiles(toy_sample, mapper_name, threshold=2, n_jobs=5, verbose=1, export_full=False, check_method='RC')"
   ]
  },
  {
   "cell_type": "code",
   "execution_count": null,
   "metadata": {},
   "outputs": [],
   "source": [
    "its_graph"
   ]
  },
  {
   "cell_type": "code",
   "execution_count": null,
   "metadata": {},
   "outputs": [],
   "source": [
    "its_graph_wrong[0]"
   ]
  },
  {
   "cell_type": "code",
   "execution_count": null,
   "metadata": {},
   "outputs": [],
   "source": [
    "from SynTemp.SynVis.chemical_graph_visualizer import ChemicalGraphVisualizer\n",
    "\n",
    "vis = ChemicalGraphVisualizer(seed=42)\n",
    "vis.visualize_all(its_graph_wrong[0]['graphormer'])"
   ]
  },
  {
   "cell_type": "code",
   "execution_count": null,
   "metadata": {},
   "outputs": [],
   "source": [
    "its_graph"
   ]
  },
  {
   "cell_type": "code",
   "execution_count": null,
   "metadata": {},
   "outputs": [],
   "source": [
    "import sys\n",
    "sys.path.append('../../')\n",
    "from SynTemp.SynAAM.aam_postprocess import AMMPostprocessor\n",
    "from SynTemp.SynITS.its_extraction import ITSExtraction\n",
    "from SynTemp.SynUtils.utils import load_database, save_database\n",
    "\n",
    "data = load_database(f'../../Data/uspto/uspto_balance_aam_reactions.json.gz')\n",
    "mapper_name = ['rxn_mapper', 'graphormer', 'local_mapper']\n",
    "\n",
    "# make sure reactions all have atom mapping\n",
    "check_valid = AMMPostprocessor.parallel_postprocess(data, mapper_name, threshold=3, n_jobs=5, verbose=1)\n",
    "valid_data = [reaction for reaction in check_valid if reaction.get('Valid')]"
   ]
  },
  {
   "cell_type": "code",
   "execution_count": null,
   "metadata": {},
   "outputs": [],
   "source": [
    "# Extract rules and graph rules based on Imaginary Transition State (ITS)\n",
    "its_graph, its_graph_wrong = ITSExtraction.parallel_process_smiles(valid_data, mapper_name, threshold=2, n_jobs=5, verbose=1, export_full=False, check_method='RC')\n",
    "\n",
    "len(its_graph)"
   ]
  }
 ],
 "metadata": {
  "kernelspec": {
   "display_name": "SynITSG",
   "language": "python",
   "name": "python3"
  },
  "language_info": {
   "codemirror_mode": {
    "name": "ipython",
    "version": 3
   },
   "file_extension": ".py",
   "mimetype": "text/x-python",
   "name": "python",
   "nbconvert_exporter": "python",
   "pygments_lexer": "ipython3",
   "version": "3.11.0"
  }
 },
 "nbformat": 4,
 "nbformat_minor": 2
}
