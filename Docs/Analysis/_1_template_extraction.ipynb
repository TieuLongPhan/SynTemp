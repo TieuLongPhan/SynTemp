{
 "cells": [
  {
   "cell_type": "code",
   "execution_count": null,
   "metadata": {},
   "outputs": [],
   "source": [
    "import sys\n",
    "sys.path.append('../../')"
   ]
  },
  {
   "cell_type": "code",
   "execution_count": null,
   "metadata": {},
   "outputs": [],
   "source": [
    "import sys\n",
    "sys.path.append('../../')\n",
    "from SynTemp.SynAAM.aam_postprocess import AMMPostprocessor\n",
    "from SynTemp.SynITS.its_extraction import ITSExtraction\n",
    "from SynTemp.SynUtils.utils import load_database, save_database\n",
    "\n",
    "data = load_database(f'../../Data/uspto/uspto_balance_aam_reactions.json.gz')\n",
    "mapper_name = ['rxn_mapper', 'graphormer', 'local_mapper']\n",
    "\n",
    "# make sure reactions all have atom mapping\n",
    "check_valid = AMMPostprocessor.parallel_postprocess(data, mapper_name, threshold=3, n_jobs=5, verbose=1)\n",
    "valid_data = [reaction for reaction in check_valid if reaction.get('Valid')]"
   ]
  },
  {
   "cell_type": "code",
   "execution_count": null,
   "metadata": {},
   "outputs": [],
   "source": [
    "# Extract rules and graph rules based on Imaginary Transition State (ITS)\n",
    "its_graph, its_graph_wrong = ITSExtraction.parallel_process_smiles(valid_data, mapper_name, threshold=2, n_jobs=5, verbose=1, export_full=False, check_method='RC')\n",
    "\n",
    "len(its_graph)"
   ]
  }
 ],
 "metadata": {
  "language_info": {
   "name": "python"
  }
 },
 "nbformat": 4,
 "nbformat_minor": 2
}
