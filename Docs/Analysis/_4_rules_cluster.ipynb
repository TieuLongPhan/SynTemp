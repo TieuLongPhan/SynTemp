{
 "cells": [
  {
   "cell_type": "markdown",
   "metadata": {},
   "source": [
    "# 1. Train test split"
   ]
  },
  {
   "cell_type": "code",
   "execution_count": 6,
   "metadata": {},
   "outputs": [],
   "source": [
    "import sys\n",
    "sys.path.append('../../')\n",
    "import pandas as pd\n",
    "from SynTemp.SynUtils.utils import load_database, save_database, train_val_test_split_df\n",
    "data = pd.DataFrame(load_database('../../Data/DPO/USPTO_balance/USPTO_50K_aam_reactions.json.gz'))\n",
    "original_data = pd.read_csv('../../Data/USPTO_50K/USPTO_50K_original.csv')\n",
    "\n",
    "data = pd.concat([data, original_data['class']], axis=1)"
   ]
  },
  {
   "cell_type": "code",
   "execution_count": 8,
   "metadata": {},
   "outputs": [],
   "source": [
    "data['id'] = data['R-id']\n",
    "data['R-id'] = data.index"
   ]
  },
  {
   "cell_type": "code",
   "execution_count": 10,
   "metadata": {},
   "outputs": [],
   "source": [
    "train_df, val_df, test_df = train_val_test_split_df(data, target='class', random_state=42)"
   ]
  },
  {
   "cell_type": "code",
   "execution_count": 3,
   "metadata": {},
   "outputs": [
    {
     "data": {
      "text/plain": [
       "(40012, 7)"
      ]
     },
     "execution_count": 3,
     "metadata": {},
     "output_type": "execute_result"
    }
   ],
   "source": [
    "train_df.shape"
   ]
  },
  {
   "cell_type": "code",
   "execution_count": 11,
   "metadata": {},
   "outputs": [],
   "source": [
    "train_df, val_df, test_df = train_val_test_split_df(data, target='class', random_state=42)\n",
    "\n",
    "save_database(train_df.to_dict('records'), '../../Data/DPO/USPTO_balance/train.json.gz')\n",
    "save_database(val_df.to_dict('records'), '../../Data/DPO/USPTO_balance/val.json.gz')\n",
    "save_database(test_df.to_dict('records'), '../../Data/DPO/USPTO_balance/test.json.gz')"
   ]
  },
  {
   "cell_type": "markdown",
   "metadata": {},
   "source": [
    "# 2. Rules Writing"
   ]
  },
  {
   "cell_type": "code",
   "execution_count": 19,
   "metadata": {},
   "outputs": [],
   "source": [
    "folder_name = 'Raw'\n",
    "# folder_name = 'Complete'\n",
    "# # folder_name = 'Cyclic'\n",
    "# folder_name= 'Expand'"
   ]
  },
  {
   "cell_type": "code",
   "execution_count": 20,
   "metadata": {},
   "outputs": [],
   "source": [
    "import sys\n",
    "sys.path.append('../../')\n",
    "from SynTemp.SynUtils.utils import load_from_pickle, save_to_pickle\n",
    "from SynTemp.SynUtils.graph_utils import add_child_ids \n",
    "temp = load_from_pickle(f'../../Data/DPO/USPTO_balance/{folder_name}/templates.pkl.gz')\n",
    "# processed_data = add_child_ids(temp)\n",
    "# save_to_pickle(processed_data, f'../../Data/DPO/USPTO_balance/{folder_name}/hier_rules.pkl.gz')"
   ]
  },
  {
   "cell_type": "code",
   "execution_count": null,
   "metadata": {},
   "outputs": [],
   "source": []
  },
  {
   "cell_type": "code",
   "execution_count": null,
   "metadata": {},
   "outputs": [],
   "source": [
    "non_h = load_from_pickle(f'../../Data/DPO/USPTO_50K/Non_hydrogen/templates.pkl.gz')\n",
    "h = load_from_pickle(f'../../Data/DPO/USPTO_50K/Hydrogen/templates.pkl.gz')\n",
    "good_h = load_from_pickle(f'../../Data/DPO/USPTO_50K/Good_hydrogen/templates.pkl.gz')"
   ]
  },
  {
   "cell_type": "code",
   "execution_count": null,
   "metadata": {},
   "outputs": [],
   "source": [
    "from SynTemp.SynUtils.graph_utils import check_graph_type, get_cycle_member_rings\n",
    "for value in temp[0]:\n",
    "    value[\"Reaction Type\"] = check_graph_type(value[\"RC\"][2])\n",
    "    value[\"Rings\"] = get_cycle_member_rings(value[\"RC\"][2])\n"
   ]
  },
  {
   "cell_type": "code",
   "execution_count": 23,
   "metadata": {},
   "outputs": [
    {
     "name": "stderr",
     "output_type": "stream",
     "text": [
      "[Parallel(n_jobs=4)]: Using backend LokyBackend with 4 concurrent workers.\n",
      "[Parallel(n_jobs=4)]: Done  88 tasks      | elapsed:    1.0s\n",
      "[Parallel(n_jobs=4)]: Done 328 out of 328 | elapsed:    1.0s finished\n",
      "[Parallel(n_jobs=4)]: Using backend LokyBackend with 4 concurrent workers.\n",
      "[Parallel(n_jobs=4)]: Done 312 tasks      | elapsed:    0.0s\n",
      "[Parallel(n_jobs=4)]: Done 1617 out of 1617 | elapsed:    0.2s finished\n",
      "[Parallel(n_jobs=4)]: Using backend LokyBackend with 4 concurrent workers.\n",
      "[Parallel(n_jobs=4)]: Done 312 tasks      | elapsed:    0.1s\n",
      "[Parallel(n_jobs=4)]: Done 9961 out of 9961 | elapsed:    1.7s finished\n",
      "[Parallel(n_jobs=4)]: Using backend LokyBackend with 4 concurrent workers.\n",
      "[Parallel(n_jobs=4)]: Done 328 tasks      | elapsed:    0.1s\n",
      "[Parallel(n_jobs=4)]: Done 22735 out of 22735 | elapsed:    3.9s finished\n"
     ]
    }
   ],
   "source": [
    "from SynTemp.SynRule.rule_writing import RuleWriting\n",
    "from SynTemp.SynUtils.graph_utils import check_graph_type\n",
    "for i in range(4):\n",
    "    templates = temp[i]\n",
    "    if folder_name == 'Cyclic':\n",
    "        if i == 0:\n",
    "            #templates = [value for value in templates if value['Reaction Type'] in ['Single Cyclic', 'Complex Cyclic']]\n",
    "            templates = [value for value in templates if check_graph_type(value['RC'][2]) in ['Single Cyclic', 'Complex Cyclic']]\n",
    "            parent_id = [value['Cluster_id'] for value in templates]\n",
    "        else:\n",
    "            templates = [value for value in templates if value['Parent'] in parent_id]\n",
    "            #print(len(templates))\n",
    "            parent_id = [value['Cluster_id'] for value in templates]\n",
    "    \n",
    "    rules = RuleWriting.auto_extraction(data_dicts=templates, id_column=f'Cluster_id', rule_column = 'RC', reindex=True,\n",
    "                                        save_path=f'../../Data/DPO/USPTO_balance/{folder_name}/R{i}/'\n",
    "                                        )\n"
   ]
  },
  {
   "cell_type": "code",
   "execution_count": null,
   "metadata": {},
   "outputs": [],
   "source": [
    "all = [{'R0':285, 'R1': 1512, 'R2':9709, 'R3':22280},\n",
    "       {'R0':266, 'R1': 1465, 'R2':9591, 'R3':22131},\n",
    "       {'R0':149, 'R1': 1081, 'R2':7668, 'R3':18350}]"
   ]
  },
  {
   "cell_type": "code",
   "execution_count": null,
   "metadata": {},
   "outputs": [],
   "source": [
    "import pandas as pd\n",
    "pd.DataFrame(all)"
   ]
  },
  {
   "cell_type": "markdown",
   "metadata": {},
   "source": [
    "## Templates analysis"
   ]
  },
  {
   "cell_type": "code",
   "execution_count": null,
   "metadata": {},
   "outputs": [],
   "source": [
    "import sys\n",
    "sys.path.append('../../')\n",
    "from SynTemp.SynUtils.utils import load_from_pickle, save_to_pickle\n",
    "cluster = load_from_pickle('../../Data/DPO/USPTO_50K/Good_hydrogen/cluster.pkl.gz')"
   ]
  },
  {
   "cell_type": "code",
   "execution_count": null,
   "metadata": {},
   "outputs": [],
   "source": [
    "from collections import Counter\n",
    "import matplotlib.pyplot as plt\n",
    "\n",
    "# Enable LaTeX rendering in matplotlib\n",
    "plt.rc('text', usetex=True)\n",
    "plt.rc('text.latex', preamble=r'\\usepackage{amsmath}')  # Ensure amsmath is loaded\n",
    "\n",
    "template_ids = [value['Cluster_R0'] for value in cluster]\n",
    "max_template = len(template_ids)\n",
    "\n",
    "count_dict = Counter(template_ids)\n",
    "sorted_counts = count_dict.most_common()\n",
    "\n",
    "ids = [str(item[0]) for item in sorted_counts]\n",
    "counts = [item[1] for item in sorted_counts]\n",
    "percent = [100*i/max_template for i in counts]\n",
    "\n",
    "num_bars = 10\n",
    "\n",
    "fig, ax = plt.subplots(figsize=(10, 6))\n",
    "bars = ax.bar(ids[:num_bars], percent[:num_bars], color='skyblue')\n",
    "\n",
    "for bar in bars:\n",
    "    yval = bar.get_height()\n",
    "    #percent = yval / max_template * 100\n",
    "    ax.text(bar.get_x() + bar.get_width()/2, yval, f'{yval:.1f}', ha='center', va='bottom', fontsize = 16)\n",
    "\n",
    "ax.set_xlabel(r'Template ID', fontsize =20)\n",
    "ax.set_ylabel(r'Percentage (\\%)', fontsize =20)\n",
    "# ax.set_title('Top 10 Most Common Template IDs')\n",
    "ax.set_xticklabels(ids[:num_bars], rotation=45, fontsize=18)\n",
    "ax.set_yticks([0, 5, 10, 15, 17.5])\n",
    "ax.set_yticklabels([0, 5, 10, 15, 17.5], rotation=45, fontsize=18)\n",
    "\n",
    "ax.grid(axis='y', linestyle='--', alpha=0.7)\n",
    "plt.tight_layout()\n",
    "plt.savefig('./fig/Templates_distribution.pdf', dpi=600)\n",
    "plt.show()\n"
   ]
  },
  {
   "cell_type": "markdown",
   "metadata": {},
   "source": [
    "## ITS reaction type analysis"
   ]
  },
  {
   "cell_type": "code",
   "execution_count": null,
   "metadata": {},
   "outputs": [],
   "source": [
    "h = load_from_pickle(f'../../Data/DPO/USPTO_50K/Hydrogen/templates.pkl.gz')\n",
    "for value in h[0]:\n",
    "    value[\"Reaction Type\"] = check_graph_type(value[\"RC\"][2])\n",
    "    value[\"Rings\"] = get_cycle_member_rings(value[\"RC\"][2])"
   ]
  },
  {
   "cell_type": "code",
   "execution_count": null,
   "metadata": {},
   "outputs": [],
   "source": [
    "temp_h0 = h[0]"
   ]
  },
  {
   "cell_type": "code",
   "execution_count": null,
   "metadata": {},
   "outputs": [],
   "source": [
    "pd.DataFrame(h[0])['Reaction Type'].value_counts()"
   ]
  },
  {
   "cell_type": "markdown",
   "metadata": {},
   "source": [
    "## ITS ring analysis"
   ]
  },
  {
   "cell_type": "code",
   "execution_count": null,
   "metadata": {},
   "outputs": [],
   "source": [
    "from SynTemp.SynUtils.graph_utils import check_graph_type, get_cycle_member_rings\n",
    "good_h = load_from_pickle(f'../../Data/DPO/USPTO_50K/Good_hydrogen/templates.pkl.gz')\n",
    "for value in good_h[0]:\n",
    "    value[\"Reaction Type\"] = check_graph_type(value[\"RC\"][2])\n",
    "    value[\"Rings\"] = get_cycle_member_rings(value[\"RC\"][2])\n",
    "\n",
    "temp_0 = [value for value in good_h[0] if value['Reaction Type'] in ['Single Cyclic', 'Complex Cyclic']]"
   ]
  },
  {
   "cell_type": "code",
   "execution_count": null,
   "metadata": {},
   "outputs": [],
   "source": [
    "good_h = load_from_pickle(f'../../Data/DPO/USPTO_50K/Hydrogen/templates.pkl.gz')\n",
    "for value in good_h[0]:\n",
    "    value[\"Reaction Type\"] = check_graph_type(value[\"RC\"][2])\n",
    "    value[\"Rings\"] = get_cycle_member_rings(value[\"RC\"][2])"
   ]
  },
  {
   "cell_type": "code",
   "execution_count": null,
   "metadata": {},
   "outputs": [],
   "source": [
    "single = [value for value in good_h[0] if value['Reaction Type'] in ['Single Cyclic']]\n",
    "complex = [value for value in good_h[0] if value['Reaction Type'] in ['Complex Cyclic']]"
   ]
  },
  {
   "cell_type": "code",
   "execution_count": null,
   "metadata": {},
   "outputs": [],
   "source": [
    "import matplotlib.pyplot as plt\n",
    "import seaborn as sns\n",
    "\n",
    "# Enable LaTeX rendering in matplotlib\n",
    "plt.rc('text', usetex=True)\n",
    "plt.rc('text.latex', preamble=r'\\usepackage{amsmath}')  # Ensure amsmath is loaded\n",
    "# Data for single rules\n",
    "single_rules = {\n",
    "    4: 90,\n",
    "    5: 10,\n",
    "    6: 16,\n",
    "    7: 3\n",
    "}\n",
    "\n",
    "# Data for complex rules\n",
    "complex_rules = {\n",
    "    '[4, 4]': 17,\n",
    "    '[4, 6]': 3,\n",
    "    '[4, 5]': 3,\n",
    "    '[3, 3]': 2,\n",
    "    '[3, 4]': 1,\n",
    "    '[5, 6]': 1,\n",
    "    '[3, 3, 3]': 1,\n",
    "    '[4, 5, 6]': 1,\n",
    "    '[4, 4, 6]': 1,  \n",
    "}\n",
    "\n",
    "# Calculate total counts for single and complex rules\n",
    "total_single = sum(single_rules.values())\n",
    "total_complex = sum(complex_rules.values())\n",
    "\n",
    "# Convert counts to percentages\n",
    "single_percentages = [value / total_single * 100 for value in single_rules.values()]\n",
    "complex_percentages = [value / total_complex * 100 for value in complex_rules.values()]\n",
    "\n",
    "# Extract keys for plotting\n",
    "single_types_of_rings = list(single_rules.keys())\n",
    "complex_types_of_rings = list(complex_rules.keys())\n",
    "\n",
    "# Set style\n",
    "sns.set(style=\"whitegrid\")\n",
    "\n",
    "# Create figure and subplots\n",
    "fig, axes = plt.subplots(1, 2, figsize=(20, 8), dpi=120)\n",
    "fig.subplots_adjust(wspace=0.3)\n",
    "\n",
    "# Plot for single rules\n",
    "sns.barplot(ax=axes[0], x=single_types_of_rings, y=single_percentages, palette='coolwarm')\n",
    "axes[0].set_title('A. Distribution of Single Rule Types of Rings', fontsize=16)\n",
    "axes[0].set_xlabel('Type of Ring', fontsize=14)\n",
    "axes[0].set_ylabel(r'Percentage (\\%)', fontsize=14)\n",
    "for index, value in enumerate(single_percentages):\n",
    "    axes[0].text(index, value + 0.5, f'{value:.1f}%', ha='center', va='bottom', fontsize=12)\n",
    "\n",
    "# Plot for complex rules\n",
    "sns.barplot(ax=axes[1], x=complex_types_of_rings, y=complex_percentages, palette='coolwarm')\n",
    "axes[1].set_title('B. Distribution of combinatorial rules Types', fontsize=16)\n",
    "axes[1].set_xlabel('Type of Ring Combination', fontsize=14)\n",
    "axes[1].set_ylabel(r'Percentage (\\%)', fontsize=14)\n",
    "axes[1].set_xticklabels(axes[1].get_xticklabels(), rotation=45, ha=\"right\")\n",
    "for index, value in enumerate(complex_percentages):\n",
    "    axes[1].text(index, value + 0.5, f'{value:.1f}%', ha='center', va='bottom', fontsize=12)\n",
    "plt.savefig('./fig/rules_ring.pdf', dpi=600)\n",
    "plt.show()"
   ]
  },
  {
   "cell_type": "markdown",
   "metadata": {},
   "source": [
    "# Combine figures"
   ]
  },
  {
   "cell_type": "code",
   "execution_count": null,
   "metadata": {},
   "outputs": [],
   "source": [
    "import matplotlib.pyplot as plt\n",
    "import seaborn as sns\n",
    "from collections import Counter\n",
    "\n",
    "# Enable LaTeX rendering in matplotlib\n",
    "plt.rc('text', usetex=True)\n",
    "plt.rc('text.latex', preamble=r'\\usepackage{amsmath}')  # Ensure amsmath is loaded\n",
    "\n",
    "\n",
    "# Create figure and subplots\n",
    "fig, ((ax1, ax2), (ax3, ax4)) = plt.subplots(2, 2, figsize=(20, 16), dpi=600)\n",
    "fig.subplots_adjust(hspace=0.25, wspace=0.3)\n",
    "\n",
    "# --- First row for template distribution ---\n",
    "template_ids = [value['Cluster_R0'] for value in cluster]\n",
    "max_template = len(template_ids)\n",
    "count_dict = Counter(template_ids)\n",
    "sorted_counts = count_dict.most_common()\n",
    "\n",
    "ids = [str(item[0]) for item in sorted_counts]\n",
    "counts = [item[1] for item in sorted_counts]\n",
    "percent = [100 * i / max_template for i in counts]\n",
    "\n",
    "num_bars = 10\n",
    "bars = ax1.bar(ids[:num_bars], percent[:num_bars], color='#3A8EBA')\n",
    "for bar in bars:\n",
    "    yval = bar.get_height()\n",
    "    ax1.text(bar.get_x() + bar.get_width()/2, yval, f'{yval:.1f}%', ha='center', va='bottom', fontsize=18)\n",
    "\n",
    "ax1.set_xlabel(r'Template ID', fontsize=24, weight = 'medium')\n",
    "ax1.set_ylabel(r'Percentage (\\%)', fontsize=24, weight = 'medium')\n",
    "ax1.set_xticklabels(ids[:num_bars], rotation=45, fontsize=18)\n",
    "ax1.set_yticks([0, 5, 10, 15, 17.5])\n",
    "ax1.set_yticklabels([0, 5, 10, 15, 17.5], fontsize=18)\n",
    "ax1.grid(axis='y', linestyle='--', alpha=0.7)\n",
    "ax1.set_title('A. Top 10 Most Common Template IDs', fontsize=30, weight = 'bold')\n",
    "\n",
    "# --- First row for Cyclic distribution ax2 ---\n",
    "types_of_cyclization = {'Single Cyclic': 119, 'Acyclic': 60, 'None': 57, 'Complex Cyclic': 30}\n",
    "names = list(types_of_cyclization.keys())\n",
    "values = list(types_of_cyclization.values())\n",
    "\n",
    "bars = ax2.bar(names, values, color = ['#3A8EBA', '#92C5DE', '#F4A582', '#D6604D'])\n",
    "ax2.set_title('B. Reaction center topology distribution', fontsize=30, weight = 'bold')\n",
    "ax2.set_xlabel('Topology type', fontsize=24, weight = 'medium')\n",
    "ax2.set_ylabel('Count', fontsize=24, weight = 'medium')\n",
    "for bar in bars:\n",
    "    height = bar.get_height()\n",
    "    ax2.text(bar.get_x() + bar.get_width()/2, height, f'{height}', ha='center', va='bottom', fontsize=18)\n",
    "ax2.set_yticks([0, 40, 80, 120])\n",
    "ax2.set_yticklabels([0, 40, 80, 120], fontsize=18)\n",
    "ax2.set_xticklabels(['Single Cyclic', 'Acyclic', 'Complex', 'Combinatorial Cyclic'],  ha=\"center\", fontsize=18)\n",
    "\n",
    "\n",
    "# --- Second row for single and complex rules distributions ---\n",
    "# Data for single and complex rules assumed to be pre-defined\n",
    "sns.barplot(ax=ax3, x=list(single_rules.keys()), y=[val / total_single * 100 for val in single_rules.values()], palette='coolwarm')\n",
    "ax3.set_title('C. Ring shape distribution', fontsize=30, weight = 'bold')\n",
    "ax3.set_xlabel('Ring shape', fontsize=24, weight = 'medium')\n",
    "ax3.set_ylabel(r'Percentage (\\%)', fontsize=24, weight = 'medium')\n",
    "ax3.set_xticklabels(ax3.get_xticklabels(), rotation=45, ha=\"right\", fontsize=18)\n",
    "ax3.set_yticks([0, 20, 40, 60, 80])\n",
    "ax3.set_yticklabels([0, 20, 40, 60, 80], fontsize=18)\n",
    "\n",
    "for index, value in enumerate(single_percentages):\n",
    "    ax3.text(index, value + 0.5, f'{value:.1f}%', ha='center', va='bottom', fontsize=16)\n",
    "\n",
    "sns.barplot(ax=ax4, x=list(complex_rules.keys()), y=[val / total_complex * 100 for val in complex_rules.values()], palette='coolwarm')\n",
    "ax4.set_title('D. Combinatorial Rings distribution', fontsize=30, weight = 'bold')\n",
    "ax4.set_xlabel('Ring Combination', fontsize=24, weight = 'medium')\n",
    "ax4.set_ylabel(r'Percentage (\\%)', fontsize=24, weight = 'medium')\n",
    "ax4.set_xticklabels(ax4.get_xticklabels(), rotation=45, ha=\"right\", fontsize=18)\n",
    "ax4.set_yticks([0, 20, 40, 60])\n",
    "ax4.set_yticklabels([0, 20, 40, 60], fontsize=18)\n",
    "for index, value in enumerate(complex_percentages):\n",
    "    ax4.text(index, value + 0.5, f'{value:.1f}%', ha='center', va='bottom', fontsize=18)\n",
    "\n",
    "# Save and show the figure\n",
    "plt.savefig('./fig/comprehensive_distribution_templates.pdf', dpi=600)\n",
    "plt.show()\n"
   ]
  },
  {
   "cell_type": "code",
   "execution_count": null,
   "metadata": {},
   "outputs": [],
   "source": []
  }
 ],
 "metadata": {
  "kernelspec": {
   "display_name": "SynITSG",
   "language": "python",
   "name": "python3"
  },
  "language_info": {
   "codemirror_mode": {
    "name": "ipython",
    "version": 3
   },
   "file_extension": ".py",
   "mimetype": "text/x-python",
   "name": "python",
   "nbconvert_exporter": "python",
   "pygments_lexer": "ipython3",
   "version": "3.11.5"
  }
 },
 "nbformat": 4,
 "nbformat_minor": 2
}
