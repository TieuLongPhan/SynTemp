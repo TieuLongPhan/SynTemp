{
 "cells": [
  {
   "cell_type": "markdown",
   "metadata": {},
   "source": [
    "# 1. Train test split"
   ]
  },
  {
   "cell_type": "code",
   "execution_count": 1,
   "metadata": {},
   "outputs": [],
   "source": [
    "import sys\n",
    "sys.path.append('../../')\n",
    "import pandas as pd\n",
    "from SynTemp.SynUtils.utils import load_database, save_database, train_val_test_split_df\n",
    "data = pd.DataFrame(load_database('../../Data/DPO/USPTO_50K/USPTO_50K_aam_reactions.json.gz'))\n",
    "original_data = pd.read_csv('../../Data/USPTO_50K/USPTO_50K_original.csv')\n",
    "\n",
    "data = pd.concat([data, original_data['class']], axis=1)"
   ]
  },
  {
   "cell_type": "code",
   "execution_count": null,
   "metadata": {},
   "outputs": [],
   "source": [
    "train_df, val_df, test_df = train_val_test_split_df(data, target='class', random_state=42)\n",
    "\n",
    "save_database(train_df.to_dict('records'), '../../Data/DPO/USPTO_50K/train.json.gz')\n",
    "save_database(val_df.to_dict('records'), '../../Data/DPO/USPTO_50K/val.json.gz')\n",
    "save_database(test_df.to_dict('records'), '../../Data/DPO/USPTO_50K/test.json.gz')"
   ]
  },
  {
   "cell_type": "markdown",
   "metadata": {},
   "source": [
    "# 2. Rules Writing"
   ]
  },
  {
   "cell_type": "code",
   "execution_count": 4,
   "metadata": {},
   "outputs": [],
   "source": [
    "#folder_name = 'Non_hydrogen'\n",
    "#folder_name = 'Good_hydrogen'\n",
    "folder_name = 'Hydrogen'"
   ]
  },
  {
   "cell_type": "code",
   "execution_count": 6,
   "metadata": {},
   "outputs": [],
   "source": [
    "from SynTemp.SynUtils.utils import load_from_pickle, save_to_pickle\n",
    "from SynTemp.SynUtils.graph_utils import add_child_ids \n",
    "temp = load_from_pickle(f'../../Data/DPO/USPTO_50K/{folder_name}/templates.pkl.gz')\n",
    "processed_data = add_child_ids(temp)\n",
    "save_to_pickle(processed_data, f'../../Data/DPO/USPTO_50K/{folder_name}/hier_rules.pkl.gz')"
   ]
  },
  {
   "cell_type": "code",
   "execution_count": 9,
   "metadata": {},
   "outputs": [],
   "source": [
    "from SynTemp.SynUtils.utils import stratified_random_sample\n",
    "from SynTemp.SynRule.rule_writing import RuleWriting\n",
    "data = load_from_pickle(f'../../Data/DPO/USPTO_50K/{folder_name}/cluster.pkl.gz')\n",
    "for i in range(0,4):\n",
    "    samples = stratified_random_sample(data, f'Cluster_R{i}', 1, 42)\n",
    "    if folder_name == 'Good_hydrogen':\n",
    "        samples = [value for value in samples if value['Reaction Type'] in ['Single Cyclic', 'Complex Cyclic']]\n",
    "    rules = RuleWriting.auto_extraction(data_dicts=samples, id_column=f'Cluster_R{i}',\n",
    "                                        save_path=f'../../Data/DPO/USPTO_50K/{folder_name}/R{i}/')"
   ]
  },
  {
   "cell_type": "code",
   "execution_count": null,
   "metadata": {},
   "outputs": [],
   "source": []
  }
 ],
 "metadata": {
  "kernelspec": {
   "display_name": "SynITSG",
   "language": "python",
   "name": "python3"
  },
  "language_info": {
   "codemirror_mode": {
    "name": "ipython",
    "version": 3
   },
   "file_extension": ".py",
   "mimetype": "text/x-python",
   "name": "python",
   "nbconvert_exporter": "python",
   "pygments_lexer": "ipython3",
   "version": "3.11.0"
  }
 },
 "nbformat": 4,
 "nbformat_minor": 2
}
