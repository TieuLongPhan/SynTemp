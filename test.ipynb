{
 "cells": [
  {
   "cell_type": "code",
   "execution_count": null,
   "metadata": {},
   "outputs": [],
   "source": [
    "from SynTemp.SynUtils.utils import load_database, load_from_pickle\n",
    "data = load_from_pickle('./Data/uspto/uspto_its_graph_rules_cluster.pkl.gz')"
   ]
  },
  {
   "cell_type": "code",
   "execution_count": null,
   "metadata": {},
   "outputs": [],
   "source": [
    "from SynTemp.SynMØD.naive_cluster import NaiveCluster\n",
    "node_label_names = [\"element\", \"charge\"]\n",
    "naive_cluster = NaiveCluster(node_label_names=node_label_names, node_label_default=[\"*\", 0], edge_attribute=\"order\")\n",
    "its_graph_rules_cluster = naive_cluster.process_rules_clustering(data, rule_column='GraphRules')"
   ]
  },
  {
   "cell_type": "code",
   "execution_count": null,
   "metadata": {},
   "outputs": [],
   "source": [
    "its_graph_rules_cluster[0]"
   ]
  },
  {
   "cell_type": "code",
   "execution_count": null,
   "metadata": {},
   "outputs": [],
   "source": [
    "from SynTemp.SynUtils.utils import stratified_random_sample\n",
    "import pandas as pd\n",
    "sampled_data = stratified_random_sample(its_graph_rules_cluster, property_key='naive_cluster', samples_per_class=1, seed=23)\n",
    "pd.DataFrame(sampled_data)['Reaction Type'].value_counts()"
   ]
  },
  {
   "cell_type": "code",
   "execution_count": null,
   "metadata": {},
   "outputs": [],
   "source": [
    "single = [x['GraphRules'][2] for x in sampled_data if x['Reaction Type'] == 'Single Cyclic']\n",
    "complex = [x['GraphRules'][2] for x in sampled_data if x['Reaction Type'] == 'Complex Cyclic']\n",
    "neither = [x['GraphRules'][2] for x in sampled_data if x['Reaction Type'] == 'None']\n",
    "acyclic = [x['GraphRules'][2] for x in sampled_data if x['Reaction Type'] == 'Acyclic']"
   ]
  },
  {
   "cell_type": "code",
   "execution_count": null,
   "metadata": {},
   "outputs": [],
   "source": [
    "from SynTemp.SynVis.chemical_graph_vis import ChemicalGraphVisualizer\n",
    "vis = ChemicalGraphVisualizer()\n",
    "vis.graph_vis(complex[4], show_node_labels=True)"
   ]
  },
  {
   "cell_type": "code",
   "execution_count": null,
   "metadata": {},
   "outputs": [],
   "source": [
    "from SynTemp.SynMØD.graph_rules_decompose import GraphRuleDecompose"
   ]
  },
  {
   "cell_type": "code",
   "execution_count": null,
   "metadata": {},
   "outputs": [],
   "source": [
    "from copy import deepcopy\n",
    "complex_graph = complex[11]\n",
    "# Add nodes and edges to complex_graph with the required attributes\n",
    "\n",
    "single_cyclic_graphs = deepcopy(single)\n",
    "# Define your single cyclic graphs by adding nodes and edges with the required attributes\n",
    "\n",
    "# Call the function\n",
    "explained_graphs = GraphRuleDecompose.bfs_remove_isomorphic_subgraphs(complex_graph, single_cyclic_graphs)\n",
    "\n",
    "if explained_graphs is not None:\n",
    "    print(\"List of single cyclic graphs that explain the complex graph:\", explained_graphs)\n",
    "    GraphRuleDecompose.visualize_with_common_subgraphs(complex_graph, explained_graphs)\n",
    "else:\n",
    "    print(\"Some parts of the complex graph could not be explained by any of the single cyclic graphs.\")"
   ]
  },
  {
   "cell_type": "code",
   "execution_count": null,
   "metadata": {},
   "outputs": [],
   "source": [
    "import pandas as pd \n",
    "\n",
    "df = pd.read_csv('./Data/golden/golden_dataset.csv')\n",
    "df.head(2)\n",
    "\n",
    "from SynTemp.SynUtils.utils import load_database\n",
    "data = load_database('./Data/golden/golden_aam_reactions.json.gz')\n",
    "for key, value in enumerate(data):\n",
    "    data[key]['ground_truth'] = df.iloc[key,0]"
   ]
  },
  {
   "cell_type": "code",
   "execution_count": null,
   "metadata": {},
   "outputs": [],
   "source": [
    "from SynTemp.SynUtils.utils import load_database\n",
    "data = load_database('./Data/golden/golden_aam_reactions.json.gz')\n",
    "for key, value in enumerate(data):\n",
    "    data[key]['ground_truth'] = df.iloc[key,0]"
   ]
  },
  {
   "cell_type": "code",
   "execution_count": null,
   "metadata": {},
   "outputs": [],
   "source": [
    "pd.DataFrame(data).info()"
   ]
  },
  {
   "cell_type": "code",
   "execution_count": null,
   "metadata": {},
   "outputs": [],
   "source": [
    "from SynTemp.SynAAM.aam_validator import AMMValidator \n",
    "for key, value in enumerate(data):\n",
    "    try:\n",
    "        AMMValidator.smiles_check(data[key]['ground_truth'], data[key]['rdt'])\n",
    "    except:\n",
    "        print(key)"
   ]
  },
  {
   "cell_type": "code",
   "execution_count": null,
   "metadata": {},
   "outputs": [],
   "source": [
    "data[366]['rdt']"
   ]
  },
  {
   "cell_type": "code",
   "execution_count": null,
   "metadata": {},
   "outputs": [],
   "source": [
    "from SynTemp.SynAAM.aam_validator import AMMValidator  \n",
    "results = AMMValidator.validate_smiles(data=data, ground_truth_col='ground_truth', \n",
    "                                       mapped_cols=['rxn_mapper', 'graphormer', 'local_mapper', 'rdt'], \n",
    "                                       check_method='RC', \n",
    "                                       ignore_aromaticity=False, n_jobs=4, verbose=0)"
   ]
  },
  {
   "cell_type": "code",
   "execution_count": null,
   "metadata": {},
   "outputs": [],
   "source": [
    "pd.DataFrame(results)[['mapper', 'accuracy']]"
   ]
  },
  {
   "cell_type": "code",
   "execution_count": null,
   "metadata": {},
   "outputs": [],
   "source": [
    "from SynTemp.SynAAM.aam_validator import AMMValidator  \n",
    "results = AMMValidator.validate_smiles(data=data, ground_truth_col='Ground turth', \n",
    "                                       mapped_cols=['RXNMapper', 'GraphMapper', 'LocalMapper'], \n",
    "                                       check_method='RC', \n",
    "                                       ignore_aromaticity=False, n_jobs=4, verbose=0)"
   ]
  },
  {
   "cell_type": "code",
   "execution_count": null,
   "metadata": {},
   "outputs": [],
   "source": [
    "pd.DataFrame(results)[['mapper', 'accuracy']]"
   ]
  },
  {
   "cell_type": "code",
   "execution_count": null,
   "metadata": {},
   "outputs": [],
   "source": [
    "pd.DataFrame(results)[['mapper', 'accuracy']]"
   ]
  },
  {
   "cell_type": "code",
   "execution_count": null,
   "metadata": {},
   "outputs": [],
   "source": []
  },
  {
   "cell_type": "code",
   "execution_count": null,
   "metadata": {},
   "outputs": [],
   "source": [
    "from SynTemp.SynUtils.utils import load_database\n",
    "recon = load_database('./Data/Recon3D/Recon3D_aam_reactions.json.gz')\n",
    "\n",
    "from SynTemp.SynAAM.aam_validator import AMMValidator  \n",
    "results, _ = AMMValidator.validate_smiles(data=recon, ground_truth_col='ground_truth', \n",
    "                                       mapped_cols=['rxn_mapper', 'graphormer', 'local_mapper', 'rdt'], \n",
    "                                       check_method='RC', \n",
    "                                       ignore_aromaticity=False, n_jobs=4, verbose=0, ensemble=True)"
   ]
  },
  {
   "cell_type": "code",
   "execution_count": null,
   "metadata": {},
   "outputs": [],
   "source": [
    "pd.DataFrame(recon).to_csv('./Data/Recon3D/Recon3D_aam_reactions.csv')"
   ]
  },
  {
   "cell_type": "code",
   "execution_count": null,
   "metadata": {},
   "outputs": [],
   "source": [
    "import pandas as pd\n",
    "pd.DataFrame(results)[['mapper', 'accuracy', 'success_rate']]"
   ]
  },
  {
   "cell_type": "code",
   "execution_count": null,
   "metadata": {},
   "outputs": [],
   "source": []
  },
  {
   "cell_type": "code",
   "execution_count": null,
   "metadata": {},
   "outputs": [],
   "source": []
  },
  {
   "cell_type": "code",
   "execution_count": null,
   "metadata": {},
   "outputs": [],
   "source": []
  },
  {
   "cell_type": "code",
   "execution_count": null,
   "metadata": {},
   "outputs": [],
   "source": [
    "import pandas as pd"
   ]
  },
  {
   "cell_type": "code",
   "execution_count": null,
   "metadata": {},
   "outputs": [],
   "source": [
    "ecoli = pd.read_csv('./Data/ecoli/ecoli.smiles', header=None)\n",
    "ecoli.rename({0:'ground_truth'}, axis=1, inplace=True)\n",
    "ecoli['R-id'] = range(1, len(ecoli) + 1)"
   ]
  },
  {
   "cell_type": "code",
   "execution_count": null,
   "metadata": {},
   "outputs": [],
   "source": [
    "from rdkit import Chem\n",
    "from rdkit.Chem import rdChemReactions\n",
    "ok = []\n",
    "bug = []\n",
    "for key, value in enumerate(ecoli['ground_truth']):\n",
    "    try:\n",
    "        rdChemReactions.ReactionFromSmarts(value)\n",
    "        ok.append(key)\n",
    "    except:\n",
    "        bug.append(key)"
   ]
  },
  {
   "cell_type": "code",
   "execution_count": null,
   "metadata": {},
   "outputs": [],
   "source": [
    "a,b,c =ecoli['ground_truth'][bug[0]].split('>>')"
   ]
  },
  {
   "cell_type": "code",
   "execution_count": null,
   "metadata": {},
   "outputs": [],
   "source": [
    "from rdkit import Chem\n",
    "Chem.MolFromSmiles(a)"
   ]
  },
  {
   "cell_type": "code",
   "execution_count": null,
   "metadata": {},
   "outputs": [],
   "source": [
    "Chem.MolFromSmiles(b)"
   ]
  },
  {
   "cell_type": "code",
   "execution_count": null,
   "metadata": {},
   "outputs": [],
   "source": [
    "Chem.MolFromSmiles(c)"
   ]
  },
  {
   "cell_type": "code",
   "execution_count": null,
   "metadata": {},
   "outputs": [],
   "source": [
    "print(ecoli.iloc[bug,:]['ground_truth'])"
   ]
  },
  {
   "cell_type": "code",
   "execution_count": null,
   "metadata": {},
   "outputs": [],
   "source": [
    "ecoli = ecoli.iloc[ok, :]\n",
    "ecoli.reset_index(drop=True, inplace=True)\n",
    "#ecoli = ecoli.to_dict('records')"
   ]
  },
  {
   "cell_type": "code",
   "execution_count": null,
   "metadata": {},
   "outputs": [],
   "source": [
    "from rdkit import Chem\n",
    "from typing import List, Optional\n",
    "import re\n",
    "\n",
    "def remove_atom_mapping(smiles: str) -> str:\n",
    "    \"\"\"\n",
    "    Removes atom mapping numbers and simplifies atomic notation in a SMILES string.\n",
    "    \n",
    "    This function processes a SMILES string to:\n",
    "    1. Remove any atom mapping numbers denoted by ':' followed by one or more digits.\n",
    "    2. Simplify the atomic notation by removing square brackets around atoms that do not need them.\n",
    "    \n",
    "    Parameters:\n",
    "    - smiles (str): The SMILES string to be processed.\n",
    "    \n",
    "    Returns:\n",
    "    - str: The processed SMILES string with atom mappings removed and simplified atomic notations.\n",
    "    \"\"\"\n",
    "    # Remove atom mapping numbers\n",
    "    pattern = re.compile(r\":\\d+\")\n",
    "    smiles = pattern.sub(\"\", smiles)\n",
    "    # Simplify atomic notation by removing unnecessary square brackets\n",
    "    pattern = re.compile(r\"\\[(?P<atom>(B|C|N|O|P|S|F|Cl|Br|I){1,2})(?:H\\d?)?\\]\")\n",
    "    smiles = pattern.sub(r\"\\g<atom>\", smiles)\n",
    "    return smiles\n",
    "\n",
    "def mol_from_smiles(smiles: str) -> Optional[Chem.Mol]:\n",
    "    \"\"\"\n",
    "    Converts a SMILES string to an RDKit Mol object, with error handling for invalid strings.\n",
    "    \n",
    "    Parameters:\n",
    "    - smiles (str): The SMILES string to be converted.\n",
    "    \n",
    "    Returns:\n",
    "    - Chem.Mol: An RDKit Mol object created from the given SMILES string. None if conversion fails.\n",
    "    \n",
    "    Raises:\n",
    "    - ValueError: If the SMILES string is invalid and cannot be converted to a Mol object.\n",
    "    \"\"\"\n",
    "    mol = Chem.MolFromSmiles(smiles)\n",
    "    if mol is None:\n",
    "        raise ValueError(f\"Invalid SMILES string: {smiles}\")\n",
    "    return mol\n",
    "\n",
    "def filter_valid_molecules(smiles_list: List[str]) -> List[Chem.Mol]:\n",
    "    \"\"\"\n",
    "    Filters a list of SMILES strings, converting them to RDKit Mol objects, while ignoring invalid or empty molecules.\n",
    "    \n",
    "    Parameters:\n",
    "    - smiles_list (List[str]): A list of SMILES strings to be processed.\n",
    "    \n",
    "    Returns:\n",
    "    - List[Chem.Mol]: A list of RDKit Mol objects derived from valid, non-empty SMILES strings in the input list.\n",
    "    \"\"\"\n",
    "    valid_molecules = []\n",
    "    for smiles in smiles_list:\n",
    "        try:\n",
    "            mol = mol_from_smiles(smiles)\n",
    "            if mol.GetNumAtoms() > 0:\n",
    "                valid_molecules.append(mol)\n",
    "        except ValueError:\n",
    "            continue\n",
    "    return valid_molecules\n",
    "\n",
    "def standardize_rsmi(rsmi: str) -> str:\n",
    "    \"\"\"\n",
    "    Standardizes a reaction SMILES (rSMI) by ensuring that all reactants and products are valid molecules with atoms.\n",
    "    \n",
    "    The function splits the reaction into reactants and products, filters and validates them, and then\n",
    "    assembles them back into a standardized reaction SMILES string.\n",
    "    \n",
    "    Parameters:\n",
    "    - rsmi (str): The reaction SMILES string to be standardized.\n",
    "    \n",
    "    Returns:\n",
    "    - str: The standardized reaction SMILES string with valid and non-empty reactants and products.\n",
    "    \"\"\"\n",
    "    reactants, products = rsmi.split('>>')\n",
    "    reactant_molecules = filter_valid_molecules(reactants.split('.'))\n",
    "    product_molecules = filter_valid_molecules(products.split('.'))\n",
    "\n",
    "    # Convert molecules back to SMILES and assemble the standardized reaction SMILES string\n",
    "    standardized_reactants = '.'.join(Chem.MolToSmiles(mol) for mol in reactant_molecules)\n",
    "    standardized_products = '.'.join(Chem.MolToSmiles(mol) for mol in product_molecules)\n",
    "\n",
    "    return f\"{standardized_reactants}>>{standardized_products}\"\n",
    "\n",
    "\n",
    "ecoli['ground_truth'] = ecoli['ground_truth'].apply(standardize_rsmi)\n"
   ]
  },
  {
   "cell_type": "code",
   "execution_count": null,
   "metadata": {},
   "outputs": [],
   "source": [
    "import re\n",
    "def remove_atom_mapping(smiles: str) -> str:\n",
    "    pattern = re.compile(r\":\\d+\")\n",
    "    smiles = pattern.sub(\"\", smiles)\n",
    "    pattern = re.compile(r\"\\[(?P<atom>(B|C|N|O|P|S|F|Cl|Br|I){1,2})(?:H\\d?)?\\]\")\n",
    "    smiles = pattern.sub(r\"\\g<atom>\", smiles)\n",
    "    return smiles\n",
    "ecoli['reactions'] = ecoli['ground_truth'].apply(remove_atom_mapping)\n",
    "ecoli = ecoli.to_dict('records')"
   ]
  },
  {
   "cell_type": "code",
   "execution_count": null,
   "metadata": {},
   "outputs": [],
   "source": [
    "from SynTemp.SynUtils.utils import save_database\n",
    "save_database(ecoli, './Data/ecoli/ecoli_reactions.json.gz')"
   ]
  },
  {
   "cell_type": "code",
   "execution_count": null,
   "metadata": {},
   "outputs": [],
   "source": [
    "Chem.MolFromSmiles(ecoli.loc[189, 'reactions'])"
   ]
  },
  {
   "cell_type": "code",
   "execution_count": null,
   "metadata": {},
   "outputs": [],
   "source": [
    "bug"
   ]
  },
  {
   "cell_type": "code",
   "execution_count": null,
   "metadata": {},
   "outputs": [],
   "source": [
    "\n",
    "rxn = rdChemReactions.ReactionFromSmarts('[C:1](=[O:2])O.[N:3]>>[C:1](=[O:2])[N:3]')\n",
    "reacts = (Chem.MolFromSmiles('C(=O)O'),Chem.MolFromSmiles('CNC'))\n",
    "products = rxn.RunReactants(reacts)"
   ]
  },
  {
   "cell_type": "code",
   "execution_count": null,
   "metadata": {},
   "outputs": [],
   "source": []
  },
  {
   "cell_type": "code",
   "execution_count": null,
   "metadata": {},
   "outputs": [],
   "source": [
    "from SynTemp.SynUtils.utils import load_database\n",
    "recon = load_database('./Data/Recon3D/Recon3D_aam_reactions.json.gz')\n",
    "\n",
    "from SynTemp.SynAAM.aam_validator import AMMValidator  \n",
    "results, _ = AMMValidator.validate_smiles(data=recon, ground_truth_col='ground_truth', \n",
    "                                       mapped_cols=['rxn_mapper', 'graphormer', 'local_mapper'], \n",
    "                                       check_method='RC', \n",
    "                                       ignore_aromaticity=False, n_jobs=4, verbose=0, ensemble=True)\n",
    "\n",
    "import pandas as pd\n",
    "pd.DataFrame(results)[['mapper', 'accuracy', 'success_rate']]"
   ]
  },
  {
   "cell_type": "code",
   "execution_count": null,
   "metadata": {},
   "outputs": [],
   "source": [
    "recon[0]"
   ]
  },
  {
   "cell_type": "code",
   "execution_count": null,
   "metadata": {},
   "outputs": [],
   "source": [
    "from SynTemp.SynUtils.utils import load_database\n",
    "recon = load_database('./Data/ecoli/ecoli_aam_reactions.json.gz')\n",
    "\n",
    "from SynTemp.SynAAM.aam_validator import AMMValidator  \n",
    "results, _ = AMMValidator.validate_smiles(data=recon, ground_truth_col='ground_truth', \n",
    "                                       mapped_cols=['rxn_mapper', 'graphormer', 'local_mapper', 'rdt', 'ground_truth'], \n",
    "                                       check_method='RC', \n",
    "                                       ignore_aromaticity=False, n_jobs=4, verbose=0, ensemble=False)\n",
    "\n",
    "import pandas as pd\n",
    "pd.DataFrame(results)[['mapper', 'accuracy', 'success_rate']]"
   ]
  },
  {
   "cell_type": "code",
   "execution_count": null,
   "metadata": {},
   "outputs": [],
   "source": [
    "test = pd.DataFrame(recon).drop(['reactions'], axis =1)\n",
    "test['local_mapper_result'] = pd.DataFrame(results).loc[2, 'results']\n",
    "test['rxn_mapper_result'] = pd.DataFrame(results).loc[0, 'results']\n",
    "test['graphormer_result'] = pd.DataFrame(results).loc[1, 'results']\n",
    "test['rdt_result'] = pd.DataFrame(results).loc[3, 'results']"
   ]
  },
  {
   "cell_type": "code",
   "execution_count": null,
   "metadata": {},
   "outputs": [],
   "source": [
    "test.to_csv('./Data/ecoli/ecoli_aam_reactions.csv')"
   ]
  },
  {
   "cell_type": "code",
   "execution_count": null,
   "metadata": {},
   "outputs": [],
   "source": [
    "pd.DataFrame(results)"
   ]
  },
  {
   "cell_type": "code",
   "execution_count": null,
   "metadata": {},
   "outputs": [],
   "source": [
    "pd.DataFrame(results).loc[2, 'results']"
   ]
  },
  {
   "cell_type": "code",
   "execution_count": null,
   "metadata": {},
   "outputs": [],
   "source": [
    "test_2 = test[['local_mapper_result', 'rxn_mapper_result', 'graphormer_result', 'rdt_result']]"
   ]
  },
  {
   "cell_type": "code",
   "execution_count": null,
   "metadata": {},
   "outputs": [],
   "source": [
    "def ensemble_results(df, threshold):\n",
    "    # Calculate the sum of True values in each row\n",
    "    true_counts = df.sum(axis=1)\n",
    "    # Apply the threshold to determine the final result\n",
    "    final_results = true_counts >= threshold\n",
    "    return final_results\n",
    "\n",
    "test_3 = ensemble_results(test_2, 2)"
   ]
  },
  {
   "cell_type": "code",
   "execution_count": null,
   "metadata": {},
   "outputs": [],
   "source": [
    "test_3.sum()/273"
   ]
  },
  {
   "cell_type": "code",
   "execution_count": null,
   "metadata": {},
   "outputs": [],
   "source": [
    "uspto_sample = pd.read_csv('./Data/aam_benchmark/USPTO_sampled.csv')"
   ]
  },
  {
   "cell_type": "code",
   "execution_count": null,
   "metadata": {},
   "outputs": [],
   "source": [
    "uspto_sample['LocalMapper_correct'].sum()"
   ]
  },
  {
   "cell_type": "code",
   "execution_count": null,
   "metadata": {},
   "outputs": [],
   "source": [
    "uspto_sample"
   ]
  },
  {
   "cell_type": "markdown",
   "metadata": {},
   "source": [
    "# Bug"
   ]
  },
  {
   "cell_type": "code",
   "execution_count": null,
   "metadata": {},
   "outputs": [],
   "source": [
    "import pandas as pd \n",
    "\n",
    "df = pd.read_csv('./Data/aam_benchmark/Golden_mappings.csv')\n",
    "df = pd.read_csv('./Data/aam_benchmark/benchmark.csv')\n",
    "df = pd.read_csv('./Data/aam_benchmark/NatComm_mappings.csv')\n",
    "df = pd.read_csv('./Data/aam_benchmark/USPTO_sampled.csv')\n",
    "df = pd.read_csv('./Data/ecoli/ecoli_aam_reactions.csv')\n",
    "#df = pd.read_csv('./Data/Recon3D/Recon3D_aam_reactions.csv')\n",
    "df.head(1)"
   ]
  },
  {
   "cell_type": "code",
   "execution_count": null,
   "metadata": {},
   "outputs": [],
   "source": [
    "from SynTemp.SynAAM.aam_validator import AMMValidator  \n",
    "results, _ = AMMValidator.validate_smiles(data=df, ground_truth_col='ground_truth', \n",
    "                                       mapped_cols=['ground_truth'], \n",
    "                                       check_method='RC', \n",
    "                                       ignore_aromaticity=False, n_jobs=4, verbose=0, ensemble=False)\n",
    "\n",
    "import pandas as pd\n",
    "pd.DataFrame(results)[['mapper', 'accuracy', 'success_rate']]"
   ]
  },
  {
   "cell_type": "code",
   "execution_count": null,
   "metadata": {},
   "outputs": [],
   "source": [
    "test_0 = df[['ground_truth', 'R-id']]\n",
    "test_0['results'] = results[0]['results']"
   ]
  },
  {
   "cell_type": "code",
   "execution_count": null,
   "metadata": {},
   "outputs": [],
   "source": [
    "test_0_bug = test_0.loc[test_0['results']==False, :]"
   ]
  },
  {
   "cell_type": "code",
   "execution_count": null,
   "metadata": {},
   "outputs": [],
   "source": [
    "rsmi = test_0_bug['ground_truth'][74]"
   ]
  },
  {
   "cell_type": "code",
   "execution_count": null,
   "metadata": {},
   "outputs": [],
   "source": [
    "from SynTemp.SynITS.its_construction import ITSConstruction\n",
    "from SynTemp.SynITS.its_extraction import ITSExtraction\n",
    "reactants, products = rsmi.split('>>')\n",
    "G, H = ITSExtraction.graph_from_smiles(reactants), ITSExtraction.graph_from_smiles(products)"
   ]
  },
  {
   "cell_type": "code",
   "execution_count": null,
   "metadata": {},
   "outputs": [],
   "source": [
    "rsmi"
   ]
  },
  {
   "cell_type": "code",
   "execution_count": null,
   "metadata": {},
   "outputs": [],
   "source": [
    "reactants"
   ]
  },
  {
   "cell_type": "code",
   "execution_count": null,
   "metadata": {},
   "outputs": [],
   "source": [
    "from rdkit import Chem\n",
    "Chem.MolFromSmiles(reactants)"
   ]
  },
  {
   "cell_type": "code",
   "execution_count": null,
   "metadata": {},
   "outputs": [],
   "source": []
  },
  {
   "cell_type": "code",
   "execution_count": null,
   "metadata": {},
   "outputs": [],
   "source": []
  },
  {
   "cell_type": "code",
   "execution_count": null,
   "metadata": {},
   "outputs": [],
   "source": [
    "from SynTemp.SynVis.reaction_visualizer import ReactionVisualizer\n",
    "vis = ReactionVisualizer()"
   ]
  },
  {
   "cell_type": "code",
   "execution_count": null,
   "metadata": {},
   "outputs": [],
   "source": [
    "vis.visualize_reaction(test_0_bug.iloc[0]['ground_truth'])"
   ]
  },
  {
   "cell_type": "code",
   "execution_count": null,
   "metadata": {},
   "outputs": [],
   "source": [
    "test_0_bug.iloc[0]['ground_truth']"
   ]
  },
  {
   "cell_type": "code",
   "execution_count": null,
   "metadata": {},
   "outputs": [],
   "source": [
    "import pandas as pd\n",
    "\n",
    "\n",
    "df = pd.read_csv('./Data/USPTO_50K/USPTO_50K.csv')\n",
    "df.drop_duplicates(subset=['reactions'], inplace=True)\n",
    "df['R-id'] = ['USPTO-' + str(i) for i in range(len(df))]\n",
    "df.head(2)"
   ]
  },
  {
   "cell_type": "markdown",
   "metadata": {},
   "source": [
    "# MOD"
   ]
  },
  {
   "cell_type": "code",
   "execution_count": null,
   "metadata": {},
   "outputs": [],
   "source": [
    "from SynTemp.SynUtils.utils import load_database, save_database\n",
    "from SynTemp.SynMØD.MØD_modeling import MØDModeling\n",
    "database = load_database('./test_database.json.gz')\n",
    "fw, bw = MØDModeling.reproduce_reactions(database=database, id_col='R-id', rule_file_path='./Data/uspto/Rule',\n",
    "                                         original_rsmi_col='reactions', repeat_times=1)"
   ]
  },
  {
   "cell_type": "code",
   "execution_count": null,
   "metadata": {},
   "outputs": [],
   "source": [
    "import pandas as pd\n",
    "pd.DataFrame(fw).info()"
   ]
  },
  {
   "cell_type": "code",
   "execution_count": null,
   "metadata": {},
   "outputs": [],
   "source": [
    "import pandas as pd\n",
    "pd.DataFrame(bw).info()"
   ]
  },
  {
   "cell_type": "markdown",
   "metadata": {},
   "source": [
    "Forward prediction"
   ]
  },
  {
   "cell_type": "code",
   "execution_count": null,
   "metadata": {},
   "outputs": [],
   "source": [
    "database = load_database('./test_database.json.gz')\n",
    "test = MØDModeling.forward_prediction(database=database,  rule_file_path='./Data/uspto/Rule',\n",
    "                                         original_rsmi_col='reactions', repeat_times=1)"
   ]
  },
  {
   "cell_type": "code",
   "execution_count": null,
   "metadata": {},
   "outputs": [],
   "source": [
    "pd.DataFrame(test)"
   ]
  },
  {
   "cell_type": "code",
   "execution_count": null,
   "metadata": {},
   "outputs": [],
   "source": [
    "database = load_database('./test_database.json.gz')\n",
    "test_2 = MØDModeling.backward_prediction(database=database,  rule_file_path='./Data/uspto/Rule',\n",
    "                                         original_rsmi_col='reactions', repeat_times=1)"
   ]
  },
  {
   "cell_type": "code",
   "execution_count": null,
   "metadata": {},
   "outputs": [],
   "source": [
    "pd.DataFrame(test_2)"
   ]
  },
  {
   "cell_type": "code",
   "execution_count": null,
   "metadata": {},
   "outputs": [],
   "source": [
    "from SynTemp.SynVis.reaction_visualizer import ReactionVisualizer\n",
    "vis = ReactionVisualizer()\n",
    "for i in range(0, 14):\n",
    "    display(vis.visualize_reaction(test_2[0]['backward_predictions'][i]))"
   ]
  },
  {
   "cell_type": "code",
   "execution_count": null,
   "metadata": {},
   "outputs": [],
   "source": [
    "vis.visualize_reaction(test[0]['forward_predictions'][1])"
   ]
  },
  {
   "cell_type": "code",
   "execution_count": null,
   "metadata": {},
   "outputs": [],
   "source": [
    "test[0]"
   ]
  },
  {
   "cell_type": "code",
   "execution_count": null,
   "metadata": {},
   "outputs": [],
   "source": [
    "from rdkit import Chem\n",
    "from rdkit.Chem import AllChem\n",
    "from scipy.constants import kilo, calorie\n",
    "import numpy as np\n",
    "\n",
    "from rdkit import Chem\n",
    "from rdkit.Chem import AllChem\n",
    "from scipy.constants import kilo, calorie\n",
    "import numpy as np\n",
    "\n",
    "def calculate_delta_g(reaction_smiles: str, temperature: float = 298.15) -> float:\n",
    "    \"\"\"\n",
    "    Calculate the Gibbs free energy change (ΔG) of a chemical reaction based on its reaction SMILES.\n",
    "\n",
    "    Parameters:\n",
    "        reaction_smiles (str): The reaction SMILES string.\n",
    "        temperature (float, optional): The temperature in Kelvin. Defaults to 298.15 K.\n",
    "\n",
    "    Returns:\n",
    "        float: The Gibbs free energy change (ΔG) of the reaction in kcal/mol.\n",
    "    \"\"\"\n",
    "    # Parse reaction SMILES\n",
    "    rxn = AllChem.ReactionFromSmarts(reaction_smiles)\n",
    "\n",
    "    # Calculate the molecular energies of reactants and products\n",
    "    reactant_mols = [mol for mol in rxn.GetReactants()]\n",
    "    product_mols = [mol for mol in rxn.GetProducts()]\n",
    "    \n",
    "    reactant_energies = [AllChem.UFFGetMoleculeForceField(mol, vdwThresh=10.0) for mol in reactant_mols]\n",
    "    product_energies = [AllChem.UFFGetMoleculeForceField(mol, vdwThresh=10.0) for mol in product_mols]\n",
    "\n",
    "    # Calculate the overall energy change (ΔE) of the reaction\n",
    "    delta_e = np.sum(product_energies) - np.sum(reactant_energies)\n",
    "\n",
    "    # Convert ΔE to ΔG using ΔG = ΔE - TΔS, assuming ΔS is negligible\n",
    "    delta_g = delta_e * kilo * (calorie / 1000) / temperature\n",
    "\n",
    "    return delta_g\n",
    "\n",
    "# Example usage:\n",
    "\n",
    "\n",
    "# Example usage:\n",
    "reaction_smiles = 'C=C1C(=C)C2OC1C(=C)C2=C.C=CC(C)=O>>C=C1C(=C)C2OC1C1=C2CC(C(C)=O)CC1'\n",
    "delta_g = calculate_delta_g(reaction_smiles)\n",
    "print(f\"ΔG for the reaction {reaction_smiles}: {delta_g:.2f} kcal/mol\")\n"
   ]
  },
  {
   "cell_type": "code",
   "execution_count": null,
   "metadata": {},
   "outputs": [],
   "source": [
    "rxn = AllChem.ReactionFromSmarts(reaction_smiles, useSmiles= True)\n",
    "\n",
    "# Calculate the molecular energies of reactants and products\n",
    "reactant_mols = [mol for mol in rxn.GetReactants()]\n",
    "product_mols = [mol for mol in rxn.GetProducts()]\n"
   ]
  },
  {
   "cell_type": "code",
   "execution_count": null,
   "metadata": {},
   "outputs": [],
   "source": [
    "reactant_mols[0]"
   ]
  },
  {
   "cell_type": "code",
   "execution_count": null,
   "metadata": {},
   "outputs": [],
   "source": [
    "\n",
    "reactant_energies = [AllChem.UFFGetMoleculeForceField(mol, vdwThresh=10.0) for mol in reactant_mols]\n",
    "product_energies = [AllChem.UFFGetMoleculeForceField(mol, vdwThresh=10.0) for mol in product_mols]\n"
   ]
  },
  {
   "cell_type": "code",
   "execution_count": null,
   "metadata": {},
   "outputs": [],
   "source": []
  },
  {
   "cell_type": "code",
   "execution_count": null,
   "metadata": {},
   "outputs": [],
   "source": [
    "from rdkit import Chem\n",
    "from rdkit.Chem import AllChem\n",
    "\n",
    "# Load molecule from SMILES\n",
    "mol = Chem.MolFromSmiles(\"CCO\")  # Example SMILES, replace with your molecule\n",
    "\n",
    "# Generate 3D coordinates\n",
    "mol = Chem.AddHs(mol)  # Add hydrogens\n",
    "AllChem.EmbedMolecule(mol, AllChem.ETKDG())  # Generate 3D coordinates\n",
    "\n",
    "# Calculate energy\n",
    "ff = AllChem.UFFGetMoleculeForceField(mol)\n",
    "energy = ff.CalcEnergy()\n",
    "\n",
    "print(\"Energy:\", energy)\n"
   ]
  },
  {
   "cell_type": "code",
   "execution_count": null,
   "metadata": {},
   "outputs": [],
   "source": [
    "import glob\n",
    "import copy\n",
    "from typing import List, Any, Dict, Tuple\n",
    "from SynTemp.SynMØD.MØD_postprocess import MØDPostprocess\n",
    "from mod import DG, ruleGMLString, smiles, graphGMLString, addUniverse, addSubset, repeat, rightPredicate\n",
    "from SynTemp.SynUtils.graph_utils import load_gml_as_text\n",
    "\n",
    "\n",
    "\n",
    "class MØDModeling:\n",
    "    \"\"\"\n",
    "    The MØDModeling class encapsulates functionalities for reaction modeling using the MØD toolkit.\n",
    "    It provides methods for forward and backward prediction based on templates library.\n",
    "    \"\"\"\n",
    "    @staticmethod\n",
    "    def smilesFromProduct(product: Any) -> str:\n",
    "        \"\"\"\n",
    "        Converts a product object from a reaction into a SMILES string representation.\n",
    "\n",
    "        The product object, typically a graph representing a molecular structure, is traversed to construct a GML graph\n",
    "        string. This GML string is then converted into a graph object, from which the SMILES representation is derived.\n",
    "\n",
    "        Parameters:\n",
    "        - product (Any): The product object to be converted into SMILES. The object structure is assumed to have vertices\n",
    "                         and edges compatible with molecular graph representations.\n",
    "\n",
    "        Returns:\n",
    "        - str: The SMILES string representation of the product.\n",
    "        \"\"\"\n",
    "        graphString = \"graph [\\n\"\n",
    "        for i, v in enumerate(product.vertices):\n",
    "            graphString += f'  node [ id {i} label \"{v.stringLabel}\" ]\\n'\n",
    "            for e in v.incidentEdges:\n",
    "                if v.id < e.target.id:\n",
    "                    graphString += f'  edge [ source {v.id} target {e.target.id} label \"{e.stringLabel}\" ]\\n'\n",
    "        graphString += \"]\"\n",
    "        graph = graphGMLString(graphString, name=\"Nan\")  \n",
    "        return graph.smiles\n",
    "    \n",
    "    @staticmethod\n",
    "    def categorize_reactions(reactions: List[str], target_reaction: str) -> Tuple[List[str], List[str]]:\n",
    "        \"\"\"\n",
    "        Categorizes the reactions into matches and not matches based on the target reaction.\n",
    "\n",
    "        Args:\n",
    "            reactions (List[str]): A list of reaction SMILES strings to categorize.\n",
    "            target_reaction (str): The target reaction SMILES string to compare against.\n",
    "\n",
    "        Returns:\n",
    "            Tuple[List[str], List[str]]: A tuple containing two lists: matched reactions and non-matched reactions.\n",
    "        \"\"\"\n",
    "        match, not_match = [], []\n",
    "        target_reaction = MØDPostprocess.standardize_rsmi(target_reaction)\n",
    "        for reaction_smiles in reactions:\n",
    "            reaction_smiles = MØDPostprocess.standardize_rsmi(reaction_smiles)\n",
    "            if reaction_smiles == target_reaction:\n",
    "                match.append(reaction_smiles)\n",
    "            else:\n",
    "                not_match.append(reaction_smiles)\n",
    "        return match, list(set(not_match))\n",
    "    \n",
    "    @staticmethod\n",
    "    def reproduce_reactions(database: List[Dict], id_col: str, rule_file_path: str,\n",
    "                            original_rsmi_col: str = 'reactions', repeat_times: int = 1,\n",
    "                            max_solutions: int = 10) -> List[Dict]:\n",
    "        \"\"\"\n",
    "        Processes the database by performing reactions, categorizing them, and updating the database entries.\n",
    "\n",
    "        Args:\n",
    "            database (List[Dict]): The database to process, represented as a list of dictionaries.\n",
    "\n",
    "        Returns:\n",
    "            List[Dict]: The updated database after processing.\n",
    "        \"\"\"\n",
    "        database_fw = copy.deepcopy(database)\n",
    "        for entry in database_fw:\n",
    "            rule_name = entry[id_col]\n",
    "            rule_file = f'{rule_file_path}/{rule_name}.gml'\n",
    "            initial_smiles_list = entry[original_rsmi_col].split('>>')[0].split('.')\n",
    "\n",
    "            # Process reactions\n",
    "            reactions = MØDModeling.perform_reaction(rule_file_path=rule_file, invert_rule=False, \n",
    "                                                    initial_smiles=initial_smiles_list, repeat_times=repeat_times, type='fw',\n",
    "                                                    max_solutions = max_solutions)\n",
    "\n",
    "            # Categorize reactions\n",
    "            match, not_match = MØDModeling.categorize_reactions(reactions, entry[original_rsmi_col])\n",
    "\n",
    "            # Update database entry\n",
    "            entry['positive_reactions'] = match[0] if match else None\n",
    "            entry['negative_reactions'] = not_match\n",
    "\n",
    "        database_bw = copy.deepcopy(database)\n",
    "        for entry in database_bw:\n",
    "            rule_name = entry[id_col]\n",
    "            rule_file = f'{rule_file_path}/{rule_name}.gml'\n",
    "            initial_smiles_list = entry[original_rsmi_col].split('>>')[1].split('.')\n",
    "\n",
    "            # Process reactions\n",
    "            reactions = MØDModeling.perform_reaction(rule_file_path=rule_file, invert_rule=True, \n",
    "                                                    initial_smiles=initial_smiles_list, repeat_times=repeat_times, type='bw',\n",
    "                                                    max_solutions = max_solutions)\n",
    "\n",
    "            # Categorize reactions\n",
    "            match, not_match = MØDModeling.categorize_reactions(reactions, entry[original_rsmi_col])\n",
    "\n",
    "            # Update database entry\n",
    "            entry['positive_reactions'] = match[0] if match else None\n",
    "            entry['negative_reactions'] = not_match\n",
    "\n",
    "        return database_fw, database_bw\n",
    "    \n",
    "    @staticmethod\n",
    "    def forward_prediction(database: List[Dict], rule_file_path: str,\n",
    "                        original_rsmi_col: str = 'reactions', repeat_times: int = 1) -> List[Dict]:\n",
    "        \"\"\"\n",
    "        Processes the database by performing forward reaction predictions for each entry, using the specified rule files.\n",
    "        The function creates a copy of the input database and adds the forward predictions to each entry in the copy, \n",
    "        thereby not modifying the input database in-place.\n",
    "\n",
    "        Args:\n",
    "            database (List[Dict]): The database to process, represented as a list of dictionaries.\n",
    "            rule_file_path (str): The file path where the rule files are stored.\n",
    "            original_rsmi_col (str, optional): The column name in the database that contains the original reaction SMILES. Defaults to 'reactions'.\n",
    "            repeat_times (int, optional): The number of times to repeat the reaction process. Defaults to 1.\n",
    "\n",
    "        Returns:\n",
    "            List[Dict]: A new database list, with each entry updated to include forward reaction predictions.\n",
    "        \"\"\"\n",
    "        # Create a deep copy of the database to avoid modifying the input in-place\n",
    "        database_copy = copy.deepcopy(database)\n",
    "\n",
    "        for entry in database_copy:\n",
    "            reactants_list = entry.get(original_rsmi_col, '').split('>>')[0].split('.')\n",
    "            predictions = []\n",
    "            for rule_file in glob.glob(f'{rule_file_path}/*.gml'):\n",
    "                # Process reactions using each rule file\n",
    "                reactions = MØDModeling.perform_reaction(rule_file_path=rule_file, invert_rule=False, \n",
    "                                                        initial_smiles=reactants_list, repeat_times=repeat_times)\n",
    "                predictions.extend(reactions)\n",
    "            \n",
    "            # Update the entry with aggregated predictions from all rule files\n",
    "            entry['forward_predictions'] = predictions\n",
    "            entry['number_predictions'] = len(predictions)\n",
    "\n",
    "        return database_copy\n",
    "\n",
    "    @staticmethod\n",
    "    def backward_prediction(database: List[Dict], rule_file_path: str,\n",
    "                        original_rsmi_col: str = 'reactions', repeat_times: int = 1) -> List[Dict]:\n",
    "        \"\"\"\n",
    "        Processes the database by performing forward reaction predictions for each entry, using the specified rule files.\n",
    "        The function creates a copy of the input database and adds the forward predictions to each entry in the copy, \n",
    "        thereby not modifying the input database in-place.\n",
    "\n",
    "        Args:\n",
    "            database (List[Dict]): The database to process, represented as a list of dictionaries.\n",
    "            rule_file_path (str): The file path where the rule files are stored.\n",
    "            original_rsmi_col (str, optional): The column name in the database that contains the original reaction SMILES. Defaults to 'reactions'.\n",
    "            repeat_times (int, optional): The number of times to repeat the reaction process. Defaults to 1.\n",
    "\n",
    "        Returns:\n",
    "            List[Dict]: A new database list, with each entry updated to include forward reaction predictions.\n",
    "        \"\"\"\n",
    "        # Create a deep copy of the database to avoid modifying the input in-place\n",
    "        database_copy = copy.deepcopy(database)\n",
    "\n",
    "        for entry in database_copy:\n",
    "            products_list = entry.get(original_rsmi_col, '').split('>>')[1].split('.')\n",
    "            predictions = []\n",
    "            for rule_file in glob.glob(f'{rule_file_path}/*.gml'):\n",
    "                # Process reactions using each rule file\n",
    "                reactions = MØDModeling.perform_reaction(rule_file_path=rule_file, invert_rule=True, \n",
    "                                                        initial_smiles=products_list, repeat_times=repeat_times, type ='bw')\n",
    "                predictions.extend(reactions)\n",
    "            \n",
    "            # Update the entry with aggregated predictions from all rule files\n",
    "            entry['backward_predictions'] = predictions\n",
    "            entry['number_predictions'] = len(predictions)\n",
    "\n",
    "        return database_copy\n",
    "    \n",
    "    @staticmethod\n",
    "    def generate_reaction_smiles(temp_results: List[str], base_smiles: str, is_forward: bool = True) -> List[str]:\n",
    "        \"\"\"\n",
    "        Generate reaction SMILES strings based on the temporary results, given the base SMILES string.\n",
    "\n",
    "        Parameters:\n",
    "            temp_results (List[str]): List of temporary result SMILES strings.\n",
    "            base_smiles (str): Base SMILES string representing the reactants or products.\n",
    "            is_forward (bool, optional): Indicates whether the reaction is forward (True) or backward (False). Defaults to True.\n",
    "\n",
    "        Returns:\n",
    "            List[str]: List of reaction SMILES strings.\n",
    "        \"\"\"\n",
    "        results = []\n",
    "        for comb in MØDPostprocess.generate_smiles_combinations(temp_results, base_smiles, True):\n",
    "            joined_smiles = '.'.join(comb)\n",
    "            reaction_smiles = f\"{base_smiles}>>{joined_smiles}\" if is_forward else f\"{joined_smiles}>>{base_smiles}\"\n",
    "            results.append(reaction_smiles)\n",
    "        return results\n",
    "\n",
    "\n",
    "    @staticmethod\n",
    "    def perform_reaction(rule_file_path: str, invert_rule: bool, initial_smiles: List[str], \n",
    "                     repeat_times: int = 1, type: str = 'fw', max_solutions: int = 10) -> List[str]:\n",
    "        \"\"\"\n",
    "        Loads a reaction rule from a GML file, applies it to specified SMILES strings, and generates the resulting products or reaction SMILES.\n",
    "\n",
    "        Parameters:\n",
    "        - rule_file_path (str): Path to the GML file containing the reaction rule.\n",
    "        - invert_rule (bool): Whether to invert the reaction rule. Useful for backward reactions.\n",
    "        - initial_smiles (List[str]): List of initial molecules represented as SMILES strings.\n",
    "        - repeat_times (int): Number of times to repeat the reaction rule. Defaults to 1.\n",
    "        - type (str): Types of prediction: forward (fw) or backward (bw). Defaults to 'fw'.\n",
    "        - max_solutions (int): maximum number of solutions \n",
    "\n",
    "        Returns:\n",
    "        - List[str]: SMILES strings of the resulting molecules or reactions after applying the rule.\n",
    "        \"\"\"\n",
    "\n",
    "        # Convert SMILES strings to molecule objects\n",
    "        initial_molecules = []\n",
    "        max_vertice = 0\n",
    "        for smile in initial_smiles:\n",
    "            initial_molecules.append(smiles(smile))\n",
    "            max_vertice += smiles(smile).numVertices\n",
    "            #print(smiles(smile).numVertices)\n",
    "        # Load the rule from the GML file\n",
    "        gml_content = load_gml_as_text(rule_file_path)\n",
    "        reaction_rule = ruleGMLString(gml_content, invert=invert_rule)\n",
    "\n",
    "        if len (initial_molecules) > 1:\n",
    "        #Define the strategy\n",
    "            # strategy = (addUniverse(initial_molecules[0]) \n",
    "            #             >> addSubset(initial_molecules[1:]) \n",
    "            #             >> rightPredicate[\n",
    "            #                 lambda derivation: all(g.numVertices <= max_vertice for g in derivation.right)\n",
    "            #             ]\n",
    "            #             >> repeat[repeat_times]([reaction_rule]))\n",
    "            strategy = (addUniverse(initial_molecules[0]) >> addSubset(initial_molecules[1:]) >> repeat[repeat_times]([reaction_rule]))\n",
    "        else:\n",
    "            strategy = (addUniverse(initial_molecules[0]) >> addSubset(initial_molecules[0]) >> repeat[repeat_times]([reaction_rule]))\n",
    "\n",
    "        # Initialize the derivation graph with the initial molecules\n",
    "        dg = DG(graphDatabase=initial_molecules)\n",
    "        dg.build().execute(strategy)\n",
    "\n",
    "\n",
    "        # Collect resulting products or reactions\n",
    "        temp_results = [MØDModeling.smilesFromProduct(graph) for graph in dg.products]\n",
    "        if type == 'fw':\n",
    "            reactant_smiles = '.'.join(initial_smiles)\n",
    "            if len(temp_results) <= max_solutions:\n",
    "                return MØDModeling.generate_reaction_smiles(temp_results, reactant_smiles)\n",
    "            else:\n",
    "                # Handle cases with more than 10 temporary results separately\n",
    "                return [f\"{reactant_smiles}>>{smiles}\" for smiles in temp_results\n",
    "                        if MØDPostprocess.get_combined_molecular_formula([smiles]) ==\n",
    "                        MØDPostprocess.get_combined_molecular_formula([reactant_smiles])]\n",
    "        elif type == 'bw':\n",
    "            product_smiles = '.'.join(initial_smiles)\n",
    "            if len(temp_results) <= max_solutions:\n",
    "                return MØDModeling.generate_reaction_smiles(temp_results, product_smiles, is_forward=False)\n",
    "            else:\n",
    "                # Handle cases with more than 10 temporary results separately\n",
    "                return [f\"{smiles}>>{product_smiles}\" for smiles in temp_results\n",
    "                        if MØDPostprocess.get_combined_molecular_formula([smiles]) ==\n",
    "                        MØDPostprocess.get_combined_molecular_formula([product_smiles])]\n",
    "\n",
    "        return []  # Return an empty list for unsupported reaction types\n"
   ]
  }
 ],
 "metadata": {
  "kernelspec": {
   "display_name": "SynITSG",
   "language": "python",
   "name": "python3"
  },
  "language_info": {
   "codemirror_mode": {
    "name": "ipython",
    "version": 3
   },
   "file_extension": ".py",
   "mimetype": "text/x-python",
   "name": "python",
   "nbconvert_exporter": "python",
   "pygments_lexer": "ipython3",
   "version": "3.11.0"
  }
 },
 "nbformat": 4,
 "nbformat_minor": 2
}
