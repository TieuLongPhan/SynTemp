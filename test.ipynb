{
 "cells": [
  {
   "cell_type": "code",
   "execution_count": null,
   "metadata": {},
   "outputs": [],
   "source": [
    "from SynTemp.SynUtils.utils import load_from_pickle, load_database\n",
    "data = load_database('./Data/DPO/USPTO_50K/test.json.gz')"
   ]
  },
  {
   "cell_type": "code",
   "execution_count": null,
   "metadata": {},
   "outputs": [],
   "source": [
    "hier_temp = load_from_pickle('./Data/DPO/USPTO_50K/Hydrogen/hier_rules.pkl.gz')"
   ]
  },
  {
   "cell_type": "code",
   "execution_count": null,
   "metadata": {},
   "outputs": [],
   "source": [
    "from mod import *\n",
    "from SynTemp.SynUtils.graph_utils import load_gml_as_text"
   ]
  },
  {
   "cell_type": "code",
   "execution_count": null,
   "metadata": {},
   "outputs": [],
   "source": [
    "initial_molecules = [smiles(smile) for smile in set(['CCCCS(=O)(=O)Cl', 'COc1cc(C(=O)N2Cc3cccn3Cc3ccccc32)ccc1N'])]\n",
    "gml_content = load_gml_as_text('./Data/DPO/USPTO_50K/Hydrogen/R0/Rules_good/2.gml')\n",
    "reaction_rule = ruleGMLString(gml_content, invert=False)"
   ]
  },
  {
   "cell_type": "code",
   "execution_count": null,
   "metadata": {},
   "outputs": [],
   "source": [
    "from SynTemp.SynUtils.utils import load_from_pickle, load_database\n",
    "hier_temp = load_from_pickle('./Data/DPO/USPTO_50K/Good_hydrogen/hier_rules.pkl.gz')\n",
    "initial_molecules = [smiles(smile) for smile in set(['CCCCS(=O)(=O)Cl', 'COc1cc(C(=O)N2Cc3cccn3Cc3ccccc32)ccc1N'])]\n",
    "\n",
    "initial_smiles = ['CCCCS(=O)(=O)Cl', 'COc1cc(C(=O)N2Cc3cccn3Cc3ccccc32)ccc1N']\n",
    "results = HierEngine.hier_rule_apply(initial_smiles=initial_smiles, hier_temp=hier_temp,rule_file_path='./Data/DPO/USPTO_50K/Good_hydrogen')"
   ]
  },
  {
   "cell_type": "code",
   "execution_count": null,
   "metadata": {},
   "outputs": [],
   "source": [
    "bw"
   ]
  },
  {
   "cell_type": "code",
   "execution_count": 20,
   "metadata": {},
   "outputs": [],
   "source": [
    "from SynTemp.SynUtils.utils import load_from_pickle, load_database\n",
    "data = load_database('./Data/DPO/USPTO_50K/test.json.gz')"
   ]
  },
  {
   "cell_type": "code",
   "execution_count": 16,
   "metadata": {},
   "outputs": [
    {
     "name": "stderr",
     "output_type": "stream",
     "text": [
      "2024-06-11 16:17:57,698 - INFO - Process reaction C1COCCN1.Cc1onc(-c2ccc(F)cn2)c1COc1ccc(C(=O)O)cn1>>Cc1onc(-c2ccc(F)cn2)c1COc1ccc(C(=O)N2CCOCC2)cn1.O\n",
      "2024-06-11 16:18:00,431 - INFO - Process reaction C1COCCN1.Cc1onc(-c2ccc(F)cn2)c1COc1ccc(C(=O)O)cn1>>Cc1onc(-c2ccc(F)cn2)c1COc1ccc(C(=O)N2CCOCC2)cn1.O\n"
     ]
    }
   ],
   "source": [
    "from SynTemp.SynRule.rule_benchmark import RuleBenchmark\n",
    "\n",
    "fw, bw = RuleBenchmark.reproduce_reactions(\n",
    "        database=data[1:2],\n",
    "        rule_class_col='R-id',\n",
    "        rule_file_path='./Data/DPO/USPTO_50K/Good_hydrogen/R0/',\n",
    "        original_rsmi_col='reactions',\n",
    "        repeat_times=1,\n",
    "        use_specific_rules=False,\n",
    "        verbosity=0,\n",
    "        job_timeout=5\n",
    "    )"
   ]
  },
  {
   "cell_type": "code",
   "execution_count": 19,
   "metadata": {},
   "outputs": [
    {
     "data": {
      "text/plain": [
       "0"
      ]
     },
     "execution_count": 19,
     "metadata": {},
     "output_type": "execute_result"
    }
   ],
   "source": [
    "len(fw[0]['unrank'])"
   ]
  },
  {
   "cell_type": "code",
   "execution_count": 18,
   "metadata": {},
   "outputs": [
    {
     "data": {
      "text/plain": [
       "0"
      ]
     },
     "execution_count": 18,
     "metadata": {},
     "output_type": "execute_result"
    }
   ],
   "source": [
    "len(bw[0]['unrank'])"
   ]
  },
  {
   "cell_type": "code",
   "execution_count": 22,
   "metadata": {},
   "outputs": [
    {
     "name": "stderr",
     "output_type": "stream",
     "text": [
      "2024-06-11 16:18:26,307 - INFO - Process reaction CC(C)(C)OC(=O)NCCN.O=[N+]([O-])c1ccc(Cl)c(S(=O)(=O)Cl)c1Cl>>CC(C)(C)OC(=O)NCCNS(=O)(=O)c1c(Cl)ccc([N+](=O)[O-])c1Cl.Cl\n"
     ]
    },
    {
     "name": "stdout",
     "output_type": "stream",
     "text": [
      "0\n",
      "0\n",
      "0\n",
      "2\n",
      "6\n",
      "4\n",
      "0\n",
      "0\n",
      "0\n",
      "0\n",
      "0\n",
      "0\n",
      "0\n",
      "0\n",
      "0\n",
      "0\n",
      "0\n",
      "0\n",
      "0\n",
      "0\n",
      "0\n",
      "0\n",
      "0\n",
      "0\n",
      "0\n",
      "6\n",
      "0\n",
      "0\n",
      "0\n",
      "0\n",
      "0\n",
      "2\n",
      "0\n",
      "0\n",
      "0\n",
      "0\n",
      "0\n",
      "0\n",
      "0\n",
      "0\n",
      "0\n",
      "4\n",
      "0\n",
      "0\n",
      "0\n",
      "1\n",
      "0\n",
      "0\n",
      "0\n",
      "0\n",
      "2\n",
      "0\n",
      "0\n",
      "0\n",
      "0\n",
      "4\n",
      "0\n",
      "0\n",
      "0\n",
      "0\n",
      "0\n",
      "0\n",
      "0\n",
      "0\n",
      "0\n",
      "0\n",
      "0\n",
      "0\n",
      "0\n",
      "0\n",
      "0\n",
      "0\n",
      "0\n",
      "0\n",
      "0\n",
      "0\n",
      "0\n",
      "0\n",
      "0\n",
      "0\n",
      "0\n",
      "0\n",
      "0\n",
      "0\n",
      "0\n",
      "0\n",
      "0\n",
      "0\n",
      "0\n",
      "0\n",
      "0\n",
      "0\n",
      "0\n",
      "0\n",
      "0\n",
      "0\n",
      "0\n",
      "0\n",
      "0\n",
      "0\n",
      "0\n",
      "0\n",
      "0\n",
      "0\n",
      "0\n",
      "0\n",
      "2\n",
      "0\n",
      "0\n",
      "0\n",
      "0\n",
      "0\n",
      "0\n",
      "0\n",
      "0\n",
      "0\n",
      "0\n",
      "0\n",
      "0\n",
      "0\n",
      "0\n",
      "0\n",
      "0\n",
      "0\n",
      "0\n",
      "0\n",
      "0\n",
      "0\n",
      "0\n",
      "0\n",
      "0\n",
      "0\n",
      "0\n",
      "0\n",
      "0\n",
      "0\n",
      "0\n",
      "0\n",
      "0\n",
      "0\n",
      "0\n",
      "0\n",
      "0\n",
      "0\n",
      "0\n",
      "0\n",
      "0\n",
      "0\n",
      "0\n",
      "0\n",
      "0\n",
      "0\n",
      "0\n",
      "0\n",
      "0\n",
      "0\n",
      "0\n",
      "0\n",
      "0\n",
      "0\n",
      "0\n",
      "0\n",
      "0\n",
      "0\n",
      "0\n",
      "0\n",
      "0\n",
      "0\n",
      "0\n",
      "0\n",
      "0\n",
      "0\n",
      "0\n",
      "0\n",
      "0\n",
      "0\n",
      "0\n",
      "0\n",
      "0\n",
      "0\n",
      "0\n",
      "0\n",
      "['C(N(CCN)S(C1:C(:C:C:C(:C:1Cl)[N+]([O-])=O)Cl)(=O)=O)(OC(C)(C)C)=O', 'Cl']\n",
      "['Cl', 'C(NCCNS(C1:C(:C:C:C(:C:1Cl)[N+]([O-])=O)Cl)(=O)=O)(OC(C)(C)C)=O']\n",
      "['C1(:C:C(:C(:C(:C:1S(Cl)(=O)=O)Cl)[N+]([O-])=O)C(OC(C)(C)C)=O)Cl', 'C(CN)N']\n",
      "['C(N)(OC(C)(C)C)=O', 'C1:C(:C(:C(:C(:C:1CCN)[N+]([O-])=O)Cl)S(Cl)(=O)=O)Cl']\n",
      "['C(NCCC1:C:C(:C(:C(:C:1[N+]([O-])=O)Cl)S(Cl)(=O)=O)Cl)(OC(C)(C)C)=O', 'N']\n",
      "['C(CN)N', 'C1(:C(:C(:C(:C:C:1[N+]([O-])=O)C(OC(C)(C)C)=O)Cl)S(Cl)(=O)=O)Cl']\n",
      "['C(N)(OC(C)(C)C)=O', 'C1:C(:C(:C(:C(:C:1[N+]([O-])=O)Cl)S(Cl)(=O)=O)Cl)CCN']\n",
      "['N', 'C(NCCC1:C:C(:C(:C(:C:1Cl)S(Cl)(=O)=O)Cl)[N+]([O-])=O)(OC(C)(C)C)=O']\n",
      "['C(N(C1:C:C:C(:C(:C:1S(Cl)(=O)=O)Cl)[N+]([O-])=O)CCN)(OC(C)(C)C)=O', 'Cl']\n",
      "['Cl', 'C(NCCNC1:C:C:C(:C(:C:1S(Cl)(=O)=O)Cl)[N+]([O-])=O)(OC(C)(C)C)=O']\n",
      "['Cl', 'C(N(C1:C(:C(:C:C:C:1[N+]([O-])=O)Cl)S(Cl)(=O)=O)CCN)(OC(C)(C)C)=O']\n",
      "['Cl', 'C(NCCNC1:C(:C(:C:C:C:1[N+]([O-])=O)Cl)S(Cl)(=O)=O)(OC(C)(C)C)=O']\n",
      "['C(NCCN)(OC(C)(C)CC1:C:C:C(:C(:C:1S(Cl)(=O)=O)Cl)[N+]([O-])=O)=O', 'Cl']\n",
      "['Cl', 'C(NC(C1:C:C:C(:C(:C:1S(Cl)(=O)=O)Cl)[N+]([O-])=O)CN)(OC(C)(C)C)=O']\n",
      "['Cl', 'C(NCC(C1:C:C:C(:C(:C:1S(Cl)(=O)=O)Cl)[N+]([O-])=O)N)(OC(C)(C)C)=O']\n",
      "['Cl', 'C(NCCN)(OC(C)(C)CC1:C(:C(:C:C:C:1[N+]([O-])=O)Cl)S(Cl)(=O)=O)=O']\n",
      "['Cl', 'C(NC(C1:C(:C(:C:C:C:1[N+]([O-])=O)Cl)S(Cl)(=O)=O)CN)(OC(C)(C)C)=O']\n",
      "['Cl', 'C(NCC(C1:C(:C(:C:C:C:1[N+]([O-])=O)Cl)S(Cl)(=O)=O)N)(OC(C)(C)C)=O']\n",
      "['C1:C(:C(:C(:C(:C:1C(NCCN)(O)OC(C)(C)C)[N+]([O-])=O)Cl)S(Cl)(=O)=O)Cl']\n",
      "['C1:C(:C(:C(:C(:C:1[N+]([O-])=O)Cl)S(Cl)(=O)=O)Cl)C(NCCN)(O)OC(C)(C)C']\n",
      "['CC(C)(C)Cl', 'C(NCCN)(OC1:C:C:C(:C(:C:1S(Cl)(=O)=O)Cl)[N+]([O-])=O)=O']\n",
      "['C1:C:C(:C(:C(:C:1OC(C)(C)C)S(Cl)(=O)=O)Cl)[N+]([O-])=O', 'C(Cl)(NCCN)=O']\n",
      "['CC(C)(C)Cl', 'C(NCCN)(OC1:C(:C(:C:C:C:1[N+]([O-])=O)Cl)S(Cl)(=O)=O)=O']\n",
      "['C(Cl)(NCCN)=O', 'C1:C:C(:C(:C(:C:1Cl)S(Cl)(=O)=O)OC(C)(C)C)[N+]([O-])=O']\n",
      "['C(NCCN1C2:C:C:C(:C1:C:2S(Cl)(=O)=O)[N+]([O-])=O)(OC(C)(C)C)=O', 'Cl', 'Cl']\n",
      "['C1:C(:C(:C(:C(:C:1C2(NCCN2)OC(C)(C)C)[N+]([O-])=O)Cl)S(Cl)(=O)=O)Cl', 'O']\n",
      "['O', 'C1:C(:C(:C(:C(:C:1[N+]([O-])=O)Cl)S(Cl)(=O)=O)Cl)C2(NCCN2)OC(C)(C)C']\n",
      "['C1:C(:C(:C(:C(:C:1C(C)(C)C)[N+]([O-])=O)Cl)S(Cl)(=O)=O)Cl', 'C(NCCN)(O)=O']\n",
      "['CC(C)(C)O', 'C1(:C:C(:C(:C(:C:1S(Cl)(=O)=O)Cl)[N+]([O-])=O)C(NCCN)=O)Cl']\n",
      "['C(NCCN)(O)=O', 'C1:C(:C(:C(:C(:C:1[N+]([O-])=O)Cl)S(Cl)(=O)=O)Cl)C(C)(C)C']\n",
      "['CC(C)(C)O', 'C1(:C(:C(:C(:C:C:1[N+]([O-])=O)C(NCCN)=O)Cl)S(Cl)(=O)=O)Cl']\n",
      "['C1(:C:C(:C(:C(:C:1S(Cl)(=O)=O)Cl)[N+]([O-])=O)C(OC(C)(C)C)=NCCN)Cl', 'O']\n",
      "['O', 'C1(:C(:C(:C(:C:C:1[N+]([O-])=O)C(OC(C)(C)C)=NCCN)Cl)S(Cl)(=O)=O)Cl']\n"
     ]
    },
    {
     "name": "stderr",
     "output_type": "stream",
     "text": [
      "2024-06-11 16:18:26,723 - INFO - Process reaction CC(C)(C)OC(=O)NCCN.O=[N+]([O-])c1ccc(Cl)c(S(=O)(=O)Cl)c1Cl>>CC(C)(C)OC(=O)NCCNS(=O)(=O)c1c(Cl)ccc([N+](=O)[O-])c1Cl.Cl\n"
     ]
    },
    {
     "name": "stdout",
     "output_type": "stream",
     "text": [
      "0\n",
      "0\n",
      "0\n",
      "1\n",
      "0\n",
      "3\n",
      "0\n",
      "2\n",
      "0\n",
      "0\n",
      "0\n",
      "0\n",
      "0\n",
      "0\n",
      "0\n",
      "0\n",
      "0\n",
      "0\n",
      "0\n",
      "0\n",
      "0\n",
      "0\n",
      "0\n",
      "0\n",
      "0\n",
      "4\n",
      "0\n",
      "0\n",
      "0\n",
      "0\n",
      "0\n",
      "0\n",
      "0\n",
      "0\n",
      "0\n",
      "0\n",
      "0\n",
      "0\n",
      "0\n",
      "0\n",
      "0\n",
      "0\n",
      "0\n",
      "0\n",
      "1\n",
      "0\n",
      "0\n",
      "0\n",
      "0\n",
      "0\n",
      "0\n",
      "0\n",
      "0\n",
      "0\n",
      "0\n",
      "0\n",
      "0\n",
      "0\n",
      "0\n",
      "0\n",
      "0\n",
      "0\n",
      "0\n",
      "0\n",
      "0\n",
      "0\n",
      "0\n",
      "0\n",
      "0\n",
      "0\n",
      "0\n",
      "0\n",
      "0\n",
      "0\n",
      "0\n",
      "0\n",
      "0\n",
      "0\n",
      "0\n",
      "0\n",
      "0\n",
      "0\n",
      "0\n",
      "0\n",
      "0\n",
      "0\n",
      "0\n",
      "0\n",
      "0\n",
      "0\n",
      "0\n",
      "0\n",
      "0\n",
      "0\n",
      "0\n",
      "0\n",
      "0\n",
      "0\n",
      "0\n",
      "0\n",
      "0\n",
      "0\n",
      "0\n",
      "6\n",
      "0\n",
      "0\n",
      "0\n",
      "0\n",
      "0\n",
      "0\n",
      "0\n",
      "0\n",
      "0\n",
      "0\n",
      "0\n",
      "0\n",
      "0\n",
      "0\n",
      "0\n",
      "0\n",
      "0\n",
      "0\n",
      "0\n",
      "0\n",
      "0\n",
      "0\n",
      "0\n",
      "0\n",
      "0\n",
      "0\n",
      "0\n",
      "0\n",
      "0\n",
      "0\n",
      "0\n",
      "0\n",
      "0\n",
      "0\n",
      "0\n",
      "0\n",
      "0\n",
      "0\n",
      "0\n",
      "0\n",
      "0\n",
      "0\n",
      "0\n",
      "0\n",
      "0\n",
      "0\n",
      "0\n",
      "0\n",
      "0\n",
      "0\n",
      "0\n",
      "0\n",
      "0\n",
      "0\n",
      "0\n",
      "0\n",
      "0\n",
      "0\n",
      "0\n",
      "0\n",
      "0\n",
      "1\n",
      "0\n",
      "0\n",
      "0\n",
      "0\n",
      "0\n",
      "0\n",
      "0\n",
      "0\n",
      "0\n",
      "0\n",
      "0\n",
      "0\n",
      "0\n",
      "0\n",
      "0\n",
      "0\n",
      "['C(NCCN)(OC(C)(C)C)=O', 'C1(:C(:C(:C:C:C:1[N+]([O-])=O)Cl)S(Cl)(=O)=O)Cl']\n",
      "['C(Cl)(OC(C)(C)C)=O', 'C1:C:C(:C(:C(:C:1[N+]([O-])=O)Cl)S(NCCN)(=O)=O)Cl']\n",
      "['C(N)(OC(C)(C)C)=O', 'C1:C:C(:C(:C(:C:1Cl)S(NCCCl)(=O)=O)Cl)[N+]([O-])=O']\n",
      "['C(NCCCl)(OC(C)(C)C)=O', 'C1:C:C(:C(:C(:C:1[N+]([O-])=O)Cl)S(N)(=O)=O)Cl']\n",
      "['CC(C)(C)Cl', 'C(NCCNS(C1:C(:C:C:C(:C:1Cl)[N+]([O-])=O)Cl)(=O)=O)(O)=O']\n",
      "['CC(C)(C)O', 'C(Cl)(NCCNS(C1:C(:C:C:C(:C:1Cl)[N+]([O-])=O)Cl)(=O)=O)=O']\n",
      "['CCl', 'C(NCCNS(C1:C(:C:C:C(:C:1Cl)[N+]([O-])=O)Cl)(=O)=O)(OC(C)C)=O']\n",
      "['C', 'C(NCCNS(C1:C(:C:C:C(:C:1Cl)[N+]([O-])=O)Cl)(=O)=O)(OC(C)(C)Cl)=O']\n",
      "['C(NCCl)(OC(C)(C)C)=O', 'C1:C:C(:C(:C(:C:1[N+]([O-])=O)Cl)S(NC)(=O)=O)Cl']\n",
      "['C(NC)(OC(C)(C)C)=O', 'C1:C:C(:C(:C(:C:1Cl)S(NCCl)(=O)=O)Cl)[N+]([O-])=O']\n",
      "['C(NCCNS(=O)=O)(OC(C)(C)C)=O', 'C1(:C:C:C(:C(:C:1Cl)Cl)Cl)[N+]([O-])=O']\n",
      "['C(Cl)(OC(C)(C)C)=O', 'C1:C:C(:C(:C(:C:1)[N+]([O-])=O)Cl)S(NCCNCl)(=O)=O']\n",
      "['C(NCl)(OC(C)(C)C)=O', 'C1:C:C(:C(:C(:C:1)[N+]([O-])=O)Cl)S(NCCCl)(=O)=O']\n",
      "['C(NCCCl)(OC(C)(C)C)=O', 'C1:C:C(:C(:C(:C:1)[N+]([O-])=O)Cl)S(NCl)(=O)=O']\n",
      "['C(Cl)(OC(C)(C)C)=O', 'C1:C:C(:C:C(:C:1Cl)S(NCCNCl)(=O)=O)[N+]([O-])=O']\n",
      "['C(NCl)(OC(C)(C)C)=O', 'C1:C:C(:C:C(:C:1Cl)S(NCCCl)(=O)=O)[N+]([O-])=O']\n",
      "['C(NCCCl)(OC(C)(C)C)=O', 'C1:C:C(:C:C(:C:1Cl)S(NCl)(=O)=O)[N+]([O-])=O']\n",
      "['C(NCCNS(O)=O)(OC(C)(C)C)=O', 'C1(:C:C:C(:C(:C:1Cl)Cl)Cl)[N+]([O-])=O']\n"
     ]
    }
   ],
   "source": [
    "from SynTemp.SynRule.rule_benchmark import RuleBenchmark\n",
    "\n",
    "fw_hier, bw_hier = RuleBenchmark.reproduce_reactions(\n",
    "        database=data[0:1],\n",
    "        rule_class_col='R-id',\n",
    "        rule_file_path='./Data/DPO/USPTO_50K/Good_hydrogen/R0',\n",
    "        original_rsmi_col='reactions',\n",
    "        repeat_times=1,\n",
    "        use_specific_rules=False,\n",
    "        verbosity=0,\n",
    "        job_timeout=5,\n",
    "        hierarchical=True,\n",
    "        max_radius=3\n",
    "    )"
   ]
  },
  {
   "cell_type": "code",
   "execution_count": 25,
   "metadata": {},
   "outputs": [
    {
     "data": {
      "text/plain": [
       "33"
      ]
     },
     "execution_count": 25,
     "metadata": {},
     "output_type": "execute_result"
    }
   ],
   "source": [
    "len(fw_hier[0]['unrank'])"
   ]
  },
  {
   "cell_type": "code",
   "execution_count": null,
   "metadata": {},
   "outputs": [],
   "source": [
    "len(bw_hier[0]['unrank'])"
   ]
  },
  {
   "cell_type": "code",
   "execution_count": null,
   "metadata": {},
   "outputs": [],
   "source": [
    "bw_hier"
   ]
  },
  {
   "cell_type": "code",
   "execution_count": null,
   "metadata": {},
   "outputs": [],
   "source": [
    "fw_hier"
   ]
  },
  {
   "cell_type": "code",
   "execution_count": null,
   "metadata": {},
   "outputs": [],
   "source": [
    "rule_file_path='./Data/DPO/USPTO_50K/Non_hydrogen/R0'"
   ]
  },
  {
   "cell_type": "code",
   "execution_count": null,
   "metadata": {},
   "outputs": [],
   "source": [
    "temp_results[3]"
   ]
  },
  {
   "cell_type": "code",
   "execution_count": null,
   "metadata": {},
   "outputs": [],
   "source": [
    "len(temp_results)"
   ]
  },
  {
   "cell_type": "code",
   "execution_count": null,
   "metadata": {},
   "outputs": [],
   "source": [
    "temp_results"
   ]
  },
  {
   "cell_type": "code",
   "execution_count": null,
   "metadata": {},
   "outputs": [],
   "source": [
    "# Original list of lists\n",
    "smiles_lists = [\n",
    "    ['C1:C:C:C2CN(C3:C(:C:C:C:C:3)CN:1:2)C(C4:C:C:C(:C(:C:4)OC)N)(CCCCS(Cl)(=O)=O)O'],\n",
    "    ['C1:C:C:C2CN(C3:C(:C:C:C:C:3)CN:1:2)C(C4:C:C:C(:C(:C:4)OC)N)(C(C)CCS(Cl)(=O)=O)O'],\n",
    "    ['C1:C:C:C2CN(C3:C(:C:C:C:C:3)CN:1:2)C(C4:C:C:C(:C(:C:4)OC)N)(C(CS(Cl)(=O)=O)CC)O'],\n",
    "    ['C1:C:C:C2CN(C3:C(:C:C:C:C:3)CN:1:2)C(C4:C:C:C(:C(:C:4)OC)C)(C(CCC)S(Cl)(=O)=O)O'],\n",
    "    ['C1:C:C:C2CN(C3:C(:C:C:C:C:3)CN:1:2)C(C4:C:C:C(:C(:C:4)OC)N)(CCCCS(Cl)(=O)=O)O']  # Duplicate\n",
    "]\n",
    "\n",
    "# Convert lists to tuples and store in a set to remove duplicates\n",
    "unique_smiles_tuples = set(tuple(smiles) for smiles in smiles_lists)\n",
    "\n",
    "# Convert the set of tuples back into a list of lists\n",
    "unique_smiles_lists = [list(smiles) for smiles in unique_smiles_tuples]\n",
    "\n",
    "# Print or return the unique list of lists\n",
    "print(unique_smiles_lists)\n"
   ]
  },
  {
   "cell_type": "code",
   "execution_count": null,
   "metadata": {},
   "outputs": [],
   "source": [
    "set([['C1:C:C:C2CN(C3:C(:C:C:C:C:3)CN:1:2)C(C4:C:C:C(:C(:C:4)OC)N)(CCCCS(Cl)(=O)=O)O'], ['C1:C:C:C2CN(C3:C(:C:C:C:C:3)CN:1:2)C(C4:C:C:C(:C(:C:4)OC)N)(C(C)CCS(Cl)(=O)=O)O'], ['C1:C:C:C2CN(C3:C(:C:C:C:C:3)CN:1:2)C(C4:C:C:C(:C(:C:4)OC)N)(C(CS(Cl)(=O)=O)CC)O'], ['C1:C:C:C2CN(C3:C(:C:C:C:C:3)CN:1:2)C(C4:C:C:C(:C(:C:4)OC)N)(C(CCC)S(Cl)(=O)=O)O']])"
   ]
  },
  {
   "cell_type": "code",
   "execution_count": null,
   "metadata": {},
   "outputs": [],
   "source": [
    "hier_rule_apply(initial_molecules, './Data/DPO/USPTO_50K/Hydrogen', hier_temp, radius=0, rule_id = 0)"
   ]
  },
  {
   "cell_type": "code",
   "execution_count": null,
   "metadata": {},
   "outputs": [],
   "source": [
    "hier_temp[0]"
   ]
  },
  {
   "cell_type": "code",
   "execution_count": null,
   "metadata": {},
   "outputs": [],
   "source": [
    "gml_content = load_gml_as_text('./Data/DPO/USPTO_50K/Hydrogen/R1/Rules_good/154.gml')\n",
    "reaction_rule = ruleGMLString(gml_content, invert=False)"
   ]
  },
  {
   "cell_type": "code",
   "execution_count": null,
   "metadata": {},
   "outputs": [],
   "source": [
    "rule_check(initial_molecules, reaction_rule)"
   ]
  },
  {
   "cell_type": "code",
   "execution_count": null,
   "metadata": {},
   "outputs": [],
   "source": [
    "dg = DG(graphDatabase=initial_molecules)\n",
    "# dg.build().execute(strategy, verbosity=8)\n",
    "dg.build().apply(initial_molecules, reaction_rule)\n",
    "\n",
    "temp_results = []\n",
    "for e in dg.edges:\n",
    "    productSmiles = [v.graph.smiles for v in e.targets]\n",
    "    temp_results.append(productSmiles)"
   ]
  },
  {
   "cell_type": "code",
   "execution_count": null,
   "metadata": {},
   "outputs": [],
   "source": [
    "len(temp_results)"
   ]
  },
  {
   "cell_type": "code",
   "execution_count": null,
   "metadata": {},
   "outputs": [],
   "source": []
  },
  {
   "cell_type": "code",
   "execution_count": null,
   "metadata": {},
   "outputs": [],
   "source": []
  },
  {
   "cell_type": "code",
   "execution_count": null,
   "metadata": {},
   "outputs": [],
   "source": []
  },
  {
   "cell_type": "code",
   "execution_count": null,
   "metadata": {},
   "outputs": [],
   "source": [
    "ground_truth = {'R-id':1, 'ground_truth': \"CCO.O=C(OCc1ccccc1)[NH:7][C:6]1([PH:8](=[O:9])[NH:10][C:11](=[O:12])[CH2:13][O:14][c:15]2[cH:16][cH:17][cH:18][cH:19][cH:20]2)[CH2:5][CH2:4][CH2:3][N:2]([NH2:1])[C:21]1=[O:22]>>[NH2:1][N:2]1[CH2:3][CH2:4][CH2:5][C:6]([NH2:7])([PH:8](=[O:9])[NH:10][C:11](=[O:12])[CH2:13][O:14][c:15]2[cH:16][cH:17][cH:18][cH:19][cH:20]2)[C:21]1=[O:22]\"}\n",
    "rxn =  {'R-id':2, 'rxn_mapper': \"[CH2:2]([CH3:1])[OH:3].[cH:30]1[cH:29][c:28]([cH:33][cH:32][cH:31]1)[O:27][CH2:26][C:24](=[O:25])[NH:23][P:21](=[O:22])[C:9]2([C:34](=[O:35])[N:5]([NH2:4])[CH2:6][CH2:7][CH2:8]2)[NH:10][C:11](=[O:12])[O:13][CH2:14][c:15]3[cH:16][cH:17][cH:18][cH:19][cH:20]3>>[cH:30]1[cH:29][c:28]([cH:33][cH:32][cH:31]1)[O:27][CH2:26][C:24](=[O:25])[NH:23][P:21]([C:9]2([CH2:8][CH2:7][CH2:6][N:5]([C:34]2=[O:35])[NH2:4])[NH2:10])=[O:22]\"}"
   ]
  },
  {
   "cell_type": "code",
   "execution_count": null,
   "metadata": {},
   "outputs": [],
   "source": [
    "from SynTemp.SynITS.its_extraction import ITSExtraction\n",
    "ground_truth_its = ITSExtraction.process_mapped_smiles(ground_truth, ['ground_truth'])[1]\n",
    "rxn_its = ITSExtraction.process_mapped_smiles(rxn, ['rxn_mapper'])[1]"
   ]
  },
  {
   "cell_type": "code",
   "execution_count": null,
   "metadata": {},
   "outputs": [],
   "source": [
    "rxn_its"
   ]
  },
  {
   "cell_type": "code",
   "execution_count": null,
   "metadata": {},
   "outputs": [],
   "source": [
    "from SynTemp.SynVis.chemical_graph_visualizer import ChemicalGraphVisualizer\n",
    "vis_graph = ChemicalGraphVisualizer(42)\n",
    "vis_graph.vis_three_graph(ground_truth_its['ITSGraph'])"
   ]
  },
  {
   "cell_type": "code",
   "execution_count": null,
   "metadata": {},
   "outputs": [],
   "source": [
    "vis_graph.vis_three_graph(rxn_its['ITSGraph'])"
   ]
  },
  {
   "cell_type": "code",
   "execution_count": null,
   "metadata": {},
   "outputs": [],
   "source": []
  }
 ],
 "metadata": {
  "kernelspec": {
   "display_name": "SynITSG",
   "language": "python",
   "name": "python3"
  },
  "language_info": {
   "codemirror_mode": {
    "name": "ipython",
    "version": 3
   },
   "file_extension": ".py",
   "mimetype": "text/x-python",
   "name": "python",
   "nbconvert_exporter": "python",
   "pygments_lexer": "ipython3",
   "version": "3.11.0"
  }
 },
 "nbformat": 4,
 "nbformat_minor": 2
}
