{
 "cells": [
  {
   "cell_type": "code",
   "execution_count": null,
   "metadata": {},
   "outputs": [],
   "source": [
    "from SynTemp.SynUtils.utils import load_database, load_from_pickle\n",
    "data = load_from_pickle('./Data/uspto/uspto_its_graph_rules_cluster.pkl.gz')"
   ]
  },
  {
   "cell_type": "code",
   "execution_count": null,
   "metadata": {},
   "outputs": [],
   "source": [
    "from SynTemp.SynRule.rule_cluster import NaiveCluster\n",
    "node_label_names = [\"element\", \"charge\"]\n",
    "naive_cluster = NaiveCluster(node_label_names=node_label_names, node_label_default=[\"*\", 0], edge_attribute=\"order\")\n",
    "its_graph_rules_cluster = naive_cluster.process_rules_clustering(data, rule_column='GraphRules')"
   ]
  },
  {
   "cell_type": "code",
   "execution_count": null,
   "metadata": {},
   "outputs": [],
   "source": [
    "its_graph_rules_cluster[0]"
   ]
  },
  {
   "cell_type": "code",
   "execution_count": null,
   "metadata": {},
   "outputs": [],
   "source": [
    "from SynTemp.SynUtils.utils import stratified_random_sample\n",
    "import pandas as pd\n",
    "sampled_data = stratified_random_sample(its_graph_rules_cluster, property_key='naive_cluster', samples_per_class=1, seed=23)\n",
    "pd.DataFrame(sampled_data)['Reaction Type'].value_counts()"
   ]
  },
  {
   "cell_type": "code",
   "execution_count": null,
   "metadata": {},
   "outputs": [],
   "source": [
    "single = [x['GraphRules'][2] for x in sampled_data if x['Reaction Type'] == 'Single Cyclic']\n",
    "complex = [x['GraphRules'][2] for x in sampled_data if x['Reaction Type'] == 'Complex Cyclic']\n",
    "neither = [x['GraphRules'][2] for x in sampled_data if x['Reaction Type'] == 'None']\n",
    "acyclic = [x['GraphRules'][2] for x in sampled_data if x['Reaction Type'] == 'Acyclic']"
   ]
  },
  {
   "cell_type": "code",
   "execution_count": null,
   "metadata": {},
   "outputs": [],
   "source": [
    "from SynTemp.SynVis.chemical_graph_vis import ChemicalGraphVisualizer\n",
    "vis = ChemicalGraphVisualizer()\n",
    "vis.graph_vis(complex[4], show_node_labels=True)"
   ]
  },
  {
   "cell_type": "code",
   "execution_count": null,
   "metadata": {},
   "outputs": [],
   "source": [
    "from SynTemp.SynRule.rule_decompose import GraphRuleDecompose"
   ]
  },
  {
   "cell_type": "code",
   "execution_count": null,
   "metadata": {},
   "outputs": [],
   "source": [
    "from copy import deepcopy\n",
    "complex_graph = complex[11]\n",
    "# Add nodes and edges to complex_graph with the required attributes\n",
    "\n",
    "single_cyclic_graphs = deepcopy(single)\n",
    "# Define your single cyclic graphs by adding nodes and edges with the required attributes\n",
    "\n",
    "# Call the function\n",
    "explained_graphs = GraphRuleDecompose.bfs_remove_isomorphic_subgraphs(complex_graph, single_cyclic_graphs)\n",
    "\n",
    "if explained_graphs is not None:\n",
    "    print(\"List of single cyclic graphs that explain the complex graph:\", explained_graphs)\n",
    "    GraphRuleDecompose.visualize_with_common_subgraphs(complex_graph, explained_graphs)\n",
    "else:\n",
    "    print(\"Some parts of the complex graph could not be explained by any of the single cyclic graphs.\")"
   ]
  },
  {
   "cell_type": "code",
   "execution_count": null,
   "metadata": {},
   "outputs": [],
   "source": [
    "import pandas as pd \n",
    "\n",
    "df = pd.read_csv('./Data/golden/golden_dataset.csv')\n",
    "df.head(2)\n",
    "\n",
    "from SynTemp.SynUtils.utils import load_database\n",
    "data = load_database('./Data/golden/golden_aam_reactions.json.gz')\n",
    "for key, value in enumerate(data):\n",
    "    data[key]['ground_truth'] = df.iloc[key,0]"
   ]
  },
  {
   "cell_type": "code",
   "execution_count": null,
   "metadata": {},
   "outputs": [],
   "source": [
    "from SynTemp.SynUtils.utils import load_database\n",
    "data = load_database('./Data/golden/golden_aam_reactions.json.gz')\n",
    "for key, value in enumerate(data):\n",
    "    data[key]['ground_truth'] = df.iloc[key,0]"
   ]
  },
  {
   "cell_type": "code",
   "execution_count": null,
   "metadata": {},
   "outputs": [],
   "source": [
    "pd.DataFrame(data).info()"
   ]
  },
  {
   "cell_type": "code",
   "execution_count": null,
   "metadata": {},
   "outputs": [],
   "source": [
    "from SynTemp.SynAAM.aam_validator import AMMValidator \n",
    "for key, value in enumerate(data):\n",
    "    try:\n",
    "        AMMValidator.smiles_check(data[key]['ground_truth'], data[key]['rdt'])\n",
    "    except:\n",
    "        print(key)"
   ]
  },
  {
   "cell_type": "code",
   "execution_count": null,
   "metadata": {},
   "outputs": [],
   "source": [
    "data[366]['rdt']"
   ]
  },
  {
   "cell_type": "code",
   "execution_count": null,
   "metadata": {},
   "outputs": [],
   "source": [
    "from SynTemp.SynAAM.aam_validator import AMMValidator  \n",
    "results = AMMValidator.validate_smiles(data=data, ground_truth_col='ground_truth', \n",
    "                                       mapped_cols=['rxn_mapper', 'graphormer', 'local_mapper', 'rdt'], \n",
    "                                       check_method='RC', \n",
    "                                       ignore_aromaticity=False, n_jobs=4, verbose=0)"
   ]
  },
  {
   "cell_type": "code",
   "execution_count": null,
   "metadata": {},
   "outputs": [],
   "source": [
    "pd.DataFrame(results)[['mapper', 'accuracy']]"
   ]
  },
  {
   "cell_type": "code",
   "execution_count": null,
   "metadata": {},
   "outputs": [],
   "source": [
    "from SynTemp.SynAAM.aam_validator import AMMValidator  \n",
    "results = AMMValidator.validate_smiles(data=data, ground_truth_col='Ground turth', \n",
    "                                       mapped_cols=['RXNMapper', 'GraphMapper', 'LocalMapper'], \n",
    "                                       check_method='RC', \n",
    "                                       ignore_aromaticity=False, n_jobs=4, verbose=0)"
   ]
  },
  {
   "cell_type": "code",
   "execution_count": null,
   "metadata": {},
   "outputs": [],
   "source": [
    "pd.DataFrame(results)[['mapper', 'accuracy']]"
   ]
  },
  {
   "cell_type": "code",
   "execution_count": null,
   "metadata": {},
   "outputs": [],
   "source": [
    "pd.DataFrame(results)[['mapper', 'accuracy']]"
   ]
  },
  {
   "cell_type": "code",
   "execution_count": null,
   "metadata": {},
   "outputs": [],
   "source": []
  },
  {
   "cell_type": "code",
   "execution_count": null,
   "metadata": {},
   "outputs": [],
   "source": [
    "from SynTemp.SynUtils.utils import load_database\n",
    "recon = load_database('./Data/Recon3D/Recon3D_aam_reactions.json.gz')\n",
    "\n",
    "from SynTemp.SynAAM.aam_validator import AMMValidator  \n",
    "results, _ = AMMValidator.validate_smiles(data=recon, ground_truth_col='ground_truth', \n",
    "                                       mapped_cols=['rxn_mapper', 'graphormer', 'local_mapper', 'rdt'], \n",
    "                                       check_method='RC', \n",
    "                                       ignore_aromaticity=False, n_jobs=4, verbose=0, ensemble=True)"
   ]
  },
  {
   "cell_type": "code",
   "execution_count": null,
   "metadata": {},
   "outputs": [],
   "source": [
    "pd.DataFrame(recon).to_csv('./Data/Recon3D/Recon3D_aam_reactions.csv')"
   ]
  },
  {
   "cell_type": "code",
   "execution_count": null,
   "metadata": {},
   "outputs": [],
   "source": [
    "import pandas as pd\n",
    "pd.DataFrame(results)[['mapper', 'accuracy', 'success_rate']]"
   ]
  },
  {
   "cell_type": "code",
   "execution_count": null,
   "metadata": {},
   "outputs": [],
   "source": [
    "import pandas as pd"
   ]
  },
  {
   "cell_type": "code",
   "execution_count": null,
   "metadata": {},
   "outputs": [],
   "source": [
    "ecoli = pd.read_csv('./Data/ecoli/ecoli.smiles', header=None)\n",
    "ecoli.rename({0:'ground_truth'}, axis=1, inplace=True)\n",
    "ecoli['R-id'] = range(1, len(ecoli) + 1)"
   ]
  },
  {
   "cell_type": "code",
   "execution_count": null,
   "metadata": {},
   "outputs": [],
   "source": [
    "from rdkit import Chem\n",
    "from rdkit.Chem import rdChemReactions\n",
    "ok = []\n",
    "bug = []\n",
    "for key, value in enumerate(ecoli['ground_truth']):\n",
    "    try:\n",
    "        rdChemReactions.ReactionFromSmarts(value)\n",
    "        ok.append(key)\n",
    "    except:\n",
    "        bug.append(key)"
   ]
  },
  {
   "cell_type": "code",
   "execution_count": null,
   "metadata": {},
   "outputs": [],
   "source": [
    "a,b,c =ecoli['ground_truth'][bug[0]].split('>>')"
   ]
  },
  {
   "cell_type": "code",
   "execution_count": null,
   "metadata": {},
   "outputs": [],
   "source": [
    "print(ecoli.iloc[bug,:]['ground_truth'])"
   ]
  },
  {
   "cell_type": "code",
   "execution_count": null,
   "metadata": {},
   "outputs": [],
   "source": [
    "ecoli = ecoli.iloc[ok, :]\n",
    "ecoli.reset_index(drop=True, inplace=True)\n",
    "#ecoli = ecoli.to_dict('records')"
   ]
  },
  {
   "cell_type": "code",
   "execution_count": null,
   "metadata": {},
   "outputs": [],
   "source": [
    "from SynTemp.SynUtils.utils import save_database\n",
    "save_database(ecoli, './Data/ecoli/ecoli_reactions.json.gz')"
   ]
  },
  {
   "cell_type": "code",
   "execution_count": null,
   "metadata": {},
   "outputs": [],
   "source": [
    "Chem.MolFromSmiles(ecoli.loc[189, 'reactions'])"
   ]
  },
  {
   "cell_type": "code",
   "execution_count": null,
   "metadata": {},
   "outputs": [],
   "source": [
    "bug"
   ]
  },
  {
   "cell_type": "code",
   "execution_count": null,
   "metadata": {},
   "outputs": [],
   "source": [
    "\n",
    "rxn = rdChemReactions.ReactionFromSmarts('[C:1](=[O:2])O.[N:3]>>[C:1](=[O:2])[N:3]')\n",
    "reacts = (Chem.MolFromSmiles('C(=O)O'),Chem.MolFromSmiles('CNC'))\n",
    "products = rxn.RunReactants(reacts)"
   ]
  },
  {
   "cell_type": "code",
   "execution_count": null,
   "metadata": {},
   "outputs": [],
   "source": []
  },
  {
   "cell_type": "code",
   "execution_count": null,
   "metadata": {},
   "outputs": [],
   "source": [
    "from SynTemp.SynUtils.utils import load_database\n",
    "recon = load_database('./Data/Recon3D/Recon3D_aam_reactions.json.gz')\n",
    "\n",
    "from SynTemp.SynAAM.aam_validator import AMMValidator  \n",
    "results, _ = AMMValidator.validate_smiles(data=recon, ground_truth_col='ground_truth', \n",
    "                                       mapped_cols=['rxn_mapper', 'graphormer', 'local_mapper'], \n",
    "                                       check_method='RC', \n",
    "                                       ignore_aromaticity=False, n_jobs=4, verbose=0, ensemble=True)\n",
    "\n",
    "import pandas as pd\n",
    "pd.DataFrame(results)[['mapper', 'accuracy', 'success_rate']]"
   ]
  },
  {
   "cell_type": "code",
   "execution_count": null,
   "metadata": {},
   "outputs": [],
   "source": [
    "recon[0]"
   ]
  },
  {
   "cell_type": "code",
   "execution_count": null,
   "metadata": {},
   "outputs": [],
   "source": [
    "from SynTemp.SynUtils.utils import load_database\n",
    "recon = load_database('./Data/ecoli/ecoli_aam_reactions.json.gz')\n",
    "\n",
    "from SynTemp.SynAAM.aam_validator import AMMValidator  \n",
    "results, _ = AMMValidator.validate_smiles(data=recon, ground_truth_col='ground_truth', \n",
    "                                       mapped_cols=['rxn_mapper', 'graphormer', 'local_mapper', 'rdt', 'ground_truth'], \n",
    "                                       check_method='RC', \n",
    "                                       ignore_aromaticity=False, n_jobs=4, verbose=0, ensemble=False)\n",
    "\n",
    "import pandas as pd\n",
    "pd.DataFrame(results)[['mapper', 'accuracy', 'success_rate']]"
   ]
  },
  {
   "cell_type": "code",
   "execution_count": null,
   "metadata": {},
   "outputs": [],
   "source": [
    "test = pd.DataFrame(recon).drop(['reactions'], axis =1)\n",
    "test['local_mapper_result'] = pd.DataFrame(results).loc[2, 'results']\n",
    "test['rxn_mapper_result'] = pd.DataFrame(results).loc[0, 'results']\n",
    "test['graphormer_result'] = pd.DataFrame(results).loc[1, 'results']\n",
    "test['rdt_result'] = pd.DataFrame(results).loc[3, 'results']"
   ]
  },
  {
   "cell_type": "code",
   "execution_count": null,
   "metadata": {},
   "outputs": [],
   "source": [
    "test.to_csv('./Data/ecoli/ecoli_aam_reactions.csv')"
   ]
  },
  {
   "cell_type": "code",
   "execution_count": null,
   "metadata": {},
   "outputs": [],
   "source": [
    "pd.DataFrame(results)"
   ]
  },
  {
   "cell_type": "code",
   "execution_count": null,
   "metadata": {},
   "outputs": [],
   "source": [
    "pd.DataFrame(results).loc[2, 'results']"
   ]
  },
  {
   "cell_type": "code",
   "execution_count": null,
   "metadata": {},
   "outputs": [],
   "source": [
    "test_2 = test[['local_mapper_result', 'rxn_mapper_result', 'graphormer_result', 'rdt_result']]"
   ]
  },
  {
   "cell_type": "code",
   "execution_count": null,
   "metadata": {},
   "outputs": [],
   "source": [
    "def ensemble_results(df, threshold):\n",
    "    # Calculate the sum of True values in each row\n",
    "    true_counts = df.sum(axis=1)\n",
    "    # Apply the threshold to determine the final result\n",
    "    final_results = true_counts >= threshold\n",
    "    return final_results\n",
    "\n",
    "test_3 = ensemble_results(test_2, 2)"
   ]
  },
  {
   "cell_type": "code",
   "execution_count": null,
   "metadata": {},
   "outputs": [],
   "source": [
    "test_3.sum()/273"
   ]
  },
  {
   "cell_type": "code",
   "execution_count": null,
   "metadata": {},
   "outputs": [],
   "source": [
    "uspto_sample = pd.read_csv('./Data/aam_benchmark/USPTO_sampled.csv')"
   ]
  },
  {
   "cell_type": "code",
   "execution_count": null,
   "metadata": {},
   "outputs": [],
   "source": [
    "uspto_sample['LocalMapper_correct'].sum()"
   ]
  },
  {
   "cell_type": "code",
   "execution_count": null,
   "metadata": {},
   "outputs": [],
   "source": [
    "uspto_sample"
   ]
  },
  {
   "cell_type": "markdown",
   "metadata": {},
   "source": [
    "# Bug"
   ]
  },
  {
   "cell_type": "code",
   "execution_count": null,
   "metadata": {},
   "outputs": [],
   "source": [
    "import pandas as pd \n",
    "\n",
    "df = pd.read_csv('./Data/aam_benchmark/Golden_mappings.csv')\n",
    "df = pd.read_csv('./Data/aam_benchmark/benchmark.csv')\n",
    "df = pd.read_csv('./Data/aam_benchmark/NatComm_mappings.csv')\n",
    "df = pd.read_csv('./Data/aam_benchmark/USPTO_sampled.csv')\n",
    "df = pd.read_csv('./Data/ecoli/ecoli_aam_reactions.csv')\n",
    "#df = pd.read_csv('./Data/Recon3D/Recon3D_aam_reactions.csv')\n",
    "df.head(1)"
   ]
  },
  {
   "cell_type": "code",
   "execution_count": null,
   "metadata": {},
   "outputs": [],
   "source": [
    "from SynTemp.SynAAM.aam_validator import AMMValidator  \n",
    "results, _ = AMMValidator.validate_smiles(data=df, ground_truth_col='ground_truth', \n",
    "                                       mapped_cols=['ground_truth'], \n",
    "                                       check_method='RC', \n",
    "                                       ignore_aromaticity=False, n_jobs=4, verbose=0, ensemble=False)\n",
    "\n",
    "import pandas as pd\n",
    "pd.DataFrame(results)[['mapper', 'accuracy', 'success_rate']]"
   ]
  },
  {
   "cell_type": "code",
   "execution_count": null,
   "metadata": {},
   "outputs": [],
   "source": [
    "test_0 = df[['ground_truth', 'R-id']]\n",
    "test_0['results'] = results[0]['results']"
   ]
  },
  {
   "cell_type": "code",
   "execution_count": null,
   "metadata": {},
   "outputs": [],
   "source": [
    "test_0_bug = test_0.loc[test_0['results']==False, :]"
   ]
  },
  {
   "cell_type": "code",
   "execution_count": null,
   "metadata": {},
   "outputs": [],
   "source": [
    "rsmi = test_0_bug['ground_truth'][74]"
   ]
  },
  {
   "cell_type": "code",
   "execution_count": null,
   "metadata": {},
   "outputs": [],
   "source": [
    "from SynTemp.SynITS.its_construction import ITSConstruction\n",
    "from SynTemp.SynITS.its_extraction import ITSExtraction\n",
    "reactants, products = rsmi.split('>>')\n",
    "G, H = ITSExtraction.graph_from_smiles(reactants), ITSExtraction.graph_from_smiles(products)"
   ]
  },
  {
   "cell_type": "code",
   "execution_count": null,
   "metadata": {},
   "outputs": [],
   "source": [
    "rsmi"
   ]
  },
  {
   "cell_type": "code",
   "execution_count": null,
   "metadata": {},
   "outputs": [],
   "source": [
    "reactants"
   ]
  },
  {
   "cell_type": "code",
   "execution_count": null,
   "metadata": {},
   "outputs": [],
   "source": [
    "from rdkit import Chem\n",
    "Chem.MolFromSmiles(reactants)"
   ]
  },
  {
   "cell_type": "code",
   "execution_count": null,
   "metadata": {},
   "outputs": [],
   "source": []
  },
  {
   "cell_type": "code",
   "execution_count": null,
   "metadata": {},
   "outputs": [],
   "source": []
  },
  {
   "cell_type": "code",
   "execution_count": null,
   "metadata": {},
   "outputs": [],
   "source": [
    "from SynTemp.SynVis.reaction_visualizer import ReactionVisualizer\n",
    "vis = ReactionVisualizer()"
   ]
  },
  {
   "cell_type": "code",
   "execution_count": null,
   "metadata": {},
   "outputs": [],
   "source": [
    "vis.visualize_reaction(test_0_bug.iloc[0]['ground_truth'])"
   ]
  },
  {
   "cell_type": "code",
   "execution_count": null,
   "metadata": {},
   "outputs": [],
   "source": [
    "test_0_bug.iloc[0]['ground_truth']"
   ]
  },
  {
   "cell_type": "code",
   "execution_count": null,
   "metadata": {},
   "outputs": [],
   "source": [
    "import pandas as pd\n",
    "\n",
    "\n",
    "df = pd.read_csv('./Data/USPTO_50K/USPTO_50K.csv')\n",
    "df.drop_duplicates(subset=['reactions'], inplace=True)\n",
    "df['R-id'] = ['USPTO-' + str(i) for i in range(len(df))]\n",
    "df.head(2)"
   ]
  },
  {
   "cell_type": "markdown",
   "metadata": {},
   "source": [
    "# MOD"
   ]
  },
  {
   "cell_type": "code",
   "execution_count": null,
   "metadata": {},
   "outputs": [],
   "source": [
    "from SynTemp.SynRule.rule_executor import RuleExecutor\n",
    "test = RuleExecutor.reaction_prediction(input_smiles=['C=C1C(=C)C2OC1C1=C2CC(C(C)=O)CC1'],\n",
    "                                        rule_file_path='./Data/uspto/Rule/USPTO_50K_31.gml',\n",
    "                                        prediction_type='backward', repeat_times=1, print_results=False)\n",
    "\n",
    "test"
   ]
  },
  {
   "cell_type": "code",
   "execution_count": null,
   "metadata": {},
   "outputs": [],
   "source": [
    "from SynTemp.SynRule.rule_executor import RuleExecutor\n",
    "from SynTemp.SynUtils.utils import load_database\n",
    "database = load_database('./test_database.json.gz')\n",
    "test = RuleExecutor.reaction_database_prediction(database=database[:],  rule_file_path='./Data/uspto/Rule/',\n",
    "                                         original_rsmi_col='reactions', prediction_type = 'backward', repeat_times=1)\n"
   ]
  },
  {
   "cell_type": "code",
   "execution_count": null,
   "metadata": {},
   "outputs": [],
   "source": [
    "from SynTemp.SynRule.rule_benchmark import RuleBenchmark\n",
    "from SynTemp.SynUtils.utils import load_database\n",
    "database = load_database('./test_database.json.gz')\n",
    "fw, bw = RuleBenchmark.reproduce_reactions(database=database[:],  id_col='R-id', rule_file_path='./Data/uspto/Rule',\n",
    "                                         original_rsmi_col='reactions', repeat_times=1)"
   ]
  },
  {
   "cell_type": "code",
   "execution_count": null,
   "metadata": {},
   "outputs": [],
   "source": [
    "import pandas as pd\n",
    "pd.DataFrame(bw).info()"
   ]
  },
  {
   "cell_type": "markdown",
   "metadata": {},
   "source": [
    "# Ranking"
   ]
  },
  {
   "cell_type": "code",
   "execution_count": null,
   "metadata": {},
   "outputs": [],
   "source": [
    "from SynTemp.SynUtils.utils import load_database\n",
    "from SynTemp.SynRule.rule_benchmark import RuleBenchmark\n",
    "database = load_database('./test_database.json.gz')\n",
    "fw, bw = RuleBenchmark.reproduce_reactions(database=database[:],  id_col='R-id', rule_file_path='./Data/uspto/Rule',\n",
    "                                         original_rsmi_col='reactions', repeat_times=1, prior=True)"
   ]
  },
  {
   "cell_type": "code",
   "execution_count": null,
   "metadata": {},
   "outputs": [],
   "source": [
    "import pandas as pd\n",
    "pd.DataFrame(bw).info()"
   ]
  },
  {
   "cell_type": "code",
   "execution_count": null,
   "metadata": {},
   "outputs": [],
   "source": [
    "from SynTemp.SynRule.similarity_ranking import SimilarityRanking\n",
    "\n",
    "\n",
    "processed_dicts = SimilarityRanking.process_list_of_dicts(fw, 'unrank', ['FCFP6'])\n",
    "print(\"Top 5 accuracy:\", RuleBenchmark.TopKAccuracy(processed_dicts, 'reactions','rank', 2, ignore_stero=True))"
   ]
  },
  {
   "cell_type": "code",
   "execution_count": null,
   "metadata": {},
   "outputs": [],
   "source": [
    "processed_dicts = SimilarityRanking.process_list_of_dicts(fw, 'unrank', ['RDK7'])\n",
    "print(\"Top 5 accuracy:\", RuleBenchmark.TopKAccuracy(processed_dicts, 'reactions','rank', 5, ignore_stero=True))"
   ]
  },
  {
   "cell_type": "markdown",
   "metadata": {},
   "source": [
    "## Visualize"
   ]
  },
  {
   "cell_type": "code",
   "execution_count": null,
   "metadata": {},
   "outputs": [],
   "source": [
    "from SynTemp.SynUtils.utils import load_database\n",
    "data = load_database('./Data/uspto_sample/uspto_sample_aam_reactions.json.gz')"
   ]
  },
  {
   "cell_type": "code",
   "execution_count": null,
   "metadata": {},
   "outputs": [],
   "source": [
    "from SynTemp.SynVis.chemical_reaction_visualizer import ChemicalReactionVisualizer\n",
    "vis = ChemicalReactionVisualizer()\n",
    "vis.visualize_and_compare_reactions(data[0], num_cols=3)"
   ]
  },
  {
   "cell_type": "code",
   "execution_count": null,
   "metadata": {},
   "outputs": [],
   "source": [
    "from SynTemp.SynVis.its_visualizer import ITSVisualizer\n",
    "from IPython.display import Image\n",
    "its_vis = ITSVisualizer(data[0]['rxn_mapper'])\n",
    "display(Image(its_vis.draw_product_with_modified_bonds()))"
   ]
  },
  {
   "cell_type": "code",
   "execution_count": null,
   "metadata": {},
   "outputs": [],
   "source": [
    "import pandas as pd\n",
    "\n",
    "df = pd.read_csv('./Data/USPTO_50K/USPTO_50K.csv')"
   ]
  },
  {
   "cell_type": "code",
   "execution_count": null,
   "metadata": {},
   "outputs": [],
   "source": [
    "df['reactions'][0]"
   ]
  },
  {
   "cell_type": "code",
   "execution_count": null,
   "metadata": {},
   "outputs": [],
   "source": [
    "from SynTemp.SynVis.chemical_reaction_visualizer import ChemicalReactionVisualizer\n",
    "vis = ChemicalReactionVisualizer()\n",
    "vis.visualize_reaction(df['reactions'][2], show_atom_map=False)"
   ]
  },
  {
   "cell_type": "code",
   "execution_count": null,
   "metadata": {},
   "outputs": [],
   "source": [
    "df['reactions'][2]"
   ]
  },
  {
   "cell_type": "code",
   "execution_count": 145,
   "metadata": {},
   "outputs": [
    {
     "data": {
      "image/png": "[encoded data removed]",
      "text/plain": [
       "<rdkit.Chem.rdchem.Mol at 0x7f1fbf8c6180>"
      ]
     },
     "execution_count": 145,
     "metadata": {},
     "output_type": "execute_result"
    }
   ],
   "source": [
    "Chem.MolFromSmiles('C(O)(O)C=CO')"
   ]
  },
  {
   "cell_type": "code",
   "execution_count": 203,
   "metadata": {},
   "outputs": [
    {
     "data": {
      "text/plain": [
       "[('hemiketal', [0, 1, 2]), ('enol', [3, 4, 5])]"
      ]
     },
     "execution_count": 203,
     "metadata": {},
     "output_type": "execute_result"
    }
   ],
   "source": [
    "from fgutils import FGQuery\n",
    "smiles = \"C(O)(O)C=CO\" # acetylsalicylic acid\n",
    "query = FGQuery(use_smiles=True) # use_smiles requires rdkit to be installed\n",
    "query.get(smiles)"
   ]
  },
  {
   "cell_type": "code",
   "execution_count": 165,
   "metadata": {},
   "outputs": [
    {
     "data": {
      "image/png": "[encoded data removed]",
      "text/plain": [
       "<rdkit.Chem.rdchem.Mol at 0x7f1fd1b5e8f0>"
      ]
     },
     "execution_count": 165,
     "metadata": {},
     "output_type": "execute_result"
    }
   ],
   "source": [
    "Chem.MolFromSmiles('C(O)(O)')"
   ]
  },
  {
   "cell_type": "code",
   "execution_count": 176,
   "metadata": {},
   "outputs": [
    {
     "data": {
      "image/png": "[encoded data removed]",
      "text/plain": [
       "<rdkit.Chem.rdchem.Mol at 0x7f1fb7211a80>"
      ]
     },
     "execution_count": 176,
     "metadata": {},
     "output_type": "execute_result"
    }
   ],
   "source": [
    "Chem.MolFromSmiles('C=CO')"
   ]
  },
  {
   "cell_type": "code",
   "execution_count": null,
   "metadata": {},
   "outputs": [],
   "source": []
  },
  {
   "cell_type": "code",
   "execution_count": 3,
   "metadata": {},
   "outputs": [],
   "source": [
    "import pandas as pd\n",
    "\n",
    "df = pd.read_csv('./Data/uspto_sample/uspto_sample.csv')\n",
    "df['GroundTruth'] = df['GraphMapper']\n",
    "df.loc[df['GraphMapper_correct']==False, 'GroundTruth'] = df.loc[df['GraphMapper_correct']==False, 'LocalMapper']\n",
    "df = df[['sampled_id', 'RXNMapper', 'GraphMapper', 'LocalMapper', 'GroundTruth']]\n"
   ]
  },
  {
   "cell_type": "code",
   "execution_count": 4,
   "metadata": {},
   "outputs": [
    {
     "data": {
      "text/html": [
       "<div>\n",
       "<style scoped>\n",
       "    .dataframe tbody tr th:only-of-type {\n",
       "        vertical-align: middle;\n",
       "    }\n",
       "\n",
       "    .dataframe tbody tr th {\n",
       "        vertical-align: top;\n",
       "    }\n",
       "\n",
       "    .dataframe thead th {\n",
       "        text-align: right;\n",
       "    }\n",
       "</style>\n",
       "<table border=\"1\" class=\"dataframe\">\n",
       "  <thead>\n",
       "    <tr style=\"text-align: right;\">\n",
       "      <th></th>\n",
       "      <th>sampled_id</th>\n",
       "      <th>RXNMapper</th>\n",
       "      <th>GraphMapper</th>\n",
       "      <th>LocalMapper</th>\n",
       "      <th>GroundTruth</th>\n",
       "    </tr>\n",
       "  </thead>\n",
       "  <tbody>\n",
       "    <tr>\n",
       "      <th>0</th>\n",
       "      <td>44925</td>\n",
       "      <td>CCN(CC)CC.CCOCC.CS(C)=O.ClCCl.O=S(=O)=O.[OH:1]...</td>\n",
       "      <td>[CH2:2]([CH3:1])[N:3]([CH2:4][CH3:5])[CH2:6][C...</td>\n",
       "      <td>CCN(CC)CC.CCOCC.CS(C)=O.ClCCl.O=S(=O)=O.[O:1]=...</td>\n",
       "      <td>CCN(CC)CC.CCOCC.CS(C)=O.ClCCl.O=S(=O)=O.[O:1]=...</td>\n",
       "    </tr>\n",
       "    <tr>\n",
       "      <th>1</th>\n",
       "      <td>11629</td>\n",
       "      <td>CC#N.O=C(OCc1ccccc1)[N:5]1[CH2:4][C@H:3]([CH2:...</td>\n",
       "      <td>[CH3:1][C:2]#[N:3].[cH:15]1[cH:14][c:13]([cH:1...</td>\n",
       "      <td>CC#N.O=C(OCc1ccccc1)[N:1]1[CH2:2][C@H:3]([CH2:...</td>\n",
       "      <td>CC#N.O=C(OCc1ccccc1)[N:1]1[CH2:2][C@H:3]([CH2:...</td>\n",
       "    </tr>\n",
       "    <tr>\n",
       "      <th>2</th>\n",
       "      <td>11437</td>\n",
       "      <td>CC(C)=O.COC[O:20][c:19]1[c:16]([O:17][CH3:18])...</td>\n",
       "      <td>[CH3:1][C:2]([CH3:3])=[O:4].[ClH:29].[OH2:30]....</td>\n",
       "      <td>CC(C)=O.COC[O:1][c:2]1[c:3]([O:4][CH3:5])[cH:6...</td>\n",
       "      <td>CC(C)=O.COC[O:1][c:2]1[c:3]([O:4][CH3:5])[cH:6...</td>\n",
       "    </tr>\n",
       "    <tr>\n",
       "      <th>3</th>\n",
       "      <td>36797</td>\n",
       "      <td>CC(C)(C)OC(=O)[NH:16][CH2:15][c:14]1[cH:13][cH...</td>\n",
       "      <td>[CH3:21][C:20]([CH3:22])([CH3:23])[O:19][C:17]...</td>\n",
       "      <td>CC(C)(C)OC(=O)[NH:1][CH2:2][c:3]1[cH:4][cH:5][...</td>\n",
       "      <td>CC(C)(C)OC(=O)[NH:1][CH2:2][c:3]1[cH:4][cH:5][...</td>\n",
       "    </tr>\n",
       "    <tr>\n",
       "      <th>4</th>\n",
       "      <td>25803</td>\n",
       "      <td>[CH3:1][C:2](=[O:3])[c:4]1[cH:5][cH:6][c:7]([C...</td>\n",
       "      <td>[BH4-:17].[C:2](=[O:3])([c:4]1[cH:10][n:9][c:7...</td>\n",
       "      <td>CO.O=C([O-])O.[BH4-].[CH3:1][C:2](=[O:3])[c:4]...</td>\n",
       "      <td>CO.O=C([O-])O.[BH4-].[CH3:1][C:2](=[O:3])[c:4]...</td>\n",
       "    </tr>\n",
       "    <tr>\n",
       "      <th>...</th>\n",
       "      <td>...</td>\n",
       "      <td>...</td>\n",
       "      <td>...</td>\n",
       "      <td>...</td>\n",
       "      <td>...</td>\n",
       "    </tr>\n",
       "    <tr>\n",
       "      <th>2995</th>\n",
       "      <td>29081</td>\n",
       "      <td>[CH3:1][CH2:2][CH2:3][c:4]1[n:5][n:6][c:7]([NH...</td>\n",
       "      <td>[C:17](=[O:18])=[N:16][CH3:15].[CH3:10][N:11](...</td>\n",
       "      <td>CN(C)C=O.[CH3:1][N:2]=[C:3]=[O:4].[CH3:12][CH2...</td>\n",
       "      <td>CN(C)C=O.[CH3:1][N:2]=[C:3]=[O:4].[CH3:12][CH2...</td>\n",
       "    </tr>\n",
       "    <tr>\n",
       "      <th>2996</th>\n",
       "      <td>20782</td>\n",
       "      <td>O[CH:9]([CH:8]1[CH:6]([C:4]([O:3][CH2:2][CH3:1...</td>\n",
       "      <td>[C:18](#[N:19])[c:17]1[c:20]2[c:14]([nH:15][cH...</td>\n",
       "      <td>CC[SiH](CC)CC.ClCCl.O=C(O)C(F)(F)F.O[CH:1]([CH...</td>\n",
       "      <td>CC[SiH](CC)CC.ClCCl.O=C(O)C(F)(F)F.O[CH:1]([CH...</td>\n",
       "    </tr>\n",
       "    <tr>\n",
       "      <th>2997</th>\n",
       "      <td>11479</td>\n",
       "      <td>CCN(C(C)C)C(C)C.ClCCl.[N:1]#[C:2][CH2:3][c:4]1...</td>\n",
       "      <td>[CH3:5][CH:4]([CH3:6])[N:3]([CH:7]([CH3:8])[CH...</td>\n",
       "      <td>CCN(C(C)C)C(C)C.ClCCl.Cl[C:1](=[O:2])[c:3]1[cH...</td>\n",
       "      <td>CCN(C(C)C)C(C)C.ClCCl.Cl[C:1](=[O:2])[c:3]1[cH...</td>\n",
       "    </tr>\n",
       "    <tr>\n",
       "      <th>2998</th>\n",
       "      <td>15851</td>\n",
       "      <td>[CH2:1]=[CH:2][CH2:3][N:4]([CH3:5])[CH2:6][C@@...</td>\n",
       "      <td>[C@H:7]([CH2:6][N:4]([CH2:3][CH:2]=[CH2:1])[CH...</td>\n",
       "      <td>F[c:1]1[cH:11][cH:12][cH:13][c:14]2[n:15][cH:1...</td>\n",
       "      <td>F[c:1]1[cH:11][cH:12][cH:13][c:14]2[n:15][cH:1...</td>\n",
       "    </tr>\n",
       "    <tr>\n",
       "      <th>2999</th>\n",
       "      <td>19203</td>\n",
       "      <td>CN(C)C=O.[CH3:1][O-:2].I[Cu]I.Br[c:3]1[cH:4][c...</td>\n",
       "      <td>[CH3:1][N:2]([CH3:3])[CH:4]=[O:5].[CH3:6][O-:7...</td>\n",
       "      <td>Br[c:1]1[cH:4][cH:5][cH:6][c:7]2[cH:8][c:9]([N...</td>\n",
       "      <td>Br[c:1]1[cH:4][cH:5][cH:6][c:7]2[cH:8][c:9]([N...</td>\n",
       "    </tr>\n",
       "  </tbody>\n",
       "</table>\n",
       "<p>3000 rows × 5 columns</p>\n",
       "</div>"
      ],
      "text/plain": [
       "      sampled_id                                          RXNMapper  \\\n",
       "0          44925  CCN(CC)CC.CCOCC.CS(C)=O.ClCCl.O=S(=O)=O.[OH:1]...   \n",
       "1          11629  CC#N.O=C(OCc1ccccc1)[N:5]1[CH2:4][C@H:3]([CH2:...   \n",
       "2          11437  CC(C)=O.COC[O:20][c:19]1[c:16]([O:17][CH3:18])...   \n",
       "3          36797  CC(C)(C)OC(=O)[NH:16][CH2:15][c:14]1[cH:13][cH...   \n",
       "4          25803  [CH3:1][C:2](=[O:3])[c:4]1[cH:5][cH:6][c:7]([C...   \n",
       "...          ...                                                ...   \n",
       "2995       29081  [CH3:1][CH2:2][CH2:3][c:4]1[n:5][n:6][c:7]([NH...   \n",
       "2996       20782  O[CH:9]([CH:8]1[CH:6]([C:4]([O:3][CH2:2][CH3:1...   \n",
       "2997       11479  CCN(C(C)C)C(C)C.ClCCl.[N:1]#[C:2][CH2:3][c:4]1...   \n",
       "2998       15851  [CH2:1]=[CH:2][CH2:3][N:4]([CH3:5])[CH2:6][C@@...   \n",
       "2999       19203  CN(C)C=O.[CH3:1][O-:2].I[Cu]I.Br[c:3]1[cH:4][c...   \n",
       "\n",
       "                                            GraphMapper  \\\n",
       "0     [CH2:2]([CH3:1])[N:3]([CH2:4][CH3:5])[CH2:6][C...   \n",
       "1     [CH3:1][C:2]#[N:3].[cH:15]1[cH:14][c:13]([cH:1...   \n",
       "2     [CH3:1][C:2]([CH3:3])=[O:4].[ClH:29].[OH2:30]....   \n",
       "3     [CH3:21][C:20]([CH3:22])([CH3:23])[O:19][C:17]...   \n",
       "4     [BH4-:17].[C:2](=[O:3])([c:4]1[cH:10][n:9][c:7...   \n",
       "...                                                 ...   \n",
       "2995  [C:17](=[O:18])=[N:16][CH3:15].[CH3:10][N:11](...   \n",
       "2996  [C:18](#[N:19])[c:17]1[c:20]2[c:14]([nH:15][cH...   \n",
       "2997  [CH3:5][CH:4]([CH3:6])[N:3]([CH:7]([CH3:8])[CH...   \n",
       "2998  [C@H:7]([CH2:6][N:4]([CH2:3][CH:2]=[CH2:1])[CH...   \n",
       "2999  [CH3:1][N:2]([CH3:3])[CH:4]=[O:5].[CH3:6][O-:7...   \n",
       "\n",
       "                                            LocalMapper  \\\n",
       "0     CCN(CC)CC.CCOCC.CS(C)=O.ClCCl.O=S(=O)=O.[O:1]=...   \n",
       "1     CC#N.O=C(OCc1ccccc1)[N:1]1[CH2:2][C@H:3]([CH2:...   \n",
       "2     CC(C)=O.COC[O:1][c:2]1[c:3]([O:4][CH3:5])[cH:6...   \n",
       "3     CC(C)(C)OC(=O)[NH:1][CH2:2][c:3]1[cH:4][cH:5][...   \n",
       "4     CO.O=C([O-])O.[BH4-].[CH3:1][C:2](=[O:3])[c:4]...   \n",
       "...                                                 ...   \n",
       "2995  CN(C)C=O.[CH3:1][N:2]=[C:3]=[O:4].[CH3:12][CH2...   \n",
       "2996  CC[SiH](CC)CC.ClCCl.O=C(O)C(F)(F)F.O[CH:1]([CH...   \n",
       "2997  CCN(C(C)C)C(C)C.ClCCl.Cl[C:1](=[O:2])[c:3]1[cH...   \n",
       "2998  F[c:1]1[cH:11][cH:12][cH:13][c:14]2[n:15][cH:1...   \n",
       "2999  Br[c:1]1[cH:4][cH:5][cH:6][c:7]2[cH:8][c:9]([N...   \n",
       "\n",
       "                                            GroundTruth  \n",
       "0     CCN(CC)CC.CCOCC.CS(C)=O.ClCCl.O=S(=O)=O.[O:1]=...  \n",
       "1     CC#N.O=C(OCc1ccccc1)[N:1]1[CH2:2][C@H:3]([CH2:...  \n",
       "2     CC(C)=O.COC[O:1][c:2]1[c:3]([O:4][CH3:5])[cH:6...  \n",
       "3     CC(C)(C)OC(=O)[NH:1][CH2:2][c:3]1[cH:4][cH:5][...  \n",
       "4     CO.O=C([O-])O.[BH4-].[CH3:1][C:2](=[O:3])[c:4]...  \n",
       "...                                                 ...  \n",
       "2995  CN(C)C=O.[CH3:1][N:2]=[C:3]=[O:4].[CH3:12][CH2...  \n",
       "2996  CC[SiH](CC)CC.ClCCl.O=C(O)C(F)(F)F.O[CH:1]([CH...  \n",
       "2997  CCN(C(C)C)C(C)C.ClCCl.Cl[C:1](=[O:2])[c:3]1[cH...  \n",
       "2998  F[c:1]1[cH:11][cH:12][cH:13][c:14]2[n:15][cH:1...  \n",
       "2999  Br[c:1]1[cH:4][cH:5][cH:6][c:7]2[cH:8][c:9]([N...  \n",
       "\n",
       "[3000 rows x 5 columns]"
      ]
     },
     "execution_count": 4,
     "metadata": {},
     "output_type": "execute_result"
    }
   ],
   "source": [
    "df.to_csv('uspto_3k')"
   ]
  },
  {
   "cell_type": "code",
   "execution_count": 5,
   "metadata": {},
   "outputs": [],
   "source": [
    "df = pd.read_csv('./Data/uspto_sample/uspto_sample.csv')"
   ]
  },
  {
   "cell_type": "code",
   "execution_count": 11,
   "metadata": {},
   "outputs": [],
   "source": []
  },
  {
   "cell_type": "code",
   "execution_count": 7,
   "metadata": {},
   "outputs": [
    {
     "data": {
      "text/plain": [
       "2853"
      ]
     },
     "execution_count": 7,
     "metadata": {},
     "output_type": "execute_result"
    }
   ],
   "source": [
    "df['GraphMapper_correct'].sum()"
   ]
  },
  {
   "cell_type": "code",
   "execution_count": 13,
   "metadata": {},
   "outputs": [],
   "source": []
  },
  {
   "cell_type": "code",
   "execution_count": 14,
   "metadata": {},
   "outputs": [
    {
     "data": {
      "text/html": [
       "<div>\n",
       "<style scoped>\n",
       "    .dataframe tbody tr th:only-of-type {\n",
       "        vertical-align: middle;\n",
       "    }\n",
       "\n",
       "    .dataframe tbody tr th {\n",
       "        vertical-align: top;\n",
       "    }\n",
       "\n",
       "    .dataframe thead th {\n",
       "        text-align: right;\n",
       "    }\n",
       "</style>\n",
       "<table border=\"1\" class=\"dataframe\">\n",
       "  <thead>\n",
       "    <tr style=\"text-align: right;\">\n",
       "      <th></th>\n",
       "      <th>sampled_id</th>\n",
       "      <th>RXNMapper</th>\n",
       "      <th>GraphMapper</th>\n",
       "      <th>LocalMapper</th>\n",
       "    </tr>\n",
       "  </thead>\n",
       "  <tbody>\n",
       "    <tr>\n",
       "      <th>0</th>\n",
       "      <td>44925</td>\n",
       "      <td>CCN(CC)CC.CCOCC.CS(C)=O.ClCCl.O=S(=O)=O.[OH:1]...</td>\n",
       "      <td>[CH2:2]([CH3:1])[N:3]([CH2:4][CH3:5])[CH2:6][C...</td>\n",
       "      <td>CCN(CC)CC.CCOCC.CS(C)=O.ClCCl.O=S(=O)=O.[O:1]=...</td>\n",
       "    </tr>\n",
       "    <tr>\n",
       "      <th>1</th>\n",
       "      <td>11629</td>\n",
       "      <td>CC#N.O=C(OCc1ccccc1)[N:5]1[CH2:4][C@H:3]([CH2:...</td>\n",
       "      <td>[CH3:1][C:2]#[N:3].[cH:15]1[cH:14][c:13]([cH:1...</td>\n",
       "      <td>CC#N.O=C(OCc1ccccc1)[N:1]1[CH2:2][C@H:3]([CH2:...</td>\n",
       "    </tr>\n",
       "    <tr>\n",
       "      <th>2</th>\n",
       "      <td>11437</td>\n",
       "      <td>CC(C)=O.COC[O:20][c:19]1[c:16]([O:17][CH3:18])...</td>\n",
       "      <td>[CH3:1][C:2]([CH3:3])=[O:4].[ClH:29].[OH2:30]....</td>\n",
       "      <td>CC(C)=O.COC[O:1][c:2]1[c:3]([O:4][CH3:5])[cH:6...</td>\n",
       "    </tr>\n",
       "    <tr>\n",
       "      <th>3</th>\n",
       "      <td>36797</td>\n",
       "      <td>CC(C)(C)OC(=O)[NH:16][CH2:15][c:14]1[cH:13][cH...</td>\n",
       "      <td>[CH3:21][C:20]([CH3:22])([CH3:23])[O:19][C:17]...</td>\n",
       "      <td>CC(C)(C)OC(=O)[NH:1][CH2:2][c:3]1[cH:4][cH:5][...</td>\n",
       "    </tr>\n",
       "    <tr>\n",
       "      <th>4</th>\n",
       "      <td>25803</td>\n",
       "      <td>[CH3:1][C:2](=[O:3])[c:4]1[cH:5][cH:6][c:7]([C...</td>\n",
       "      <td>[BH4-:17].[C:2](=[O:3])([c:4]1[cH:10][n:9][c:7...</td>\n",
       "      <td>CO.O=C([O-])O.[BH4-].[CH3:1][C:2](=[O:3])[c:4]...</td>\n",
       "    </tr>\n",
       "    <tr>\n",
       "      <th>...</th>\n",
       "      <td>...</td>\n",
       "      <td>...</td>\n",
       "      <td>...</td>\n",
       "      <td>...</td>\n",
       "    </tr>\n",
       "    <tr>\n",
       "      <th>2995</th>\n",
       "      <td>29081</td>\n",
       "      <td>[CH3:1][CH2:2][CH2:3][c:4]1[n:5][n:6][c:7]([NH...</td>\n",
       "      <td>[C:17](=[O:18])=[N:16][CH3:15].[CH3:10][N:11](...</td>\n",
       "      <td>CN(C)C=O.[CH3:1][N:2]=[C:3]=[O:4].[CH3:12][CH2...</td>\n",
       "    </tr>\n",
       "    <tr>\n",
       "      <th>2996</th>\n",
       "      <td>20782</td>\n",
       "      <td>O[CH:9]([CH:8]1[CH:6]([C:4]([O:3][CH2:2][CH3:1...</td>\n",
       "      <td>[C:18](#[N:19])[c:17]1[c:20]2[c:14]([nH:15][cH...</td>\n",
       "      <td>CC[SiH](CC)CC.ClCCl.O=C(O)C(F)(F)F.O[CH:1]([CH...</td>\n",
       "    </tr>\n",
       "    <tr>\n",
       "      <th>2997</th>\n",
       "      <td>11479</td>\n",
       "      <td>CCN(C(C)C)C(C)C.ClCCl.[N:1]#[C:2][CH2:3][c:4]1...</td>\n",
       "      <td>[CH3:5][CH:4]([CH3:6])[N:3]([CH:7]([CH3:8])[CH...</td>\n",
       "      <td>CCN(C(C)C)C(C)C.ClCCl.Cl[C:1](=[O:2])[c:3]1[cH...</td>\n",
       "    </tr>\n",
       "    <tr>\n",
       "      <th>2998</th>\n",
       "      <td>15851</td>\n",
       "      <td>[CH2:1]=[CH:2][CH2:3][N:4]([CH3:5])[CH2:6][C@@...</td>\n",
       "      <td>[C@H:7]([CH2:6][N:4]([CH2:3][CH:2]=[CH2:1])[CH...</td>\n",
       "      <td>F[c:1]1[cH:11][cH:12][cH:13][c:14]2[n:15][cH:1...</td>\n",
       "    </tr>\n",
       "    <tr>\n",
       "      <th>2999</th>\n",
       "      <td>19203</td>\n",
       "      <td>CN(C)C=O.[CH3:1][O-:2].I[Cu]I.Br[c:3]1[cH:4][c...</td>\n",
       "      <td>[CH3:1][N:2]([CH3:3])[CH:4]=[O:5].[CH3:6][O-:7...</td>\n",
       "      <td>Br[c:1]1[cH:4][cH:5][cH:6][c:7]2[cH:8][c:9]([N...</td>\n",
       "    </tr>\n",
       "  </tbody>\n",
       "</table>\n",
       "<p>3000 rows × 4 columns</p>\n",
       "</div>"
      ],
      "text/plain": [
       "      sampled_id                                          RXNMapper  \\\n",
       "0          44925  CCN(CC)CC.CCOCC.CS(C)=O.ClCCl.O=S(=O)=O.[OH:1]...   \n",
       "1          11629  CC#N.O=C(OCc1ccccc1)[N:5]1[CH2:4][C@H:3]([CH2:...   \n",
       "2          11437  CC(C)=O.COC[O:20][c:19]1[c:16]([O:17][CH3:18])...   \n",
       "3          36797  CC(C)(C)OC(=O)[NH:16][CH2:15][c:14]1[cH:13][cH...   \n",
       "4          25803  [CH3:1][C:2](=[O:3])[c:4]1[cH:5][cH:6][c:7]([C...   \n",
       "...          ...                                                ...   \n",
       "2995       29081  [CH3:1][CH2:2][CH2:3][c:4]1[n:5][n:6][c:7]([NH...   \n",
       "2996       20782  O[CH:9]([CH:8]1[CH:6]([C:4]([O:3][CH2:2][CH3:1...   \n",
       "2997       11479  CCN(C(C)C)C(C)C.ClCCl.[N:1]#[C:2][CH2:3][c:4]1...   \n",
       "2998       15851  [CH2:1]=[CH:2][CH2:3][N:4]([CH3:5])[CH2:6][C@@...   \n",
       "2999       19203  CN(C)C=O.[CH3:1][O-:2].I[Cu]I.Br[c:3]1[cH:4][c...   \n",
       "\n",
       "                                            GraphMapper  \\\n",
       "0     [CH2:2]([CH3:1])[N:3]([CH2:4][CH3:5])[CH2:6][C...   \n",
       "1     [CH3:1][C:2]#[N:3].[cH:15]1[cH:14][c:13]([cH:1...   \n",
       "2     [CH3:1][C:2]([CH3:3])=[O:4].[ClH:29].[OH2:30]....   \n",
       "3     [CH3:21][C:20]([CH3:22])([CH3:23])[O:19][C:17]...   \n",
       "4     [BH4-:17].[C:2](=[O:3])([c:4]1[cH:10][n:9][c:7...   \n",
       "...                                                 ...   \n",
       "2995  [C:17](=[O:18])=[N:16][CH3:15].[CH3:10][N:11](...   \n",
       "2996  [C:18](#[N:19])[c:17]1[c:20]2[c:14]([nH:15][cH...   \n",
       "2997  [CH3:5][CH:4]([CH3:6])[N:3]([CH:7]([CH3:8])[CH...   \n",
       "2998  [C@H:7]([CH2:6][N:4]([CH2:3][CH:2]=[CH2:1])[CH...   \n",
       "2999  [CH3:1][N:2]([CH3:3])[CH:4]=[O:5].[CH3:6][O-:7...   \n",
       "\n",
       "                                            LocalMapper  \n",
       "0     CCN(CC)CC.CCOCC.CS(C)=O.ClCCl.O=S(=O)=O.[O:1]=...  \n",
       "1     CC#N.O=C(OCc1ccccc1)[N:1]1[CH2:2][C@H:3]([CH2:...  \n",
       "2     CC(C)=O.COC[O:1][c:2]1[c:3]([O:4][CH3:5])[cH:6...  \n",
       "3     CC(C)(C)OC(=O)[NH:1][CH2:2][c:3]1[cH:4][cH:5][...  \n",
       "4     CO.O=C([O-])O.[BH4-].[CH3:1][C:2](=[O:3])[c:4]...  \n",
       "...                                                 ...  \n",
       "2995  CN(C)C=O.[CH3:1][N:2]=[C:3]=[O:4].[CH3:12][CH2...  \n",
       "2996  CC[SiH](CC)CC.ClCCl.O=C(O)C(F)(F)F.O[CH:1]([CH...  \n",
       "2997  CCN(C(C)C)C(C)C.ClCCl.Cl[C:1](=[O:2])[c:3]1[cH...  \n",
       "2998  F[c:1]1[cH:11][cH:12][cH:13][c:14]2[n:15][cH:1...  \n",
       "2999  Br[c:1]1[cH:4][cH:5][cH:6][c:7]2[cH:8][c:9]([N...  \n",
       "\n",
       "[3000 rows x 4 columns]"
      ]
     },
     "execution_count": 14,
     "metadata": {},
     "output_type": "execute_result"
    }
   ],
   "source": [
    "df"
   ]
  },
  {
   "cell_type": "code",
   "execution_count": null,
   "metadata": {},
   "outputs": [],
   "source": []
  }
 ],
 "metadata": {
  "kernelspec": {
   "display_name": "SynITSG",
   "language": "python",
   "name": "python3"
  },
  "language_info": {
   "codemirror_mode": {
    "name": "ipython",
    "version": 3
   },
   "file_extension": ".py",
   "mimetype": "text/x-python",
   "name": "python",
   "nbconvert_exporter": "python",
   "pygments_lexer": "ipython3",
   "version": "3.11.0"
  }
 },
 "nbformat": 4,
 "nbformat_minor": 2
}
