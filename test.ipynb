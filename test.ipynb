{
 "cells": [
  {
   "cell_type": "code",
   "execution_count": null,
   "metadata": {},
   "outputs": [],
   "source": [
    "from SynTemp.SynUtils.utils import load_from_pickle, load_database\n",
    "data = load_database('./Data/DPO/USPTO_50K/test.json.gz')"
   ]
  },
  {
   "cell_type": "code",
   "execution_count": null,
   "metadata": {},
   "outputs": [],
   "source": [
    "hier_temp = load_from_pickle('./Data/DPO/USPTO_50K/Hydrogen/hier_rules.pkl.gz')"
   ]
  },
  {
   "cell_type": "code",
   "execution_count": null,
   "metadata": {},
   "outputs": [],
   "source": [
    "from mod import *\n",
    "from SynTemp.SynUtils.graph_utils import load_gml_as_text"
   ]
  },
  {
   "cell_type": "code",
   "execution_count": null,
   "metadata": {},
   "outputs": [],
   "source": [
    "initial_molecules = [smiles(smile) for smile in set(['CCCCS(=O)(=O)Cl', 'COc1cc(C(=O)N2Cc3cccn3Cc3ccccc32)ccc1N'])]\n",
    "gml_content = load_gml_as_text('./Data/DPO/USPTO_50K/Hydrogen/R0/Rules_good/2.gml')\n",
    "reaction_rule = ruleGMLString(gml_content, invert=False)"
   ]
  },
  {
   "cell_type": "code",
   "execution_count": null,
   "metadata": {},
   "outputs": [],
   "source": [
    "from SynTemp.SynUtils.utils import load_from_pickle, load_database\n",
    "hier_temp = load_from_pickle('./Data/DPO/USPTO_50K/Good_hydrogen/hier_rules.pkl.gz')\n",
    "initial_molecules = [smiles(smile) for smile in set(['CCCCS(=O)(=O)Cl', 'COc1cc(C(=O)N2Cc3cccn3Cc3ccccc32)ccc1N'])]\n",
    "\n",
    "initial_smiles = ['CCCCS(=O)(=O)Cl', 'COc1cc(C(=O)N2Cc3cccn3Cc3ccccc32)ccc1N']\n",
    "results = HierEngine.hier_rule_apply(initial_smiles=initial_smiles, hier_temp=hier_temp,rule_file_path='./Data/DPO/USPTO_50K/Good_hydrogen')"
   ]
  },
  {
   "cell_type": "code",
   "execution_count": null,
   "metadata": {},
   "outputs": [],
   "source": [
    "bw"
   ]
  },
  {
   "cell_type": "code",
   "execution_count": null,
   "metadata": {},
   "outputs": [],
   "source": [
    "from SynTemp.SynUtils.utils import load_from_pickle, load_database\n",
    "data = load_database('./Data/DPO/USPTO_50K/test.json.gz')"
   ]
  },
  {
   "cell_type": "code",
   "execution_count": null,
   "metadata": {},
   "outputs": [],
   "source": [
    "from SynTemp.SynRule.rule_benchmark import RuleBenchmark\n",
    "\n",
    "fw, bw = RuleBenchmark.reproduce_reactions(\n",
    "        database=data[1:2],\n",
    "        rule_class_col='R-id',\n",
    "        rule_file_path='./Data/DPO/USPTO_50K/Good_hydrogen/R0/',\n",
    "        original_rsmi_col='reactions',\n",
    "        repeat_times=1,\n",
    "        use_specific_rules=False,\n",
    "        verbosity=0,\n",
    "        job_timeout=5\n",
    "    )"
   ]
  },
  {
   "cell_type": "code",
   "execution_count": null,
   "metadata": {},
   "outputs": [],
   "source": [
    "len(fw[0]['unrank'])"
   ]
  },
  {
   "cell_type": "code",
   "execution_count": null,
   "metadata": {},
   "outputs": [],
   "source": [
    "len(bw[0]['unrank'])"
   ]
  },
  {
   "cell_type": "code",
   "execution_count": null,
   "metadata": {},
   "outputs": [],
   "source": [
    "from SynTemp.SynRule.rule_benchmark import RuleBenchmark\n",
    "\n",
    "fw_hier, bw_hier = RuleBenchmark.reproduce_reactions(\n",
    "        database=data[0:1],\n",
    "        rule_class_col='R-id',\n",
    "        rule_file_path='./Data/DPO/USPTO_50K/Good_hydrogen/R0',\n",
    "        original_rsmi_col='reactions',\n",
    "        repeat_times=1,\n",
    "        use_specific_rules=False,\n",
    "        verbosity=0,\n",
    "        job_timeout=5,\n",
    "        hierarchical=True,\n",
    "        max_radius=3\n",
    "    )"
   ]
  },
  {
   "cell_type": "code",
   "execution_count": null,
   "metadata": {},
   "outputs": [],
   "source": [
    "if 6 < 5 or 2 > 3 - 1:\n",
    "    print(1)"
   ]
  },
  {
   "cell_type": "code",
   "execution_count": null,
   "metadata": {},
   "outputs": [],
   "source": [
    "['CNC(=O)OC(C)(C)C.O=[N+]([O-])c1ccc(Cl)c(S(=O)(=O)NCCl)c1Cl>>CC(C)(C)OC(=O)NCCNS(=O)(=O)c1c(Cl)ccc([N+](=O)[O-])c1Cl.Cl', 'CC(C)(C)OC(=O)NCl.O=[N+]([O-])c1cccc(S(=O)(=O)NCCCl)c1Cl>>CC(C)(C)OC(=O)NCCNS(=O)(=O)c1c(Cl)ccc([N+](=O)[O-])c1Cl.Cl', 'CC(C)(C)OC(=O)Cl.NCCNS(=O)(=O)c1c(Cl)ccc([N+](=O)[O-])c1Cl>>CC(C)(C)OC(=O)NCCNS(=O)(=O)c1c(Cl)ccc([N+](=O)[O-])c1Cl.Cl', 'CC(C)(C)Cl.O=C(O)NCCNS(=O)(=O)c1c(Cl)ccc([N+](=O)[O-])c1Cl>>CC(C)(C)OC(=O)NCCNS(=O)(=O)c1c(Cl)ccc([N+](=O)[O-])c1Cl.Cl', 'CC(C)(C)O.O=C(Cl)NCCNS(=O)(=O)c1c(Cl)ccc([N+](=O)[O-])c1Cl>>CC(C)(C)OC(=O)NCCNS(=O)(=O)c1c(Cl)ccc([N+](=O)[O-])c1Cl.Cl', 'CC(C)(C)OC(=O)NCl.O=[N+]([O-])c1ccc(Cl)c(S(=O)(=O)NCCCl)c1>>CC(C)(C)OC(=O)NCCNS(=O)(=O)c1c(Cl)ccc([N+](=O)[O-])c1Cl.Cl', 'CC(C)(C)OC(N)=O.O=[N+]([O-])c1ccc(Cl)c(S(=O)(=O)NCCCl)c1Cl>>CC(C)(C)OC(=O)NCCNS(=O)(=O)c1c(Cl)ccc([N+](=O)[O-])c1Cl.Cl', 'CC(C)(C)OC(=O)NCCCl.NS(=O)(=O)c1c(Cl)ccc([N+](=O)[O-])c1Cl>>CC(C)(C)OC(=O)NCCNS(=O)(=O)c1c(Cl)ccc([N+](=O)[O-])c1Cl.Cl', 'CC(C)(C)OC(=O)NCCCl.O=[N+]([O-])c1ccc(Cl)c(S(=O)(=O)NCl)c1>>CC(C)(C)OC(=O)NCCNS(=O)(=O)c1c(Cl)ccc([N+](=O)[O-])c1Cl.Cl', 'CC(C)(C)OC(=O)NCCN[SH](=O)=O.O=[N+]([O-])c1ccc(Cl)c(Cl)c1Cl>>CC(C)(C)OC(=O)NCCNS(=O)(=O)c1c(Cl)ccc([N+](=O)[O-])c1Cl.Cl', 'CC(C)OC(=O)NCCNS(=O)(=O)c1c(Cl)ccc([N+](=O)[O-])c1Cl.CCl>>CC(C)(C)OC(=O)NCCNS(=O)(=O)c1c(Cl)ccc([N+](=O)[O-])c1Cl.Cl', 'CC(C)(C)OC(=O)Cl.O=[N+]([O-])c1ccc(Cl)c(S(=O)(=O)NCCNCl)c1>>CC(C)(C)OC(=O)NCCNS(=O)(=O)c1c(Cl)ccc([N+](=O)[O-])c1Cl.Cl', 'CC(C)(C)OC(=O)Cl.O=[N+]([O-])c1cccc(S(=O)(=O)NCCNCl)c1Cl>>CC(C)(C)OC(=O)NCCNS(=O)(=O)c1c(Cl)ccc([N+](=O)[O-])c1Cl.Cl', 'C.CC(C)(Cl)OC(=O)NCCNS(=O)(=O)c1c(Cl)ccc([N+](=O)[O-])c1Cl>>CC(C)(C)OC(=O)NCCNS(=O)(=O)c1c(Cl)ccc([N+](=O)[O-])c1Cl.Cl', 'CC(C)(C)OC(=O)NCCl.CNS(=O)(=O)c1c(Cl)ccc([N+](=O)[O-])c1Cl>>CC(C)(C)OC(=O)NCCNS(=O)(=O)c1c(Cl)ccc([N+](=O)[O-])c1Cl.Cl', 'CC(C)(C)OC(=O)NCCN.O=[N+]([O-])c1ccc(Cl)c(S(=O)(=O)Cl)c1Cl>>CC(C)(C)OC(=O)NCCNS(=O)(=O)c1c(Cl)ccc([N+](=O)[O-])c1Cl.Cl', 'CC(C)(C)OC(=O)NCCCl.O=[N+]([O-])c1cccc(S(=O)(=O)NCl)c1Cl>>CC(C)(C)OC(=O)NCCNS(=O)(=O)c1c(Cl)ccc([N+](=O)[O-])c1Cl.Cl', 'CC(C)(C)OC(=O)NCCNS(=O)O.O=[N+]([O-])c1ccc(Cl)c(Cl)c1Cl>>CC(C)(C)OC(=O)NCCNS(=O)(=O)c1c(Cl)ccc([N+](=O)[O-])c1Cl.Cl']"
   ]
  },
  {
   "cell_type": "code",
   "execution_count": null,
   "metadata": {},
   "outputs": [],
   "source": []
  },
  {
   "cell_type": "code",
   "execution_count": null,
   "metadata": {},
   "outputs": [],
   "source": []
  },
  {
   "cell_type": "code",
   "execution_count": null,
   "metadata": {},
   "outputs": [],
   "source": [
    "len(fw_hier[0]['unrank'])"
   ]
  },
  {
   "cell_type": "code",
   "execution_count": null,
   "metadata": {},
   "outputs": [],
   "source": [
    "len(bw_hier[0]['unrank'])"
   ]
  },
  {
   "cell_type": "code",
   "execution_count": null,
   "metadata": {},
   "outputs": [],
   "source": [
    "bw_hier"
   ]
  },
  {
   "cell_type": "code",
   "execution_count": null,
   "metadata": {},
   "outputs": [],
   "source": [
    "fw_hier"
   ]
  },
  {
   "cell_type": "code",
   "execution_count": null,
   "metadata": {},
   "outputs": [],
   "source": [
    "rule_file_path='./Data/DPO/USPTO_50K/Non_hydrogen/R0'"
   ]
  },
  {
   "cell_type": "code",
   "execution_count": null,
   "metadata": {},
   "outputs": [],
   "source": [
    "temp_results[3]"
   ]
  },
  {
   "cell_type": "code",
   "execution_count": null,
   "metadata": {},
   "outputs": [],
   "source": [
    "len(temp_results)"
   ]
  },
  {
   "cell_type": "code",
   "execution_count": null,
   "metadata": {},
   "outputs": [],
   "source": [
    "temp_results"
   ]
  },
  {
   "cell_type": "code",
   "execution_count": null,
   "metadata": {},
   "outputs": [],
   "source": [
    "# Original list of lists\n",
    "smiles_lists = [\n",
    "    ['C1:C:C:C2CN(C3:C(:C:C:C:C:3)CN:1:2)C(C4:C:C:C(:C(:C:4)OC)N)(CCCCS(Cl)(=O)=O)O'],\n",
    "    ['C1:C:C:C2CN(C3:C(:C:C:C:C:3)CN:1:2)C(C4:C:C:C(:C(:C:4)OC)N)(C(C)CCS(Cl)(=O)=O)O'],\n",
    "    ['C1:C:C:C2CN(C3:C(:C:C:C:C:3)CN:1:2)C(C4:C:C:C(:C(:C:4)OC)N)(C(CS(Cl)(=O)=O)CC)O'],\n",
    "    ['C1:C:C:C2CN(C3:C(:C:C:C:C:3)CN:1:2)C(C4:C:C:C(:C(:C:4)OC)C)(C(CCC)S(Cl)(=O)=O)O'],\n",
    "    ['C1:C:C:C2CN(C3:C(:C:C:C:C:3)CN:1:2)C(C4:C:C:C(:C(:C:4)OC)N)(CCCCS(Cl)(=O)=O)O']  # Duplicate\n",
    "]\n",
    "\n",
    "# Convert lists to tuples and store in a set to remove duplicates\n",
    "unique_smiles_tuples = set(tuple(smiles) for smiles in smiles_lists)\n",
    "\n",
    "# Convert the set of tuples back into a list of lists\n",
    "unique_smiles_lists = [list(smiles) for smiles in unique_smiles_tuples]\n",
    "\n",
    "# Print or return the unique list of lists\n",
    "print(unique_smiles_lists)\n"
   ]
  },
  {
   "cell_type": "code",
   "execution_count": null,
   "metadata": {},
   "outputs": [],
   "source": [
    "set([['C1:C:C:C2CN(C3:C(:C:C:C:C:3)CN:1:2)C(C4:C:C:C(:C(:C:4)OC)N)(CCCCS(Cl)(=O)=O)O'], ['C1:C:C:C2CN(C3:C(:C:C:C:C:3)CN:1:2)C(C4:C:C:C(:C(:C:4)OC)N)(C(C)CCS(Cl)(=O)=O)O'], ['C1:C:C:C2CN(C3:C(:C:C:C:C:3)CN:1:2)C(C4:C:C:C(:C(:C:4)OC)N)(C(CS(Cl)(=O)=O)CC)O'], ['C1:C:C:C2CN(C3:C(:C:C:C:C:3)CN:1:2)C(C4:C:C:C(:C(:C:4)OC)N)(C(CCC)S(Cl)(=O)=O)O']])"
   ]
  },
  {
   "cell_type": "code",
   "execution_count": null,
   "metadata": {},
   "outputs": [],
   "source": [
    "hier_rule_apply(initial_molecules, './Data/DPO/USPTO_50K/Hydrogen', hier_temp, radius=0, rule_id = 0)"
   ]
  },
  {
   "cell_type": "code",
   "execution_count": null,
   "metadata": {},
   "outputs": [],
   "source": [
    "hier_temp[0]"
   ]
  },
  {
   "cell_type": "code",
   "execution_count": null,
   "metadata": {},
   "outputs": [],
   "source": [
    "gml_content = load_gml_as_text('./Data/DPO/USPTO_50K/Hydrogen/R1/Rules_good/154.gml')\n",
    "reaction_rule = ruleGMLString(gml_content, invert=False)"
   ]
  },
  {
   "cell_type": "code",
   "execution_count": null,
   "metadata": {},
   "outputs": [],
   "source": [
    "rule_check(initial_molecules, reaction_rule)"
   ]
  },
  {
   "cell_type": "code",
   "execution_count": null,
   "metadata": {},
   "outputs": [],
   "source": [
    "dg = DG(graphDatabase=initial_molecules)\n",
    "# dg.build().execute(strategy, verbosity=8)\n",
    "dg.build().apply(initial_molecules, reaction_rule)\n",
    "\n",
    "temp_results = []\n",
    "for e in dg.edges:\n",
    "    productSmiles = [v.graph.smiles for v in e.targets]\n",
    "    temp_results.append(productSmiles)"
   ]
  },
  {
   "cell_type": "code",
   "execution_count": null,
   "metadata": {},
   "outputs": [],
   "source": [
    "len(temp_results)"
   ]
  },
  {
   "cell_type": "code",
   "execution_count": null,
   "metadata": {},
   "outputs": [],
   "source": []
  },
  {
   "cell_type": "code",
   "execution_count": null,
   "metadata": {},
   "outputs": [],
   "source": []
  },
  {
   "cell_type": "code",
   "execution_count": null,
   "metadata": {},
   "outputs": [],
   "source": []
  },
  {
   "cell_type": "code",
   "execution_count": null,
   "metadata": {},
   "outputs": [],
   "source": [
    "ground_truth = {'R-id':1, 'ground_truth': \"CCO.O=C(OCc1ccccc1)[NH:7][C:6]1([PH:8](=[O:9])[NH:10][C:11](=[O:12])[CH2:13][O:14][c:15]2[cH:16][cH:17][cH:18][cH:19][cH:20]2)[CH2:5][CH2:4][CH2:3][N:2]([NH2:1])[C:21]1=[O:22]>>[NH2:1][N:2]1[CH2:3][CH2:4][CH2:5][C:6]([NH2:7])([PH:8](=[O:9])[NH:10][C:11](=[O:12])[CH2:13][O:14][c:15]2[cH:16][cH:17][cH:18][cH:19][cH:20]2)[C:21]1=[O:22]\"}\n",
    "rxn =  {'R-id':2, 'rxn_mapper': \"[CH2:2]([CH3:1])[OH:3].[cH:30]1[cH:29][c:28]([cH:33][cH:32][cH:31]1)[O:27][CH2:26][C:24](=[O:25])[NH:23][P:21](=[O:22])[C:9]2([C:34](=[O:35])[N:5]([NH2:4])[CH2:6][CH2:7][CH2:8]2)[NH:10][C:11](=[O:12])[O:13][CH2:14][c:15]3[cH:16][cH:17][cH:18][cH:19][cH:20]3>>[cH:30]1[cH:29][c:28]([cH:33][cH:32][cH:31]1)[O:27][CH2:26][C:24](=[O:25])[NH:23][P:21]([C:9]2([CH2:8][CH2:7][CH2:6][N:5]([C:34]2=[O:35])[NH2:4])[NH2:10])=[O:22]\"}"
   ]
  },
  {
   "cell_type": "code",
   "execution_count": null,
   "metadata": {},
   "outputs": [],
   "source": [
    "from SynTemp.SynITS.its_extraction import ITSExtraction\n",
    "ground_truth_its = ITSExtraction.process_mapped_smiles(ground_truth, ['ground_truth'])[1]\n",
    "rxn_its = ITSExtraction.process_mapped_smiles(rxn, ['rxn_mapper'])[1]"
   ]
  },
  {
   "cell_type": "code",
   "execution_count": null,
   "metadata": {},
   "outputs": [],
   "source": [
    "rxn_its"
   ]
  },
  {
   "cell_type": "code",
   "execution_count": null,
   "metadata": {},
   "outputs": [],
   "source": [
    "from SynTemp.SynVis.chemical_graph_visualizer import ChemicalGraphVisualizer\n",
    "vis_graph = ChemicalGraphVisualizer(42)\n",
    "vis_graph.vis_three_graph(ground_truth_its['ITSGraph'])"
   ]
  },
  {
   "cell_type": "code",
   "execution_count": null,
   "metadata": {},
   "outputs": [],
   "source": [
    "vis_graph.vis_three_graph(rxn_its['ITSGraph'])"
   ]
  },
  {
   "cell_type": "code",
   "execution_count": null,
   "metadata": {},
   "outputs": [],
   "source": []
  },
  {
   "cell_type": "code",
   "execution_count": null,
   "metadata": {},
   "outputs": [],
   "source": []
  },
  {
   "cell_type": "code",
   "execution_count": null,
   "metadata": {},
   "outputs": [],
   "source": []
  },
  {
   "cell_type": "code",
   "execution_count": null,
   "metadata": {},
   "outputs": [],
   "source": []
  },
  {
   "cell_type": "code",
   "execution_count": 29,
   "metadata": {},
   "outputs": [],
   "source": [
    "from SynTemp.SynUtils.utils import load_from_pickle\n",
    "temp = load_from_pickle('Data/DPO/USPTO_50K/Hydrogen/templates.pkl.gz')"
   ]
  },
  {
   "cell_type": "code",
   "execution_count": 32,
   "metadata": {},
   "outputs": [
    {
     "data": {
      "text/plain": [
       "{'Cluster_id': 0,\n",
       " 'RC': (<networkx.classes.graph.Graph at 0x7f5b0e85ab50>,\n",
       "  <networkx.classes.graph.Graph at 0x7f5b2ba49d50>,\n",
       "  <networkx.classes.graph.Graph at 0x7f5b0f97f590>),\n",
       " 'Parent': []}"
      ]
     },
     "execution_count": 32,
     "metadata": {},
     "output_type": "execute_result"
    }
   ],
   "source": [
    "temp[0][0]['RC']"
   ]
  },
  {
   "cell_type": "code",
   "execution_count": 4,
   "metadata": {},
   "outputs": [],
   "source": [
    "cluster = load_from_pickle('./Data/DPO/USPTO_50K/Good_hydrogen/cluster.pkl.gz')"
   ]
  },
  {
   "cell_type": "code",
   "execution_count": 21,
   "metadata": {},
   "outputs": [
    {
     "data": {
      "text/plain": [
       "{'R-id': 27953,\n",
       " 'ITSGraph': (<networkx.classes.graph.Graph at 0x7f5bf7125bd0>,\n",
       "  <networkx.classes.graph.Graph at 0x7f5bf7130d10>,\n",
       "  <networkx.classes.graph.Graph at 0x7f5bf7133910>),\n",
       " 'GraphRules': (<networkx.classes.graph.Graph at 0x7f5bf6f49590>,\n",
       "  <networkx.classes.graph.Graph at 0x7f5bf6f499d0>,\n",
       "  <networkx.classes.graph.Graph at 0x7f5bf6f49e10>),\n",
       " 'Cluster_R0': 1,\n",
       " 'Cluster_R1': 55,\n",
       " 'Cluster_R2': 190,\n",
       " 'Cluster_R3': 1,\n",
       " 'Reaction Type': 'Single Cyclic',\n",
       " 'Rings': [4]}"
      ]
     },
     "execution_count": 21,
     "metadata": {},
     "output_type": "execute_result"
    }
   ],
   "source": [
    "cluster[1]"
   ]
  },
  {
   "cell_type": "code",
   "execution_count": 34,
   "metadata": {},
   "outputs": [
    {
     "data": {
      "image/png": "[encoded data removed]",
      "text/plain": [
       "<Figure size 1500x500 with 3 Axes>"
      ]
     },
     "execution_count": 34,
     "metadata": {},
     "output_type": "execute_result"
    }
   ],
   "source": [
    "from SynTemp.SynVis.chemical_graph_visualizer import ChemicalGraphVisualizer\n",
    "vis_graph = ChemicalGraphVisualizer(42)\n",
    "vis_graph.vis_three_graph(temp[0][0]['RC'])"
   ]
  },
  {
   "cell_type": "code",
   "execution_count": 36,
   "metadata": {},
   "outputs": [
    {
     "data": {
      "image/png": "[encoded data removed]",
      "text/plain": [
       "<Figure size 1500x500 with 3 Axes>"
      ]
     },
     "execution_count": 36,
     "metadata": {},
     "output_type": "execute_result"
    }
   ],
   "source": [
    "vis_graph.vis_three_graph(temp[2][0]['RC'])"
   ]
  },
  {
   "cell_type": "code",
   "execution_count": 16,
   "metadata": {},
   "outputs": [
    {
     "data": {
      "image/png": "[encoded data removed]",
      "text/plain": [
       "<Figure size 1500x500 with 3 Axes>"
      ]
     },
     "execution_count": 16,
     "metadata": {},
     "output_type": "execute_result"
    }
   ],
   "source": [
    "vis_graph.vis_three_graph((temp[0][0]['RC'], temp[1][0]['RC'], temp[2][0]['RC']))"
   ]
  },
  {
   "cell_type": "code",
   "execution_count": 19,
   "metadata": {},
   "outputs": [
    {
     "data": {
      "image/png": "[encoded data removed]",
      "text/plain": [
       "<Figure size 640x480 with 1 Axes>"
      ]
     },
     "metadata": {},
     "output_type": "display_data"
    }
   ],
   "source": [
    "vis_graph.its_vis(temp[1][0]['RC'])"
   ]
  },
  {
   "cell_type": "code",
   "execution_count": 47,
   "metadata": {},
   "outputs": [
    {
     "name": "stderr",
     "output_type": "stream",
     "text": [
      "[Parallel(n_jobs=4)]: Using backend LokyBackend with 4 concurrent workers.\n"
     ]
    }
   ],
   "source": [
    "from SynTemp.SynRule.rule_writing import RuleWriting\n",
    "\n",
    "rules = RuleWriting.auto_extraction(data_dicts=temp[0][0:1], id_column=f'Cluster_id', rule_column = 'RC', reindex=True\n",
    "                                        #save_path=f'../../Data/DPO/USPTO_50K/{folder_name}/R{i}/'\n",
    "                                        )"
   ]
  },
  {
   "cell_type": "code",
   "execution_count": 48,
   "metadata": {},
   "outputs": [
    {
     "name": "stdout",
     "output_type": "stream",
     "text": [
      "['rule [\\n   ruleID \"0\"\\n   left [\\n      edge [ source 1 target 3 label \"-\" ]\\n      edge [ source 2 target 4 label \"-\" ]\\n   ]\\n   context [\\n      node [ id 1 label \"H\" ]\\n      node [ id 2 label \"C\" ]\\n      node [ id 3 label \"N\" ]\\n      node [ id 4 label \"Br\" ]\\n   ]\\n   right [\\n      edge [ source 1 target 4 label \"-\" ]\\n      edge [ source 2 target 3 label \"-\" ]\\n   ]\\n]']\n"
     ]
    }
   ],
   "source": [
    "print(rules)"
   ]
  },
  {
   "cell_type": "code",
   "execution_count": 43,
   "metadata": {},
   "outputs": [
    {
     "data": {
      "text/plain": [
       "[{'Cluster_id': 0,\n",
       "  'RC': (<networkx.classes.graph.Graph at 0x7f5b0e85ab50>,\n",
       "   <networkx.classes.graph.Graph at 0x7f5b2ba49d50>,\n",
       "   <networkx.classes.graph.Graph at 0x7f5b0f97f590>),\n",
       "  'Parent': []}]"
      ]
     },
     "execution_count": 43,
     "metadata": {},
     "output_type": "execute_result"
    }
   ],
   "source": [
    "temp[0][0:1]"
   ]
  },
  {
   "cell_type": "code",
   "execution_count": null,
   "metadata": {},
   "outputs": [],
   "source": []
  },
  {
   "cell_type": "code",
   "execution_count": 83,
   "metadata": {},
   "outputs": [
    {
     "name": "stdout",
     "output_type": "stream",
     "text": [
      "Average Solution 39.17\n",
      "Average coverage 0.84\n"
     ]
    }
   ],
   "source": [
    "from SynTemp.SynUtils.utils import load_database\n",
    "\n",
    "r0 = load_database('./Data/DPO/USPTO_50K/Hydrogen/Output/fw_good_0.json.gz')[:100]\n",
    "coverage = 0\n",
    "total_solution = 0\n",
    "for value in r0:\n",
    "    total_solution += len(value['unrank'])\n",
    "    if value['positive_reactions']:\n",
    "        coverage += 1\n",
    "\n",
    "print('Average Solution', total_solution/len(r0))\n",
    "print('Average coverage', coverage/len(r0))"
   ]
  },
  {
   "cell_type": "code",
   "execution_count": 98,
   "metadata": {},
   "outputs": [
    {
     "name": "stdout",
     "output_type": "stream",
     "text": [
      "Average Solution 12.41\n",
      "Average coverage 0.78\n"
     ]
    }
   ],
   "source": [
    "from SynTemp.SynUtils.utils import load_database\n",
    "\n",
    "fw_hier = load_from_pickle('./fw_hier.pkl.gz')\n",
    "coverage = 0\n",
    "total_solution = 0\n",
    "for value in fw_hier:\n",
    "    total_solution += len(value['unrank'])\n",
    "    if value['positive_reactions']:\n",
    "        coverage += 1\n",
    "\n",
    "print('Average Solution', total_solution/len(fw_hier))\n",
    "print('Average coverage', coverage/len(fw_hier))"
   ]
  },
  {
   "cell_type": "code",
   "execution_count": 95,
   "metadata": {},
   "outputs": [],
   "source": [
    "bw_hier = load_from_pickle('./bw_hier.pkl.gz')"
   ]
  },
  {
   "cell_type": "code",
   "execution_count": 93,
   "metadata": {},
   "outputs": [
    {
     "data": {
      "text/plain": [
       "0.9285714285714286"
      ]
     },
     "execution_count": 93,
     "metadata": {},
     "output_type": "execute_result"
    }
   ],
   "source": [
    "0.78/0.84\n"
   ]
  },
  {
   "cell_type": "code",
   "execution_count": 96,
   "metadata": {},
   "outputs": [],
   "source": [
    "from SynTemp.SynChemistry.sf_similarity import SFSimilarity\n",
    "from SynTemp.SynChemistry.sf_maxfrag import SFMaxFrag\n",
    "from SynTemp.SynRule.rule_benchmark import RuleBenchmark\n",
    "scoring_functions = {\n",
    "    'MaxFrag': SFMaxFrag(),\n",
    "    'ECFP6': SFSimilarity([\"ECFP6\"]),\n",
    "    'MACCS': SFSimilarity([\"MACCS\"]),\n",
    "    'RDK7': SFSimilarity([\"RDK7\"])\n",
    "}\n",
    "\n",
    "# Benchmarking setup\n",
    "top_k_values = [1, 3, 5, 10]"
   ]
  },
  {
   "cell_type": "code",
   "execution_count": 97,
   "metadata": {},
   "outputs": [
    {
     "name": "stdout",
     "output_type": "stream",
     "text": [
      "MaxFrag\n",
      "1\n",
      "5.0\n"
     ]
    },
    {
     "name": "stderr",
     "output_type": "stream",
     "text": [
      "[13:55:01] WARNING: not removing hydrogen atom without neighbors\n",
      "[13:55:01] WARNING: not removing hydrogen atom without neighbors\n",
      "[13:55:01] WARNING: not removing hydrogen atom without neighbors\n",
      "[13:55:01] WARNING: not removing hydrogen atom without neighbors\n",
      "[13:55:01] WARNING: not removing hydrogen atom without neighbors\n",
      "[13:55:01] WARNING: not removing hydrogen atom without neighbors\n",
      "[13:55:01] WARNING: not removing hydrogen atom without neighbors\n",
      "[13:55:01] WARNING: not removing hydrogen atom without neighbors\n",
      "[13:55:01] WARNING: not removing hydrogen atom without neighbors\n",
      "[13:55:01] WARNING: not removing hydrogen atom without neighbors\n",
      "[13:55:01] WARNING: not removing hydrogen atom without neighbors\n",
      "[13:55:01] WARNING: not removing hydrogen atom without neighbors\n",
      "[13:55:01] WARNING: not removing hydrogen atom without neighbors\n",
      "[13:55:01] WARNING: not removing hydrogen atom without neighbors\n",
      "[13:55:01] WARNING: not removing hydrogen atom without neighbors\n",
      "[13:55:01] WARNING: not removing hydrogen atom without neighbors\n",
      "[13:55:01] WARNING: not removing hydrogen atom without neighbors\n",
      "[13:55:01] WARNING: not removing hydrogen atom without neighbors\n",
      "[13:55:01] WARNING: not removing hydrogen atom without neighbors\n"
     ]
    },
    {
     "name": "stdout",
     "output_type": "stream",
     "text": [
      "MaxFrag\n",
      "3\n",
      "13.0\n"
     ]
    },
    {
     "name": "stderr",
     "output_type": "stream",
     "text": [
      "[13:55:07] WARNING: not removing hydrogen atom without neighbors\n",
      "[13:55:07] WARNING: not removing hydrogen atom without neighbors\n",
      "[13:55:07] WARNING: not removing hydrogen atom without neighbors\n",
      "[13:55:07] WARNING: not removing hydrogen atom without neighbors\n",
      "[13:55:07] WARNING: not removing hydrogen atom without neighbors\n",
      "[13:55:07] WARNING: not removing hydrogen atom without neighbors\n",
      "[13:55:07] WARNING: not removing hydrogen atom without neighbors\n",
      "[13:55:07] WARNING: not removing hydrogen atom without neighbors\n",
      "[13:55:07] WARNING: not removing hydrogen atom without neighbors\n",
      "[13:55:07] WARNING: not removing hydrogen atom without neighbors\n",
      "[13:55:07] WARNING: not removing hydrogen atom without neighbors\n",
      "[13:55:07] WARNING: not removing hydrogen atom without neighbors\n",
      "[13:55:07] WARNING: not removing hydrogen atom without neighbors\n",
      "[13:55:07] WARNING: not removing hydrogen atom without neighbors\n",
      "[13:55:07] WARNING: not removing hydrogen atom without neighbors\n",
      "[13:55:07] WARNING: not removing hydrogen atom without neighbors\n",
      "[13:55:07] WARNING: not removing hydrogen atom without neighbors\n",
      "[13:55:07] WARNING: not removing hydrogen atom without neighbors\n",
      "[13:55:07] WARNING: not removing hydrogen atom without neighbors\n"
     ]
    },
    {
     "name": "stdout",
     "output_type": "stream",
     "text": [
      "MaxFrag\n",
      "5\n",
      "22.0\n"
     ]
    },
    {
     "name": "stderr",
     "output_type": "stream",
     "text": [
      "[13:55:13] WARNING: not removing hydrogen atom without neighbors\n",
      "[13:55:13] WARNING: not removing hydrogen atom without neighbors\n",
      "[13:55:13] WARNING: not removing hydrogen atom without neighbors\n",
      "[13:55:13] WARNING: not removing hydrogen atom without neighbors\n",
      "[13:55:13] WARNING: not removing hydrogen atom without neighbors\n",
      "[13:55:13] WARNING: not removing hydrogen atom without neighbors\n",
      "[13:55:13] WARNING: not removing hydrogen atom without neighbors\n",
      "[13:55:13] WARNING: not removing hydrogen atom without neighbors\n",
      "[13:55:13] WARNING: not removing hydrogen atom without neighbors\n",
      "[13:55:13] WARNING: not removing hydrogen atom without neighbors\n",
      "[13:55:13] WARNING: not removing hydrogen atom without neighbors\n",
      "[13:55:13] WARNING: not removing hydrogen atom without neighbors\n",
      "[13:55:13] WARNING: not removing hydrogen atom without neighbors\n",
      "[13:55:13] WARNING: not removing hydrogen atom without neighbors\n",
      "[13:55:13] WARNING: not removing hydrogen atom without neighbors\n",
      "[13:55:13] WARNING: not removing hydrogen atom without neighbors\n",
      "[13:55:13] WARNING: not removing hydrogen atom without neighbors\n",
      "[13:55:13] WARNING: not removing hydrogen atom without neighbors\n",
      "[13:55:13] WARNING: not removing hydrogen atom without neighbors\n",
      "[13:55:19] WARNING: not removing hydrogen atom without neighbors\n",
      "[13:55:19] WARNING: not removing hydrogen atom without neighbors\n",
      "[13:55:19] WARNING: not removing hydrogen atom without neighbors\n",
      "[13:55:19] WARNING: not removing hydrogen atom without neighbors\n",
      "[13:55:19] WARNING: not removing hydrogen atom without neighbors\n",
      "[13:55:19] WARNING: not removing hydrogen atom without neighbors\n",
      "[13:55:19] WARNING: not removing hydrogen atom without neighbors\n",
      "[13:55:19] WARNING: not removing hydrogen atom without neighbors\n",
      "[13:55:19] WARNING: not removing hydrogen atom without neighbors\n",
      "[13:55:19] WARNING: not removing hydrogen atom without neighbors\n",
      "[13:55:19] WARNING: not removing hydrogen atom without neighbors\n",
      "[13:55:19] WARNING: not removing hydrogen atom without neighbors\n",
      "[13:55:19] WARNING: not removing hydrogen atom without neighbors\n"
     ]
    },
    {
     "name": "stdout",
     "output_type": "stream",
     "text": [
      "MaxFrag\n",
      "10\n",
      "35.0\n"
     ]
    },
    {
     "name": "stderr",
     "output_type": "stream",
     "text": [
      "[13:55:19] WARNING: not removing hydrogen atom without neighbors\n",
      "[13:55:19] WARNING: not removing hydrogen atom without neighbors\n",
      "[13:55:19] WARNING: not removing hydrogen atom without neighbors\n",
      "[13:55:19] WARNING: not removing hydrogen atom without neighbors\n",
      "[13:55:19] WARNING: not removing hydrogen atom without neighbors\n",
      "[13:55:19] WARNING: not removing hydrogen atom without neighbors\n"
     ]
    },
    {
     "name": "stdout",
     "output_type": "stream",
     "text": [
      "ECFP6\n",
      "1\n",
      "7.0\n"
     ]
    },
    {
     "name": "stderr",
     "output_type": "stream",
     "text": [
      "[13:55:20] WARNING: not removing hydrogen atom without neighbors\n",
      "[13:55:20] WARNING: not removing hydrogen atom without neighbors\n",
      "[13:55:20] WARNING: not removing hydrogen atom without neighbors\n",
      "[13:55:20] WARNING: not removing hydrogen atom without neighbors\n",
      "[13:55:20] WARNING: not removing hydrogen atom without neighbors\n",
      "[13:55:20] WARNING: not removing hydrogen atom without neighbors\n",
      "[13:55:20] WARNING: not removing hydrogen atom without neighbors\n",
      "[13:55:20] WARNING: not removing hydrogen atom without neighbors\n",
      "[13:55:20] WARNING: not removing hydrogen atom without neighbors\n",
      "[13:55:20] WARNING: not removing hydrogen atom without neighbors\n",
      "[13:55:20] WARNING: not removing hydrogen atom without neighbors\n",
      "[13:55:20] WARNING: not removing hydrogen atom without neighbors\n",
      "[13:55:20] WARNING: not removing hydrogen atom without neighbors\n",
      "[13:55:20] WARNING: not removing hydrogen atom without neighbors\n",
      "[13:55:20] WARNING: not removing hydrogen atom without neighbors\n",
      "[13:55:20] WARNING: not removing hydrogen atom without neighbors\n",
      "[13:55:20] WARNING: not removing hydrogen atom without neighbors\n",
      "[13:55:20] WARNING: not removing hydrogen atom without neighbors\n",
      "[13:55:20] WARNING: not removing hydrogen atom without neighbors\n"
     ]
    },
    {
     "name": "stdout",
     "output_type": "stream",
     "text": [
      "ECFP6\n",
      "3\n",
      "20.0\n"
     ]
    },
    {
     "name": "stderr",
     "output_type": "stream",
     "text": [
      "[13:55:22] WARNING: not removing hydrogen atom without neighbors\n",
      "[13:55:22] WARNING: not removing hydrogen atom without neighbors\n",
      "[13:55:22] WARNING: not removing hydrogen atom without neighbors\n",
      "[13:55:22] WARNING: not removing hydrogen atom without neighbors\n",
      "[13:55:22] WARNING: not removing hydrogen atom without neighbors\n",
      "[13:55:22] WARNING: not removing hydrogen atom without neighbors\n",
      "[13:55:22] WARNING: not removing hydrogen atom without neighbors\n",
      "[13:55:22] WARNING: not removing hydrogen atom without neighbors\n",
      "[13:55:22] WARNING: not removing hydrogen atom without neighbors\n",
      "[13:55:22] WARNING: not removing hydrogen atom without neighbors\n",
      "[13:55:22] WARNING: not removing hydrogen atom without neighbors\n",
      "[13:55:22] WARNING: not removing hydrogen atom without neighbors\n",
      "[13:55:22] WARNING: not removing hydrogen atom without neighbors\n",
      "[13:55:22] WARNING: not removing hydrogen atom without neighbors\n",
      "[13:55:22] WARNING: not removing hydrogen atom without neighbors\n",
      "[13:55:22] WARNING: not removing hydrogen atom without neighbors\n",
      "[13:55:22] WARNING: not removing hydrogen atom without neighbors\n",
      "[13:55:22] WARNING: not removing hydrogen atom without neighbors\n",
      "[13:55:22] WARNING: not removing hydrogen atom without neighbors\n"
     ]
    },
    {
     "name": "stdout",
     "output_type": "stream",
     "text": [
      "ECFP6\n",
      "5\n",
      "33.0\n"
     ]
    },
    {
     "name": "stderr",
     "output_type": "stream",
     "text": [
      "[13:55:23] WARNING: not removing hydrogen atom without neighbors\n",
      "[13:55:23] WARNING: not removing hydrogen atom without neighbors\n",
      "[13:55:23] WARNING: not removing hydrogen atom without neighbors\n",
      "[13:55:23] WARNING: not removing hydrogen atom without neighbors\n",
      "[13:55:23] WARNING: not removing hydrogen atom without neighbors\n",
      "[13:55:23] WARNING: not removing hydrogen atom without neighbors\n",
      "[13:55:23] WARNING: not removing hydrogen atom without neighbors\n",
      "[13:55:23] WARNING: not removing hydrogen atom without neighbors\n",
      "[13:55:23] WARNING: not removing hydrogen atom without neighbors\n",
      "[13:55:23] WARNING: not removing hydrogen atom without neighbors\n",
      "[13:55:23] WARNING: not removing hydrogen atom without neighbors\n",
      "[13:55:23] WARNING: not removing hydrogen atom without neighbors\n",
      "[13:55:23] WARNING: not removing hydrogen atom without neighbors\n",
      "[13:55:23] WARNING: not removing hydrogen atom without neighbors\n",
      "[13:55:23] WARNING: not removing hydrogen atom without neighbors\n",
      "[13:55:23] WARNING: not removing hydrogen atom without neighbors\n",
      "[13:55:23] WARNING: not removing hydrogen atom without neighbors\n",
      "[13:55:23] WARNING: not removing hydrogen atom without neighbors\n",
      "[13:55:23] WARNING: not removing hydrogen atom without neighbors\n",
      "[13:55:25] WARNING: not removing hydrogen atom without neighbors\n",
      "[13:55:25] WARNING: not removing hydrogen atom without neighbors\n",
      "[13:55:25] WARNING: not removing hydrogen atom without neighbors\n",
      "[13:55:25] WARNING: not removing hydrogen atom without neighbors\n",
      "[13:55:25] WARNING: not removing hydrogen atom without neighbors\n",
      "[13:55:25] WARNING: not removing hydrogen atom without neighbors\n",
      "[13:55:25] WARNING: not removing hydrogen atom without neighbors\n",
      "[13:55:25] WARNING: not removing hydrogen atom without neighbors\n",
      "[13:55:25] WARNING: not removing hydrogen atom without neighbors\n",
      "[13:55:25] WARNING: not removing hydrogen atom without neighbors\n",
      "[13:55:25] WARNING: not removing hydrogen atom without neighbors\n",
      "[13:55:25] WARNING: not removing hydrogen atom without neighbors\n",
      "[13:55:25] WARNING: not removing hydrogen atom without neighbors\n"
     ]
    },
    {
     "name": "stdout",
     "output_type": "stream",
     "text": [
      "ECFP6\n",
      "10\n",
      "46.0\n"
     ]
    },
    {
     "name": "stderr",
     "output_type": "stream",
     "text": [
      "[13:55:25] WARNING: not removing hydrogen atom without neighbors\n",
      "[13:55:25] WARNING: not removing hydrogen atom without neighbors\n",
      "[13:55:25] WARNING: not removing hydrogen atom without neighbors\n",
      "[13:55:25] WARNING: not removing hydrogen atom without neighbors\n",
      "[13:55:25] WARNING: not removing hydrogen atom without neighbors\n",
      "[13:55:25] WARNING: not removing hydrogen atom without neighbors\n"
     ]
    },
    {
     "name": "stdout",
     "output_type": "stream",
     "text": [
      "MACCS\n",
      "1\n",
      "17.0\n"
     ]
    },
    {
     "name": "stderr",
     "output_type": "stream",
     "text": [
      "[13:55:29] WARNING: not removing hydrogen atom without neighbors\n",
      "[13:55:29] WARNING: not removing hydrogen atom without neighbors\n",
      "[13:55:29] WARNING: not removing hydrogen atom without neighbors\n",
      "[13:55:29] WARNING: not removing hydrogen atom without neighbors\n",
      "[13:55:29] WARNING: not removing hydrogen atom without neighbors\n",
      "[13:55:29] WARNING: not removing hydrogen atom without neighbors\n",
      "[13:55:29] WARNING: not removing hydrogen atom without neighbors\n",
      "[13:55:29] WARNING: not removing hydrogen atom without neighbors\n",
      "[13:55:29] WARNING: not removing hydrogen atom without neighbors\n",
      "[13:55:29] WARNING: not removing hydrogen atom without neighbors\n",
      "[13:55:29] WARNING: not removing hydrogen atom without neighbors\n",
      "[13:55:29] WARNING: not removing hydrogen atom without neighbors\n",
      "[13:55:29] WARNING: not removing hydrogen atom without neighbors\n",
      "[13:55:29] WARNING: not removing hydrogen atom without neighbors\n",
      "[13:55:29] WARNING: not removing hydrogen atom without neighbors\n",
      "[13:55:29] WARNING: not removing hydrogen atom without neighbors\n",
      "[13:55:29] WARNING: not removing hydrogen atom without neighbors\n",
      "[13:55:29] WARNING: not removing hydrogen atom without neighbors\n",
      "[13:55:29] WARNING: not removing hydrogen atom without neighbors\n"
     ]
    },
    {
     "name": "stdout",
     "output_type": "stream",
     "text": [
      "MACCS\n",
      "3\n",
      "31.0\n"
     ]
    },
    {
     "name": "stderr",
     "output_type": "stream",
     "text": [
      "[13:55:33] WARNING: not removing hydrogen atom without neighbors\n",
      "[13:55:33] WARNING: not removing hydrogen atom without neighbors\n",
      "[13:55:33] WARNING: not removing hydrogen atom without neighbors\n",
      "[13:55:33] WARNING: not removing hydrogen atom without neighbors\n",
      "[13:55:33] WARNING: not removing hydrogen atom without neighbors\n",
      "[13:55:33] WARNING: not removing hydrogen atom without neighbors\n",
      "[13:55:33] WARNING: not removing hydrogen atom without neighbors\n",
      "[13:55:33] WARNING: not removing hydrogen atom without neighbors\n",
      "[13:55:33] WARNING: not removing hydrogen atom without neighbors\n",
      "[13:55:33] WARNING: not removing hydrogen atom without neighbors\n",
      "[13:55:33] WARNING: not removing hydrogen atom without neighbors\n",
      "[13:55:33] WARNING: not removing hydrogen atom without neighbors\n",
      "[13:55:33] WARNING: not removing hydrogen atom without neighbors\n",
      "[13:55:33] WARNING: not removing hydrogen atom without neighbors\n",
      "[13:55:33] WARNING: not removing hydrogen atom without neighbors\n",
      "[13:55:33] WARNING: not removing hydrogen atom without neighbors\n",
      "[13:55:33] WARNING: not removing hydrogen atom without neighbors\n",
      "[13:55:33] WARNING: not removing hydrogen atom without neighbors\n",
      "[13:55:33] WARNING: not removing hydrogen atom without neighbors\n"
     ]
    },
    {
     "name": "stdout",
     "output_type": "stream",
     "text": [
      "MACCS\n",
      "5\n",
      "38.0\n"
     ]
    },
    {
     "name": "stderr",
     "output_type": "stream",
     "text": [
      "[13:55:37] WARNING: not removing hydrogen atom without neighbors\n",
      "[13:55:37] WARNING: not removing hydrogen atom without neighbors\n",
      "[13:55:37] WARNING: not removing hydrogen atom without neighbors\n",
      "[13:55:37] WARNING: not removing hydrogen atom without neighbors\n",
      "[13:55:37] WARNING: not removing hydrogen atom without neighbors\n",
      "[13:55:37] WARNING: not removing hydrogen atom without neighbors\n",
      "[13:55:37] WARNING: not removing hydrogen atom without neighbors\n",
      "[13:55:37] WARNING: not removing hydrogen atom without neighbors\n",
      "[13:55:37] WARNING: not removing hydrogen atom without neighbors\n",
      "[13:55:37] WARNING: not removing hydrogen atom without neighbors\n",
      "[13:55:37] WARNING: not removing hydrogen atom without neighbors\n",
      "[13:55:37] WARNING: not removing hydrogen atom without neighbors\n",
      "[13:55:37] WARNING: not removing hydrogen atom without neighbors\n",
      "[13:55:37] WARNING: not removing hydrogen atom without neighbors\n",
      "[13:55:37] WARNING: not removing hydrogen atom without neighbors\n",
      "[13:55:37] WARNING: not removing hydrogen atom without neighbors\n",
      "[13:55:37] WARNING: not removing hydrogen atom without neighbors\n",
      "[13:55:37] WARNING: not removing hydrogen atom without neighbors\n",
      "[13:55:37] WARNING: not removing hydrogen atom without neighbors\n",
      "[13:55:42] WARNING: not removing hydrogen atom without neighbors\n",
      "[13:55:42] WARNING: not removing hydrogen atom without neighbors\n",
      "[13:55:42] WARNING: not removing hydrogen atom without neighbors\n",
      "[13:55:42] WARNING: not removing hydrogen atom without neighbors\n",
      "[13:55:42] WARNING: not removing hydrogen atom without neighbors\n",
      "[13:55:42] WARNING: not removing hydrogen atom without neighbors\n",
      "[13:55:42] WARNING: not removing hydrogen atom without neighbors\n",
      "[13:55:42] WARNING: not removing hydrogen atom without neighbors\n",
      "[13:55:42] WARNING: not removing hydrogen atom without neighbors\n",
      "[13:55:42] WARNING: not removing hydrogen atom without neighbors\n",
      "[13:55:42] WARNING: not removing hydrogen atom without neighbors\n"
     ]
    },
    {
     "name": "stdout",
     "output_type": "stream",
     "text": [
      "MACCS\n",
      "10\n",
      "52.0\n"
     ]
    },
    {
     "name": "stderr",
     "output_type": "stream",
     "text": [
      "[13:55:42] WARNING: not removing hydrogen atom without neighbors\n",
      "[13:55:42] WARNING: not removing hydrogen atom without neighbors\n",
      "[13:55:42] WARNING: not removing hydrogen atom without neighbors\n",
      "[13:55:42] WARNING: not removing hydrogen atom without neighbors\n",
      "[13:55:42] WARNING: not removing hydrogen atom without neighbors\n",
      "[13:55:42] WARNING: not removing hydrogen atom without neighbors\n",
      "[13:55:42] WARNING: not removing hydrogen atom without neighbors\n",
      "[13:55:42] WARNING: not removing hydrogen atom without neighbors\n"
     ]
    },
    {
     "name": "stdout",
     "output_type": "stream",
     "text": [
      "RDK7\n",
      "1\n",
      "7.0\n"
     ]
    },
    {
     "name": "stderr",
     "output_type": "stream",
     "text": [
      "[13:55:46] WARNING: not removing hydrogen atom without neighbors\n",
      "[13:55:46] WARNING: not removing hydrogen atom without neighbors\n",
      "[13:55:46] WARNING: not removing hydrogen atom without neighbors\n",
      "[13:55:46] WARNING: not removing hydrogen atom without neighbors\n",
      "[13:55:46] WARNING: not removing hydrogen atom without neighbors\n",
      "[13:55:46] WARNING: not removing hydrogen atom without neighbors\n",
      "[13:55:46] WARNING: not removing hydrogen atom without neighbors\n",
      "[13:55:46] WARNING: not removing hydrogen atom without neighbors\n",
      "[13:55:46] WARNING: not removing hydrogen atom without neighbors\n",
      "[13:55:46] WARNING: not removing hydrogen atom without neighbors\n",
      "[13:55:46] WARNING: not removing hydrogen atom without neighbors\n",
      "[13:55:46] WARNING: not removing hydrogen atom without neighbors\n",
      "[13:55:46] WARNING: not removing hydrogen atom without neighbors\n",
      "[13:55:46] WARNING: not removing hydrogen atom without neighbors\n",
      "[13:55:46] WARNING: not removing hydrogen atom without neighbors\n",
      "[13:55:46] WARNING: not removing hydrogen atom without neighbors\n",
      "[13:55:46] WARNING: not removing hydrogen atom without neighbors\n",
      "[13:55:46] WARNING: not removing hydrogen atom without neighbors\n",
      "[13:55:46] WARNING: not removing hydrogen atom without neighbors\n"
     ]
    },
    {
     "name": "stdout",
     "output_type": "stream",
     "text": [
      "RDK7\n",
      "3\n",
      "21.0\n"
     ]
    },
    {
     "name": "stderr",
     "output_type": "stream",
     "text": [
      "[13:55:50] WARNING: not removing hydrogen atom without neighbors\n",
      "[13:55:50] WARNING: not removing hydrogen atom without neighbors\n",
      "[13:55:50] WARNING: not removing hydrogen atom without neighbors\n",
      "[13:55:50] WARNING: not removing hydrogen atom without neighbors\n",
      "[13:55:50] WARNING: not removing hydrogen atom without neighbors\n",
      "[13:55:50] WARNING: not removing hydrogen atom without neighbors\n",
      "[13:55:50] WARNING: not removing hydrogen atom without neighbors\n",
      "[13:55:50] WARNING: not removing hydrogen atom without neighbors\n",
      "[13:55:50] WARNING: not removing hydrogen atom without neighbors\n",
      "[13:55:50] WARNING: not removing hydrogen atom without neighbors\n",
      "[13:55:50] WARNING: not removing hydrogen atom without neighbors\n",
      "[13:55:50] WARNING: not removing hydrogen atom without neighbors\n",
      "[13:55:50] WARNING: not removing hydrogen atom without neighbors\n",
      "[13:55:50] WARNING: not removing hydrogen atom without neighbors\n",
      "[13:55:50] WARNING: not removing hydrogen atom without neighbors\n",
      "[13:55:50] WARNING: not removing hydrogen atom without neighbors\n",
      "[13:55:50] WARNING: not removing hydrogen atom without neighbors\n",
      "[13:55:50] WARNING: not removing hydrogen atom without neighbors\n",
      "[13:55:50] WARNING: not removing hydrogen atom without neighbors\n"
     ]
    },
    {
     "name": "stdout",
     "output_type": "stream",
     "text": [
      "RDK7\n",
      "5\n",
      "30.0\n"
     ]
    },
    {
     "name": "stderr",
     "output_type": "stream",
     "text": [
      "[13:55:55] WARNING: not removing hydrogen atom without neighbors\n",
      "[13:55:55] WARNING: not removing hydrogen atom without neighbors\n",
      "[13:55:55] WARNING: not removing hydrogen atom without neighbors\n",
      "[13:55:55] WARNING: not removing hydrogen atom without neighbors\n",
      "[13:55:55] WARNING: not removing hydrogen atom without neighbors\n",
      "[13:55:55] WARNING: not removing hydrogen atom without neighbors\n",
      "[13:55:55] WARNING: not removing hydrogen atom without neighbors\n",
      "[13:55:55] WARNING: not removing hydrogen atom without neighbors\n",
      "[13:55:55] WARNING: not removing hydrogen atom without neighbors\n",
      "[13:55:55] WARNING: not removing hydrogen atom without neighbors\n",
      "[13:55:55] WARNING: not removing hydrogen atom without neighbors\n",
      "[13:55:55] WARNING: not removing hydrogen atom without neighbors\n",
      "[13:55:55] WARNING: not removing hydrogen atom without neighbors\n",
      "[13:55:55] WARNING: not removing hydrogen atom without neighbors\n",
      "[13:55:55] WARNING: not removing hydrogen atom without neighbors\n",
      "[13:55:55] WARNING: not removing hydrogen atom without neighbors\n",
      "[13:55:55] WARNING: not removing hydrogen atom without neighbors\n",
      "[13:55:55] WARNING: not removing hydrogen atom without neighbors\n",
      "[13:55:55] WARNING: not removing hydrogen atom without neighbors\n",
      "[13:55:59] WARNING: not removing hydrogen atom without neighbors\n",
      "[13:55:59] WARNING: not removing hydrogen atom without neighbors\n",
      "[13:55:59] WARNING: not removing hydrogen atom without neighbors\n",
      "[13:55:59] WARNING: not removing hydrogen atom without neighbors\n",
      "[13:55:59] WARNING: not removing hydrogen atom without neighbors\n",
      "[13:55:59] WARNING: not removing hydrogen atom without neighbors\n",
      "[13:55:59] WARNING: not removing hydrogen atom without neighbors\n",
      "[13:55:59] WARNING: not removing hydrogen atom without neighbors\n",
      "[13:55:59] WARNING: not removing hydrogen atom without neighbors\n",
      "[13:55:59] WARNING: not removing hydrogen atom without neighbors\n",
      "[13:55:59] WARNING: not removing hydrogen atom without neighbors\n",
      "[13:55:59] WARNING: not removing hydrogen atom without neighbors\n",
      "[13:55:59] WARNING: not removing hydrogen atom without neighbors\n"
     ]
    },
    {
     "name": "stdout",
     "output_type": "stream",
     "text": [
      "RDK7\n",
      "10\n",
      "44.0\n"
     ]
    },
    {
     "name": "stderr",
     "output_type": "stream",
     "text": [
      "[13:55:59] WARNING: not removing hydrogen atom without neighbors\n",
      "[13:55:59] WARNING: not removing hydrogen atom without neighbors\n",
      "[13:55:59] WARNING: not removing hydrogen atom without neighbors\n",
      "[13:55:59] WARNING: not removing hydrogen atom without neighbors\n",
      "[13:55:59] WARNING: not removing hydrogen atom without neighbors\n",
      "[13:55:59] WARNING: not removing hydrogen atom without neighbors\n"
     ]
    }
   ],
   "source": [
    "for name, func in scoring_functions.items():\n",
    "    for k in top_k_values:\n",
    "        accuracy = RuleBenchmark.TopKAccuracy(fw_hier, 'reactions', \"ranked_reactions\", k, ignore_stero=True, scoring_function=func)\n",
    "        print(name)\n",
    "        print(k)\n",
    "        print(accuracy)\n",
    "          "
   ]
  },
  {
   "cell_type": "code",
   "execution_count": null,
   "metadata": {},
   "outputs": [],
   "source": [
    "accuracy = RuleBenchmark.TopKAccuracy(bw, args.original_rsmi_col, \"ranked_reactions\", k, ignore_stero=True, scoring_function=func)"
   ]
  },
  {
   "cell_type": "code",
   "execution_count": 73,
   "metadata": {},
   "outputs": [
    {
     "name": "stdout",
     "output_type": "stream",
     "text": [
      "100\n"
     ]
    }
   ],
   "source": [
    "print(len(fw_hier))"
   ]
  },
  {
   "cell_type": "code",
   "execution_count": 59,
   "metadata": {},
   "outputs": [],
   "source": [
    "fw_hier = load_from_pickle('./fw_hier.pkl.gz')"
   ]
  },
  {
   "cell_type": "code",
   "execution_count": 51,
   "metadata": {},
   "outputs": [
    {
     "data": {
      "text/plain": [
       "5002"
      ]
     },
     "execution_count": 51,
     "metadata": {},
     "output_type": "execute_result"
    }
   ],
   "source": [
    "len(r0)"
   ]
  },
  {
   "cell_type": "code",
   "execution_count": 53,
   "metadata": {},
   "outputs": [],
   "source": [
    "coverage = 0\n",
    "for value in r0:\n",
    "    if value['positive_reactions']:\n",
    "        coverage += 1"
   ]
  },
  {
   "cell_type": "code",
   "execution_count": 55,
   "metadata": {},
   "outputs": [
    {
     "data": {
      "text/plain": [
       "0.7912834866053579"
      ]
     },
     "execution_count": 55,
     "metadata": {},
     "output_type": "execute_result"
    }
   ],
   "source": [
    "coverage/5002"
   ]
  },
  {
   "cell_type": "code",
   "execution_count": null,
   "metadata": {},
   "outputs": [],
   "source": [
    "Result = [['C1(:C:C(:C(:C(:C:1S(Cl)(=O)=O)Cl)[N+]([O-])=O)C(OC(C)(C)C)=NCCN)Cl', 'O'], ['O', 'C1(:C(:C(:C(:C:C:1[N+]([O-])=O)C(OC(C)(C)C)=NCCN)Cl)S(Cl)(=O)=O)Cl']]\n",
    "\n",
    "Results = [['C1(:C:C(:C(:C(:C:1S(Cl)(=O)=O)Cl)[N+]([O-])=O)C(OC(C)(C)C)=NCCN)Cl', 'O'], ['O', 'C1(:C(:C(:C(:C:C:1[N+]([O-])=O)C(OC(C)(C)C)=NCCN)Cl)S(Cl)(=O)=O)Cl']]\n"
   ]
  },
  {
   "cell_type": "code",
   "execution_count": 74,
   "metadata": {},
   "outputs": [
    {
     "name": "stdout",
     "output_type": "stream",
     "text": [
      "1\n"
     ]
    }
   ],
   "source": [
    "if [[]]:\n",
    "    print(1)"
   ]
  },
  {
   "cell_type": "code",
   "execution_count": null,
   "metadata": {},
   "outputs": [],
   "source": []
  }
 ],
 "metadata": {
  "kernelspec": {
   "display_name": "SynITSG",
   "language": "python",
   "name": "python3"
  },
  "language_info": {
   "codemirror_mode": {
    "name": "ipython",
    "version": 3
   },
   "file_extension": ".py",
   "mimetype": "text/x-python",
   "name": "python",
   "nbconvert_exporter": "python",
   "pygments_lexer": "ipython3",
   "version": "3.11.0"
  }
 },
 "nbformat": 4,
 "nbformat_minor": 2
}
