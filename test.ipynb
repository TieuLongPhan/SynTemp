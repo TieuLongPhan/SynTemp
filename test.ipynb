{
 "cells": [
  {
   "cell_type": "code",
   "execution_count": 1,
   "metadata": {},
   "outputs": [],
   "source": [
    "from SynTemp.SynUtils.utils import load_database, load_from_pickle\n",
    "data = load_from_pickle('./Data/uspto/uspto_its_graph_rules_cluster.pkl.gz')"
   ]
  },
  {
   "cell_type": "code",
   "execution_count": 2,
   "metadata": {},
   "outputs": [],
   "source": [
    "from SynTemp.SynMØD.naive_cluster import NaiveCluster\n",
    "node_label_names = [\"element\", \"charge\"]\n",
    "naive_cluster = NaiveCluster(node_label_names=node_label_names, node_label_default=[\"*\", 0], edge_attribute=\"order\")\n",
    "its_graph_rules_cluster = naive_cluster.process_rules_clustering(data, rule_column='GraphRules')"
   ]
  },
  {
   "cell_type": "code",
   "execution_count": 3,
   "metadata": {},
   "outputs": [
    {
     "data": {
      "text/plain": [
       "[{'R-id': 'USPTO_50K_26',\n",
       "  'ITSGraph': (<networkx.classes.graph.Graph at 0x7f721c9046d0>,\n",
       "   <networkx.classes.graph.Graph at 0x7f71fb0887d0>,\n",
       "   <networkx.classes.graph.Graph at 0x7f71fb08ab50>),\n",
       "  'GraphRules': (<networkx.classes.graph.Graph at 0x7f71fb09a650>,\n",
       "   <networkx.classes.graph.Graph at 0x7f71fb09aa50>,\n",
       "   <networkx.classes.graph.Graph at 0x7f71fb09ae90>),\n",
       "  'naive_cluster': 0,\n",
       "  'Reaction Type': 'Single Cyclic',\n",
       "  'Rings': [4]},\n",
       " {'R-id': 'USPTO_50K_50',\n",
       "  'ITSGraph': (<networkx.classes.graph.Graph at 0x7f71fb09b750>,\n",
       "   <networkx.classes.graph.Graph at 0x7f71fb0a9c90>,\n",
       "   <networkx.classes.graph.Graph at 0x7f71fb0ab8d0>),\n",
       "  'GraphRules': (<networkx.classes.graph.Graph at 0x7f71fb0ba790>,\n",
       "   <networkx.classes.graph.Graph at 0x7f71fb0bab90>,\n",
       "   <networkx.classes.graph.Graph at 0x7f71fb0bafd0>),\n",
       "  'naive_cluster': 1,\n",
       "  'Reaction Type': 'Single Cyclic',\n",
       "  'Rings': [4]}]"
      ]
     },
     "execution_count": 3,
     "metadata": {},
     "output_type": "execute_result"
    }
   ],
   "source": [
    "its_graph_rules_cluster[0:2]"
   ]
  },
  {
   "cell_type": "code",
   "execution_count": 4,
   "metadata": {},
   "outputs": [
    {
     "data": {
      "text/plain": [
       "Rings\n",
       "[4]                      26348\n",
       "[]                        1061\n",
       "[5]                        692\n",
       "[6]                        297\n",
       "[3, 5]                     169\n",
       "[4, 4, 6]                  151\n",
       "[3]                         67\n",
       "[4, 4]                      50\n",
       "[7]                         22\n",
       "[4, 5, 5, 5, 6, 7, 8]       20\n",
       "[3, 3]                      14\n",
       "[5, 6, 7]                    5\n",
       "[8]                          4\n",
       "[4, 4, 4]                    2\n",
       "[3, 3, 3, 4, 4, 5]           2\n",
       "[3, 4, 5]                    2\n",
       "[4, 5, 5]                    1\n",
       "Name: count, dtype: int64"
      ]
     },
     "execution_count": 4,
     "metadata": {},
     "output_type": "execute_result"
    }
   ],
   "source": [
    "import pandas as pd\n",
    "pd.DataFrame(its_graph_rules_cluster)['Rings'].value_counts()"
   ]
  }
 ],
 "metadata": {
  "kernelspec": {
   "display_name": "SynITSG",
   "language": "python",
   "name": "python3"
  },
  "language_info": {
   "codemirror_mode": {
    "name": "ipython",
    "version": 3
   },
   "file_extension": ".py",
   "mimetype": "text/x-python",
   "name": "python",
   "nbconvert_exporter": "python",
   "pygments_lexer": "ipython3",
   "version": "3.11.0"
  }
 },
 "nbformat": 4,
 "nbformat_minor": 2
}
