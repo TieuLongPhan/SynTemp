{
 "cells": [
  {
   "cell_type": "code",
   "execution_count": null,
   "metadata": {},
   "outputs": [],
   "source": [
    "from SynTemp.SynUtils.utils import load_database, load_from_pickle\n",
    "data = load_from_pickle('./Data/uspto/uspto_its_graph_rules_cluster.pkl.gz')"
   ]
  },
  {
   "cell_type": "markdown",
   "metadata": {},
   "source": []
  },
  {
   "cell_type": "code",
   "execution_count": null,
   "metadata": {},
   "outputs": [],
   "source": [
    "from SynTemp.SynRule.rule_cluster import NaiveCluster\n",
    "node_label_names = [\"element\", \"charge\"]\n",
    "naive_cluster = NaiveCluster(node_label_names=node_label_names, node_label_default=[\"*\", 0], edge_attribute=\"order\")\n",
    "its_graph_rules_cluster = naive_cluster.process_rules_clustering(data, rule_column='GraphRules')"
   ]
  },
  {
   "cell_type": "code",
   "execution_count": null,
   "metadata": {},
   "outputs": [],
   "source": [
    "its_graph_rules_cluster[0]"
   ]
  },
  {
   "cell_type": "code",
   "execution_count": null,
   "metadata": {},
   "outputs": [],
   "source": [
    "from SynTemp.SynUtils.utils import stratified_random_sample\n",
    "import pandas as pd\n",
    "sampled_data = stratified_random_sample(its_graph_rules_cluster, property_key='naive_cluster', samples_per_class=1, seed=23)\n",
    "pd.DataFrame(sampled_data)['Reaction Type'].value_counts()"
   ]
  },
  {
   "cell_type": "code",
   "execution_count": null,
   "metadata": {},
   "outputs": [],
   "source": [
    "single = [x['GraphRules'][2] for x in sampled_data if x['Reaction Type'] == 'Single Cyclic']\n",
    "complex = [x['GraphRules'][2] for x in sampled_data if x['Reaction Type'] == 'Complex Cyclic']\n",
    "neither = [x['GraphRules'][2] for x in sampled_data if x['Reaction Type'] == 'None']\n",
    "acyclic = [x['GraphRules'][2] for x in sampled_data if x['Reaction Type'] == 'Acyclic']"
   ]
  },
  {
   "cell_type": "code",
   "execution_count": null,
   "metadata": {},
   "outputs": [],
   "source": [
    "from SynTemp.SynVis.chemical_graph_vis import ChemicalGraphVisualizer\n",
    "vis = ChemicalGraphVisualizer()\n",
    "vis.graph_vis(complex[4], show_node_labels=True)"
   ]
  },
  {
   "cell_type": "code",
   "execution_count": null,
   "metadata": {},
   "outputs": [],
   "source": [
    "from SynTemp.SynRule.rule_decompose import GraphRuleDecompose"
   ]
  },
  {
   "cell_type": "code",
   "execution_count": null,
   "metadata": {},
   "outputs": [],
   "source": [
    "from copy import deepcopy\n",
    "complex_graph = complex[11]\n",
    "# Add nodes and edges to complex_graph with the required attributes\n",
    "\n",
    "single_cyclic_graphs = deepcopy(single)\n",
    "# Define your single cyclic graphs by adding nodes and edges with the required attributes\n",
    "\n",
    "# Call the function\n",
    "explained_graphs = GraphRuleDecompose.bfs_remove_isomorphic_subgraphs(complex_graph, single_cyclic_graphs)\n",
    "\n",
    "if explained_graphs is not None:\n",
    "    print(\"List of single cyclic graphs that explain the complex graph:\", explained_graphs)\n",
    "    GraphRuleDecompose.visualize_with_common_subgraphs(complex_graph, explained_graphs)\n",
    "else:\n",
    "    print(\"Some parts of the complex graph could not be explained by any of the single cyclic graphs.\")"
   ]
  },
  {
   "cell_type": "code",
   "execution_count": null,
   "metadata": {},
   "outputs": [],
   "source": [
    "import pandas as pd \n",
    "\n",
    "df = pd.read_csv('./Data/golden/golden_dataset.csv')\n",
    "df.head(2)\n",
    "\n",
    "from SynTemp.SynUtils.utils import load_database\n",
    "data = load_database('./Data/golden/golden_aam_reactions.json.gz')\n",
    "for key, value in enumerate(data):\n",
    "    data[key]['ground_truth'] = df.iloc[key,0]"
   ]
  },
  {
   "cell_type": "code",
   "execution_count": null,
   "metadata": {},
   "outputs": [],
   "source": [
    "from SynTemp.SynUtils.utils import load_database\n",
    "data = load_database('./Data/golden/golden_aam_reactions.json.gz')\n",
    "for key, value in enumerate(data):\n",
    "    data[key]['ground_truth'] = df.iloc[key,0]"
   ]
  },
  {
   "cell_type": "code",
   "execution_count": null,
   "metadata": {},
   "outputs": [],
   "source": [
    "pd.DataFrame(data).info()"
   ]
  },
  {
   "cell_type": "code",
   "execution_count": null,
   "metadata": {},
   "outputs": [],
   "source": [
    "from SynTemp.SynAAM.aam_validator import AMMValidator \n",
    "for key, value in enumerate(data):\n",
    "    try:\n",
    "        AMMValidator.smiles_check(data[key]['ground_truth'], data[key]['rdt'])\n",
    "    except:\n",
    "        print(key)"
   ]
  },
  {
   "cell_type": "code",
   "execution_count": null,
   "metadata": {},
   "outputs": [],
   "source": [
    "data[366]['rdt']"
   ]
  },
  {
   "cell_type": "code",
   "execution_count": null,
   "metadata": {},
   "outputs": [],
   "source": [
    "from SynTemp.SynAAM.aam_validator import AMMValidator  \n",
    "results = AMMValidator.validate_smiles(data=data, ground_truth_col='ground_truth', \n",
    "                                       mapped_cols=['rxn_mapper', 'graphormer', 'local_mapper', 'rdt'], \n",
    "                                       check_method='RC', \n",
    "                                       ignore_aromaticity=False, n_jobs=4, verbose=0)"
   ]
  },
  {
   "cell_type": "code",
   "execution_count": null,
   "metadata": {},
   "outputs": [],
   "source": [
    "pd.DataFrame(results)[['mapper', 'accuracy']]"
   ]
  },
  {
   "cell_type": "code",
   "execution_count": null,
   "metadata": {},
   "outputs": [],
   "source": [
    "from SynTemp.SynAAM.aam_validator import AMMValidator  \n",
    "results = AMMValidator.validate_smiles(data=data, ground_truth_col='Ground turth', \n",
    "                                       mapped_cols=['RXNMapper', 'GraphMapper', 'LocalMapper'], \n",
    "                                       check_method='RC', \n",
    "                                       ignore_aromaticity=False, n_jobs=4, verbose=0)"
   ]
  },
  {
   "cell_type": "code",
   "execution_count": null,
   "metadata": {},
   "outputs": [],
   "source": [
    "pd.DataFrame(results)[['mapper', 'accuracy']]"
   ]
  },
  {
   "cell_type": "code",
   "execution_count": null,
   "metadata": {},
   "outputs": [],
   "source": [
    "pd.DataFrame(results)[['mapper', 'accuracy']]"
   ]
  },
  {
   "cell_type": "code",
   "execution_count": null,
   "metadata": {},
   "outputs": [],
   "source": []
  },
  {
   "cell_type": "code",
   "execution_count": null,
   "metadata": {},
   "outputs": [],
   "source": [
    "from SynTemp.SynUtils.utils import load_database\n",
    "recon = load_database('./Data/Recon3D/Recon3D_aam_reactions.json.gz')\n",
    "\n",
    "from SynTemp.SynAAM.aam_validator import AMMValidator  \n",
    "results, _ = AMMValidator.validate_smiles(data=recon, ground_truth_col='ground_truth', \n",
    "                                       mapped_cols=['rxn_mapper', 'graphormer', 'local_mapper', 'rdt'], \n",
    "                                       check_method='RC', \n",
    "                                       ignore_aromaticity=False, n_jobs=4, verbose=0, ensemble=True)"
   ]
  },
  {
   "cell_type": "code",
   "execution_count": null,
   "metadata": {},
   "outputs": [],
   "source": [
    "pd.DataFrame(recon).to_csv('./Data/Recon3D/Recon3D_aam_reactions.csv')"
   ]
  },
  {
   "cell_type": "code",
   "execution_count": null,
   "metadata": {},
   "outputs": [],
   "source": [
    "import pandas as pd\n",
    "pd.DataFrame(results)[['mapper', 'accuracy', 'success_rate']]"
   ]
  },
  {
   "cell_type": "code",
   "execution_count": null,
   "metadata": {},
   "outputs": [],
   "source": [
    "import pandas as pd"
   ]
  },
  {
   "cell_type": "code",
   "execution_count": null,
   "metadata": {},
   "outputs": [],
   "source": [
    "ecoli = pd.read_csv('./Data/ecoli/ecoli.smiles', header=None)\n",
    "ecoli.rename({0:'ground_truth'}, axis=1, inplace=True)\n",
    "ecoli['R-id'] = range(1, len(ecoli) + 1)"
   ]
  },
  {
   "cell_type": "code",
   "execution_count": null,
   "metadata": {},
   "outputs": [],
   "source": [
    "from rdkit import Chem\n",
    "from rdkit.Chem import rdChemReactions\n",
    "ok = []\n",
    "bug = []\n",
    "for key, value in enumerate(ecoli['ground_truth']):\n",
    "    try:\n",
    "        rdChemReactions.ReactionFromSmarts(value)\n",
    "        ok.append(key)\n",
    "    except:\n",
    "        bug.append(key)"
   ]
  },
  {
   "cell_type": "code",
   "execution_count": null,
   "metadata": {},
   "outputs": [],
   "source": [
    "a,b,c =ecoli['ground_truth'][bug[0]].split('>>')"
   ]
  },
  {
   "cell_type": "code",
   "execution_count": null,
   "metadata": {},
   "outputs": [],
   "source": [
    "print(ecoli.iloc[bug,:]['ground_truth'])"
   ]
  },
  {
   "cell_type": "code",
   "execution_count": null,
   "metadata": {},
   "outputs": [],
   "source": [
    "ecoli = ecoli.iloc[ok, :]\n",
    "ecoli.reset_index(drop=True, inplace=True)\n",
    "#ecoli = ecoli.to_dict('records')"
   ]
  },
  {
   "cell_type": "code",
   "execution_count": null,
   "metadata": {},
   "outputs": [],
   "source": [
    "from SynTemp.SynUtils.utils import save_database\n",
    "save_database(ecoli, './Data/ecoli/ecoli_reactions.json.gz')"
   ]
  },
  {
   "cell_type": "code",
   "execution_count": null,
   "metadata": {},
   "outputs": [],
   "source": [
    "Chem.MolFromSmiles(ecoli.loc[189, 'reactions'])"
   ]
  },
  {
   "cell_type": "code",
   "execution_count": null,
   "metadata": {},
   "outputs": [],
   "source": [
    "bug"
   ]
  },
  {
   "cell_type": "code",
   "execution_count": null,
   "metadata": {},
   "outputs": [],
   "source": [
    "\n",
    "rxn = rdChemReactions.ReactionFromSmarts('[C:1](=[O:2])O.[N:3]>>[C:1](=[O:2])[N:3]')\n",
    "reacts = (Chem.MolFromSmiles('C(=O)O'),Chem.MolFromSmiles('CNC'))\n",
    "products = rxn.RunReactants(reacts)"
   ]
  },
  {
   "cell_type": "code",
   "execution_count": null,
   "metadata": {},
   "outputs": [],
   "source": []
  },
  {
   "cell_type": "code",
   "execution_count": null,
   "metadata": {},
   "outputs": [],
   "source": [
    "from SynTemp.SynUtils.utils import load_database\n",
    "recon = load_database('./Data/Recon3D/Recon3D_aam_reactions.json.gz')\n",
    "\n",
    "from SynTemp.SynAAM.aam_validator import AMMValidator  \n",
    "results, _ = AMMValidator.validate_smiles(data=recon, ground_truth_col='ground_truth', \n",
    "                                       mapped_cols=['rxn_mapper', 'graphormer', 'local_mapper'], \n",
    "                                       check_method='RC', \n",
    "                                       ignore_aromaticity=False, n_jobs=4, verbose=0, ensemble=True)\n",
    "\n",
    "import pandas as pd\n",
    "pd.DataFrame(results)[['mapper', 'accuracy', 'success_rate']]"
   ]
  },
  {
   "cell_type": "code",
   "execution_count": null,
   "metadata": {},
   "outputs": [],
   "source": [
    "recon[0]"
   ]
  },
  {
   "cell_type": "code",
   "execution_count": null,
   "metadata": {},
   "outputs": [],
   "source": [
    "from SynTemp.SynUtils.utils import load_database\n",
    "recon = load_database('./Data/ecoli/ecoli_aam_reactions.json.gz')\n",
    "\n",
    "from SynTemp.SynAAM.aam_validator import AMMValidator  \n",
    "results, _ = AMMValidator.validate_smiles(data=recon, ground_truth_col='ground_truth', \n",
    "                                       mapped_cols=['rxn_mapper', 'graphormer', 'local_mapper', 'rdt', 'ground_truth'], \n",
    "                                       check_method='RC', \n",
    "                                       ignore_aromaticity=False, n_jobs=4, verbose=0, ensemble=False)\n",
    "\n",
    "import pandas as pd\n",
    "pd.DataFrame(results)[['mapper', 'accuracy', 'success_rate']]"
   ]
  },
  {
   "cell_type": "code",
   "execution_count": null,
   "metadata": {},
   "outputs": [],
   "source": [
    "test = pd.DataFrame(recon).drop(['reactions'], axis =1)\n",
    "test['local_mapper_result'] = pd.DataFrame(results).loc[2, 'results']\n",
    "test['rxn_mapper_result'] = pd.DataFrame(results).loc[0, 'results']\n",
    "test['graphormer_result'] = pd.DataFrame(results).loc[1, 'results']\n",
    "test['rdt_result'] = pd.DataFrame(results).loc[3, 'results']"
   ]
  },
  {
   "cell_type": "code",
   "execution_count": null,
   "metadata": {},
   "outputs": [],
   "source": [
    "test.to_csv('./Data/ecoli/ecoli_aam_reactions.csv')"
   ]
  },
  {
   "cell_type": "code",
   "execution_count": null,
   "metadata": {},
   "outputs": [],
   "source": [
    "pd.DataFrame(results)"
   ]
  },
  {
   "cell_type": "code",
   "execution_count": null,
   "metadata": {},
   "outputs": [],
   "source": [
    "pd.DataFrame(results).loc[2, 'results']"
   ]
  },
  {
   "cell_type": "code",
   "execution_count": null,
   "metadata": {},
   "outputs": [],
   "source": [
    "test_2 = test[['local_mapper_result', 'rxn_mapper_result', 'graphormer_result', 'rdt_result']]"
   ]
  },
  {
   "cell_type": "code",
   "execution_count": null,
   "metadata": {},
   "outputs": [],
   "source": [
    "def ensemble_results(df, threshold):\n",
    "    # Calculate the sum of True values in each row\n",
    "    true_counts = df.sum(axis=1)\n",
    "    # Apply the threshold to determine the final result\n",
    "    final_results = true_counts >= threshold\n",
    "    return final_results\n",
    "\n",
    "test_3 = ensemble_results(test_2, 2)"
   ]
  },
  {
   "cell_type": "code",
   "execution_count": null,
   "metadata": {},
   "outputs": [],
   "source": [
    "test_3.sum()/273"
   ]
  },
  {
   "cell_type": "code",
   "execution_count": null,
   "metadata": {},
   "outputs": [],
   "source": [
    "uspto_sample = pd.read_csv('./Data/aam_benchmark/USPTO_sampled.csv')"
   ]
  },
  {
   "cell_type": "code",
   "execution_count": null,
   "metadata": {},
   "outputs": [],
   "source": [
    "uspto_sample['LocalMapper_correct'].sum()"
   ]
  },
  {
   "cell_type": "code",
   "execution_count": null,
   "metadata": {},
   "outputs": [],
   "source": [
    "uspto_sample"
   ]
  },
  {
   "cell_type": "markdown",
   "metadata": {},
   "source": [
    "# Bug"
   ]
  },
  {
   "cell_type": "code",
   "execution_count": null,
   "metadata": {},
   "outputs": [],
   "source": [
    "import pandas as pd \n",
    "\n",
    "df = pd.read_csv('./Data/aam_benchmark/Golden_mappings.csv')\n",
    "df = pd.read_csv('./Data/aam_benchmark/benchmark.csv')\n",
    "df = pd.read_csv('./Data/aam_benchmark/NatComm_mappings.csv')\n",
    "df = pd.read_csv('./Data/aam_benchmark/USPTO_sampled.csv')\n",
    "df = pd.read_csv('./Data/ecoli/ecoli_aam_reactions.csv')\n",
    "#df = pd.read_csv('./Data/Recon3D/Recon3D_aam_reactions.csv')\n",
    "df.head(1)"
   ]
  },
  {
   "cell_type": "code",
   "execution_count": null,
   "metadata": {},
   "outputs": [],
   "source": [
    "from SynTemp.SynAAM.aam_validator import AMMValidator  \n",
    "results, _ = AMMValidator.validate_smiles(data=df, ground_truth_col='ground_truth', \n",
    "                                       mapped_cols=['ground_truth'], \n",
    "                                       check_method='RC', \n",
    "                                       ignore_aromaticity=False, n_jobs=4, verbose=0, ensemble=False)\n",
    "\n",
    "import pandas as pd\n",
    "pd.DataFrame(results)[['mapper', 'accuracy', 'success_rate']]"
   ]
  },
  {
   "cell_type": "code",
   "execution_count": null,
   "metadata": {},
   "outputs": [],
   "source": [
    "test_0 = df[['ground_truth', 'R-id']]\n",
    "test_0['results'] = results[0]['results']"
   ]
  },
  {
   "cell_type": "code",
   "execution_count": null,
   "metadata": {},
   "outputs": [],
   "source": [
    "test_0_bug = test_0.loc[test_0['results']==False, :]"
   ]
  },
  {
   "cell_type": "code",
   "execution_count": null,
   "metadata": {},
   "outputs": [],
   "source": [
    "rsmi = test_0_bug['ground_truth'][74]"
   ]
  },
  {
   "cell_type": "code",
   "execution_count": null,
   "metadata": {},
   "outputs": [],
   "source": [
    "from SynTemp.SynITS.its_construction import ITSConstruction\n",
    "from SynTemp.SynITS.its_extraction import ITSExtraction\n",
    "reactants, products = rsmi.split('>>')\n",
    "G, H = ITSExtraction.graph_from_smiles(reactants), ITSExtraction.graph_from_smiles(products)"
   ]
  },
  {
   "cell_type": "code",
   "execution_count": null,
   "metadata": {},
   "outputs": [],
   "source": [
    "rsmi"
   ]
  },
  {
   "cell_type": "code",
   "execution_count": null,
   "metadata": {},
   "outputs": [],
   "source": [
    "reactants"
   ]
  },
  {
   "cell_type": "code",
   "execution_count": null,
   "metadata": {},
   "outputs": [],
   "source": [
    "from rdkit import Chem\n",
    "Chem.MolFromSmiles(reactants)"
   ]
  },
  {
   "cell_type": "code",
   "execution_count": null,
   "metadata": {},
   "outputs": [],
   "source": []
  },
  {
   "cell_type": "code",
   "execution_count": null,
   "metadata": {},
   "outputs": [],
   "source": []
  },
  {
   "cell_type": "code",
   "execution_count": null,
   "metadata": {},
   "outputs": [],
   "source": [
    "from SynTemp.SynVis.reaction_visualizer import ReactionVisualizer\n",
    "vis = ReactionVisualizer()"
   ]
  },
  {
   "cell_type": "code",
   "execution_count": null,
   "metadata": {},
   "outputs": [],
   "source": [
    "vis.visualize_reaction(test_0_bug.iloc[0]['ground_truth'])"
   ]
  },
  {
   "cell_type": "code",
   "execution_count": null,
   "metadata": {},
   "outputs": [],
   "source": [
    "test_0_bug.iloc[0]['ground_truth']"
   ]
  },
  {
   "cell_type": "code",
   "execution_count": null,
   "metadata": {},
   "outputs": [],
   "source": [
    "import pandas as pd\n",
    "\n",
    "\n",
    "df = pd.read_csv('./Data/USPTO_50K/USPTO_50K.csv')\n",
    "df.drop_duplicates(subset=['reactions'], inplace=True)\n",
    "df['R-id'] = ['USPTO-' + str(i) for i in range(len(df))]\n",
    "df.head(2)"
   ]
  },
  {
   "cell_type": "markdown",
   "metadata": {},
   "source": [
    "# MOD"
   ]
  },
  {
   "cell_type": "code",
   "execution_count": null,
   "metadata": {},
   "outputs": [],
   "source": [
    "from SynTemp.SynRule.rule_executor import RuleExecutor\n",
    "test = RuleExecutor.reaction_prediction(input_smiles=['C=C1C(=C)C2OC1C1=C2CC(C(C)=O)CC1'],\n",
    "                                        rule_file_path='./Data/uspto/Rule/USPTO_50K_31.gml',\n",
    "                                        prediction_type='backward', repeat_times=1, print_results=False)\n",
    "\n",
    "test"
   ]
  },
  {
   "cell_type": "code",
   "execution_count": null,
   "metadata": {},
   "outputs": [],
   "source": [
    "from SynTemp.SynRule.rule_executor import RuleExecutor\n",
    "from SynTemp.SynUtils.utils import load_database\n",
    "database = load_database('./test_database.json.gz')\n",
    "test = RuleExecutor.reaction_database_prediction(database=database[:],  rule_file_path='./Data/uspto/Rule/',\n",
    "                                         original_rsmi_col='reactions', prediction_type = 'backward', repeat_times=1)\n"
   ]
  },
  {
   "cell_type": "code",
   "execution_count": null,
   "metadata": {},
   "outputs": [],
   "source": [
    "from SynTemp.SynRule.rule_benchmark import RuleBenchmark\n",
    "from SynTemp.SynUtils.utils import load_database\n",
    "database = load_database('./test_database.json.gz')\n",
    "fw, bw = RuleBenchmark.reproduce_reactions(database=database[:],  id_col='R-id', rule_file_path='./Data/uspto/Rule',\n",
    "                                         original_rsmi_col='reactions', repeat_times=1)"
   ]
  },
  {
   "cell_type": "code",
   "execution_count": null,
   "metadata": {},
   "outputs": [],
   "source": [
    "import pandas as pd\n",
    "pd.DataFrame(bw).info()"
   ]
  },
  {
   "cell_type": "markdown",
   "metadata": {},
   "source": [
    "# Ranking"
   ]
  },
  {
   "cell_type": "code",
   "execution_count": null,
   "metadata": {},
   "outputs": [],
   "source": [
    "from SynTemp.SynUtils.utils import load_database\n",
    "from SynTemp.SynRule.rule_benchmark import RuleBenchmark\n",
    "database = load_database('./test_database.json.gz')\n",
    "fw, bw = RuleBenchmark.reproduce_reactions(database=database[:],  id_col='R-id', rule_file_path='./Data/uspto/Rule',\n",
    "                                         original_rsmi_col='reactions', repeat_times=1, prior=True)"
   ]
  },
  {
   "cell_type": "code",
   "execution_count": null,
   "metadata": {},
   "outputs": [],
   "source": [
    "import pandas as pd\n",
    "pd.DataFrame(bw).info()"
   ]
  },
  {
   "cell_type": "code",
   "execution_count": null,
   "metadata": {},
   "outputs": [],
   "source": [
    "from SynTemp.SynRule.similarity_ranking import SimilarityRanking\n",
    "\n",
    "\n",
    "processed_dicts = SimilarityRanking.process_list_of_dicts(fw, 'unrank', ['FCFP6'])\n",
    "print(\"Top 5 accuracy:\", RuleBenchmark.TopKAccuracy(processed_dicts, 'reactions','rank', 2, ignore_stero=True))"
   ]
  },
  {
   "cell_type": "code",
   "execution_count": null,
   "metadata": {},
   "outputs": [],
   "source": [
    "processed_dicts = SimilarityRanking.process_list_of_dicts(fw, 'unrank', ['RDK7'])\n",
    "print(\"Top 5 accuracy:\", RuleBenchmark.TopKAccuracy(processed_dicts, 'reactions','rank', 5, ignore_stero=True))"
   ]
  },
  {
   "cell_type": "markdown",
   "metadata": {},
   "source": [
    "## Visualize"
   ]
  },
  {
   "cell_type": "code",
   "execution_count": null,
   "metadata": {},
   "outputs": [],
   "source": [
    "from SynTemp.SynUtils.utils import load_database\n",
    "data = load_database('./Data/uspto_sample/uspto_sample_aam_reactions.json.gz')"
   ]
  },
  {
   "cell_type": "code",
   "execution_count": null,
   "metadata": {},
   "outputs": [],
   "source": [
    "from SynTemp.SynVis.chemical_reaction_visualizer import ChemicalReactionVisualizer\n",
    "vis = ChemicalReactionVisualizer()\n",
    "vis.visualize_and_compare_reactions(data[0], num_cols=3)"
   ]
  },
  {
   "cell_type": "code",
   "execution_count": null,
   "metadata": {},
   "outputs": [],
   "source": [
    "from SynTemp.SynVis.its_visualizer import ITSVisualizer\n",
    "from IPython.display import Image\n",
    "its_vis = ITSVisualizer(data[0]['rxn_mapper'])\n",
    "display(Image(its_vis.draw_product_with_modified_bonds()))"
   ]
  },
  {
   "cell_type": "code",
   "execution_count": null,
   "metadata": {},
   "outputs": [],
   "source": [
    "import pandas as pd\n",
    "\n",
    "df = pd.read_csv('./Data/USPTO_50K/USPTO_50K.csv')"
   ]
  },
  {
   "cell_type": "code",
   "execution_count": null,
   "metadata": {},
   "outputs": [],
   "source": [
    "df['reactions'][0]"
   ]
  },
  {
   "cell_type": "code",
   "execution_count": null,
   "metadata": {},
   "outputs": [],
   "source": [
    "from SynTemp.SynVis.chemical_reaction_visualizer import ChemicalReactionVisualizer\n",
    "vis = ChemicalReactionVisualizer()\n",
    "vis.visualize_reaction(df['reactions'][2], show_atom_map=False)"
   ]
  },
  {
   "cell_type": "code",
   "execution_count": null,
   "metadata": {},
   "outputs": [],
   "source": [
    "df['reactions'][2]"
   ]
  },
  {
   "cell_type": "code",
   "execution_count": null,
   "metadata": {},
   "outputs": [],
   "source": [
    "Chem.MolFromSmiles('C(O)(O)C=CO')"
   ]
  },
  {
   "cell_type": "code",
   "execution_count": null,
   "metadata": {},
   "outputs": [],
   "source": [
    "from fgutils import FGQuery\n",
    "smiles = \"C(O)(O)C=CO\" # acetylsalicylic acid\n",
    "query = FGQuery(use_smiles=True) # use_smiles requires rdkit to be installed\n",
    "query.get(smiles)"
   ]
  },
  {
   "cell_type": "code",
   "execution_count": null,
   "metadata": {},
   "outputs": [],
   "source": [
    "Chem.MolFromSmiles('C(O)(O)')"
   ]
  },
  {
   "cell_type": "code",
   "execution_count": null,
   "metadata": {},
   "outputs": [],
   "source": [
    "Chem.MolFromSmiles('C=CO')"
   ]
  },
  {
   "cell_type": "code",
   "execution_count": null,
   "metadata": {},
   "outputs": [],
   "source": []
  },
  {
   "cell_type": "code",
   "execution_count": null,
   "metadata": {},
   "outputs": [],
   "source": [
    "import pandas as pd\n",
    "\n",
    "df = pd.read_csv('./Data/uspto_sample/uspto_sample.csv')\n",
    "df['GroundTruth'] = df['GraphMapper']\n",
    "df.loc[df['GraphMapper_correct']==False, 'GroundTruth'] = df.loc[df['GraphMapper_correct']==False, 'LocalMapper']\n",
    "df = df[['sampled_id', 'RXNMapper', 'GraphMapper', 'LocalMapper', 'GroundTruth']]"
   ]
  },
  {
   "cell_type": "code",
   "execution_count": null,
   "metadata": {},
   "outputs": [],
   "source": [
    "df.to_csv('uspto_3k')"
   ]
  },
  {
   "cell_type": "code",
   "execution_count": null,
   "metadata": {},
   "outputs": [],
   "source": [
    "df = pd.read_csv('./Data/uspto_sample/uspto_sample.csv')"
   ]
  },
  {
   "cell_type": "code",
   "execution_count": null,
   "metadata": {},
   "outputs": [],
   "source": []
  },
  {
   "cell_type": "code",
   "execution_count": null,
   "metadata": {},
   "outputs": [],
   "source": [
    "df['GraphMapper_correct'].sum()"
   ]
  },
  {
   "cell_type": "code",
   "execution_count": null,
   "metadata": {},
   "outputs": [],
   "source": []
  },
  {
   "cell_type": "code",
   "execution_count": null,
   "metadata": {},
   "outputs": [],
   "source": [
    "df"
   ]
  },
  {
   "cell_type": "code",
   "execution_count": null,
   "metadata": {},
   "outputs": [],
   "source": [
    "from rdkit import Chem\n",
    "mol = Chem.MolFromSmiles('[BH3-][NH3+]')"
   ]
  },
  {
   "cell_type": "code",
   "execution_count": null,
   "metadata": {},
   "outputs": [],
   "source": [
    "mol"
   ]
  },
  {
   "cell_type": "code",
   "execution_count": null,
   "metadata": {},
   "outputs": [],
   "source": [
    "Chem.MolFromSmiles('[Na+]')"
   ]
  },
  {
   "cell_type": "code",
   "execution_count": null,
   "metadata": {},
   "outputs": [],
   "source": [
    "from rdkit.Chem.MolStandardize import rdMolStandardize\n",
    "def uncharge_molecule(mol: Chem.Mol) -> Chem.Mol:\n",
    "    \"\"\"\n",
    "    Neutralize a molecule by removing counter-ions using RDKit's Uncharger.\n",
    "\n",
    "    Args:\n",
    "        mol: RDKit Mol object.\n",
    "\n",
    "    Returns:\n",
    "        Neutralized Mol object.\n",
    "    \"\"\"\n",
    "    uncharger = rdMolStandardize.Uncharger()\n",
    "    return uncharger.uncharge(mol)"
   ]
  },
  {
   "cell_type": "code",
   "execution_count": null,
   "metadata": {},
   "outputs": [],
   "source": [
    "from SynTemp.SynStandardizer.deionize import Deionize\n",
    "smiles = \"[NH4+].[Cl-]\"\n",
    "uncharged_smiles = Deionize.uncharge_smiles(smiles)\n",
    "uncharged_smiles"
   ]
  },
  {
   "cell_type": "code",
   "execution_count": null,
   "metadata": {},
   "outputs": [],
   "source": [
    "Chem.CanonSmiles('[Na]O')"
   ]
  },
  {
   "cell_type": "code",
   "execution_count": null,
   "metadata": {},
   "outputs": [],
   "source": [
    "uncharge_molecule(mol)"
   ]
  },
  {
   "cell_type": "code",
   "execution_count": null,
   "metadata": {},
   "outputs": [],
   "source": [
    "Chem.CanonSmiles('C[N+](C)(C)C.[Cl-]')"
   ]
  },
  {
   "cell_type": "code",
   "execution_count": null,
   "metadata": {},
   "outputs": [],
   "source": [
    "from rdkit import Chem\n",
    "from joblib import Parallel, delayed\n",
    "from typing import List, Dict, Union, Tuple\n",
    "from SynTemp.SynUtils.chemutils import get_combined_molecular_formula\n",
    "\n",
    "\n",
    "class BalanceReactionCheck:\n",
    "    \"\"\"\n",
    "    A class to check the balance of chemical reactions given in SMILES format.\n",
    "    It supports parallel execution and maintains the input format in the output.\n",
    "    \"\"\"\n",
    "\n",
    "    def __init__(\n",
    "        self,\n",
    "        n_jobs: int = 4,\n",
    "        verbose: int = 0,\n",
    "    ):\n",
    "        \"\"\"\n",
    "        Initializes the class with given input data, the column name for reactions in the input,\n",
    "        number of jobs for parallel processing, and verbosity level.\n",
    "\n",
    "        Parameters:\n",
    "        - input_data (Union[str, List[Union[str, Dict[str, str]]]]): A single SMILES string,\n",
    "          a list of SMILES strings, or a list of dictionaries with 'reactions' keys.\n",
    "        - rsmi_column (str): The key/column name for reaction SMILES strings in the input data.\n",
    "        - n_jobs (int): The number of parallel jobs to run for balance checking (default: -1, using all processors).\n",
    "        - verbose (int): The verbosity level of joblib parallel execution (default: 0).\n",
    "        \"\"\"\n",
    "        \n",
    "        self.n_jobs = n_jobs\n",
    "        self.verbose = verbose\n",
    "\n",
    "    @staticmethod\n",
    "    def parse_input(\n",
    "        input_data: Union[str, List[Union[str, Dict[str, str]]]],\n",
    "        rsmi_column: str = \"reactions\",\n",
    "    ) -> List[Dict[str, str]]:\n",
    "        \"\"\"\n",
    "        Parses the input data into a standardized list containing dictionaries for each reaction.\n",
    "\n",
    "        Parameters:\n",
    "        - input_data (Union[str, List[Union[str, Dict[str, str]]]]): The input data to be processed.\n",
    "\n",
    "        Returns:\n",
    "        - List[Dict[str, str]]: A list of dictionaries with reaction SMILES strings.\n",
    "        \"\"\"\n",
    "        standardized_input = []\n",
    "        if isinstance(input_data, str):\n",
    "            standardized_input.append({rsmi_column: input_data})\n",
    "        elif isinstance(input_data, list):\n",
    "            for item in input_data:\n",
    "                if isinstance(item, str):\n",
    "                    standardized_input.append({rsmi_column: item})\n",
    "                elif isinstance(item, dict) and rsmi_column in item:\n",
    "                    standardized_input.append(item)\n",
    "        else:\n",
    "            raise ValueError(\"Unsupported input type\")\n",
    "        return standardized_input\n",
    "\n",
    "    @staticmethod\n",
    "    def parse_reaction(reaction_smiles: str) -> Tuple[List[str], List[str]]:\n",
    "        \"\"\"\n",
    "        Splits a reaction SMILES string into reactants and products.\n",
    "\n",
    "        Parameters:\n",
    "        - reaction_smiles (str): A SMILES string representing a chemical reaction.\n",
    "\n",
    "        Returns:\n",
    "        - Tuple[List[str], List[str]]: Lists of SMILES strings for reactants and products.\n",
    "        \"\"\"\n",
    "        reactants_smiles, products_smiles = reaction_smiles.split(\">>\")\n",
    "        return reactants_smiles, products_smiles\n",
    "\n",
    "    @staticmethod\n",
    "    def rsmi_balance_check(reaction_smiles:str):\n",
    "        reactants_smiles, products_smiles = BalanceReactionCheck.parse_reaction(reaction_smiles)\n",
    "        reactants_forumula = get_combined_molecular_formula(reactants_smiles)\n",
    "        products_forumula = get_combined_molecular_formula(products_smiles)\n",
    "        if reactants_forumula != products_forumula:\n",
    "            return False\n",
    "        else:\n",
    "            return True\n",
    "\n",
    "    @staticmethod\n",
    "    def dict_balance_check(\n",
    "        reaction_dict: Dict[str, str], rsmi_column: str\n",
    "    ) -> Dict[str, Union[bool, str]]:\n",
    "        \"\"\"\n",
    "        Checks if a single reaction (in SMILES format) is balanced, maintaining the input format.\n",
    "\n",
    "        Parameters:\n",
    "        - reaction_dict (Dict[str, str]): A dictionary containing the reaction SMILES string.\n",
    "\n",
    "        Returns:\n",
    "        - Dict[str, Union[bool, str]]: A dictionary indicating if the reaction is balanced,\n",
    "          along with the original reaction data.\n",
    "        \"\"\"\n",
    "        reaction_smiles = reaction_dict[rsmi_column]\n",
    "        balance = BalanceReactionCheck.rsmi_balance_check(reaction_smiles)\n",
    "        return {\"balanced\": balance, **reaction_dict}\n",
    "\n",
    "    def dicts_balance_check(\n",
    "        self,\n",
    "        input_data: Union[str, List[Union[str, Dict[str, str]]]],\n",
    "        rsmi_column: str = \"reactions\",\n",
    "    ) -> Tuple[List[Dict[str, Union[bool, str]]], List[Dict[str, Union[bool, str]]]]:\n",
    "        \"\"\"\n",
    "        Checks the balance of all reactions in the input data.\n",
    "\n",
    "        Returns:\n",
    "        - Tuple[List[Dict[str, Union[bool, str]]], List[Dict[str, Union[bool, str]]]]: Two lists containing dictionaries\n",
    "          of balanced and unbalanced reactions, respectively.\n",
    "        \"\"\"\n",
    "       \n",
    "        reactions = self.parse_input(input_data, rsmi_column)\n",
    "        results = Parallel(n_jobs=self.n_jobs, verbose=self.verbose)(\n",
    "            delayed(self.dict_balance_check)(reaction, rsmi_column)\n",
    "            for reaction in reactions\n",
    "        )\n",
    "\n",
    "        balanced_reactions = [reaction for reaction in results if reaction[\"balanced\"]]\n",
    "        unbalanced_reactions = [\n",
    "            reaction for reaction in results if not reaction[\"balanced\"]\n",
    "        ]\n",
    "\n",
    "        return balanced_reactions, unbalanced_reactions\n"
   ]
  },
  {
   "cell_type": "code",
   "execution_count": null,
   "metadata": {},
   "outputs": [],
   "source": [
    "Chem.CanonSmiles('O=O')"
   ]
  },
  {
   "cell_type": "code",
   "execution_count": null,
   "metadata": {},
   "outputs": [],
   "source": []
  },
  {
   "cell_type": "code",
   "execution_count": null,
   "metadata": {},
   "outputs": [],
   "source": [
    "from SynTemp.SynUtils.utils import  load_database\n",
    "data_test = load_database('./Data/uspto/uspto_balance_reactions.json.gz')\n",
    "\n",
    "check = BalanceReactionCheck(n_jobs=1, verbose=2)\n",
    "check.dicts_balance_check(data_test[0:10000], 'reactions')"
   ]
  },
  {
   "cell_type": "code",
   "execution_count": null,
   "metadata": {},
   "outputs": [],
   "source": [
    "import importlib.resources\n",
    "data_path = importlib.resources.files('SynTemp').joinpath(\"uspto_its_incorrect.pkl.gz\") / 'Data' / 'uspto' / 'uspto_its_incorrect.pkl.gz'"
   ]
  },
  {
   "cell_type": "code",
   "execution_count": 74,
   "metadata": {},
   "outputs": [],
   "source": [
    "from SynTemp.SynUtils.utils import load_database, load_from_pickle\n",
    "data = load_from_pickle('./Data/uspto/uspto_its_incorrect.pkl.gz')"
   ]
  },
  {
   "cell_type": "code",
   "execution_count": 75,
   "metadata": {},
   "outputs": [
    {
     "data": {
      "text/plain": [
       "{'R-id': 'USPTO_50K_31',\n",
       " 'rxn_mapper': (<networkx.classes.graph.Graph at 0x7fe3657b44d0>,\n",
       "  <networkx.classes.graph.Graph at 0x7fe3656c2150>,\n",
       "  <networkx.classes.graph.Graph at 0x7fe365449510>),\n",
       " 'graphormer': (<networkx.classes.graph.Graph at 0x7fe3654a7310>,\n",
       "  <networkx.classes.graph.Graph at 0x7fe3654a73d0>,\n",
       "  <networkx.classes.graph.Graph at 0x7fe3653e6850>),\n",
       " 'local_mapper': (<networkx.classes.graph.Graph at 0x7fe365404290>,\n",
       "  <networkx.classes.graph.Graph at 0x7fe365404110>,\n",
       "  <networkx.classes.graph.Graph at 0x7fe365406a50>),\n",
       " 'equivariant': 0,\n",
       " 'ITSGraph': (<networkx.classes.graph.Graph at 0x7fe365419190>,\n",
       "  <networkx.classes.graph.Graph at 0x7fe36541aa10>,\n",
       "  <networkx.classes.graph.Graph at 0x7fe36541ba10>),\n",
       " 'GraphRules': (<networkx.classes.graph.Graph at 0x7fe3654d0e90>,\n",
       "  <networkx.classes.graph.Graph at 0x7fe3654d1d90>,\n",
       "  <networkx.classes.graph.Graph at 0x7fe3654d1ad0>)}"
      ]
     },
     "execution_count": 75,
     "metadata": {},
     "output_type": "execute_result"
    }
   ],
   "source": [
    "data[0]"
   ]
  },
  {
   "cell_type": "code",
   "execution_count": null,
   "metadata": {},
   "outputs": [],
   "source": []
  }
 ],
 "metadata": {
  "kernelspec": {
   "display_name": "SynITSG",
   "language": "python",
   "name": "python3"
  },
  "language_info": {
   "codemirror_mode": {
    "name": "ipython",
    "version": 3
   },
   "file_extension": ".py",
   "mimetype": "text/x-python",
   "name": "python",
   "nbconvert_exporter": "python",
   "pygments_lexer": "ipython3",
   "version": "3.11.0"
  }
 },
 "nbformat": 4,
 "nbformat_minor": 2
}
