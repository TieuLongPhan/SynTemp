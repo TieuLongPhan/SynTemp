{
 "cells": [
  {
   "cell_type": "code",
   "execution_count": null,
   "metadata": {},
   "outputs": [],
   "source": [
    "from SynTemp.SynUtils.utils import load_database, load_from_pickle\n",
    "data = load_from_pickle('./Data/uspto/uspto_its_graph_rules_cluster.pkl.gz')"
   ]
  },
  {
   "cell_type": "code",
   "execution_count": null,
   "metadata": {},
   "outputs": [],
   "source": [
    "from SynTemp.SynRule.rule_cluster import NaiveCluster\n",
    "node_label_names = [\"element\", \"charge\"]\n",
    "naive_cluster = NaiveCluster(node_label_names=node_label_names, node_label_default=[\"*\", 0], edge_attribute=\"order\")\n",
    "its_graph_rules_cluster = naive_cluster.process_rules_clustering(data, rule_column='GraphRules')"
   ]
  },
  {
   "cell_type": "code",
   "execution_count": null,
   "metadata": {},
   "outputs": [],
   "source": [
    "its_graph_rules_cluster[0]"
   ]
  },
  {
   "cell_type": "code",
   "execution_count": null,
   "metadata": {},
   "outputs": [],
   "source": [
    "from SynTemp.SynUtils.utils import stratified_random_sample\n",
    "import pandas as pd\n",
    "sampled_data = stratified_random_sample(its_graph_rules_cluster, property_key='naive_cluster', samples_per_class=1, seed=23)\n",
    "pd.DataFrame(sampled_data)['Reaction Type'].value_counts()"
   ]
  },
  {
   "cell_type": "code",
   "execution_count": null,
   "metadata": {},
   "outputs": [],
   "source": [
    "single = [x['GraphRules'][2] for x in sampled_data if x['Reaction Type'] == 'Single Cyclic']\n",
    "complex = [x['GraphRules'][2] for x in sampled_data if x['Reaction Type'] == 'Complex Cyclic']\n",
    "neither = [x['GraphRules'][2] for x in sampled_data if x['Reaction Type'] == 'None']\n",
    "acyclic = [x['GraphRules'][2] for x in sampled_data if x['Reaction Type'] == 'Acyclic']"
   ]
  },
  {
   "cell_type": "code",
   "execution_count": null,
   "metadata": {},
   "outputs": [],
   "source": [
    "from SynTemp.SynVis.chemical_graph_vis import ChemicalGraphVisualizer\n",
    "vis = ChemicalGraphVisualizer()\n",
    "vis.graph_vis(complex[4], show_node_labels=True)"
   ]
  },
  {
   "cell_type": "code",
   "execution_count": null,
   "metadata": {},
   "outputs": [],
   "source": [
    "from SynTemp.SynRule.rule_decompose import GraphRuleDecompose"
   ]
  },
  {
   "cell_type": "code",
   "execution_count": null,
   "metadata": {},
   "outputs": [],
   "source": [
    "from copy import deepcopy\n",
    "complex_graph = complex[11]\n",
    "# Add nodes and edges to complex_graph with the required attributes\n",
    "\n",
    "single_cyclic_graphs = deepcopy(single)\n",
    "# Define your single cyclic graphs by adding nodes and edges with the required attributes\n",
    "\n",
    "# Call the function\n",
    "explained_graphs = GraphRuleDecompose.bfs_remove_isomorphic_subgraphs(complex_graph, single_cyclic_graphs)\n",
    "\n",
    "if explained_graphs is not None:\n",
    "    print(\"List of single cyclic graphs that explain the complex graph:\", explained_graphs)\n",
    "    GraphRuleDecompose.visualize_with_common_subgraphs(complex_graph, explained_graphs)\n",
    "else:\n",
    "    print(\"Some parts of the complex graph could not be explained by any of the single cyclic graphs.\")"
   ]
  },
  {
   "cell_type": "code",
   "execution_count": null,
   "metadata": {},
   "outputs": [],
   "source": [
    "import pandas as pd \n",
    "\n",
    "df = pd.read_csv('./Data/golden/golden_dataset.csv')\n",
    "df.head(2)\n",
    "\n",
    "from SynTemp.SynUtils.utils import load_database\n",
    "data = load_database('./Data/golden/golden_aam_reactions.json.gz')\n",
    "for key, value in enumerate(data):\n",
    "    data[key]['ground_truth'] = df.iloc[key,0]"
   ]
  },
  {
   "cell_type": "code",
   "execution_count": null,
   "metadata": {},
   "outputs": [],
   "source": [
    "from SynTemp.SynUtils.utils import load_database\n",
    "data = load_database('./Data/golden/golden_aam_reactions.json.gz')\n",
    "for key, value in enumerate(data):\n",
    "    data[key]['ground_truth'] = df.iloc[key,0]"
   ]
  },
  {
   "cell_type": "code",
   "execution_count": null,
   "metadata": {},
   "outputs": [],
   "source": [
    "pd.DataFrame(data).info()"
   ]
  },
  {
   "cell_type": "code",
   "execution_count": null,
   "metadata": {},
   "outputs": [],
   "source": [
    "from SynTemp.SynAAM.aam_validator import AMMValidator \n",
    "for key, value in enumerate(data):\n",
    "    try:\n",
    "        AMMValidator.smiles_check(data[key]['ground_truth'], data[key]['rdt'])\n",
    "    except:\n",
    "        print(key)"
   ]
  },
  {
   "cell_type": "code",
   "execution_count": null,
   "metadata": {},
   "outputs": [],
   "source": [
    "data[366]['rdt']"
   ]
  },
  {
   "cell_type": "code",
   "execution_count": null,
   "metadata": {},
   "outputs": [],
   "source": [
    "from SynTemp.SynAAM.aam_validator import AMMValidator  \n",
    "results = AMMValidator.validate_smiles(data=data, ground_truth_col='ground_truth', \n",
    "                                       mapped_cols=['rxn_mapper', 'graphormer', 'local_mapper', 'rdt'], \n",
    "                                       check_method='RC', \n",
    "                                       ignore_aromaticity=False, n_jobs=4, verbose=0)"
   ]
  },
  {
   "cell_type": "code",
   "execution_count": null,
   "metadata": {},
   "outputs": [],
   "source": [
    "pd.DataFrame(results)[['mapper', 'accuracy']]"
   ]
  },
  {
   "cell_type": "code",
   "execution_count": null,
   "metadata": {},
   "outputs": [],
   "source": [
    "from SynTemp.SynAAM.aam_validator import AMMValidator  \n",
    "results = AMMValidator.validate_smiles(data=data, ground_truth_col='Ground turth', \n",
    "                                       mapped_cols=['RXNMapper', 'GraphMapper', 'LocalMapper'], \n",
    "                                       check_method='RC', \n",
    "                                       ignore_aromaticity=False, n_jobs=4, verbose=0)"
   ]
  },
  {
   "cell_type": "code",
   "execution_count": null,
   "metadata": {},
   "outputs": [],
   "source": [
    "pd.DataFrame(results)[['mapper', 'accuracy']]"
   ]
  },
  {
   "cell_type": "code",
   "execution_count": null,
   "metadata": {},
   "outputs": [],
   "source": [
    "pd.DataFrame(results)[['mapper', 'accuracy']]"
   ]
  },
  {
   "cell_type": "code",
   "execution_count": null,
   "metadata": {},
   "outputs": [],
   "source": []
  },
  {
   "cell_type": "code",
   "execution_count": null,
   "metadata": {},
   "outputs": [],
   "source": [
    "from SynTemp.SynUtils.utils import load_database\n",
    "recon = load_database('./Data/Recon3D/Recon3D_aam_reactions.json.gz')\n",
    "\n",
    "from SynTemp.SynAAM.aam_validator import AMMValidator  \n",
    "results, _ = AMMValidator.validate_smiles(data=recon, ground_truth_col='ground_truth', \n",
    "                                       mapped_cols=['rxn_mapper', 'graphormer', 'local_mapper', 'rdt'], \n",
    "                                       check_method='RC', \n",
    "                                       ignore_aromaticity=False, n_jobs=4, verbose=0, ensemble=True)"
   ]
  },
  {
   "cell_type": "code",
   "execution_count": null,
   "metadata": {},
   "outputs": [],
   "source": [
    "pd.DataFrame(recon).to_csv('./Data/Recon3D/Recon3D_aam_reactions.csv')"
   ]
  },
  {
   "cell_type": "code",
   "execution_count": null,
   "metadata": {},
   "outputs": [],
   "source": [
    "import pandas as pd\n",
    "pd.DataFrame(results)[['mapper', 'accuracy', 'success_rate']]"
   ]
  },
  {
   "cell_type": "code",
   "execution_count": null,
   "metadata": {},
   "outputs": [],
   "source": []
  },
  {
   "cell_type": "code",
   "execution_count": null,
   "metadata": {},
   "outputs": [],
   "source": []
  },
  {
   "cell_type": "code",
   "execution_count": null,
   "metadata": {},
   "outputs": [],
   "source": []
  },
  {
   "cell_type": "code",
   "execution_count": null,
   "metadata": {},
   "outputs": [],
   "source": [
    "import pandas as pd"
   ]
  },
  {
   "cell_type": "code",
   "execution_count": null,
   "metadata": {},
   "outputs": [],
   "source": [
    "ecoli = pd.read_csv('./Data/ecoli/ecoli.smiles', header=None)\n",
    "ecoli.rename({0:'ground_truth'}, axis=1, inplace=True)\n",
    "ecoli['R-id'] = range(1, len(ecoli) + 1)"
   ]
  },
  {
   "cell_type": "code",
   "execution_count": null,
   "metadata": {},
   "outputs": [],
   "source": [
    "from rdkit import Chem\n",
    "from rdkit.Chem import rdChemReactions\n",
    "ok = []\n",
    "bug = []\n",
    "for key, value in enumerate(ecoli['ground_truth']):\n",
    "    try:\n",
    "        rdChemReactions.ReactionFromSmarts(value)\n",
    "        ok.append(key)\n",
    "    except:\n",
    "        bug.append(key)"
   ]
  },
  {
   "cell_type": "code",
   "execution_count": null,
   "metadata": {},
   "outputs": [],
   "source": [
    "a,b,c =ecoli['ground_truth'][bug[0]].split('>>')"
   ]
  },
  {
   "cell_type": "code",
   "execution_count": null,
   "metadata": {},
   "outputs": [],
   "source": [
    "from rdkit import Chem\n",
    "Chem.MolFromSmiles(a)"
   ]
  },
  {
   "cell_type": "code",
   "execution_count": null,
   "metadata": {},
   "outputs": [],
   "source": [
    "Chem.MolFromSmiles(b)"
   ]
  },
  {
   "cell_type": "code",
   "execution_count": null,
   "metadata": {},
   "outputs": [],
   "source": [
    "Chem.MolFromSmiles(c)"
   ]
  },
  {
   "cell_type": "code",
   "execution_count": null,
   "metadata": {},
   "outputs": [],
   "source": [
    "print(ecoli.iloc[bug,:]['ground_truth'])"
   ]
  },
  {
   "cell_type": "code",
   "execution_count": null,
   "metadata": {},
   "outputs": [],
   "source": [
    "ecoli = ecoli.iloc[ok, :]\n",
    "ecoli.reset_index(drop=True, inplace=True)\n",
    "#ecoli = ecoli.to_dict('records')"
   ]
  },
  {
   "cell_type": "code",
   "execution_count": null,
   "metadata": {},
   "outputs": [],
   "source": [
    "from rdkit import Chem\n",
    "from typing import List, Optional\n",
    "import re\n",
    "\n",
    "def remove_atom_mapping(smiles: str) -> str:\n",
    "    \"\"\"\n",
    "    Removes atom mapping numbers and simplifies atomic notation in a SMILES string.\n",
    "    \n",
    "    This function processes a SMILES string to:\n",
    "    1. Remove any atom mapping numbers denoted by ':' followed by one or more digits.\n",
    "    2. Simplify the atomic notation by removing square brackets around atoms that do not need them.\n",
    "    \n",
    "    Parameters:\n",
    "    - smiles (str): The SMILES string to be processed.\n",
    "    \n",
    "    Returns:\n",
    "    - str: The processed SMILES string with atom mappings removed and simplified atomic notations.\n",
    "    \"\"\"\n",
    "    # Remove atom mapping numbers\n",
    "    pattern = re.compile(r\":\\d+\")\n",
    "    smiles = pattern.sub(\"\", smiles)\n",
    "    # Simplify atomic notation by removing unnecessary square brackets\n",
    "    pattern = re.compile(r\"\\[(?P<atom>(B|C|N|O|P|S|F|Cl|Br|I){1,2})(?:H\\d?)?\\]\")\n",
    "    smiles = pattern.sub(r\"\\g<atom>\", smiles)\n",
    "    return smiles\n",
    "\n",
    "def mol_from_smiles(smiles: str) -> Optional[Chem.Mol]:\n",
    "    \"\"\"\n",
    "    Converts a SMILES string to an RDKit Mol object, with error handling for invalid strings.\n",
    "    \n",
    "    Parameters:\n",
    "    - smiles (str): The SMILES string to be converted.\n",
    "    \n",
    "    Returns:\n",
    "    - Chem.Mol: An RDKit Mol object created from the given SMILES string. None if conversion fails.\n",
    "    \n",
    "    Raises:\n",
    "    - ValueError: If the SMILES string is invalid and cannot be converted to a Mol object.\n",
    "    \"\"\"\n",
    "    mol = Chem.MolFromSmiles(smiles)\n",
    "    if mol is None:\n",
    "        raise ValueError(f\"Invalid SMILES string: {smiles}\")\n",
    "    return mol\n",
    "\n",
    "def filter_valid_molecules(smiles_list: List[str]) -> List[Chem.Mol]:\n",
    "    \"\"\"\n",
    "    Filters a list of SMILES strings, converting them to RDKit Mol objects, while ignoring invalid or empty molecules.\n",
    "    \n",
    "    Parameters:\n",
    "    - smiles_list (List[str]): A list of SMILES strings to be processed.\n",
    "    \n",
    "    Returns:\n",
    "    - List[Chem.Mol]: A list of RDKit Mol objects derived from valid, non-empty SMILES strings in the input list.\n",
    "    \"\"\"\n",
    "    valid_molecules = []\n",
    "    for smiles in smiles_list:\n",
    "        try:\n",
    "            mol = mol_from_smiles(smiles)\n",
    "            if mol.GetNumAtoms() > 0:\n",
    "                valid_molecules.append(mol)\n",
    "        except ValueError:\n",
    "            continue\n",
    "    return valid_molecules\n",
    "\n",
    "def standardize_rsmi(rsmi: str) -> str:\n",
    "    \"\"\"\n",
    "    Standardizes a reaction SMILES (rSMI) by ensuring that all reactants and products are valid molecules with atoms.\n",
    "    \n",
    "    The function splits the reaction into reactants and products, filters and validates them, and then\n",
    "    assembles them back into a standardized reaction SMILES string.\n",
    "    \n",
    "    Parameters:\n",
    "    - rsmi (str): The reaction SMILES string to be standardized.\n",
    "    \n",
    "    Returns:\n",
    "    - str: The standardized reaction SMILES string with valid and non-empty reactants and products.\n",
    "    \"\"\"\n",
    "    reactants, products = rsmi.split('>>')\n",
    "    reactant_molecules = filter_valid_molecules(reactants.split('.'))\n",
    "    product_molecules = filter_valid_molecules(products.split('.'))\n",
    "\n",
    "    # Convert molecules back to SMILES and assemble the standardized reaction SMILES string\n",
    "    standardized_reactants = '.'.join(Chem.MolToSmiles(mol) for mol in reactant_molecules)\n",
    "    standardized_products = '.'.join(Chem.MolToSmiles(mol) for mol in product_molecules)\n",
    "\n",
    "    return f\"{standardized_reactants}>>{standardized_products}\"\n",
    "\n",
    "\n",
    "ecoli['ground_truth'] = ecoli['ground_truth'].apply(standardize_rsmi)\n"
   ]
  },
  {
   "cell_type": "code",
   "execution_count": null,
   "metadata": {},
   "outputs": [],
   "source": [
    "import re\n",
    "def remove_atom_mapping(smiles: str) -> str:\n",
    "    pattern = re.compile(r\":\\d+\")\n",
    "    smiles = pattern.sub(\"\", smiles)\n",
    "    pattern = re.compile(r\"\\[(?P<atom>(B|C|N|O|P|S|F|Cl|Br|I){1,2})(?:H\\d?)?\\]\")\n",
    "    smiles = pattern.sub(r\"\\g<atom>\", smiles)\n",
    "    return smiles\n",
    "ecoli['reactions'] = ecoli['ground_truth'].apply(remove_atom_mapping)\n",
    "ecoli = ecoli.to_dict('records')"
   ]
  },
  {
   "cell_type": "code",
   "execution_count": null,
   "metadata": {},
   "outputs": [],
   "source": [
    "from SynTemp.SynUtils.utils import save_database\n",
    "save_database(ecoli, './Data/ecoli/ecoli_reactions.json.gz')"
   ]
  },
  {
   "cell_type": "code",
   "execution_count": null,
   "metadata": {},
   "outputs": [],
   "source": [
    "Chem.MolFromSmiles(ecoli.loc[189, 'reactions'])"
   ]
  },
  {
   "cell_type": "code",
   "execution_count": null,
   "metadata": {},
   "outputs": [],
   "source": [
    "bug"
   ]
  },
  {
   "cell_type": "code",
   "execution_count": null,
   "metadata": {},
   "outputs": [],
   "source": [
    "\n",
    "rxn = rdChemReactions.ReactionFromSmarts('[C:1](=[O:2])O.[N:3]>>[C:1](=[O:2])[N:3]')\n",
    "reacts = (Chem.MolFromSmiles('C(=O)O'),Chem.MolFromSmiles('CNC'))\n",
    "products = rxn.RunReactants(reacts)"
   ]
  },
  {
   "cell_type": "code",
   "execution_count": null,
   "metadata": {},
   "outputs": [],
   "source": []
  },
  {
   "cell_type": "code",
   "execution_count": null,
   "metadata": {},
   "outputs": [],
   "source": [
    "from SynTemp.SynUtils.utils import load_database\n",
    "recon = load_database('./Data/Recon3D/Recon3D_aam_reactions.json.gz')\n",
    "\n",
    "from SynTemp.SynAAM.aam_validator import AMMValidator  \n",
    "results, _ = AMMValidator.validate_smiles(data=recon, ground_truth_col='ground_truth', \n",
    "                                       mapped_cols=['rxn_mapper', 'graphormer', 'local_mapper'], \n",
    "                                       check_method='RC', \n",
    "                                       ignore_aromaticity=False, n_jobs=4, verbose=0, ensemble=True)\n",
    "\n",
    "import pandas as pd\n",
    "pd.DataFrame(results)[['mapper', 'accuracy', 'success_rate']]"
   ]
  },
  {
   "cell_type": "code",
   "execution_count": null,
   "metadata": {},
   "outputs": [],
   "source": [
    "recon[0]"
   ]
  },
  {
   "cell_type": "code",
   "execution_count": null,
   "metadata": {},
   "outputs": [],
   "source": [
    "from SynTemp.SynUtils.utils import load_database\n",
    "recon = load_database('./Data/ecoli/ecoli_aam_reactions.json.gz')\n",
    "\n",
    "from SynTemp.SynAAM.aam_validator import AMMValidator  \n",
    "results, _ = AMMValidator.validate_smiles(data=recon, ground_truth_col='ground_truth', \n",
    "                                       mapped_cols=['rxn_mapper', 'graphormer', 'local_mapper', 'rdt', 'ground_truth'], \n",
    "                                       check_method='RC', \n",
    "                                       ignore_aromaticity=False, n_jobs=4, verbose=0, ensemble=False)\n",
    "\n",
    "import pandas as pd\n",
    "pd.DataFrame(results)[['mapper', 'accuracy', 'success_rate']]"
   ]
  },
  {
   "cell_type": "code",
   "execution_count": null,
   "metadata": {},
   "outputs": [],
   "source": [
    "test = pd.DataFrame(recon).drop(['reactions'], axis =1)\n",
    "test['local_mapper_result'] = pd.DataFrame(results).loc[2, 'results']\n",
    "test['rxn_mapper_result'] = pd.DataFrame(results).loc[0, 'results']\n",
    "test['graphormer_result'] = pd.DataFrame(results).loc[1, 'results']\n",
    "test['rdt_result'] = pd.DataFrame(results).loc[3, 'results']"
   ]
  },
  {
   "cell_type": "code",
   "execution_count": null,
   "metadata": {},
   "outputs": [],
   "source": [
    "test.to_csv('./Data/ecoli/ecoli_aam_reactions.csv')"
   ]
  },
  {
   "cell_type": "code",
   "execution_count": null,
   "metadata": {},
   "outputs": [],
   "source": [
    "pd.DataFrame(results)"
   ]
  },
  {
   "cell_type": "code",
   "execution_count": null,
   "metadata": {},
   "outputs": [],
   "source": [
    "pd.DataFrame(results).loc[2, 'results']"
   ]
  },
  {
   "cell_type": "code",
   "execution_count": null,
   "metadata": {},
   "outputs": [],
   "source": [
    "test_2 = test[['local_mapper_result', 'rxn_mapper_result', 'graphormer_result', 'rdt_result']]"
   ]
  },
  {
   "cell_type": "code",
   "execution_count": null,
   "metadata": {},
   "outputs": [],
   "source": [
    "def ensemble_results(df, threshold):\n",
    "    # Calculate the sum of True values in each row\n",
    "    true_counts = df.sum(axis=1)\n",
    "    # Apply the threshold to determine the final result\n",
    "    final_results = true_counts >= threshold\n",
    "    return final_results\n",
    "\n",
    "test_3 = ensemble_results(test_2, 2)"
   ]
  },
  {
   "cell_type": "code",
   "execution_count": null,
   "metadata": {},
   "outputs": [],
   "source": [
    "test_3.sum()/273"
   ]
  },
  {
   "cell_type": "code",
   "execution_count": null,
   "metadata": {},
   "outputs": [],
   "source": [
    "uspto_sample = pd.read_csv('./Data/aam_benchmark/USPTO_sampled.csv')"
   ]
  },
  {
   "cell_type": "code",
   "execution_count": null,
   "metadata": {},
   "outputs": [],
   "source": [
    "uspto_sample['LocalMapper_correct'].sum()"
   ]
  },
  {
   "cell_type": "code",
   "execution_count": null,
   "metadata": {},
   "outputs": [],
   "source": [
    "uspto_sample"
   ]
  },
  {
   "cell_type": "markdown",
   "metadata": {},
   "source": [
    "# Bug"
   ]
  },
  {
   "cell_type": "code",
   "execution_count": null,
   "metadata": {},
   "outputs": [],
   "source": [
    "import pandas as pd \n",
    "\n",
    "df = pd.read_csv('./Data/aam_benchmark/Golden_mappings.csv')\n",
    "df = pd.read_csv('./Data/aam_benchmark/benchmark.csv')\n",
    "df = pd.read_csv('./Data/aam_benchmark/NatComm_mappings.csv')\n",
    "df = pd.read_csv('./Data/aam_benchmark/USPTO_sampled.csv')\n",
    "df = pd.read_csv('./Data/ecoli/ecoli_aam_reactions.csv')\n",
    "#df = pd.read_csv('./Data/Recon3D/Recon3D_aam_reactions.csv')\n",
    "df.head(1)"
   ]
  },
  {
   "cell_type": "code",
   "execution_count": null,
   "metadata": {},
   "outputs": [],
   "source": [
    "from SynTemp.SynAAM.aam_validator import AMMValidator  \n",
    "results, _ = AMMValidator.validate_smiles(data=df, ground_truth_col='ground_truth', \n",
    "                                       mapped_cols=['ground_truth'], \n",
    "                                       check_method='RC', \n",
    "                                       ignore_aromaticity=False, n_jobs=4, verbose=0, ensemble=False)\n",
    "\n",
    "import pandas as pd\n",
    "pd.DataFrame(results)[['mapper', 'accuracy', 'success_rate']]"
   ]
  },
  {
   "cell_type": "code",
   "execution_count": null,
   "metadata": {},
   "outputs": [],
   "source": [
    "test_0 = df[['ground_truth', 'R-id']]\n",
    "test_0['results'] = results[0]['results']"
   ]
  },
  {
   "cell_type": "code",
   "execution_count": null,
   "metadata": {},
   "outputs": [],
   "source": [
    "test_0_bug = test_0.loc[test_0['results']==False, :]"
   ]
  },
  {
   "cell_type": "code",
   "execution_count": null,
   "metadata": {},
   "outputs": [],
   "source": [
    "rsmi = test_0_bug['ground_truth'][74]"
   ]
  },
  {
   "cell_type": "code",
   "execution_count": null,
   "metadata": {},
   "outputs": [],
   "source": [
    "from SynTemp.SynITS.its_construction import ITSConstruction\n",
    "from SynTemp.SynITS.its_extraction import ITSExtraction\n",
    "reactants, products = rsmi.split('>>')\n",
    "G, H = ITSExtraction.graph_from_smiles(reactants), ITSExtraction.graph_from_smiles(products)"
   ]
  },
  {
   "cell_type": "code",
   "execution_count": null,
   "metadata": {},
   "outputs": [],
   "source": [
    "rsmi"
   ]
  },
  {
   "cell_type": "code",
   "execution_count": null,
   "metadata": {},
   "outputs": [],
   "source": [
    "reactants"
   ]
  },
  {
   "cell_type": "code",
   "execution_count": null,
   "metadata": {},
   "outputs": [],
   "source": [
    "from rdkit import Chem\n",
    "Chem.MolFromSmiles(reactants)"
   ]
  },
  {
   "cell_type": "code",
   "execution_count": null,
   "metadata": {},
   "outputs": [],
   "source": []
  },
  {
   "cell_type": "code",
   "execution_count": null,
   "metadata": {},
   "outputs": [],
   "source": []
  },
  {
   "cell_type": "code",
   "execution_count": null,
   "metadata": {},
   "outputs": [],
   "source": [
    "from SynTemp.SynVis.reaction_visualizer import ReactionVisualizer\n",
    "vis = ReactionVisualizer()"
   ]
  },
  {
   "cell_type": "code",
   "execution_count": null,
   "metadata": {},
   "outputs": [],
   "source": [
    "vis.visualize_reaction(test_0_bug.iloc[0]['ground_truth'])"
   ]
  },
  {
   "cell_type": "code",
   "execution_count": null,
   "metadata": {},
   "outputs": [],
   "source": [
    "test_0_bug.iloc[0]['ground_truth']"
   ]
  },
  {
   "cell_type": "code",
   "execution_count": null,
   "metadata": {},
   "outputs": [],
   "source": [
    "import pandas as pd\n",
    "\n",
    "\n",
    "df = pd.read_csv('./Data/USPTO_50K/USPTO_50K.csv')\n",
    "df.drop_duplicates(subset=['reactions'], inplace=True)\n",
    "df['R-id'] = ['USPTO-' + str(i) for i in range(len(df))]\n",
    "df.head(2)"
   ]
  },
  {
   "cell_type": "markdown",
   "metadata": {},
   "source": [
    "# MOD"
   ]
  },
  {
   "cell_type": "code",
   "execution_count": null,
   "metadata": {},
   "outputs": [],
   "source": [
    "from SynTemp.SynRule.rule_executor import RuleExecutor\n",
    "test = RuleExecutor.reaction_prediction(input_smiles=['C=C1C(=C)C2OC1C1=C2CC(C(C)=O)CC1'],\n",
    "                                        rule_file_path='./Data/uspto/Rule/USPTO_50K_31.gml',\n",
    "                                        prediction_type='backward', repeat_times=1, print_results=False)\n",
    "\n",
    "test"
   ]
  },
  {
   "cell_type": "code",
   "execution_count": null,
   "metadata": {},
   "outputs": [],
   "source": [
    "from SynTemp.SynRule.rule_executor import RuleExecutor\n",
    "from SynTemp.SynUtils.utils import load_database\n",
    "database = load_database('./test_database.json.gz')\n",
    "test = RuleExecutor.reaction_database_prediction(database=database[:],  rule_file_path='./Data/uspto/Rule/',\n",
    "                                         original_rsmi_col='reactions', prediction_type = 'backward', repeat_times=1)\n"
   ]
  },
  {
   "cell_type": "code",
   "execution_count": null,
   "metadata": {},
   "outputs": [],
   "source": [
    "from SynTemp.SynRule.rule_benchmark import RuleBenchmark\n",
    "from SynTemp.SynUtils.utils import load_database\n",
    "database = load_database('./test_database.json.gz')\n",
    "fw, bw = RuleBenchmark.reproduce_reactions(database=database[:],  id_col='R-id', rule_file_path='./Data/uspto/Rule',\n",
    "                                         original_rsmi_col='reactions', repeat_times=1)"
   ]
  },
  {
   "cell_type": "code",
   "execution_count": null,
   "metadata": {},
   "outputs": [],
   "source": [
    "import pandas as pd\n",
    "pd.DataFrame(bw).info()"
   ]
  },
  {
   "cell_type": "markdown",
   "metadata": {},
   "source": [
    "# Ranking"
   ]
  },
  {
   "cell_type": "code",
   "execution_count": null,
   "metadata": {},
   "outputs": [],
   "source": [
    "from SynTemp.SynUtils.utils import load_database\n",
    "from SynTemp.SynRule.rule_benchmark import RuleBenchmark\n",
    "database = load_database('./test_database.json.gz')\n",
    "fw, bw = RuleBenchmark.reproduce_reactions(database=database[:],  id_col='R-id', rule_file_path='./Data/uspto/Rule',\n",
    "                                         original_rsmi_col='reactions', repeat_times=1, prior=True)"
   ]
  },
  {
   "cell_type": "code",
   "execution_count": null,
   "metadata": {},
   "outputs": [],
   "source": [
    "import pandas as pd\n",
    "pd.DataFrame(bw).info()"
   ]
  },
  {
   "cell_type": "code",
   "execution_count": null,
   "metadata": {},
   "outputs": [],
   "source": [
    "from SynTemp.SynRule.similarity_ranking import SimilarityRanking\n",
    "\n",
    "\n",
    "processed_dicts = SimilarityRanking.process_list_of_dicts(fw, 'unrank', ['FCFP6'])\n",
    "print(\"Top 5 accuracy:\", RuleBenchmark.TopKAccuracy(processed_dicts, 'reactions','rank', 2, ignore_stero=True))"
   ]
  },
  {
   "cell_type": "code",
   "execution_count": null,
   "metadata": {},
   "outputs": [],
   "source": [
    "processed_dicts = SimilarityRanking.process_list_of_dicts(fw, 'unrank', ['RDK7'])\n",
    "print(\"Top 5 accuracy:\", RuleBenchmark.TopKAccuracy(processed_dicts, 'reactions','rank', 5, ignore_stero=True))"
   ]
  },
  {
   "cell_type": "markdown",
   "metadata": {},
   "source": [
    "## Visualize"
   ]
  },
  {
   "cell_type": "code",
   "execution_count": 1,
   "metadata": {},
   "outputs": [],
   "source": [
    "from SynTemp.SynUtils.utils import load_database\n",
    "data = load_database('./Data/uspto_sample/uspto_sample_aam_reactions.json.gz')"
   ]
  },
  {
   "cell_type": "code",
   "execution_count": 2,
   "metadata": {},
   "outputs": [
    {
     "name": "stderr",
     "output_type": "stream",
     "text": [
      "[22:10:46] reactant 0 has no mapped atoms.\n",
      "[22:10:46] reactant 1 has no mapped atoms.\n",
      "[22:10:46] reactant 2 has no mapped atoms.\n",
      "[22:10:46] reactant 3 has no mapped atoms.\n",
      "[22:10:46] reactant 4 has no mapped atoms.\n",
      "[22:10:46] reactant 6 has no mapped atoms.\n",
      "[22:10:46] reactant 0 has no mapped atoms.\n",
      "[22:10:46] reactant 1 has no mapped atoms.\n",
      "[22:10:46] reactant 2 has no mapped atoms.\n",
      "[22:10:46] reactant 3 has no mapped atoms.\n",
      "[22:10:46] reactant 4 has no mapped atoms.\n",
      "[22:10:46] reactant 6 has no mapped atoms.\n",
      "[22:10:46] reactant 0 has no mapped atoms.\n",
      "[22:10:46] reactant 1 has no mapped atoms.\n",
      "[22:10:46] reactant 2 has no mapped atoms.\n",
      "[22:10:46] reactant 3 has no mapped atoms.\n",
      "[22:10:46] reactant 4 has no mapped atoms.\n",
      "[22:10:46] reactant 6 has no mapped atoms.\n",
      "[22:10:46] mapped atoms in the reactants were not mapped in the products.\n",
      "  unmapped numbers are: 2 1 3 4 5 6 7 13 14 15 16 8 9 10 11 12 17 18 19 20 21 22 23 38 37 36 41 40 39 \n",
      "[22:10:46] mapped atoms in the reactants were not mapped in the products.\n",
      "  unmapped numbers are: 2 1 3 4 5 6 7 13 14 15 16 8 9 10 11 12 17 18 19 20 21 22 23 38 37 36 41 40 39 \n",
      "[22:10:46] mapped atoms in the reactants were not mapped in the products.\n",
      "  unmapped numbers are: 2 1 3 4 5 6 7 13 14 15 16 8 9 10 11 12 17 18 19 20 21 22 23 38 37 36 41 40 39 \n",
      "[22:10:46] reactant 0 has no mapped atoms.\n",
      "[22:10:46] reactant 1 has no mapped atoms.\n",
      "[22:10:46] reactant 2 has no mapped atoms.\n",
      "[22:10:46] reactant 3 has no mapped atoms.\n",
      "[22:10:46] reactant 4 has no mapped atoms.\n",
      "[22:10:46] reactant 6 has no mapped atoms.\n",
      "[22:10:46] reactant 0 has no mapped atoms.\n",
      "[22:10:46] reactant 1 has no mapped atoms.\n",
      "[22:10:46] reactant 2 has no mapped atoms.\n",
      "[22:10:46] reactant 3 has no mapped atoms.\n",
      "[22:10:46] reactant 4 has no mapped atoms.\n",
      "[22:10:46] reactant 6 has no mapped atoms.\n",
      "[22:10:46] reactant 0 has no mapped atoms.\n",
      "[22:10:46] reactant 1 has no mapped atoms.\n",
      "[22:10:46] reactant 2 has no mapped atoms.\n",
      "[22:10:46] reactant 3 has no mapped atoms.\n",
      "[22:10:46] reactant 4 has no mapped atoms.\n",
      "[22:10:46] reactant 6 has no mapped atoms.\n"
     ]
    },
    {
     "data": {
      "text/html": [
       "<table><tr><td style='border:1px solid black; padding:10px'><b style='font-size:16px;'>rxn_mapper</b><br><svg xmlns=\"http://www.w3.org/2000/svg\" xmlns:rdkit=\"http://www.rdkit.org/xml\" xmlns:xlink=\"http://www.w3.org/1999/xlink\" version=\"1.1\" baseProfile=\"full\" xml:space=\"preserve\" width=\"1000px\" height=\"600px\" viewBox=\"0 0 1000 600\">\n",
       "<!-- END OF HEADER -->\n",
       "<rect style=\"opacity:1.0;fill:#FFFFFF;stroke:none\" width=\"1000.0\" height=\"600.0\" x=\"0.0\" y=\"0.0\"> </rect>\n",
       "<path class=\"bond-0 atom-0 atom-1\" d=\"M 185.6,298.2 L 169.2,313.3\" style=\"fill:none;fill-rule:evenodd;stroke:#000000;stroke-width:2.0px;stroke-linecap:butt;stroke-linejoin:miter;stroke-opacity:1\"/>\n",
       "<path class=\"bond-1 atom-1 atom-2\" d=\"M 169.2,313.3 L 160.5,310.5\" style=\"fill:none;fill-rule:evenodd;stroke:#000000;stroke-width:2.0px;stroke-linecap:butt;stroke-linejoin:miter;stroke-opacity:1\"/>\n",
       "<path class=\"bond-1 atom-1 atom-2\" d=\"M 160.5,310.5 L 151.8,307.8\" style=\"fill:none;fill-rule:evenodd;stroke:#0000FF;stroke-width:2.0px;stroke-linecap:butt;stroke-linejoin:miter;stroke-opacity:1\"/>\n",
       "<path class=\"bond-2 atom-2 atom-3\" d=\"M 144.2,310.1 L 137.9,315.9\" style=\"fill:none;fill-rule:evenodd;stroke:#0000FF;stroke-width:2.0px;stroke-linecap:butt;stroke-linejoin:miter;stroke-opacity:1\"/>\n",
       "<path class=\"bond-2 atom-2 atom-3\" d=\"M 137.9,315.9 L 131.6,321.7\" style=\"fill:none;fill-rule:evenodd;stroke:#000000;stroke-width:2.0px;stroke-linecap:butt;stroke-linejoin:miter;stroke-opacity:1\"/>\n",
       "<path class=\"bond-3 atom-3 atom-4\" d=\"M 131.6,321.7 L 110.4,315.1\" style=\"fill:none;fill-rule:evenodd;stroke:#000000;stroke-width:2.0px;stroke-linecap:butt;stroke-linejoin:miter;stroke-opacity:1\"/>\n",
       "<path class=\"bond-4 atom-2 atom-5\" d=\"M 146.9,301.9 L 145.0,293.4\" style=\"fill:none;fill-rule:evenodd;stroke:#0000FF;stroke-width:2.0px;stroke-linecap:butt;stroke-linejoin:miter;stroke-opacity:1\"/>\n",
       "<path class=\"bond-4 atom-2 atom-5\" d=\"M 145.0,293.4 L 143.1,284.9\" style=\"fill:none;fill-rule:evenodd;stroke:#000000;stroke-width:2.0px;stroke-linecap:butt;stroke-linejoin:miter;stroke-opacity:1\"/>\n",
       "<path class=\"bond-5 atom-5 atom-6\" d=\"M 143.1,284.9 L 121.9,278.3\" style=\"fill:none;fill-rule:evenodd;stroke:#000000;stroke-width:2.0px;stroke-linecap:butt;stroke-linejoin:miter;stroke-opacity:1\"/>\n",
       "<path d=\"M 170.1,312.5 L 169.2,313.3 L 168.8,313.1\" style=\"fill:none;stroke:#000000;stroke-width:2.0px;stroke-linecap:butt;stroke-linejoin:miter;stroke-opacity:1;\"/>\n",
       "<path d=\"M 131.9,321.4 L 131.6,321.7 L 130.6,321.4\" style=\"fill:none;stroke:#000000;stroke-width:2.0px;stroke-linecap:butt;stroke-linejoin:miter;stroke-opacity:1;\"/>\n",
       "<path d=\"M 143.2,285.4 L 143.1,284.9 L 142.1,284.6\" style=\"fill:none;stroke:#000000;stroke-width:2.0px;stroke-linecap:butt;stroke-linejoin:miter;stroke-opacity:1;\"/>\n",
       "<path class=\"atom-2\" d=\"M 146.1 302.4 L 148.9 306.9 Q 149.2 307.3, 149.6 308.1 Q 150.1 308.9, 150.1 309.0 L 150.1 302.4 L 151.2 302.4 L 151.2 310.9 L 150.1 310.9 L 147.1 306.0 Q 146.7 305.4, 146.4 304.7 Q 146.0 304.1, 145.9 303.9 L 145.9 310.9 L 144.8 310.9 L 144.8 302.4 L 146.1 302.4 \" fill=\"#0000FF\"/>\n",
       "<path d=\"M 195.5,294.0 L 195.5,306.0\" style=\"fill:none;fill-rule:evenodd;stroke:#000000;stroke-width:2.0px;stroke-linecap:butt;stroke-linejoin:miter;stroke-opacity:1\"/>\n",
       "<path d=\"M 189.5,300.0 L 201.5,300.0\" style=\"fill:none;fill-rule:evenodd;stroke:#000000;stroke-width:2.0px;stroke-linecap:butt;stroke-linejoin:miter;stroke-opacity:1\"/>\n",
       "<path class=\"bond-6 atom-7 atom-8\" d=\"M 205.5,303.5 L 224.7,292.3\" style=\"fill:none;fill-rule:evenodd;stroke:#000000;stroke-width:2.0px;stroke-linecap:butt;stroke-linejoin:miter;stroke-opacity:1\"/>\n",
       "<path class=\"bond-7 atom-8 atom-9\" d=\"M 224.7,292.3 L 232.2,296.6\" style=\"fill:none;fill-rule:evenodd;stroke:#000000;stroke-width:2.0px;stroke-linecap:butt;stroke-linejoin:miter;stroke-opacity:1\"/>\n",
       "<path class=\"bond-7 atom-8 atom-9\" d=\"M 232.2,296.6 L 239.6,300.9\" style=\"fill:none;fill-rule:evenodd;stroke:#FF0000;stroke-width:2.0px;stroke-linecap:butt;stroke-linejoin:miter;stroke-opacity:1\"/>\n",
       "<path class=\"bond-8 atom-9 atom-10\" d=\"M 248.4,300.9 L 255.8,296.6\" style=\"fill:none;fill-rule:evenodd;stroke:#FF0000;stroke-width:2.0px;stroke-linecap:butt;stroke-linejoin:miter;stroke-opacity:1\"/>\n",
       "<path class=\"bond-8 atom-9 atom-10\" d=\"M 255.8,296.6 L 263.3,292.3\" style=\"fill:none;fill-rule:evenodd;stroke:#000000;stroke-width:2.0px;stroke-linecap:butt;stroke-linejoin:miter;stroke-opacity:1\"/>\n",
       "<path class=\"bond-9 atom-10 atom-11\" d=\"M 263.3,292.3 L 282.5,303.5\" style=\"fill:none;fill-rule:evenodd;stroke:#000000;stroke-width:2.0px;stroke-linecap:butt;stroke-linejoin:miter;stroke-opacity:1\"/>\n",
       "<path class=\"atom-2\" d=\"M 240.1 303.5 Q 240.1 301.4, 241.1 300.3 Q 242.1 299.2, 244.0 299.2 Q 245.9 299.2, 246.9 300.3 Q 247.9 301.4, 247.9 303.5 Q 247.9 305.6, 246.9 306.7 Q 245.9 307.9, 244.0 307.9 Q 242.1 307.9, 241.1 306.7 Q 240.1 305.6, 240.1 303.5 M 244.0 306.9 Q 245.3 306.9, 246.0 306.1 Q 246.7 305.2, 246.7 303.5 Q 246.7 301.8, 246.0 301.0 Q 245.3 300.1, 244.0 300.1 Q 242.7 300.1, 242.0 301.0 Q 241.3 301.8, 241.3 303.5 Q 241.3 305.2, 242.0 306.1 Q 242.7 306.9, 244.0 306.9 \" fill=\"#FF0000\"/>\n",
       "<path d=\"M 292.5,294.0 L 292.5,306.0\" style=\"fill:none;fill-rule:evenodd;stroke:#000000;stroke-width:2.0px;stroke-linecap:butt;stroke-linejoin:miter;stroke-opacity:1\"/>\n",
       "<path d=\"M 286.5,300.0 L 298.5,300.0\" style=\"fill:none;fill-rule:evenodd;stroke:#000000;stroke-width:2.0px;stroke-linecap:butt;stroke-linejoin:miter;stroke-opacity:1\"/>\n",
       "<path class=\"bond-10 atom-12 atom-13\" d=\"M 302.2,318.7 L 310.2,314.1\" style=\"fill:none;fill-rule:evenodd;stroke:#000000;stroke-width:2.0px;stroke-linecap:butt;stroke-linejoin:miter;stroke-opacity:1\"/>\n",
       "<path class=\"bond-10 atom-12 atom-13\" d=\"M 310.2,314.1 L 318.2,309.5\" style=\"fill:none;fill-rule:evenodd;stroke:#CCCC00;stroke-width:2.0px;stroke-linecap:butt;stroke-linejoin:miter;stroke-opacity:1\"/>\n",
       "<path class=\"bond-11 atom-13 atom-14\" d=\"M 324.8,309.5 L 332.8,314.1\" style=\"fill:none;fill-rule:evenodd;stroke:#CCCC00;stroke-width:2.0px;stroke-linecap:butt;stroke-linejoin:miter;stroke-opacity:1\"/>\n",
       "<path class=\"bond-11 atom-13 atom-14\" d=\"M 332.8,314.1 L 340.8,318.7\" style=\"fill:none;fill-rule:evenodd;stroke:#000000;stroke-width:2.0px;stroke-linecap:butt;stroke-linejoin:miter;stroke-opacity:1\"/>\n",
       "<path class=\"bond-12 atom-13 atom-15\" d=\"M 323.2,302.9 L 323.2,296.6\" style=\"fill:none;fill-rule:evenodd;stroke:#CCCC00;stroke-width:2.0px;stroke-linecap:butt;stroke-linejoin:miter;stroke-opacity:1\"/>\n",
       "<path class=\"bond-12 atom-13 atom-15\" d=\"M 323.2,296.6 L 323.2,290.3\" style=\"fill:none;fill-rule:evenodd;stroke:#FF0000;stroke-width:2.0px;stroke-linecap:butt;stroke-linejoin:miter;stroke-opacity:1\"/>\n",
       "<path class=\"bond-12 atom-13 atom-15\" d=\"M 319.8,302.9 L 319.8,296.6\" style=\"fill:none;fill-rule:evenodd;stroke:#CCCC00;stroke-width:2.0px;stroke-linecap:butt;stroke-linejoin:miter;stroke-opacity:1\"/>\n",
       "<path class=\"bond-12 atom-13 atom-15\" d=\"M 319.8,296.6 L 319.8,290.3\" style=\"fill:none;fill-rule:evenodd;stroke:#FF0000;stroke-width:2.0px;stroke-linecap:butt;stroke-linejoin:miter;stroke-opacity:1\"/>\n",
       "<path class=\"atom-1\" d=\"M 319.1 310.5 Q 319.2 310.5, 319.6 310.7 Q 320.0 310.9, 320.4 311.0 Q 320.9 311.1, 321.3 311.1 Q 322.1 311.1, 322.6 310.7 Q 323.0 310.3, 323.0 309.6 Q 323.0 309.2, 322.8 308.9 Q 322.6 308.6, 322.2 308.4 Q 321.8 308.3, 321.2 308.1 Q 320.5 307.9, 320.0 307.6 Q 319.6 307.4, 319.3 307.0 Q 319.0 306.5, 319.0 305.7 Q 319.0 304.7, 319.7 304.0 Q 320.4 303.4, 321.8 303.4 Q 322.8 303.4, 323.9 303.8 L 323.7 304.8 Q 322.7 304.3, 321.9 304.3 Q 321.1 304.3, 320.6 304.7 Q 320.1 305.0, 320.2 305.6 Q 320.2 306.1, 320.4 306.3 Q 320.6 306.6, 321.0 306.8 Q 321.3 306.9, 321.9 307.1 Q 322.7 307.3, 323.1 307.6 Q 323.6 307.8, 323.9 308.3 Q 324.2 308.8, 324.2 309.6 Q 324.2 310.8, 323.4 311.4 Q 322.7 312.1, 321.3 312.1 Q 320.6 312.1, 320.0 311.9 Q 319.4 311.7, 318.8 311.5 L 319.1 310.5 \" fill=\"#CCCC00\"/>\n",
       "<path class=\"atom-3\" d=\"M 317.6 285.4 Q 317.6 283.3, 318.6 282.2 Q 319.6 281.1, 321.5 281.1 Q 323.4 281.1, 324.4 282.2 Q 325.4 283.3, 325.4 285.4 Q 325.4 287.4, 324.4 288.6 Q 323.4 289.8, 321.5 289.8 Q 319.6 289.8, 318.6 288.6 Q 317.6 287.4, 317.6 285.4 M 321.5 288.8 Q 322.8 288.8, 323.5 288.0 Q 324.2 287.1, 324.2 285.4 Q 324.2 283.7, 323.5 282.9 Q 322.8 282.0, 321.5 282.0 Q 320.2 282.0, 319.5 282.9 Q 318.8 283.7, 318.8 285.4 Q 318.8 287.1, 319.5 288.0 Q 320.2 288.8, 321.5 288.8 \" fill=\"#FF0000\"/>\n",
       "<path d=\"M 350.5,294.0 L 350.5,306.0\" style=\"fill:none;fill-rule:evenodd;stroke:#000000;stroke-width:2.0px;stroke-linecap:butt;stroke-linejoin:miter;stroke-opacity:1\"/>\n",
       "<path d=\"M 344.5,300.0 L 356.5,300.0\" style=\"fill:none;fill-rule:evenodd;stroke:#000000;stroke-width:2.0px;stroke-linecap:butt;stroke-linejoin:miter;stroke-opacity:1\"/>\n",
       "<path class=\"bond-13 atom-16 atom-17\" d=\"M 402.7,298.8 L 395.0,303.3\" style=\"fill:none;fill-rule:evenodd;stroke:#00CC00;stroke-width:2.0px;stroke-linecap:butt;stroke-linejoin:miter;stroke-opacity:1\"/>\n",
       "<path class=\"bond-13 atom-16 atom-17\" d=\"M 395.0,303.3 L 387.3,307.7\" style=\"fill:none;fill-rule:evenodd;stroke:#000000;stroke-width:2.0px;stroke-linecap:butt;stroke-linejoin:miter;stroke-opacity:1\"/>\n",
       "<path class=\"bond-14 atom-17 atom-18\" d=\"M 387.3,307.7 L 378.3,302.5\" style=\"fill:none;fill-rule:evenodd;stroke:#000000;stroke-width:2.0px;stroke-linecap:butt;stroke-linejoin:miter;stroke-opacity:1\"/>\n",
       "<path class=\"bond-14 atom-17 atom-18\" d=\"M 378.3,302.5 L 369.3,297.3\" style=\"fill:none;fill-rule:evenodd;stroke:#00CC00;stroke-width:2.0px;stroke-linecap:butt;stroke-linejoin:miter;stroke-opacity:1\"/>\n",
       "<path class=\"atom-0\" d=\"M 403.3 296.9 Q 403.3 294.8, 404.3 293.7 Q 405.3 292.6, 407.1 292.6 Q 408.9 292.6, 409.8 293.8 L 409.0 294.4 Q 408.4 293.5, 407.1 293.5 Q 405.9 293.5, 405.2 294.4 Q 404.5 295.3, 404.5 296.9 Q 404.5 298.6, 405.2 299.4 Q 405.9 300.3, 407.3 300.3 Q 408.2 300.3, 409.3 299.7 L 409.6 300.6 Q 409.2 300.9, 408.5 301.1 Q 407.9 301.3, 407.1 301.3 Q 405.3 301.3, 404.3 300.1 Q 403.3 299.0, 403.3 296.9 \" fill=\"#00CC00\"/>\n",
       "<path class=\"atom-0\" d=\"M 410.7 292.0 L 411.8 292.0 L 411.8 301.1 L 410.7 301.1 L 410.7 292.0 \" fill=\"#00CC00\"/>\n",
       "<path class=\"atom-2\" d=\"M 360.1 296.9 Q 360.1 294.8, 361.0 293.7 Q 362.0 292.6, 363.9 292.6 Q 365.7 292.6, 366.6 293.8 L 365.8 294.4 Q 365.1 293.5, 363.9 293.5 Q 362.6 293.5, 362.0 294.4 Q 361.3 295.3, 361.3 296.9 Q 361.3 298.6, 362.0 299.4 Q 362.7 300.3, 364.1 300.3 Q 365.0 300.3, 366.1 299.7 L 366.4 300.6 Q 366.0 300.9, 365.3 301.1 Q 364.6 301.3, 363.9 301.3 Q 362.0 301.3, 361.0 300.1 Q 360.1 299.0, 360.1 296.9 \" fill=\"#00CC00\"/>\n",
       "<path class=\"atom-2\" d=\"M 367.5 292.0 L 368.6 292.0 L 368.6 301.1 L 367.5 301.1 L 367.5 292.0 \" fill=\"#00CC00\"/>\n",
       "<path d=\"M 421.5,294.0 L 421.5,306.0\" style=\"fill:none;fill-rule:evenodd;stroke:#000000;stroke-width:2.0px;stroke-linecap:butt;stroke-linejoin:miter;stroke-opacity:1\"/>\n",
       "<path d=\"M 415.5,300.0 L 427.5,300.0\" style=\"fill:none;fill-rule:evenodd;stroke:#000000;stroke-width:2.0px;stroke-linecap:butt;stroke-linejoin:miter;stroke-opacity:1\"/>\n",
       "<path class=\"bond-15 atom-19 atom-20\" d=\"M 438.3,312.6 L 444.1,309.3\" style=\"fill:none;fill-rule:evenodd;stroke:#FF0000;stroke-width:2.0px;stroke-linecap:butt;stroke-linejoin:miter;stroke-opacity:1\"/>\n",
       "<path class=\"bond-15 atom-19 atom-20\" d=\"M 444.1,309.3 L 449.9,306.0\" style=\"fill:none;fill-rule:evenodd;stroke:#CCCC00;stroke-width:2.0px;stroke-linecap:butt;stroke-linejoin:miter;stroke-opacity:1\"/>\n",
       "<path class=\"bond-15 atom-19 atom-20\" d=\"M 440.0,315.5 L 445.8,312.2\" style=\"fill:none;fill-rule:evenodd;stroke:#FF0000;stroke-width:2.0px;stroke-linecap:butt;stroke-linejoin:miter;stroke-opacity:1\"/>\n",
       "<path class=\"bond-15 atom-19 atom-20\" d=\"M 445.8,312.2 L 451.5,308.9\" style=\"fill:none;fill-rule:evenodd;stroke:#CCCC00;stroke-width:2.0px;stroke-linecap:butt;stroke-linejoin:miter;stroke-opacity:1\"/>\n",
       "<path class=\"bond-16 atom-20 atom-21\" d=\"M 456.5,308.9 L 462.2,312.2\" style=\"fill:none;fill-rule:evenodd;stroke:#CCCC00;stroke-width:2.0px;stroke-linecap:butt;stroke-linejoin:miter;stroke-opacity:1\"/>\n",
       "<path class=\"bond-16 atom-20 atom-21\" d=\"M 462.2,312.2 L 468.0,315.5\" style=\"fill:none;fill-rule:evenodd;stroke:#FF0000;stroke-width:2.0px;stroke-linecap:butt;stroke-linejoin:miter;stroke-opacity:1\"/>\n",
       "<path class=\"bond-16 atom-20 atom-21\" d=\"M 458.1,306.0 L 463.9,309.3\" style=\"fill:none;fill-rule:evenodd;stroke:#CCCC00;stroke-width:2.0px;stroke-linecap:butt;stroke-linejoin:miter;stroke-opacity:1\"/>\n",
       "<path class=\"bond-16 atom-20 atom-21\" d=\"M 463.9,309.3 L 469.7,312.6\" style=\"fill:none;fill-rule:evenodd;stroke:#FF0000;stroke-width:2.0px;stroke-linecap:butt;stroke-linejoin:miter;stroke-opacity:1\"/>\n",
       "<path class=\"bond-17 atom-20 atom-22\" d=\"M 455.7,300.8 L 455.7,294.5\" style=\"fill:none;fill-rule:evenodd;stroke:#CCCC00;stroke-width:2.0px;stroke-linecap:butt;stroke-linejoin:miter;stroke-opacity:1\"/>\n",
       "<path class=\"bond-17 atom-20 atom-22\" d=\"M 455.7,294.5 L 455.7,288.2\" style=\"fill:none;fill-rule:evenodd;stroke:#FF0000;stroke-width:2.0px;stroke-linecap:butt;stroke-linejoin:miter;stroke-opacity:1\"/>\n",
       "<path class=\"bond-17 atom-20 atom-22\" d=\"M 452.3,300.8 L 452.3,294.5\" style=\"fill:none;fill-rule:evenodd;stroke:#CCCC00;stroke-width:2.0px;stroke-linecap:butt;stroke-linejoin:miter;stroke-opacity:1\"/>\n",
       "<path class=\"bond-17 atom-20 atom-22\" d=\"M 452.3,294.5 L 452.3,288.2\" style=\"fill:none;fill-rule:evenodd;stroke:#FF0000;stroke-width:2.0px;stroke-linecap:butt;stroke-linejoin:miter;stroke-opacity:1\"/>\n",
       "<path class=\"atom-0\" d=\"M 430.8 316.6 Q 430.8 314.6, 431.8 313.5 Q 432.8 312.3, 434.7 312.3 Q 436.6 312.3, 437.6 313.5 Q 438.6 314.6, 438.6 316.6 Q 438.6 318.7, 437.6 319.9 Q 436.6 321.1, 434.7 321.1 Q 432.9 321.1, 431.8 319.9 Q 430.8 318.7, 430.8 316.6 M 434.7 320.1 Q 436.0 320.1, 436.7 319.2 Q 437.4 318.4, 437.4 316.6 Q 437.4 315.0, 436.7 314.1 Q 436.0 313.3, 434.7 313.3 Q 433.4 313.3, 432.7 314.1 Q 432.0 315.0, 432.0 316.6 Q 432.0 318.4, 432.7 319.2 Q 433.4 320.1, 434.7 320.1 \" fill=\"#FF0000\"/>\n",
       "<path class=\"atom-1\" d=\"M 451.6 308.4 Q 451.7 308.5, 452.1 308.6 Q 452.5 308.8, 452.9 308.9 Q 453.4 309.0, 453.8 309.0 Q 454.6 309.0, 455.1 308.6 Q 455.5 308.2, 455.5 307.5 Q 455.5 307.1, 455.3 306.8 Q 455.1 306.5, 454.7 306.3 Q 454.3 306.2, 453.7 306.0 Q 453.0 305.8, 452.5 305.5 Q 452.1 305.3, 451.8 304.9 Q 451.5 304.4, 451.5 303.7 Q 451.5 302.6, 452.2 301.9 Q 452.9 301.3, 454.3 301.3 Q 455.3 301.3, 456.4 301.7 L 456.2 302.7 Q 455.2 302.2, 454.4 302.2 Q 453.6 302.2, 453.1 302.6 Q 452.6 302.9, 452.7 303.5 Q 452.7 304.0, 452.9 304.2 Q 453.1 304.5, 453.5 304.7 Q 453.8 304.8, 454.4 305.0 Q 455.2 305.2, 455.6 305.5 Q 456.1 305.7, 456.4 306.2 Q 456.7 306.7, 456.7 307.5 Q 456.7 308.7, 455.9 309.3 Q 455.2 310.0, 453.8 310.0 Q 453.1 310.0, 452.5 309.8 Q 451.9 309.6, 451.3 309.4 L 451.6 308.4 \" fill=\"#CCCC00\"/>\n",
       "<path class=\"atom-2\" d=\"M 469.4 316.6 Q 469.4 314.6, 470.4 313.5 Q 471.4 312.3, 473.3 312.3 Q 475.2 312.3, 476.2 313.5 Q 477.2 314.6, 477.2 316.6 Q 477.2 318.7, 476.1 319.9 Q 475.1 321.1, 473.3 321.1 Q 471.4 321.1, 470.4 319.9 Q 469.4 318.7, 469.4 316.6 M 473.3 320.1 Q 474.6 320.1, 475.3 319.2 Q 476.0 318.4, 476.0 316.6 Q 476.0 315.0, 475.3 314.1 Q 474.6 313.3, 473.3 313.3 Q 472.0 313.3, 471.3 314.1 Q 470.6 315.0, 470.6 316.6 Q 470.6 318.4, 471.3 319.2 Q 472.0 320.1, 473.3 320.1 \" fill=\"#FF0000\"/>\n",
       "<path class=\"atom-3\" d=\"M 450.1 283.3 Q 450.1 281.2, 451.1 280.1 Q 452.1 279.0, 454.0 279.0 Q 455.9 279.0, 456.9 280.1 Q 457.9 281.2, 457.9 283.3 Q 457.9 285.3, 456.9 286.5 Q 455.9 287.7, 454.0 287.7 Q 452.1 287.7, 451.1 286.5 Q 450.1 285.4, 450.1 283.3 M 454.0 286.7 Q 455.3 286.7, 456.0 285.9 Q 456.7 285.0, 456.7 283.3 Q 456.7 281.6, 456.0 280.8 Q 455.3 279.9, 454.0 279.9 Q 452.7 279.9, 452.0 280.8 Q 451.3 281.6, 451.3 283.3 Q 451.3 285.0, 452.0 285.9 Q 452.7 286.7, 454.0 286.7 \" fill=\"#FF0000\"/>\n",
       "<path d=\"M 486.5,294.0 L 486.5,306.0\" style=\"fill:none;fill-rule:evenodd;stroke:#000000;stroke-width:2.0px;stroke-linecap:butt;stroke-linejoin:miter;stroke-opacity:1\"/>\n",
       "<path d=\"M 480.5,300.0 L 492.5,300.0\" style=\"fill:none;fill-rule:evenodd;stroke:#000000;stroke-width:2.0px;stroke-linecap:butt;stroke-linejoin:miter;stroke-opacity:1\"/>\n",
       "<path class=\"bond-18 atom-23 atom-24\" d=\"M 512.3,300.8 L 530.7,310.7 L 530.9,316.2 L 510.0,305.0 Z\" style=\"fill:#C1EFF4;fill-rule:evenodd;fill-opacity:1;stroke:#C1EFF4;stroke-width:0.0px;stroke-linecap:butt;stroke-linejoin:miter;stroke-opacity:1;\"/>\n",
       "<path class=\"bond-19 atom-24 atom-25\" d=\"M 547.3,300.4 L 549.7,301.7 L 549.8,304.4 L 530.9,316.2 L 530.7,310.7 Z\" style=\"fill:#C1EFF4;fill-rule:evenodd;fill-opacity:1;stroke:#C1EFF4;stroke-width:0.0px;stroke-linecap:butt;stroke-linejoin:miter;stroke-opacity:1;\"/>\n",
       "<path class=\"bond-20 atom-25 atom-26\" d=\"M 546.6,278.2 L 551.4,280.8 L 552.0,300.3 L 549.7,301.7 L 547.3,300.4 Z\" style=\"fill:#C1EFF4;fill-rule:evenodd;fill-opacity:1;stroke:#C1EFF4;stroke-width:0.0px;stroke-linecap:butt;stroke-linejoin:miter;stroke-opacity:1;\"/>\n",
       "<path class=\"bond-29 atom-25 atom-34\" d=\"M 552.0,300.3 L 569.2,309.5 L 569.4,315.0 L 549.8,304.4 L 549.7,301.7 Z\" style=\"fill:#C1EFF4;fill-rule:evenodd;fill-opacity:1;stroke:#C1EFF4;stroke-width:0.0px;stroke-linecap:butt;stroke-linejoin:miter;stroke-opacity:1;\"/>\n",
       "<path class=\"bond-21 atom-26 atom-27\" d=\"M 567.8,265.0 L 568.0,270.5 L 551.4,280.8 L 546.6,278.2 Z\" style=\"fill:#C1EFF4;fill-rule:evenodd;fill-opacity:1;stroke:#C1EFF4;stroke-width:0.0px;stroke-linecap:butt;stroke-linejoin:miter;stroke-opacity:1;\"/>\n",
       "<path class=\"bond-22 atom-27 atom-28\" d=\"M 567.8,265.0 L 587.4,275.5 L 587.5,278.3 L 585.2,279.7 L 568.0,270.5 Z\" style=\"fill:#C1EFF4;fill-rule:evenodd;fill-opacity:1;stroke:#C1EFF4;stroke-width:0.0px;stroke-linecap:butt;stroke-linejoin:miter;stroke-opacity:1;\"/>\n",
       "<path class=\"bond-23 atom-28 atom-29\" d=\"M 605.2,264.5 L 607.7,268.6 L 589.9,279.6 L 587.5,278.3 L 587.4,275.5 Z\" style=\"fill:#C1EFF4;fill-rule:evenodd;fill-opacity:1;stroke:#C1EFF4;stroke-width:0.0px;stroke-linecap:butt;stroke-linejoin:miter;stroke-opacity:1;\"/>\n",
       "<path class=\"bond-24 atom-28 atom-30\" d=\"M 587.5,278.3 L 589.9,279.6 L 590.5,299.1 L 588.2,300.5 L 585.8,299.2 L 585.2,279.7 Z\" style=\"fill:#C1EFF4;fill-rule:evenodd;fill-opacity:1;stroke:#C1EFF4;stroke-width:0.0px;stroke-linecap:butt;stroke-linejoin:miter;stroke-opacity:1;\"/>\n",
       "<path class=\"bond-25 atom-30 atom-31\" d=\"M 590.5,299.1 L 607.7,308.3 L 607.8,311.0 L 605.5,312.5 L 588.3,303.2 L 588.2,300.5 Z\" style=\"fill:#C1EFF4;fill-rule:evenodd;fill-opacity:1;stroke:#C1EFF4;stroke-width:0.0px;stroke-linecap:butt;stroke-linejoin:miter;stroke-opacity:1;\"/>\n",
       "<path class=\"bond-28 atom-30 atom-34\" d=\"M 585.8,299.2 L 588.2,300.5 L 588.3,303.2 L 569.4,315.0 L 569.2,309.5 Z\" style=\"fill:#C1EFF4;fill-rule:evenodd;fill-opacity:1;stroke:#C1EFF4;stroke-width:0.0px;stroke-linecap:butt;stroke-linejoin:miter;stroke-opacity:1;\"/>\n",
       "<path class=\"bond-26 atom-31 atom-32\" d=\"M 607.8,311.0 L 610.2,312.3 L 610.9,333.2 L 606.1,333.3 L 605.5,312.5 Z\" style=\"fill:#C1EFF4;fill-rule:evenodd;fill-opacity:1;stroke:#C1EFF4;stroke-width:0.0px;stroke-linecap:butt;stroke-linejoin:miter;stroke-opacity:1;\"/>\n",
       "<path class=\"bond-27 atom-31 atom-33\" d=\"M 625.5,297.3 L 628.0,301.3 L 610.2,312.3 L 607.8,311.0 L 607.7,308.3 Z\" style=\"fill:#C1EFF4;fill-rule:evenodd;fill-opacity:1;stroke:#C1EFF4;stroke-width:0.0px;stroke-linecap:butt;stroke-linejoin:miter;stroke-opacity:1;\"/>\n",
       "<ellipse cx=\"507.2\" cy=\"303.0\" rx=\"10.8\" ry=\"5.8\" class=\"atom-23\" style=\"fill:#C1EFF4;fill-rule:evenodd;stroke:#C1EFF4;stroke-width:1.0px;stroke-linecap:butt;stroke-linejoin:miter;stroke-opacity:1\"/>\n",
       "<ellipse cx=\"530.8\" cy=\"313.4\" rx=\"4.4\" ry=\"4.4\" class=\"atom-24\" style=\"fill:#C1EFF4;fill-rule:evenodd;stroke:#C1EFF4;stroke-width:1.0px;stroke-linecap:butt;stroke-linejoin:miter;stroke-opacity:1\"/>\n",
       "<ellipse cx=\"549.7\" cy=\"301.7\" rx=\"4.4\" ry=\"4.4\" class=\"atom-25\" style=\"fill:#C1EFF4;fill-rule:evenodd;stroke:#C1EFF4;stroke-width:1.0px;stroke-linecap:butt;stroke-linejoin:miter;stroke-opacity:1\"/>\n",
       "<ellipse cx=\"549.0\" cy=\"279.5\" rx=\"4.4\" ry=\"4.4\" class=\"atom-26\" style=\"fill:#C1EFF4;fill-rule:evenodd;stroke:#C1EFF4;stroke-width:1.0px;stroke-linecap:butt;stroke-linejoin:miter;stroke-opacity:1\"/>\n",
       "<ellipse cx=\"567.9\" cy=\"267.7\" rx=\"4.4\" ry=\"4.4\" class=\"atom-27\" style=\"fill:#C1EFF4;fill-rule:evenodd;stroke:#C1EFF4;stroke-width:1.0px;stroke-linecap:butt;stroke-linejoin:miter;stroke-opacity:1\"/>\n",
       "<ellipse cx=\"587.5\" cy=\"278.3\" rx=\"4.4\" ry=\"4.4\" class=\"atom-28\" style=\"fill:#C1EFF4;fill-rule:evenodd;stroke:#C1EFF4;stroke-width:1.0px;stroke-linecap:butt;stroke-linejoin:miter;stroke-opacity:1\"/>\n",
       "<ellipse cx=\"606.4\" cy=\"266.5\" rx=\"4.4\" ry=\"5.7\" class=\"atom-29\" style=\"fill:#C1EFF4;fill-rule:evenodd;stroke:#C1EFF4;stroke-width:1.0px;stroke-linecap:butt;stroke-linejoin:miter;stroke-opacity:1\"/>\n",
       "<ellipse cx=\"588.2\" cy=\"300.5\" rx=\"4.4\" ry=\"4.4\" class=\"atom-30\" style=\"fill:#C1EFF4;fill-rule:evenodd;stroke:#C1EFF4;stroke-width:1.0px;stroke-linecap:butt;stroke-linejoin:miter;stroke-opacity:1\"/>\n",
       "<ellipse cx=\"610.3\" cy=\"311.0\" rx=\"7.9\" ry=\"5.7\" class=\"atom-31\" style=\"fill:#C1EFF4;fill-rule:evenodd;stroke:#C1EFF4;stroke-width:1.0px;stroke-linecap:butt;stroke-linejoin:miter;stroke-opacity:1\"/>\n",
       "<ellipse cx=\"608.5\" cy=\"333.3\" rx=\"5.2\" ry=\"5.8\" class=\"atom-32\" style=\"fill:#C1EFF4;fill-rule:evenodd;stroke:#C1EFF4;stroke-width:1.0px;stroke-linecap:butt;stroke-linejoin:miter;stroke-opacity:1\"/>\n",
       "<ellipse cx=\"628.7\" cy=\"299.3\" rx=\"8.0\" ry=\"5.8\" class=\"atom-33\" style=\"fill:#C1EFF4;fill-rule:evenodd;stroke:#C1EFF4;stroke-width:1.0px;stroke-linecap:butt;stroke-linejoin:miter;stroke-opacity:1\"/>\n",
       "<ellipse cx=\"569.3\" cy=\"312.2\" rx=\"4.4\" ry=\"4.4\" class=\"atom-34\" style=\"fill:#C1EFF4;fill-rule:evenodd;stroke:#C1EFF4;stroke-width:1.0px;stroke-linecap:butt;stroke-linejoin:miter;stroke-opacity:1\"/>\n",
       "<path class=\"bond-18 atom-23 atom-24\" d=\"M 515.6,305.3 L 523.2,309.4\" style=\"fill:none;fill-rule:evenodd;stroke:#FF0000;stroke-width:2.0px;stroke-linecap:butt;stroke-linejoin:miter;stroke-opacity:1\"/>\n",
       "<path class=\"bond-18 atom-23 atom-24\" d=\"M 523.2,309.4 L 530.8,313.4\" style=\"fill:none;fill-rule:evenodd;stroke:#000000;stroke-width:2.0px;stroke-linecap:butt;stroke-linejoin:miter;stroke-opacity:1\"/>\n",
       "<path class=\"bond-19 atom-24 atom-25\" d=\"M 530.8,313.4 L 549.7,301.7\" style=\"fill:none;fill-rule:evenodd;stroke:#000000;stroke-width:2.0px;stroke-linecap:butt;stroke-linejoin:miter;stroke-opacity:1\"/>\n",
       "<path class=\"bond-20 atom-25 atom-26\" d=\"M 549.7,301.7 L 549.0,279.5\" style=\"fill:none;fill-rule:evenodd;stroke:#000000;stroke-width:2.0px;stroke-linecap:butt;stroke-linejoin:miter;stroke-opacity:1\"/>\n",
       "<path class=\"bond-20 atom-25 atom-26\" d=\"M 553.0,299.7 L 552.4,281.3\" style=\"fill:none;fill-rule:evenodd;stroke:#000000;stroke-width:2.0px;stroke-linecap:butt;stroke-linejoin:miter;stroke-opacity:1\"/>\n",
       "<path class=\"bond-21 atom-26 atom-27\" d=\"M 549.0,279.5 L 567.9,267.7\" style=\"fill:none;fill-rule:evenodd;stroke:#000000;stroke-width:2.0px;stroke-linecap:butt;stroke-linejoin:miter;stroke-opacity:1\"/>\n",
       "<path class=\"bond-22 atom-27 atom-28\" d=\"M 567.9,267.7 L 587.5,278.3\" style=\"fill:none;fill-rule:evenodd;stroke:#000000;stroke-width:2.0px;stroke-linecap:butt;stroke-linejoin:miter;stroke-opacity:1\"/>\n",
       "<path class=\"bond-22 atom-27 atom-28\" d=\"M 568.0,271.6 L 584.2,280.3\" style=\"fill:none;fill-rule:evenodd;stroke:#000000;stroke-width:2.0px;stroke-linecap:butt;stroke-linejoin:miter;stroke-opacity:1\"/>\n",
       "<path class=\"bond-23 atom-28 atom-29\" d=\"M 587.5,278.3 L 595.4,273.4\" style=\"fill:none;fill-rule:evenodd;stroke:#000000;stroke-width:2.0px;stroke-linecap:butt;stroke-linejoin:miter;stroke-opacity:1\"/>\n",
       "<path class=\"bond-23 atom-28 atom-29\" d=\"M 595.4,273.4 L 603.3,268.5\" style=\"fill:none;fill-rule:evenodd;stroke:#33CCCC;stroke-width:2.0px;stroke-linecap:butt;stroke-linejoin:miter;stroke-opacity:1\"/>\n",
       "<path class=\"bond-24 atom-28 atom-30\" d=\"M 587.5,278.3 L 588.2,300.5\" style=\"fill:none;fill-rule:evenodd;stroke:#000000;stroke-width:2.0px;stroke-linecap:butt;stroke-linejoin:miter;stroke-opacity:1\"/>\n",
       "<path class=\"bond-25 atom-30 atom-31\" d=\"M 588.2,300.5 L 596.1,304.7\" style=\"fill:none;fill-rule:evenodd;stroke:#000000;stroke-width:2.0px;stroke-linecap:butt;stroke-linejoin:miter;stroke-opacity:1\"/>\n",
       "<path class=\"bond-25 atom-30 atom-31\" d=\"M 596.1,304.7 L 604.0,309.0\" style=\"fill:none;fill-rule:evenodd;stroke:#0000FF;stroke-width:2.0px;stroke-linecap:butt;stroke-linejoin:miter;stroke-opacity:1\"/>\n",
       "<path class=\"bond-26 atom-31 atom-32\" d=\"M 606.3,315.8 L 606.5,322.2\" style=\"fill:none;fill-rule:evenodd;stroke:#0000FF;stroke-width:2.0px;stroke-linecap:butt;stroke-linejoin:miter;stroke-opacity:1\"/>\n",
       "<path class=\"bond-26 atom-31 atom-32\" d=\"M 606.5,322.2 L 606.7,328.5\" style=\"fill:none;fill-rule:evenodd;stroke:#FF0000;stroke-width:2.0px;stroke-linecap:butt;stroke-linejoin:miter;stroke-opacity:1\"/>\n",
       "<path class=\"bond-26 atom-31 atom-32\" d=\"M 609.6,315.7 L 609.8,322.1\" style=\"fill:none;fill-rule:evenodd;stroke:#0000FF;stroke-width:2.0px;stroke-linecap:butt;stroke-linejoin:miter;stroke-opacity:1\"/>\n",
       "<path class=\"bond-26 atom-31 atom-32\" d=\"M 609.8,322.1 L 610.0,328.4\" style=\"fill:none;fill-rule:evenodd;stroke:#FF0000;stroke-width:2.0px;stroke-linecap:butt;stroke-linejoin:miter;stroke-opacity:1\"/>\n",
       "<path class=\"bond-27 atom-31 atom-33\" d=\"M 615.5,306.2 L 618.9,304.1\" style=\"fill:none;fill-rule:evenodd;stroke:#0000FF;stroke-width:2.0px;stroke-linecap:butt;stroke-linejoin:miter;stroke-opacity:1\"/>\n",
       "<path class=\"bond-27 atom-31 atom-33\" d=\"M 618.9,304.1 L 622.3,302.0\" style=\"fill:none;fill-rule:evenodd;stroke:#FF0000;stroke-width:2.0px;stroke-linecap:butt;stroke-linejoin:miter;stroke-opacity:1\"/>\n",
       "<path class=\"bond-28 atom-30 atom-34\" d=\"M 588.2,300.5 L 569.3,312.2\" style=\"fill:none;fill-rule:evenodd;stroke:#000000;stroke-width:2.0px;stroke-linecap:butt;stroke-linejoin:miter;stroke-opacity:1\"/>\n",
       "<path class=\"bond-28 atom-30 atom-34\" d=\"M 584.8,298.7 L 569.2,308.4\" style=\"fill:none;fill-rule:evenodd;stroke:#000000;stroke-width:2.0px;stroke-linecap:butt;stroke-linejoin:miter;stroke-opacity:1\"/>\n",
       "<path class=\"bond-29 atom-34 atom-25\" d=\"M 569.3,312.2 L 549.7,301.7\" style=\"fill:none;fill-rule:evenodd;stroke:#000000;stroke-width:2.0px;stroke-linecap:butt;stroke-linejoin:miter;stroke-opacity:1\"/>\n",
       "<path class=\"atom-0\" d=\"M 498.9 298.7 L 500.0 298.7 L 500.0 302.3 L 504.4 302.3 L 504.4 298.7 L 505.5 298.7 L 505.5 307.2 L 504.4 307.2 L 504.4 303.3 L 500.0 303.3 L 500.0 307.2 L 498.9 307.2 L 498.9 298.7 \" fill=\"#FF0000\"/>\n",
       "<path class=\"atom-0\" d=\"M 507.3 302.9 Q 507.3 300.9, 508.3 299.8 Q 509.3 298.6, 511.2 298.6 Q 513.1 298.6, 514.1 299.8 Q 515.1 300.9, 515.1 302.9 Q 515.1 305.0, 514.0 306.2 Q 513.0 307.3, 511.2 307.3 Q 509.3 307.3, 508.3 306.2 Q 507.3 305.0, 507.3 302.9 M 511.2 306.4 Q 512.5 306.4, 513.2 305.5 Q 513.9 304.6, 513.9 302.9 Q 513.9 301.3, 513.2 300.4 Q 512.5 299.6, 511.2 299.6 Q 509.9 299.6, 509.2 300.4 Q 508.5 301.3, 508.5 302.9 Q 508.5 304.7, 509.2 305.5 Q 509.9 306.4, 511.2 306.4 \" fill=\"#FF0000\"/>\n",
       "<path class=\"atom-6\" d=\"M 603.9 262.3 L 608.9 262.3 L 608.9 263.3 L 605.0 263.3 L 605.0 265.8 L 608.5 265.8 L 608.5 266.8 L 605.0 266.8 L 605.0 270.8 L 603.9 270.8 L 603.9 262.3 \" fill=\"#33CCCC\"/>\n",
       "<path class=\"atom-8\" d=\"M 605.9 306.8 L 608.7 311.3 Q 609.0 311.7, 609.4 312.5 Q 609.9 313.3, 609.9 313.4 L 609.9 306.8 L 611.0 306.8 L 611.0 315.3 L 609.9 315.3 L 606.9 310.3 Q 606.5 309.8, 606.2 309.1 Q 605.8 308.4, 605.7 308.2 L 605.7 315.3 L 604.6 315.3 L 604.6 306.8 L 605.9 306.8 \" fill=\"#0000FF\"/>\n",
       "<path class=\"atom-8\" d=\"M 612.6 308.3 L 614.1 308.3 L 614.1 306.7 L 614.8 306.7 L 614.8 308.3 L 616.3 308.3 L 616.3 308.9 L 614.8 308.9 L 614.8 310.4 L 614.1 310.4 L 614.1 308.9 L 612.6 308.9 L 612.6 308.3 \" fill=\"#0000FF\"/>\n",
       "<path class=\"atom-9\" d=\"M 604.6 333.3 Q 604.6 331.2, 605.6 330.1 Q 606.6 329.0, 608.5 329.0 Q 610.4 329.0, 611.4 330.1 Q 612.4 331.2, 612.4 333.3 Q 612.4 335.3, 611.4 336.5 Q 610.4 337.7, 608.5 337.7 Q 606.6 337.7, 605.6 336.5 Q 604.6 335.3, 604.6 333.3 M 608.5 336.7 Q 609.8 336.7, 610.5 335.9 Q 611.2 335.0, 611.2 333.3 Q 611.2 331.6, 610.5 330.8 Q 609.8 329.9, 608.5 329.9 Q 607.2 329.9, 606.5 330.8 Q 605.8 331.6, 605.8 333.3 Q 605.8 335.0, 606.5 335.9 Q 607.2 336.7, 608.5 336.7 \" fill=\"#FF0000\"/>\n",
       "<path class=\"atom-10\" d=\"M 622.8 299.3 Q 622.8 297.3, 623.8 296.1 Q 624.8 295.0, 626.7 295.0 Q 628.6 295.0, 629.6 296.1 Q 630.6 297.3, 630.6 299.3 Q 630.6 301.4, 629.6 302.6 Q 628.6 303.7, 626.7 303.7 Q 624.8 303.7, 623.8 302.6 Q 622.8 301.4, 622.8 299.3 M 626.7 302.8 Q 628.0 302.8, 628.7 301.9 Q 629.4 301.0, 629.4 299.3 Q 629.4 297.6, 628.7 296.8 Q 628.0 296.0, 626.7 296.0 Q 625.4 296.0, 624.7 296.8 Q 624.0 297.6, 624.0 299.3 Q 624.0 301.0, 624.7 301.9 Q 625.4 302.8, 626.7 302.8 \" fill=\"#FF0000\"/>\n",
       "<path class=\"atom-10\" d=\"M 631.8 296.4 L 634.7 296.4 L 634.7 297.0 L 631.8 297.0 L 631.8 296.4 \" fill=\"#FF0000\"/>\n",
       "<path d=\"M 646.5,294.0 L 646.5,306.0\" style=\"fill:none;fill-rule:evenodd;stroke:#000000;stroke-width:2.0px;stroke-linecap:butt;stroke-linejoin:miter;stroke-opacity:1\"/>\n",
       "<path d=\"M 640.5,300.0 L 652.5,300.0\" style=\"fill:none;fill-rule:evenodd;stroke:#000000;stroke-width:2.0px;stroke-linecap:butt;stroke-linejoin:miter;stroke-opacity:1\"/>\n",
       "<path class=\"bond-30 atom-35 atom-36\" d=\"M 703.8,300.0 L 692.6,319.3\" style=\"fill:none;fill-rule:evenodd;stroke:#000000;stroke-width:2.0px;stroke-linecap:butt;stroke-linejoin:miter;stroke-opacity:1\"/>\n",
       "<path class=\"bond-30 atom-35 atom-36\" d=\"M 699.9,300.0 L 690.7,315.9\" style=\"fill:none;fill-rule:evenodd;stroke:#000000;stroke-width:2.0px;stroke-linecap:butt;stroke-linejoin:miter;stroke-opacity:1\"/>\n",
       "<path class=\"bond-31 atom-36 atom-37\" d=\"M 692.6,319.3 L 670.4,319.3\" style=\"fill:none;fill-rule:evenodd;stroke:#000000;stroke-width:2.0px;stroke-linecap:butt;stroke-linejoin:miter;stroke-opacity:1\"/>\n",
       "<path class=\"bond-32 atom-37 atom-38\" d=\"M 670.4,319.3 L 666.2,312.0\" style=\"fill:none;fill-rule:evenodd;stroke:#000000;stroke-width:2.0px;stroke-linecap:butt;stroke-linejoin:miter;stroke-opacity:1\"/>\n",
       "<path class=\"bond-32 atom-37 atom-38\" d=\"M 666.2,312.0 L 662.0,304.8\" style=\"fill:none;fill-rule:evenodd;stroke:#0000FF;stroke-width:2.0px;stroke-linecap:butt;stroke-linejoin:miter;stroke-opacity:1\"/>\n",
       "<path class=\"bond-32 atom-37 atom-38\" d=\"M 672.3,315.9 L 668.6,309.5\" style=\"fill:none;fill-rule:evenodd;stroke:#000000;stroke-width:2.0px;stroke-linecap:butt;stroke-linejoin:miter;stroke-opacity:1\"/>\n",
       "<path class=\"bond-32 atom-37 atom-38\" d=\"M 668.6,309.5 L 664.9,303.1\" style=\"fill:none;fill-rule:evenodd;stroke:#0000FF;stroke-width:2.0px;stroke-linecap:butt;stroke-linejoin:miter;stroke-opacity:1\"/>\n",
       "<path class=\"bond-33 atom-38 atom-39\" d=\"M 662.0,295.2 L 666.2,288.0\" style=\"fill:none;fill-rule:evenodd;stroke:#0000FF;stroke-width:2.0px;stroke-linecap:butt;stroke-linejoin:miter;stroke-opacity:1\"/>\n",
       "<path class=\"bond-33 atom-38 atom-39\" d=\"M 666.2,288.0 L 670.4,280.7\" style=\"fill:none;fill-rule:evenodd;stroke:#000000;stroke-width:2.0px;stroke-linecap:butt;stroke-linejoin:miter;stroke-opacity:1\"/>\n",
       "<path class=\"bond-34 atom-39 atom-40\" d=\"M 670.4,280.7 L 692.6,280.7\" style=\"fill:none;fill-rule:evenodd;stroke:#000000;stroke-width:2.0px;stroke-linecap:butt;stroke-linejoin:miter;stroke-opacity:1\"/>\n",
       "<path class=\"bond-34 atom-39 atom-40\" d=\"M 672.3,284.1 L 690.7,284.1\" style=\"fill:none;fill-rule:evenodd;stroke:#000000;stroke-width:2.0px;stroke-linecap:butt;stroke-linejoin:miter;stroke-opacity:1\"/>\n",
       "<path class=\"bond-35 atom-40 atom-35\" d=\"M 692.6,280.7 L 703.8,300.0\" style=\"fill:none;fill-rule:evenodd;stroke:#000000;stroke-width:2.0px;stroke-linecap:butt;stroke-linejoin:miter;stroke-opacity:1\"/>\n",
       "<path class=\"atom-3\" d=\"M 657.4 295.8 L 660.2 300.3 Q 660.5 300.7, 660.9 301.5 Q 661.3 302.3, 661.4 302.4 L 661.4 295.8 L 662.5 295.8 L 662.5 304.2 L 661.3 304.2 L 658.3 299.3 Q 658.0 298.8, 657.6 298.1 Q 657.3 297.4, 657.2 297.2 L 657.2 304.2 L 656.1 304.2 L 656.1 295.8 L 657.4 295.8 \" fill=\"#0000FF\"/>\n",
       "<path class=\"bond-36 atom-41 atom-42\" d=\"M 765.6,300.8 L 784.0,310.7 L 784.2,316.2 L 763.4,305.0 Z\" style=\"fill:#C1EFF4;fill-rule:evenodd;fill-opacity:1;stroke:#C1EFF4;stroke-width:0.0px;stroke-linecap:butt;stroke-linejoin:miter;stroke-opacity:1;\"/>\n",
       "<path class=\"bond-37 atom-42 atom-43\" d=\"M 800.6,300.4 L 803.0,301.7 L 803.1,304.4 L 784.2,316.2 L 784.0,310.7 Z\" style=\"fill:#C1EFF4;fill-rule:evenodd;fill-opacity:1;stroke:#C1EFF4;stroke-width:0.0px;stroke-linecap:butt;stroke-linejoin:miter;stroke-opacity:1;\"/>\n",
       "<path class=\"bond-38 atom-43 atom-44\" d=\"M 799.9,278.2 L 804.7,280.8 L 805.3,300.3 L 803.0,301.7 L 800.6,300.4 Z\" style=\"fill:#C1EFF4;fill-rule:evenodd;fill-opacity:1;stroke:#C1EFF4;stroke-width:0.0px;stroke-linecap:butt;stroke-linejoin:miter;stroke-opacity:1;\"/>\n",
       "<path class=\"bond-47 atom-43 atom-52\" d=\"M 805.3,300.3 L 822.5,309.5 L 822.7,315.0 L 803.1,304.4 L 803.0,301.7 Z\" style=\"fill:#C1EFF4;fill-rule:evenodd;fill-opacity:1;stroke:#C1EFF4;stroke-width:0.0px;stroke-linecap:butt;stroke-linejoin:miter;stroke-opacity:1;\"/>\n",
       "<path class=\"bond-39 atom-44 atom-45\" d=\"M 821.1,265.0 L 821.3,270.5 L 804.7,280.8 L 799.9,278.2 Z\" style=\"fill:#C1EFF4;fill-rule:evenodd;fill-opacity:1;stroke:#C1EFF4;stroke-width:0.0px;stroke-linecap:butt;stroke-linejoin:miter;stroke-opacity:1;\"/>\n",
       "<path class=\"bond-40 atom-45 atom-46\" d=\"M 821.1,265.0 L 840.7,275.5 L 840.8,278.3 L 838.5,279.7 L 821.3,270.5 Z\" style=\"fill:#C1EFF4;fill-rule:evenodd;fill-opacity:1;stroke:#C1EFF4;stroke-width:0.0px;stroke-linecap:butt;stroke-linejoin:miter;stroke-opacity:1;\"/>\n",
       "<path class=\"bond-41 atom-46 atom-47\" d=\"M 858.5,264.5 L 861.0,268.6 L 843.2,279.6 L 840.8,278.3 L 840.7,275.5 Z\" style=\"fill:#C1EFF4;fill-rule:evenodd;fill-opacity:1;stroke:#C1EFF4;stroke-width:0.0px;stroke-linecap:butt;stroke-linejoin:miter;stroke-opacity:1;\"/>\n",
       "<path class=\"bond-42 atom-46 atom-48\" d=\"M 840.8,278.3 L 843.2,279.6 L 843.8,299.1 L 841.5,300.5 L 839.1,299.2 L 838.5,279.7 Z\" style=\"fill:#C1EFF4;fill-rule:evenodd;fill-opacity:1;stroke:#C1EFF4;stroke-width:0.0px;stroke-linecap:butt;stroke-linejoin:miter;stroke-opacity:1;\"/>\n",
       "<path class=\"bond-43 atom-48 atom-49\" d=\"M 843.8,299.1 L 861.0,308.3 L 861.1,311.0 L 858.8,312.5 L 841.6,303.2 L 841.5,300.5 Z\" style=\"fill:#C1EFF4;fill-rule:evenodd;fill-opacity:1;stroke:#C1EFF4;stroke-width:0.0px;stroke-linecap:butt;stroke-linejoin:miter;stroke-opacity:1;\"/>\n",
       "<path class=\"bond-46 atom-48 atom-52\" d=\"M 839.1,299.2 L 841.5,300.5 L 841.6,303.2 L 822.7,315.0 L 822.5,309.5 Z\" style=\"fill:#C1EFF4;fill-rule:evenodd;fill-opacity:1;stroke:#C1EFF4;stroke-width:0.0px;stroke-linecap:butt;stroke-linejoin:miter;stroke-opacity:1;\"/>\n",
       "<path class=\"bond-44 atom-49 atom-50\" d=\"M 861.1,311.0 L 863.5,312.3 L 864.2,333.2 L 859.4,333.3 L 858.8,312.5 Z\" style=\"fill:#C1EFF4;fill-rule:evenodd;fill-opacity:1;stroke:#C1EFF4;stroke-width:0.0px;stroke-linecap:butt;stroke-linejoin:miter;stroke-opacity:1;\"/>\n",
       "<path class=\"bond-45 atom-49 atom-51\" d=\"M 878.8,297.3 L 881.3,301.3 L 863.5,312.3 L 861.1,311.0 L 861.0,308.3 Z\" style=\"fill:#C1EFF4;fill-rule:evenodd;fill-opacity:1;stroke:#C1EFF4;stroke-width:0.0px;stroke-linecap:butt;stroke-linejoin:miter;stroke-opacity:1;\"/>\n",
       "<ellipse cx=\"765.3\" cy=\"301.5\" rx=\"5.2\" ry=\"5.8\" class=\"atom-41\" style=\"fill:#C1EFF4;fill-rule:evenodd;stroke:#C1EFF4;stroke-width:1.0px;stroke-linecap:butt;stroke-linejoin:miter;stroke-opacity:1\"/>\n",
       "<ellipse cx=\"784.1\" cy=\"313.4\" rx=\"4.4\" ry=\"4.4\" class=\"atom-42\" style=\"fill:#C1EFF4;fill-rule:evenodd;stroke:#C1EFF4;stroke-width:1.0px;stroke-linecap:butt;stroke-linejoin:miter;stroke-opacity:1\"/>\n",
       "<ellipse cx=\"803.0\" cy=\"301.7\" rx=\"4.4\" ry=\"4.4\" class=\"atom-43\" style=\"fill:#C1EFF4;fill-rule:evenodd;stroke:#C1EFF4;stroke-width:1.0px;stroke-linecap:butt;stroke-linejoin:miter;stroke-opacity:1\"/>\n",
       "<ellipse cx=\"802.3\" cy=\"279.5\" rx=\"4.4\" ry=\"4.4\" class=\"atom-44\" style=\"fill:#C1EFF4;fill-rule:evenodd;stroke:#C1EFF4;stroke-width:1.0px;stroke-linecap:butt;stroke-linejoin:miter;stroke-opacity:1\"/>\n",
       "<ellipse cx=\"821.2\" cy=\"267.7\" rx=\"4.4\" ry=\"4.4\" class=\"atom-45\" style=\"fill:#C1EFF4;fill-rule:evenodd;stroke:#C1EFF4;stroke-width:1.0px;stroke-linecap:butt;stroke-linejoin:miter;stroke-opacity:1\"/>\n",
       "<ellipse cx=\"840.8\" cy=\"278.3\" rx=\"4.4\" ry=\"4.4\" class=\"atom-46\" style=\"fill:#C1EFF4;fill-rule:evenodd;stroke:#C1EFF4;stroke-width:1.0px;stroke-linecap:butt;stroke-linejoin:miter;stroke-opacity:1\"/>\n",
       "<ellipse cx=\"859.7\" cy=\"266.5\" rx=\"4.4\" ry=\"5.7\" class=\"atom-47\" style=\"fill:#C1EFF4;fill-rule:evenodd;stroke:#C1EFF4;stroke-width:1.0px;stroke-linecap:butt;stroke-linejoin:miter;stroke-opacity:1\"/>\n",
       "<ellipse cx=\"841.5\" cy=\"300.5\" rx=\"4.4\" ry=\"4.4\" class=\"atom-48\" style=\"fill:#C1EFF4;fill-rule:evenodd;stroke:#C1EFF4;stroke-width:1.0px;stroke-linecap:butt;stroke-linejoin:miter;stroke-opacity:1\"/>\n",
       "<ellipse cx=\"863.6\" cy=\"311.0\" rx=\"7.9\" ry=\"5.7\" class=\"atom-49\" style=\"fill:#C1EFF4;fill-rule:evenodd;stroke:#C1EFF4;stroke-width:1.0px;stroke-linecap:butt;stroke-linejoin:miter;stroke-opacity:1\"/>\n",
       "<ellipse cx=\"861.8\" cy=\"333.3\" rx=\"5.2\" ry=\"5.8\" class=\"atom-50\" style=\"fill:#C1EFF4;fill-rule:evenodd;stroke:#C1EFF4;stroke-width:1.0px;stroke-linecap:butt;stroke-linejoin:miter;stroke-opacity:1\"/>\n",
       "<ellipse cx=\"882.0\" cy=\"299.3\" rx=\"8.0\" ry=\"5.8\" class=\"atom-51\" style=\"fill:#C1EFF4;fill-rule:evenodd;stroke:#C1EFF4;stroke-width:1.0px;stroke-linecap:butt;stroke-linejoin:miter;stroke-opacity:1\"/>\n",
       "<ellipse cx=\"822.6\" cy=\"312.2\" rx=\"4.4\" ry=\"4.4\" class=\"atom-52\" style=\"fill:#C1EFF4;fill-rule:evenodd;stroke:#C1EFF4;stroke-width:1.0px;stroke-linecap:butt;stroke-linejoin:miter;stroke-opacity:1\"/>\n",
       "<path class=\"bond-36 atom-41 atom-42\" d=\"M 768.9,305.3 L 776.5,309.4\" style=\"fill:none;fill-rule:evenodd;stroke:#FF0000;stroke-width:2.0px;stroke-linecap:butt;stroke-linejoin:miter;stroke-opacity:1\"/>\n",
       "<path class=\"bond-36 atom-41 atom-42\" d=\"M 776.5,309.4 L 784.1,313.4\" style=\"fill:none;fill-rule:evenodd;stroke:#000000;stroke-width:2.0px;stroke-linecap:butt;stroke-linejoin:miter;stroke-opacity:1\"/>\n",
       "<path class=\"bond-36 atom-41 atom-42\" d=\"M 770.5,302.4 L 778.1,306.4\" style=\"fill:none;fill-rule:evenodd;stroke:#FF0000;stroke-width:2.0px;stroke-linecap:butt;stroke-linejoin:miter;stroke-opacity:1\"/>\n",
       "<path class=\"bond-36 atom-41 atom-42\" d=\"M 778.1,306.4 L 784.0,309.6\" style=\"fill:none;fill-rule:evenodd;stroke:#000000;stroke-width:2.0px;stroke-linecap:butt;stroke-linejoin:miter;stroke-opacity:1\"/>\n",
       "<path class=\"bond-37 atom-42 atom-43\" d=\"M 784.1,313.4 L 803.0,301.7\" style=\"fill:none;fill-rule:evenodd;stroke:#000000;stroke-width:2.0px;stroke-linecap:butt;stroke-linejoin:miter;stroke-opacity:1\"/>\n",
       "<path class=\"bond-38 atom-43 atom-44\" d=\"M 803.0,301.7 L 802.3,279.5\" style=\"fill:none;fill-rule:evenodd;stroke:#000000;stroke-width:2.0px;stroke-linecap:butt;stroke-linejoin:miter;stroke-opacity:1\"/>\n",
       "<path class=\"bond-38 atom-43 atom-44\" d=\"M 806.3,299.7 L 805.7,281.3\" style=\"fill:none;fill-rule:evenodd;stroke:#000000;stroke-width:2.0px;stroke-linecap:butt;stroke-linejoin:miter;stroke-opacity:1\"/>\n",
       "<path class=\"bond-39 atom-44 atom-45\" d=\"M 802.3,279.5 L 821.2,267.7\" style=\"fill:none;fill-rule:evenodd;stroke:#000000;stroke-width:2.0px;stroke-linecap:butt;stroke-linejoin:miter;stroke-opacity:1\"/>\n",
       "<path class=\"bond-40 atom-45 atom-46\" d=\"M 821.2,267.7 L 840.8,278.3\" style=\"fill:none;fill-rule:evenodd;stroke:#000000;stroke-width:2.0px;stroke-linecap:butt;stroke-linejoin:miter;stroke-opacity:1\"/>\n",
       "<path class=\"bond-40 atom-45 atom-46\" d=\"M 821.3,271.6 L 837.5,280.3\" style=\"fill:none;fill-rule:evenodd;stroke:#000000;stroke-width:2.0px;stroke-linecap:butt;stroke-linejoin:miter;stroke-opacity:1\"/>\n",
       "<path class=\"bond-41 atom-46 atom-47\" d=\"M 840.8,278.3 L 848.7,273.4\" style=\"fill:none;fill-rule:evenodd;stroke:#000000;stroke-width:2.0px;stroke-linecap:butt;stroke-linejoin:miter;stroke-opacity:1\"/>\n",
       "<path class=\"bond-41 atom-46 atom-47\" d=\"M 848.7,273.4 L 856.6,268.5\" style=\"fill:none;fill-rule:evenodd;stroke:#33CCCC;stroke-width:2.0px;stroke-linecap:butt;stroke-linejoin:miter;stroke-opacity:1\"/>\n",
       "<path class=\"bond-42 atom-46 atom-48\" d=\"M 840.8,278.3 L 841.5,300.5\" style=\"fill:none;fill-rule:evenodd;stroke:#000000;stroke-width:2.0px;stroke-linecap:butt;stroke-linejoin:miter;stroke-opacity:1\"/>\n",
       "<path class=\"bond-43 atom-48 atom-49\" d=\"M 841.5,300.5 L 849.4,304.7\" style=\"fill:none;fill-rule:evenodd;stroke:#000000;stroke-width:2.0px;stroke-linecap:butt;stroke-linejoin:miter;stroke-opacity:1\"/>\n",
       "<path class=\"bond-43 atom-48 atom-49\" d=\"M 849.4,304.7 L 857.3,309.0\" style=\"fill:none;fill-rule:evenodd;stroke:#0000FF;stroke-width:2.0px;stroke-linecap:butt;stroke-linejoin:miter;stroke-opacity:1\"/>\n",
       "<path class=\"bond-44 atom-49 atom-50\" d=\"M 859.6,315.8 L 859.8,322.2\" style=\"fill:none;fill-rule:evenodd;stroke:#0000FF;stroke-width:2.0px;stroke-linecap:butt;stroke-linejoin:miter;stroke-opacity:1\"/>\n",
       "<path class=\"bond-44 atom-49 atom-50\" d=\"M 859.8,322.2 L 860.0,328.5\" style=\"fill:none;fill-rule:evenodd;stroke:#FF0000;stroke-width:2.0px;stroke-linecap:butt;stroke-linejoin:miter;stroke-opacity:1\"/>\n",
       "<path class=\"bond-44 atom-49 atom-50\" d=\"M 862.9,315.7 L 863.1,322.1\" style=\"fill:none;fill-rule:evenodd;stroke:#0000FF;stroke-width:2.0px;stroke-linecap:butt;stroke-linejoin:miter;stroke-opacity:1\"/>\n",
       "<path class=\"bond-44 atom-49 atom-50\" d=\"M 863.1,322.1 L 863.3,328.4\" style=\"fill:none;fill-rule:evenodd;stroke:#FF0000;stroke-width:2.0px;stroke-linecap:butt;stroke-linejoin:miter;stroke-opacity:1\"/>\n",
       "<path class=\"bond-45 atom-49 atom-51\" d=\"M 868.9,306.2 L 872.2,304.1\" style=\"fill:none;fill-rule:evenodd;stroke:#0000FF;stroke-width:2.0px;stroke-linecap:butt;stroke-linejoin:miter;stroke-opacity:1\"/>\n",
       "<path class=\"bond-45 atom-49 atom-51\" d=\"M 872.2,304.1 L 875.6,302.0\" style=\"fill:none;fill-rule:evenodd;stroke:#FF0000;stroke-width:2.0px;stroke-linecap:butt;stroke-linejoin:miter;stroke-opacity:1\"/>\n",
       "<path class=\"bond-46 atom-48 atom-52\" d=\"M 841.5,300.5 L 822.6,312.2\" style=\"fill:none;fill-rule:evenodd;stroke:#000000;stroke-width:2.0px;stroke-linecap:butt;stroke-linejoin:miter;stroke-opacity:1\"/>\n",
       "<path class=\"bond-46 atom-48 atom-52\" d=\"M 838.1,298.7 L 822.5,308.4\" style=\"fill:none;fill-rule:evenodd;stroke:#000000;stroke-width:2.0px;stroke-linecap:butt;stroke-linejoin:miter;stroke-opacity:1\"/>\n",
       "<path class=\"bond-47 atom-52 atom-43\" d=\"M 822.6,312.2 L 803.0,301.7\" style=\"fill:none;fill-rule:evenodd;stroke:#000000;stroke-width:2.0px;stroke-linecap:butt;stroke-linejoin:miter;stroke-opacity:1\"/>\n",
       "<path class=\"atom-0\" d=\"M 761.4 301.5 Q 761.4 299.4, 762.4 298.3 Q 763.4 297.2, 765.3 297.2 Q 767.2 297.2, 768.2 298.3 Q 769.2 299.4, 769.2 301.5 Q 769.2 303.5, 768.1 304.7 Q 767.1 305.9, 765.3 305.9 Q 763.4 305.9, 762.4 304.7 Q 761.4 303.6, 761.4 301.5 M 765.3 304.9 Q 766.6 304.9, 767.3 304.1 Q 768.0 303.2, 768.0 301.5 Q 768.0 299.8, 767.3 299.0 Q 766.6 298.1, 765.3 298.1 Q 764.0 298.1, 763.3 299.0 Q 762.6 299.8, 762.6 301.5 Q 762.6 303.2, 763.3 304.1 Q 764.0 304.9, 765.3 304.9 \" fill=\"#FF0000\"/>\n",
       "<path class=\"atom-6\" d=\"M 857.2 262.3 L 862.2 262.3 L 862.2 263.3 L 858.3 263.3 L 858.3 265.8 L 861.8 265.8 L 861.8 266.8 L 858.3 266.8 L 858.3 270.8 L 857.2 270.8 L 857.2 262.3 \" fill=\"#33CCCC\"/>\n",
       "<path class=\"atom-8\" d=\"M 859.2 306.8 L 862.0 311.3 Q 862.3 311.7, 862.7 312.5 Q 863.2 313.3, 863.2 313.4 L 863.2 306.8 L 864.3 306.8 L 864.3 315.3 L 863.2 315.3 L 860.2 310.3 Q 859.8 309.8, 859.5 309.1 Q 859.1 308.4, 859.0 308.2 L 859.0 315.3 L 857.9 315.3 L 857.9 306.8 L 859.2 306.8 \" fill=\"#0000FF\"/>\n",
       "<path class=\"atom-8\" d=\"M 865.9 308.3 L 867.4 308.3 L 867.4 306.7 L 868.1 306.7 L 868.1 308.3 L 869.6 308.3 L 869.6 308.9 L 868.1 308.9 L 868.1 310.4 L 867.4 310.4 L 867.4 308.9 L 865.9 308.9 L 865.9 308.3 \" fill=\"#0000FF\"/>\n",
       "<path class=\"atom-9\" d=\"M 857.9 333.3 Q 857.9 331.2, 858.9 330.1 Q 859.9 329.0, 861.8 329.0 Q 863.7 329.0, 864.7 330.1 Q 865.7 331.2, 865.7 333.3 Q 865.7 335.3, 864.7 336.5 Q 863.7 337.7, 861.8 337.7 Q 859.9 337.7, 858.9 336.5 Q 857.9 335.3, 857.9 333.3 M 861.8 336.7 Q 863.1 336.7, 863.8 335.9 Q 864.5 335.0, 864.5 333.3 Q 864.5 331.6, 863.8 330.8 Q 863.1 329.9, 861.8 329.9 Q 860.5 329.9, 859.8 330.8 Q 859.1 331.6, 859.1 333.3 Q 859.1 335.0, 859.8 335.9 Q 860.5 336.7, 861.8 336.7 \" fill=\"#FF0000\"/>\n",
       "<path class=\"atom-10\" d=\"M 876.1 299.3 Q 876.1 297.3, 877.1 296.1 Q 878.1 295.0, 880.0 295.0 Q 881.9 295.0, 882.9 296.1 Q 883.9 297.3, 883.9 299.3 Q 883.9 301.4, 882.9 302.6 Q 881.9 303.7, 880.0 303.7 Q 878.2 303.7, 877.1 302.6 Q 876.1 301.4, 876.1 299.3 M 880.0 302.8 Q 881.3 302.8, 882.0 301.9 Q 882.7 301.0, 882.7 299.3 Q 882.7 297.6, 882.0 296.8 Q 881.3 296.0, 880.0 296.0 Q 878.7 296.0, 878.0 296.8 Q 877.3 297.6, 877.3 299.3 Q 877.3 301.0, 878.0 301.9 Q 878.7 302.8, 880.0 302.8 \" fill=\"#FF0000\"/>\n",
       "<path class=\"atom-10\" d=\"M 885.1 296.4 L 888.0 296.4 L 888.0 297.0 L 885.1 297.0 L 885.1 296.4 \" fill=\"#FF0000\"/>\n",
       "<path d=\"M 713.0,300.0 L 751.0,300.0\" style=\"fill:none;fill-rule:evenodd;stroke:#000000;stroke-width:2.0px;stroke-linecap:butt;stroke-linejoin:miter;stroke-opacity:1\"/>\n",
       "<path d=\"M 751.0,300.0 L 746.0,302.9\" style=\"fill:none;fill-rule:evenodd;stroke:#000000;stroke-width:2.0px;stroke-linecap:butt;stroke-linejoin:miter;stroke-opacity:1\"/>\n",
       "<path d=\"M 751.0,300.0 L 746.0,297.1\" style=\"fill:none;fill-rule:evenodd;stroke:#000000;stroke-width:2.0px;stroke-linecap:butt;stroke-linejoin:miter;stroke-opacity:1\"/>\n",
       "</svg></td><td style='border:1px solid black; padding:10px'><b style='font-size:16px;'>graphormer</b><br><svg xmlns=\"http://www.w3.org/2000/svg\" xmlns:rdkit=\"http://www.rdkit.org/xml\" xmlns:xlink=\"http://www.w3.org/1999/xlink\" version=\"1.1\" baseProfile=\"full\" xml:space=\"preserve\" width=\"1000px\" height=\"600px\" viewBox=\"0 0 1000 600\">\n",
       "<!-- END OF HEADER -->\n",
       "<rect style=\"opacity:1.0;fill:#FFFFFF;stroke:none\" width=\"1000.0\" height=\"600.0\" x=\"0.0\" y=\"0.0\"> </rect>\n",
       "<path class=\"bond-0 atom-0 atom-1\" d=\"M 181.8,296.5 L 185.0,299.9 L 167.9,315.6 L 166.7,310.4 Z\" style=\"fill:#FFFFAA;fill-rule:evenodd;fill-opacity:1;stroke:#FFFFAA;stroke-width:0.0px;stroke-linecap:butt;stroke-linejoin:miter;stroke-opacity:1;\"/>\n",
       "<path class=\"bond-1 atom-0 atom-2\" d=\"M 148.5,304.7 L 166.7,310.4 L 167.9,315.6 L 147.1,309.1 L 146.5,306.5 Z\" style=\"fill:#FFFFAA;fill-rule:evenodd;fill-opacity:1;stroke:#FFFFAA;stroke-width:0.0px;stroke-linecap:butt;stroke-linejoin:miter;stroke-opacity:1;\"/>\n",
       "<path class=\"bond-2 atom-2 atom-3\" d=\"M 143.9,305.7 L 146.5,306.5 L 147.1,309.1 L 131.0,323.9 L 129.9,318.7 Z\" style=\"fill:#FFFFAA;fill-rule:evenodd;fill-opacity:1;stroke:#FFFFAA;stroke-width:0.0px;stroke-linecap:butt;stroke-linejoin:miter;stroke-opacity:1;\"/>\n",
       "<path class=\"bond-4 atom-2 atom-5\" d=\"M 143.7,283.4 L 148.5,304.7 L 146.5,306.5 L 143.9,305.7 L 139.7,287.0 Z\" style=\"fill:#FFFFAA;fill-rule:evenodd;fill-opacity:1;stroke:#FFFFAA;stroke-width:0.0px;stroke-linecap:butt;stroke-linejoin:miter;stroke-opacity:1;\"/>\n",
       "<path class=\"bond-3 atom-3 atom-4\" d=\"M 110.3,312.6 L 129.9,318.7 L 131.0,323.9 L 108.9,317.0 Z\" style=\"fill:#FFFFAA;fill-rule:evenodd;fill-opacity:1;stroke:#FFFFAA;stroke-width:0.0px;stroke-linecap:butt;stroke-linejoin:miter;stroke-opacity:1;\"/>\n",
       "<path class=\"bond-5 atom-5 atom-6\" d=\"M 121.6,276.5 L 143.7,283.4 L 139.7,287.0 L 120.2,280.9 Z\" style=\"fill:#FFFFAA;fill-rule:evenodd;fill-opacity:1;stroke:#FFFFAA;stroke-width:0.0px;stroke-linecap:butt;stroke-linejoin:miter;stroke-opacity:1;\"/>\n",
       "<ellipse cx=\"167.3\" cy=\"313.0\" rx=\"4.4\" ry=\"4.4\" class=\"atom-0\" style=\"fill:#FFFFAA;fill-rule:evenodd;stroke:#FFFFAA;stroke-width:1.0px;stroke-linecap:butt;stroke-linejoin:miter;stroke-opacity:1\"/>\n",
       "<ellipse cx=\"183.4\" cy=\"298.2\" rx=\"4.4\" ry=\"4.4\" class=\"atom-1\" style=\"fill:#FFFFAA;fill-rule:evenodd;stroke:#FFFFAA;stroke-width:1.0px;stroke-linecap:butt;stroke-linejoin:miter;stroke-opacity:1\"/>\n",
       "<ellipse cx=\"146.5\" cy=\"306.5\" rx=\"4.4\" ry=\"5.8\" class=\"atom-2\" style=\"fill:#FFFFAA;fill-rule:evenodd;stroke:#FFFFAA;stroke-width:1.0px;stroke-linecap:butt;stroke-linejoin:miter;stroke-opacity:1\"/>\n",
       "<ellipse cx=\"130.4\" cy=\"321.3\" rx=\"4.4\" ry=\"4.4\" class=\"atom-3\" style=\"fill:#FFFFAA;fill-rule:evenodd;stroke:#FFFFAA;stroke-width:1.0px;stroke-linecap:butt;stroke-linejoin:miter;stroke-opacity:1\"/>\n",
       "<ellipse cx=\"109.6\" cy=\"314.8\" rx=\"4.4\" ry=\"4.4\" class=\"atom-4\" style=\"fill:#FFFFAA;fill-rule:evenodd;stroke:#FFFFAA;stroke-width:1.0px;stroke-linecap:butt;stroke-linejoin:miter;stroke-opacity:1\"/>\n",
       "<ellipse cx=\"141.7\" cy=\"285.2\" rx=\"4.4\" ry=\"4.4\" class=\"atom-5\" style=\"fill:#FFFFAA;fill-rule:evenodd;stroke:#FFFFAA;stroke-width:1.0px;stroke-linecap:butt;stroke-linejoin:miter;stroke-opacity:1\"/>\n",
       "<ellipse cx=\"120.9\" cy=\"278.7\" rx=\"4.4\" ry=\"4.4\" class=\"atom-6\" style=\"fill:#FFFFAA;fill-rule:evenodd;stroke:#FFFFAA;stroke-width:1.0px;stroke-linecap:butt;stroke-linejoin:miter;stroke-opacity:1\"/>\n",
       "<path class=\"bond-0 atom-0 atom-1\" d=\"M 167.3,313.0 L 183.4,298.2\" style=\"fill:none;fill-rule:evenodd;stroke:#000000;stroke-width:2.0px;stroke-linecap:butt;stroke-linejoin:miter;stroke-opacity:1\"/>\n",
       "<path class=\"bond-1 atom-0 atom-2\" d=\"M 167.3,313.0 L 158.8,310.4\" style=\"fill:none;fill-rule:evenodd;stroke:#000000;stroke-width:2.0px;stroke-linecap:butt;stroke-linejoin:miter;stroke-opacity:1\"/>\n",
       "<path class=\"bond-1 atom-0 atom-2\" d=\"M 158.8,310.4 L 150.4,307.7\" style=\"fill:none;fill-rule:evenodd;stroke:#0000FF;stroke-width:2.0px;stroke-linecap:butt;stroke-linejoin:miter;stroke-opacity:1\"/>\n",
       "<path class=\"bond-2 atom-2 atom-3\" d=\"M 142.6,310.1 L 136.5,315.7\" style=\"fill:none;fill-rule:evenodd;stroke:#0000FF;stroke-width:2.0px;stroke-linecap:butt;stroke-linejoin:miter;stroke-opacity:1\"/>\n",
       "<path class=\"bond-2 atom-2 atom-3\" d=\"M 136.5,315.7 L 130.4,321.3\" style=\"fill:none;fill-rule:evenodd;stroke:#000000;stroke-width:2.0px;stroke-linecap:butt;stroke-linejoin:miter;stroke-opacity:1\"/>\n",
       "<path class=\"bond-3 atom-3 atom-4\" d=\"M 130.4,321.3 L 109.6,314.8\" style=\"fill:none;fill-rule:evenodd;stroke:#000000;stroke-width:2.0px;stroke-linecap:butt;stroke-linejoin:miter;stroke-opacity:1\"/>\n",
       "<path class=\"bond-4 atom-2 atom-5\" d=\"M 145.4,301.7 L 143.6,293.4\" style=\"fill:none;fill-rule:evenodd;stroke:#0000FF;stroke-width:2.0px;stroke-linecap:butt;stroke-linejoin:miter;stroke-opacity:1\"/>\n",
       "<path class=\"bond-4 atom-2 atom-5\" d=\"M 143.6,293.4 L 141.7,285.2\" style=\"fill:none;fill-rule:evenodd;stroke:#000000;stroke-width:2.0px;stroke-linecap:butt;stroke-linejoin:miter;stroke-opacity:1\"/>\n",
       "<path class=\"bond-5 atom-5 atom-6\" d=\"M 141.7,285.2 L 120.9,278.7\" style=\"fill:none;fill-rule:evenodd;stroke:#000000;stroke-width:2.0px;stroke-linecap:butt;stroke-linejoin:miter;stroke-opacity:1\"/>\n",
       "<path d=\"M 168.1,312.3 L 167.3,313.0 L 166.9,312.9\" style=\"fill:none;stroke:#000000;stroke-width:2.0px;stroke-linecap:butt;stroke-linejoin:miter;stroke-opacity:1;\"/>\n",
       "<path d=\"M 130.7,321.0 L 130.4,321.3 L 129.4,321.0\" style=\"fill:none;stroke:#000000;stroke-width:2.0px;stroke-linecap:butt;stroke-linejoin:miter;stroke-opacity:1;\"/>\n",
       "<path d=\"M 141.8,285.6 L 141.7,285.2 L 140.7,284.9\" style=\"fill:none;stroke:#000000;stroke-width:2.0px;stroke-linecap:butt;stroke-linejoin:miter;stroke-opacity:1;\"/>\n",
       "<path class=\"atom-2\" d=\"M 144.6 302.3 L 147.4 306.8 Q 147.7 307.2, 148.1 308.0 Q 148.6 308.8, 148.6 308.9 L 148.6 302.3 L 149.7 302.3 L 149.7 310.8 L 148.6 310.8 L 145.6 305.8 Q 145.2 305.3, 144.9 304.6 Q 144.5 303.9, 144.4 303.7 L 144.4 310.8 L 143.3 310.8 L 143.3 302.3 L 144.6 302.3 \" fill=\"#0000FF\"/>\n",
       "<path d=\"M 197.5,294.0 L 197.5,306.0\" style=\"fill:none;fill-rule:evenodd;stroke:#000000;stroke-width:2.0px;stroke-linecap:butt;stroke-linejoin:miter;stroke-opacity:1\"/>\n",
       "<path d=\"M 191.5,300.0 L 203.5,300.0\" style=\"fill:none;fill-rule:evenodd;stroke:#000000;stroke-width:2.0px;stroke-linecap:butt;stroke-linejoin:miter;stroke-opacity:1\"/>\n",
       "<path class=\"bond-6 atom-7 atom-8\" d=\"M 228.2,304.9 L 230.5,306.2 L 230.5,308.9 L 212.8,319.2 L 210.4,315.1 Z\" style=\"fill:#FFCC99;fill-rule:evenodd;fill-opacity:1;stroke:#FFCC99;stroke-width:0.0px;stroke-linecap:butt;stroke-linejoin:miter;stroke-opacity:1;\"/>\n",
       "<path class=\"bond-7 atom-8 atom-9\" d=\"M 232.8,304.9 L 250.6,315.1 L 248.2,319.2 L 230.5,308.9 L 230.5,306.2 Z\" style=\"fill:#FFCC99;fill-rule:evenodd;fill-opacity:1;stroke:#FFCC99;stroke-width:0.0px;stroke-linecap:butt;stroke-linejoin:miter;stroke-opacity:1;\"/>\n",
       "<path class=\"bond-8 atom-8 atom-10\" d=\"M 228.2,284.4 L 232.8,284.4 L 232.8,304.9 L 230.5,306.2 L 228.2,304.9 Z\" style=\"fill:#FFCC99;fill-rule:evenodd;fill-opacity:1;stroke:#FFCC99;stroke-width:0.0px;stroke-linecap:butt;stroke-linejoin:miter;stroke-opacity:1;\"/>\n",
       "<ellipse cx=\"211.6\" cy=\"317.2\" rx=\"4.4\" ry=\"4.4\" class=\"atom-7\" style=\"fill:#FFCC99;fill-rule:evenodd;stroke:#FFCC99;stroke-width:1.0px;stroke-linecap:butt;stroke-linejoin:miter;stroke-opacity:1\"/>\n",
       "<ellipse cx=\"230.5\" cy=\"306.4\" rx=\"4.4\" ry=\"6.0\" class=\"atom-8\" style=\"fill:#FFCC99;fill-rule:evenodd;stroke:#FFCC99;stroke-width:1.0px;stroke-linecap:butt;stroke-linejoin:miter;stroke-opacity:1\"/>\n",
       "<ellipse cx=\"249.4\" cy=\"317.2\" rx=\"4.4\" ry=\"4.4\" class=\"atom-9\" style=\"fill:#FFCC99;fill-rule:evenodd;stroke:#FFCC99;stroke-width:1.0px;stroke-linecap:butt;stroke-linejoin:miter;stroke-opacity:1\"/>\n",
       "<ellipse cx=\"230.5\" cy=\"284.5\" rx=\"5.4\" ry=\"6.0\" class=\"atom-10\" style=\"fill:#FFCC99;fill-rule:evenodd;stroke:#FFCC99;stroke-width:1.0px;stroke-linecap:butt;stroke-linejoin:miter;stroke-opacity:1\"/>\n",
       "<path class=\"bond-6 atom-7 atom-8\" d=\"M 211.6,317.2 L 219.4,312.7\" style=\"fill:none;fill-rule:evenodd;stroke:#000000;stroke-width:2.0px;stroke-linecap:butt;stroke-linejoin:miter;stroke-opacity:1\"/>\n",
       "<path class=\"bond-6 atom-7 atom-8\" d=\"M 219.4,312.7 L 227.1,308.2\" style=\"fill:none;fill-rule:evenodd;stroke:#CCCC00;stroke-width:2.0px;stroke-linecap:butt;stroke-linejoin:miter;stroke-opacity:1\"/>\n",
       "<path class=\"bond-7 atom-8 atom-9\" d=\"M 233.9,308.2 L 241.6,312.7\" style=\"fill:none;fill-rule:evenodd;stroke:#CCCC00;stroke-width:2.0px;stroke-linecap:butt;stroke-linejoin:miter;stroke-opacity:1\"/>\n",
       "<path class=\"bond-7 atom-8 atom-9\" d=\"M 241.6,312.7 L 249.4,317.2\" style=\"fill:none;fill-rule:evenodd;stroke:#000000;stroke-width:2.0px;stroke-linecap:butt;stroke-linejoin:miter;stroke-opacity:1\"/>\n",
       "<path class=\"bond-8 atom-8 atom-10\" d=\"M 232.1,301.4 L 232.1,295.4\" style=\"fill:none;fill-rule:evenodd;stroke:#CCCC00;stroke-width:2.0px;stroke-linecap:butt;stroke-linejoin:miter;stroke-opacity:1\"/>\n",
       "<path class=\"bond-8 atom-8 atom-10\" d=\"M 232.1,295.4 L 232.1,289.4\" style=\"fill:none;fill-rule:evenodd;stroke:#FF0000;stroke-width:2.0px;stroke-linecap:butt;stroke-linejoin:miter;stroke-opacity:1\"/>\n",
       "<path class=\"bond-8 atom-8 atom-10\" d=\"M 228.9,301.4 L 228.9,295.4\" style=\"fill:none;fill-rule:evenodd;stroke:#CCCC00;stroke-width:2.0px;stroke-linecap:butt;stroke-linejoin:miter;stroke-opacity:1\"/>\n",
       "<path class=\"bond-8 atom-8 atom-10\" d=\"M 228.9,295.4 L 228.9,289.4\" style=\"fill:none;fill-rule:evenodd;stroke:#FF0000;stroke-width:2.0px;stroke-linecap:butt;stroke-linejoin:miter;stroke-opacity:1\"/>\n",
       "<path class=\"atom-1\" d=\"M 228.1 309.2 Q 228.2 309.2, 228.6 309.4 Q 229.0 309.5, 229.4 309.6 Q 229.9 309.7, 230.3 309.7 Q 231.1 309.7, 231.6 309.3 Q 232.0 309.0, 232.0 308.3 Q 232.0 307.8, 231.8 307.5 Q 231.6 307.2, 231.2 307.1 Q 230.8 306.9, 230.2 306.7 Q 229.5 306.5, 229.0 306.3 Q 228.6 306.1, 228.3 305.6 Q 228.0 305.2, 228.0 304.4 Q 228.0 303.3, 228.7 302.7 Q 229.4 302.0, 230.8 302.0 Q 231.8 302.0, 232.9 302.5 L 232.7 303.4 Q 231.7 303.0, 230.9 303.0 Q 230.1 303.0, 229.6 303.3 Q 229.1 303.7, 229.2 304.2 Q 229.2 304.7, 229.4 305.0 Q 229.6 305.3, 230.0 305.4 Q 230.3 305.6, 230.9 305.7 Q 231.7 306.0, 232.1 306.2 Q 232.6 306.5, 232.9 307.0 Q 233.2 307.4, 233.2 308.3 Q 233.2 309.4, 232.4 310.1 Q 231.7 310.7, 230.3 310.7 Q 229.6 310.7, 229.0 310.5 Q 228.4 310.4, 227.8 310.1 L 228.1 309.2 \" fill=\"#CCCC00\"/>\n",
       "<path class=\"atom-3\" d=\"M 226.6 284.4 Q 226.6 282.4, 227.6 281.3 Q 228.6 280.1, 230.5 280.1 Q 232.4 280.1, 233.4 281.3 Q 234.4 282.4, 234.4 284.4 Q 234.4 286.5, 233.4 287.7 Q 232.4 288.8, 230.5 288.8 Q 228.6 288.8, 227.6 287.7 Q 226.6 286.5, 226.6 284.4 M 230.5 287.9 Q 231.8 287.9, 232.5 287.0 Q 233.2 286.1, 233.2 284.4 Q 233.2 282.8, 232.5 281.9 Q 231.8 281.1, 230.5 281.1 Q 229.2 281.1, 228.5 281.9 Q 227.8 282.8, 227.8 284.4 Q 227.8 286.2, 228.5 287.0 Q 229.2 287.9, 230.5 287.9 \" fill=\"#FF0000\"/>\n",
       "<path d=\"M 263.5,294.0 L 263.5,306.0\" style=\"fill:none;fill-rule:evenodd;stroke:#000000;stroke-width:2.0px;stroke-linecap:butt;stroke-linejoin:miter;stroke-opacity:1\"/>\n",
       "<path d=\"M 257.5,300.0 L 269.5,300.0\" style=\"fill:none;fill-rule:evenodd;stroke:#000000;stroke-width:2.0px;stroke-linecap:butt;stroke-linejoin:miter;stroke-opacity:1\"/>\n",
       "<path class=\"bond-9 atom-11 atom-12\" d=\"M 296.6,291.0 L 296.6,296.4 L 278.9,306.6 L 276.5,302.6 Z\" style=\"fill:#FFB5C1;fill-rule:evenodd;fill-opacity:1;stroke:#FFB5C1;stroke-width:0.0px;stroke-linecap:butt;stroke-linejoin:miter;stroke-opacity:1;\"/>\n",
       "<path class=\"bond-10 atom-12 atom-13\" d=\"M 296.6,291.0 L 315.5,301.9 L 315.5,307.3 L 296.6,296.4 Z\" style=\"fill:#FFB5C1;fill-rule:evenodd;fill-opacity:1;stroke:#FFB5C1;stroke-width:0.0px;stroke-linecap:butt;stroke-linejoin:miter;stroke-opacity:1;\"/>\n",
       "<path class=\"bond-11 atom-13 atom-14\" d=\"M 334.4,291.0 L 334.4,296.4 L 315.5,307.3 L 315.5,301.9 Z\" style=\"fill:#FFB5C1;fill-rule:evenodd;fill-opacity:1;stroke:#FFB5C1;stroke-width:0.0px;stroke-linecap:butt;stroke-linejoin:miter;stroke-opacity:1;\"/>\n",
       "<path class=\"bond-12 atom-14 atom-15\" d=\"M 334.4,291.0 L 354.5,302.6 L 352.1,306.6 L 334.4,296.4 Z\" style=\"fill:#FFB5C1;fill-rule:evenodd;fill-opacity:1;stroke:#FFB5C1;stroke-width:0.0px;stroke-linecap:butt;stroke-linejoin:miter;stroke-opacity:1;\"/>\n",
       "<ellipse cx=\"277.7\" cy=\"304.6\" rx=\"4.4\" ry=\"4.4\" class=\"atom-11\" style=\"fill:#FFB5C1;fill-rule:evenodd;stroke:#FFB5C1;stroke-width:1.0px;stroke-linecap:butt;stroke-linejoin:miter;stroke-opacity:1\"/>\n",
       "<ellipse cx=\"296.6\" cy=\"293.7\" rx=\"4.4\" ry=\"4.4\" class=\"atom-12\" style=\"fill:#FFB5C1;fill-rule:evenodd;stroke:#FFB5C1;stroke-width:1.0px;stroke-linecap:butt;stroke-linejoin:miter;stroke-opacity:1\"/>\n",
       "<ellipse cx=\"315.5\" cy=\"304.7\" rx=\"5.4\" ry=\"6.0\" class=\"atom-13\" style=\"fill:#FFB5C1;fill-rule:evenodd;stroke:#FFB5C1;stroke-width:1.0px;stroke-linecap:butt;stroke-linejoin:miter;stroke-opacity:1\"/>\n",
       "<ellipse cx=\"334.4\" cy=\"293.7\" rx=\"4.4\" ry=\"4.4\" class=\"atom-14\" style=\"fill:#FFB5C1;fill-rule:evenodd;stroke:#FFB5C1;stroke-width:1.0px;stroke-linecap:butt;stroke-linejoin:miter;stroke-opacity:1\"/>\n",
       "<ellipse cx=\"353.3\" cy=\"304.6\" rx=\"4.4\" ry=\"4.4\" class=\"atom-15\" style=\"fill:#FFB5C1;fill-rule:evenodd;stroke:#FFB5C1;stroke-width:1.0px;stroke-linecap:butt;stroke-linejoin:miter;stroke-opacity:1\"/>\n",
       "<path class=\"bond-9 atom-11 atom-12\" d=\"M 277.7,304.6 L 296.6,293.7\" style=\"fill:none;fill-rule:evenodd;stroke:#000000;stroke-width:2.0px;stroke-linecap:butt;stroke-linejoin:miter;stroke-opacity:1\"/>\n",
       "<path class=\"bond-10 atom-12 atom-13\" d=\"M 296.6,293.7 L 303.8,297.8\" style=\"fill:none;fill-rule:evenodd;stroke:#000000;stroke-width:2.0px;stroke-linecap:butt;stroke-linejoin:miter;stroke-opacity:1\"/>\n",
       "<path class=\"bond-10 atom-12 atom-13\" d=\"M 303.8,297.8 L 311.0,302.0\" style=\"fill:none;fill-rule:evenodd;stroke:#FF0000;stroke-width:2.0px;stroke-linecap:butt;stroke-linejoin:miter;stroke-opacity:1\"/>\n",
       "<path class=\"bond-11 atom-13 atom-14\" d=\"M 320.0,302.0 L 327.2,297.8\" style=\"fill:none;fill-rule:evenodd;stroke:#FF0000;stroke-width:2.0px;stroke-linecap:butt;stroke-linejoin:miter;stroke-opacity:1\"/>\n",
       "<path class=\"bond-11 atom-13 atom-14\" d=\"M 327.2,297.8 L 334.4,293.7\" style=\"fill:none;fill-rule:evenodd;stroke:#000000;stroke-width:2.0px;stroke-linecap:butt;stroke-linejoin:miter;stroke-opacity:1\"/>\n",
       "<path class=\"bond-12 atom-14 atom-15\" d=\"M 334.4,293.7 L 353.3,304.6\" style=\"fill:none;fill-rule:evenodd;stroke:#000000;stroke-width:2.0px;stroke-linecap:butt;stroke-linejoin:miter;stroke-opacity:1\"/>\n",
       "<path class=\"atom-2\" d=\"M 311.6 304.6 Q 311.6 302.6, 312.6 301.5 Q 313.6 300.3, 315.5 300.3 Q 317.4 300.3, 318.4 301.5 Q 319.4 302.6, 319.4 304.6 Q 319.4 306.7, 318.4 307.9 Q 317.4 309.0, 315.5 309.0 Q 313.6 309.0, 312.6 307.9 Q 311.6 306.7, 311.6 304.6 M 315.5 308.1 Q 316.8 308.1, 317.5 307.2 Q 318.2 306.3, 318.2 304.6 Q 318.2 303.0, 317.5 302.1 Q 316.8 301.3, 315.5 301.3 Q 314.2 301.3, 313.5 302.1 Q 312.8 303.0, 312.8 304.6 Q 312.8 306.4, 313.5 307.2 Q 314.2 308.1, 315.5 308.1 \" fill=\"#FF0000\"/>\n",
       "<path d=\"M 367.5,294.0 L 367.5,306.0\" style=\"fill:none;fill-rule:evenodd;stroke:#000000;stroke-width:2.0px;stroke-linecap:butt;stroke-linejoin:miter;stroke-opacity:1\"/>\n",
       "<path d=\"M 361.5,300.0 L 373.5,300.0\" style=\"fill:none;fill-rule:evenodd;stroke:#000000;stroke-width:2.0px;stroke-linecap:butt;stroke-linejoin:miter;stroke-opacity:1\"/>\n",
       "<path class=\"bond-13 atom-16 atom-17\" d=\"M 423.6,293.5 L 425.9,297.5 L 405.8,309.1 L 405.8,303.7 Z\" style=\"fill:#CCFFCC;fill-rule:evenodd;fill-opacity:1;stroke:#CCFFCC;stroke-width:0.0px;stroke-linecap:butt;stroke-linejoin:miter;stroke-opacity:1;\"/>\n",
       "<path class=\"bond-14 atom-17 atom-18\" d=\"M 388.1,293.5 L 405.8,303.7 L 405.8,309.1 L 385.8,297.5 Z\" style=\"fill:#CCFFCC;fill-rule:evenodd;fill-opacity:1;stroke:#CCFFCC;stroke-width:0.0px;stroke-linecap:butt;stroke-linejoin:miter;stroke-opacity:1;\"/>\n",
       "<ellipse cx=\"425.7\" cy=\"295.6\" rx=\"5.9\" ry=\"6.3\" class=\"atom-16\" style=\"fill:#CCFFCC;fill-rule:evenodd;stroke:#CCFFCC;stroke-width:1.0px;stroke-linecap:butt;stroke-linejoin:miter;stroke-opacity:1\"/>\n",
       "<ellipse cx=\"405.8\" cy=\"306.4\" rx=\"4.4\" ry=\"4.4\" class=\"atom-17\" style=\"fill:#CCFFCC;fill-rule:evenodd;stroke:#CCFFCC;stroke-width:1.0px;stroke-linecap:butt;stroke-linejoin:miter;stroke-opacity:1\"/>\n",
       "<ellipse cx=\"383.3\" cy=\"295.6\" rx=\"5.9\" ry=\"6.3\" class=\"atom-18\" style=\"fill:#CCFFCC;fill-rule:evenodd;stroke:#CCFFCC;stroke-width:1.0px;stroke-linecap:butt;stroke-linejoin:miter;stroke-opacity:1\"/>\n",
       "<path class=\"bond-13 atom-16 atom-17\" d=\"M 420.8,297.8 L 413.3,302.1\" style=\"fill:none;fill-rule:evenodd;stroke:#00CC00;stroke-width:2.0px;stroke-linecap:butt;stroke-linejoin:miter;stroke-opacity:1\"/>\n",
       "<path class=\"bond-13 atom-16 atom-17\" d=\"M 413.3,302.1 L 405.8,306.4\" style=\"fill:none;fill-rule:evenodd;stroke:#000000;stroke-width:2.0px;stroke-linecap:butt;stroke-linejoin:miter;stroke-opacity:1\"/>\n",
       "<path class=\"bond-14 atom-17 atom-18\" d=\"M 405.8,306.4 L 397.0,301.3\" style=\"fill:none;fill-rule:evenodd;stroke:#000000;stroke-width:2.0px;stroke-linecap:butt;stroke-linejoin:miter;stroke-opacity:1\"/>\n",
       "<path class=\"bond-14 atom-17 atom-18\" d=\"M 397.0,301.3 L 388.2,296.2\" style=\"fill:none;fill-rule:evenodd;stroke:#00CC00;stroke-width:2.0px;stroke-linecap:butt;stroke-linejoin:miter;stroke-opacity:1\"/>\n",
       "<path class=\"atom-0\" d=\"M 421.5 295.8 Q 421.5 293.7, 422.4 292.6 Q 423.4 291.5, 425.3 291.5 Q 427.1 291.5, 428.0 292.7 L 427.2 293.3 Q 426.5 292.4, 425.3 292.4 Q 424.0 292.4, 423.4 293.3 Q 422.7 294.2, 422.7 295.8 Q 422.7 297.5, 423.4 298.3 Q 424.1 299.2, 425.5 299.2 Q 426.4 299.2, 427.5 298.6 L 427.8 299.5 Q 427.4 299.8, 426.7 300.0 Q 426.0 300.2, 425.3 300.2 Q 423.4 300.2, 422.4 299.0 Q 421.5 297.9, 421.5 295.8 \" fill=\"#00CC00\"/>\n",
       "<path class=\"atom-0\" d=\"M 428.9 290.9 L 430.0 290.9 L 430.0 300.1 L 428.9 300.1 L 428.9 290.9 \" fill=\"#00CC00\"/>\n",
       "<path class=\"atom-2\" d=\"M 379.0 295.8 Q 379.0 293.7, 379.9 292.6 Q 380.9 291.5, 382.8 291.5 Q 384.6 291.5, 385.5 292.7 L 384.7 293.3 Q 384.0 292.4, 382.8 292.4 Q 381.5 292.4, 380.8 293.3 Q 380.2 294.2, 380.2 295.8 Q 380.2 297.5, 380.9 298.3 Q 381.6 299.2, 382.9 299.2 Q 383.9 299.2, 385.0 298.6 L 385.3 299.5 Q 384.9 299.8, 384.2 300.0 Q 383.5 300.2, 382.8 300.2 Q 380.9 300.2, 379.9 299.0 Q 379.0 297.9, 379.0 295.8 \" fill=\"#00CC00\"/>\n",
       "<path class=\"atom-2\" d=\"M 386.4 290.9 L 387.5 290.9 L 387.5 300.1 L 386.4 300.1 L 386.4 290.9 \" fill=\"#00CC00\"/>\n",
       "<path d=\"M 441.5,294.0 L 441.5,306.0\" style=\"fill:none;fill-rule:evenodd;stroke:#000000;stroke-width:2.0px;stroke-linecap:butt;stroke-linejoin:miter;stroke-opacity:1\"/>\n",
       "<path d=\"M 435.5,300.0 L 447.5,300.0\" style=\"fill:none;fill-rule:evenodd;stroke:#000000;stroke-width:2.0px;stroke-linecap:butt;stroke-linejoin:miter;stroke-opacity:1\"/>\n",
       "<path class=\"bond-15 atom-19 atom-20\" d=\"M 561.1,310.8 L 563.4,312.1 L 564.1,332.5 L 559.4,332.7 L 558.8,312.2 Z\" style=\"fill:#DDA0DD;fill-rule:evenodd;fill-opacity:1;stroke:#DDA0DD;stroke-width:0.0px;stroke-linecap:butt;stroke-linejoin:miter;stroke-opacity:1;\"/>\n",
       "<path class=\"bond-16 atom-20 atom-21\" d=\"M 544.1,299.1 L 561.0,308.1 L 561.1,310.8 L 558.8,312.2 L 541.9,303.2 L 541.8,300.5 Z\" style=\"fill:#DDA0DD;fill-rule:evenodd;fill-opacity:1;stroke:#DDA0DD;stroke-width:0.0px;stroke-linecap:butt;stroke-linejoin:miter;stroke-opacity:1;\"/>\n",
       "<path class=\"bond-25 atom-20 atom-30\" d=\"M 578.4,297.3 L 580.8,301.3 L 563.4,312.1 L 561.1,310.8 L 561.0,308.1 Z\" style=\"fill:#DDA0DD;fill-rule:evenodd;fill-opacity:1;stroke:#DDA0DD;stroke-width:0.0px;stroke-linecap:butt;stroke-linejoin:miter;stroke-opacity:1;\"/>\n",
       "<path class=\"bond-17 atom-21 atom-22\" d=\"M 539.5,299.2 L 541.8,300.5 L 541.9,303.2 L 523.4,314.7 L 523.2,309.3 Z\" style=\"fill:#DDA0DD;fill-rule:evenodd;fill-opacity:1;stroke:#DDA0DD;stroke-width:0.0px;stroke-linecap:butt;stroke-linejoin:miter;stroke-opacity:1;\"/>\n",
       "<path class=\"bond-26 atom-21 atom-28\" d=\"M 541.1,278.7 L 543.5,279.9 L 544.1,299.1 L 541.8,300.5 L 539.5,299.2 L 538.8,280.1 Z\" style=\"fill:#DDA0DD;fill-rule:evenodd;fill-opacity:1;stroke:#DDA0DD;stroke-width:0.0px;stroke-linecap:butt;stroke-linejoin:miter;stroke-opacity:1;\"/>\n",
       "<path class=\"bond-18 atom-22 atom-23\" d=\"M 506.3,300.3 L 523.2,309.3 L 523.4,314.7 L 504.1,304.4 L 504.0,301.7 Z\" style=\"fill:#DDA0DD;fill-rule:evenodd;fill-opacity:1;stroke:#DDA0DD;stroke-width:0.0px;stroke-linecap:butt;stroke-linejoin:miter;stroke-opacity:1;\"/>\n",
       "<path class=\"bond-19 atom-23 atom-24\" d=\"M 501.7,300.4 L 504.0,301.7 L 504.1,304.4 L 485.6,315.9 L 485.4,310.5 Z\" style=\"fill:#DDA0DD;fill-rule:evenodd;fill-opacity:1;stroke:#DDA0DD;stroke-width:0.0px;stroke-linecap:butt;stroke-linejoin:miter;stroke-opacity:1;\"/>\n",
       "<path class=\"bond-21 atom-23 atom-26\" d=\"M 501.0,278.6 L 505.7,281.1 L 506.3,300.3 L 504.0,301.7 L 501.7,300.4 Z\" style=\"fill:#DDA0DD;fill-rule:evenodd;fill-opacity:1;stroke:#DDA0DD;stroke-width:0.0px;stroke-linecap:butt;stroke-linejoin:miter;stroke-opacity:1;\"/>\n",
       "<path class=\"bond-20 atom-24 atom-25\" d=\"M 467.3,300.8 L 485.4,310.5 L 485.6,315.9 L 465.1,304.9 Z\" style=\"fill:#DDA0DD;fill-rule:evenodd;fill-opacity:1;stroke:#DDA0DD;stroke-width:0.0px;stroke-linecap:butt;stroke-linejoin:miter;stroke-opacity:1;\"/>\n",
       "<path class=\"bond-22 atom-26 atom-27\" d=\"M 521.8,265.7 L 522.0,271.0 L 505.7,281.1 L 501.0,278.6 Z\" style=\"fill:#DDA0DD;fill-rule:evenodd;fill-opacity:1;stroke:#DDA0DD;stroke-width:0.0px;stroke-linecap:butt;stroke-linejoin:miter;stroke-opacity:1;\"/>\n",
       "<path class=\"bond-23 atom-27 atom-28\" d=\"M 521.8,265.7 L 541.0,276.0 L 541.1,278.7 L 538.8,280.1 L 522.0,271.0 Z\" style=\"fill:#DDA0DD;fill-rule:evenodd;fill-opacity:1;stroke:#DDA0DD;stroke-width:0.0px;stroke-linecap:butt;stroke-linejoin:miter;stroke-opacity:1;\"/>\n",
       "<path class=\"bond-24 atom-28 atom-29\" d=\"M 558.5,265.2 L 560.9,269.1 L 543.5,279.9 L 541.1,278.7 L 541.0,276.0 Z\" style=\"fill:#DDA0DD;fill-rule:evenodd;fill-opacity:1;stroke:#DDA0DD;stroke-width:0.0px;stroke-linecap:butt;stroke-linejoin:miter;stroke-opacity:1;\"/>\n",
       "<ellipse cx=\"563.7\" cy=\"332.7\" rx=\"8.2\" ry=\"6.0\" class=\"atom-19\" style=\"fill:#DDA0DD;fill-rule:evenodd;stroke:#DDA0DD;stroke-width:1.0px;stroke-linecap:butt;stroke-linejoin:miter;stroke-opacity:1\"/>\n",
       "<ellipse cx=\"563.6\" cy=\"310.8\" rx=\"8.1\" ry=\"5.9\" class=\"atom-20\" style=\"fill:#DDA0DD;fill-rule:evenodd;stroke:#DDA0DD;stroke-width:1.0px;stroke-linecap:butt;stroke-linejoin:miter;stroke-opacity:1\"/>\n",
       "<ellipse cx=\"541.8\" cy=\"300.5\" rx=\"4.4\" ry=\"4.4\" class=\"atom-21\" style=\"fill:#DDA0DD;fill-rule:evenodd;stroke:#DDA0DD;stroke-width:1.0px;stroke-linecap:butt;stroke-linejoin:miter;stroke-opacity:1\"/>\n",
       "<ellipse cx=\"523.3\" cy=\"312.0\" rx=\"4.4\" ry=\"4.4\" class=\"atom-22\" style=\"fill:#DDA0DD;fill-rule:evenodd;stroke:#DDA0DD;stroke-width:1.0px;stroke-linecap:butt;stroke-linejoin:miter;stroke-opacity:1\"/>\n",
       "<ellipse cx=\"504.0\" cy=\"301.7\" rx=\"4.4\" ry=\"4.4\" class=\"atom-23\" style=\"fill:#DDA0DD;fill-rule:evenodd;stroke:#DDA0DD;stroke-width:1.0px;stroke-linecap:butt;stroke-linejoin:miter;stroke-opacity:1\"/>\n",
       "<ellipse cx=\"485.5\" cy=\"313.2\" rx=\"4.4\" ry=\"4.4\" class=\"atom-24\" style=\"fill:#DDA0DD;fill-rule:evenodd;stroke:#DDA0DD;stroke-width:1.0px;stroke-linecap:butt;stroke-linejoin:miter;stroke-opacity:1\"/>\n",
       "<ellipse cx=\"462.2\" cy=\"302.9\" rx=\"11.1\" ry=\"6.0\" class=\"atom-25\" style=\"fill:#DDA0DD;fill-rule:evenodd;stroke:#DDA0DD;stroke-width:1.0px;stroke-linecap:butt;stroke-linejoin:miter;stroke-opacity:1\"/>\n",
       "<ellipse cx=\"503.3\" cy=\"279.9\" rx=\"4.4\" ry=\"4.4\" class=\"atom-26\" style=\"fill:#DDA0DD;fill-rule:evenodd;stroke:#DDA0DD;stroke-width:1.0px;stroke-linecap:butt;stroke-linejoin:miter;stroke-opacity:1\"/>\n",
       "<ellipse cx=\"521.9\" cy=\"268.3\" rx=\"4.4\" ry=\"4.4\" class=\"atom-27\" style=\"fill:#DDA0DD;fill-rule:evenodd;stroke:#DDA0DD;stroke-width:1.0px;stroke-linecap:butt;stroke-linejoin:miter;stroke-opacity:1\"/>\n",
       "<ellipse cx=\"541.1\" cy=\"278.7\" rx=\"4.4\" ry=\"4.4\" class=\"atom-28\" style=\"fill:#DDA0DD;fill-rule:evenodd;stroke:#DDA0DD;stroke-width:1.0px;stroke-linecap:butt;stroke-linejoin:miter;stroke-opacity:1\"/>\n",
       "<ellipse cx=\"559.7\" cy=\"267.2\" rx=\"4.4\" ry=\"5.8\" class=\"atom-29\" style=\"fill:#DDA0DD;fill-rule:evenodd;stroke:#DDA0DD;stroke-width:1.0px;stroke-linecap:butt;stroke-linejoin:miter;stroke-opacity:1\"/>\n",
       "<ellipse cx=\"579.6\" cy=\"299.4\" rx=\"5.4\" ry=\"6.0\" class=\"atom-30\" style=\"fill:#DDA0DD;fill-rule:evenodd;stroke:#DDA0DD;stroke-width:1.0px;stroke-linecap:butt;stroke-linejoin:miter;stroke-opacity:1\"/>\n",
       "<path class=\"bond-15 atom-19 atom-20\" d=\"M 561.6,327.7 L 561.4,321.7\" style=\"fill:none;fill-rule:evenodd;stroke:#FF0000;stroke-width:2.0px;stroke-linecap:butt;stroke-linejoin:miter;stroke-opacity:1\"/>\n",
       "<path class=\"bond-15 atom-19 atom-20\" d=\"M 561.4,321.7 L 561.2,315.7\" style=\"fill:none;fill-rule:evenodd;stroke:#0000FF;stroke-width:2.0px;stroke-linecap:butt;stroke-linejoin:miter;stroke-opacity:1\"/>\n",
       "<path class=\"bond-16 atom-20 atom-21\" d=\"M 557.2,308.7 L 549.5,304.6\" style=\"fill:none;fill-rule:evenodd;stroke:#0000FF;stroke-width:2.0px;stroke-linecap:butt;stroke-linejoin:miter;stroke-opacity:1\"/>\n",
       "<path class=\"bond-16 atom-20 atom-21\" d=\"M 549.5,304.6 L 541.8,300.5\" style=\"fill:none;fill-rule:evenodd;stroke:#000000;stroke-width:2.0px;stroke-linecap:butt;stroke-linejoin:miter;stroke-opacity:1\"/>\n",
       "<path class=\"bond-17 atom-21 atom-22\" d=\"M 541.8,300.5 L 523.3,312.0\" style=\"fill:none;fill-rule:evenodd;stroke:#000000;stroke-width:2.0px;stroke-linecap:butt;stroke-linejoin:miter;stroke-opacity:1\"/>\n",
       "<path class=\"bond-17 atom-21 atom-22\" d=\"M 538.5,298.7 L 523.1,308.2\" style=\"fill:none;fill-rule:evenodd;stroke:#000000;stroke-width:2.0px;stroke-linecap:butt;stroke-linejoin:miter;stroke-opacity:1\"/>\n",
       "<path class=\"bond-18 atom-22 atom-23\" d=\"M 523.3,312.0 L 504.0,301.7\" style=\"fill:none;fill-rule:evenodd;stroke:#000000;stroke-width:2.0px;stroke-linecap:butt;stroke-linejoin:miter;stroke-opacity:1\"/>\n",
       "<path class=\"bond-19 atom-23 atom-24\" d=\"M 504.0,301.7 L 485.5,313.2\" style=\"fill:none;fill-rule:evenodd;stroke:#000000;stroke-width:2.0px;stroke-linecap:butt;stroke-linejoin:miter;stroke-opacity:1\"/>\n",
       "<path class=\"bond-20 atom-24 atom-25\" d=\"M 485.5,313.2 L 478.1,309.2\" style=\"fill:none;fill-rule:evenodd;stroke:#000000;stroke-width:2.0px;stroke-linecap:butt;stroke-linejoin:miter;stroke-opacity:1\"/>\n",
       "<path class=\"bond-20 atom-24 atom-25\" d=\"M 478.1,309.2 L 470.7,305.3\" style=\"fill:none;fill-rule:evenodd;stroke:#FF0000;stroke-width:2.0px;stroke-linecap:butt;stroke-linejoin:miter;stroke-opacity:1\"/>\n",
       "<path class=\"bond-21 atom-23 atom-26\" d=\"M 504.0,301.7 L 503.3,279.9\" style=\"fill:none;fill-rule:evenodd;stroke:#000000;stroke-width:2.0px;stroke-linecap:butt;stroke-linejoin:miter;stroke-opacity:1\"/>\n",
       "<path class=\"bond-21 atom-23 atom-26\" d=\"M 507.2,299.7 L 506.7,281.6\" style=\"fill:none;fill-rule:evenodd;stroke:#000000;stroke-width:2.0px;stroke-linecap:butt;stroke-linejoin:miter;stroke-opacity:1\"/>\n",
       "<path class=\"bond-22 atom-26 atom-27\" d=\"M 503.3,279.9 L 521.9,268.3\" style=\"fill:none;fill-rule:evenodd;stroke:#000000;stroke-width:2.0px;stroke-linecap:butt;stroke-linejoin:miter;stroke-opacity:1\"/>\n",
       "<path class=\"bond-23 atom-27 atom-28\" d=\"M 521.9,268.3 L 541.1,278.7\" style=\"fill:none;fill-rule:evenodd;stroke:#000000;stroke-width:2.0px;stroke-linecap:butt;stroke-linejoin:miter;stroke-opacity:1\"/>\n",
       "<path class=\"bond-23 atom-27 atom-28\" d=\"M 522.0,272.1 L 537.9,280.7\" style=\"fill:none;fill-rule:evenodd;stroke:#000000;stroke-width:2.0px;stroke-linecap:butt;stroke-linejoin:miter;stroke-opacity:1\"/>\n",
       "<path class=\"bond-24 atom-28 atom-29\" d=\"M 541.1,278.7 L 548.8,273.9\" style=\"fill:none;fill-rule:evenodd;stroke:#000000;stroke-width:2.0px;stroke-linecap:butt;stroke-linejoin:miter;stroke-opacity:1\"/>\n",
       "<path class=\"bond-24 atom-28 atom-29\" d=\"M 548.8,273.9 L 556.5,269.1\" style=\"fill:none;fill-rule:evenodd;stroke:#33CCCC;stroke-width:2.0px;stroke-linecap:butt;stroke-linejoin:miter;stroke-opacity:1\"/>\n",
       "<path class=\"bond-25 atom-20 atom-30\" d=\"M 569.8,307.3 L 572.9,305.4\" style=\"fill:none;fill-rule:evenodd;stroke:#0000FF;stroke-width:2.0px;stroke-linecap:butt;stroke-linejoin:miter;stroke-opacity:1\"/>\n",
       "<path class=\"bond-25 atom-20 atom-30\" d=\"M 572.9,305.4 L 576.0,303.5\" style=\"fill:none;fill-rule:evenodd;stroke:#FF0000;stroke-width:2.0px;stroke-linecap:butt;stroke-linejoin:miter;stroke-opacity:1\"/>\n",
       "<path class=\"bond-25 atom-20 atom-30\" d=\"M 568.1,304.5 L 571.2,302.6\" style=\"fill:none;fill-rule:evenodd;stroke:#0000FF;stroke-width:2.0px;stroke-linecap:butt;stroke-linejoin:miter;stroke-opacity:1\"/>\n",
       "<path class=\"bond-25 atom-20 atom-30\" d=\"M 571.2,302.6 L 574.2,300.7\" style=\"fill:none;fill-rule:evenodd;stroke:#FF0000;stroke-width:2.0px;stroke-linecap:butt;stroke-linejoin:miter;stroke-opacity:1\"/>\n",
       "<path class=\"bond-26 atom-28 atom-21\" d=\"M 541.1,278.7 L 541.8,300.5\" style=\"fill:none;fill-rule:evenodd;stroke:#000000;stroke-width:2.0px;stroke-linecap:butt;stroke-linejoin:miter;stroke-opacity:1\"/>\n",
       "<path class=\"atom-0\" d=\"M 557.8 332.6 Q 557.8 330.6, 558.9 329.5 Q 559.9 328.3, 561.7 328.3 Q 563.6 328.3, 564.6 329.5 Q 565.6 330.6, 565.6 332.6 Q 565.6 334.7, 564.6 335.9 Q 563.6 337.0, 561.7 337.0 Q 559.9 337.0, 558.9 335.9 Q 557.8 334.7, 557.8 332.6 M 561.7 336.1 Q 563.0 336.1, 563.7 335.2 Q 564.4 334.3, 564.4 332.6 Q 564.4 331.0, 563.7 330.1 Q 563.0 329.3, 561.7 329.3 Q 560.5 329.3, 559.7 330.1 Q 559.0 331.0, 559.0 332.6 Q 559.0 334.4, 559.7 335.2 Q 560.5 336.1, 561.7 336.1 \" fill=\"#FF0000\"/>\n",
       "<path class=\"atom-0\" d=\"M 566.9 329.7 L 569.8 329.7 L 569.8 330.3 L 566.9 330.3 L 566.9 329.7 \" fill=\"#FF0000\"/>\n",
       "<path class=\"atom-1\" d=\"M 559.2 306.6 L 562.0 311.1 Q 562.2 311.5, 562.7 312.3 Q 563.1 313.1, 563.2 313.2 L 563.2 306.6 L 564.3 306.6 L 564.3 315.0 L 563.1 315.0 L 560.1 310.1 Q 559.8 309.6, 559.4 308.9 Q 559.1 308.2, 558.9 308.0 L 558.9 315.0 L 557.8 315.0 L 557.8 306.6 L 559.2 306.6 \" fill=\"#0000FF\"/>\n",
       "<path class=\"atom-1\" d=\"M 565.9 308.1 L 567.4 308.1 L 567.4 306.5 L 568.0 306.5 L 568.0 308.1 L 569.6 308.1 L 569.6 308.7 L 568.0 308.7 L 568.0 310.2 L 567.4 310.2 L 567.4 308.7 L 565.9 308.7 L 565.9 308.1 \" fill=\"#0000FF\"/>\n",
       "<path class=\"atom-6\" d=\"M 453.9 298.7 L 455.1 298.7 L 455.1 302.3 L 459.4 302.3 L 459.4 298.7 L 460.6 298.7 L 460.6 307.2 L 459.4 307.2 L 459.4 303.2 L 455.1 303.2 L 455.1 307.2 L 453.9 307.2 L 453.9 298.7 \" fill=\"#FF0000\"/>\n",
       "<path class=\"atom-6\" d=\"M 462.3 302.9 Q 462.3 300.8, 463.3 299.7 Q 464.3 298.6, 466.2 298.6 Q 468.1 298.6, 469.1 299.7 Q 470.1 300.8, 470.1 302.9 Q 470.1 305.0, 469.1 306.1 Q 468.1 307.3, 466.2 307.3 Q 464.4 307.3, 463.3 306.1 Q 462.3 305.0, 462.3 302.9 M 466.2 306.3 Q 467.5 306.3, 468.2 305.5 Q 468.9 304.6, 468.9 302.9 Q 468.9 301.2, 468.2 300.4 Q 467.5 299.5, 466.2 299.5 Q 464.9 299.5, 464.2 300.4 Q 463.5 301.2, 463.5 302.9 Q 463.5 304.6, 464.2 305.5 Q 464.9 306.3, 466.2 306.3 \" fill=\"#FF0000\"/>\n",
       "<path class=\"atom-10\" d=\"M 557.2 262.9 L 562.2 262.9 L 562.2 263.9 L 558.3 263.9 L 558.3 266.5 L 561.8 266.5 L 561.8 267.4 L 558.3 267.4 L 558.3 271.4 L 557.2 271.4 L 557.2 262.9 \" fill=\"#33CCCC\"/>\n",
       "<path class=\"atom-11\" d=\"M 575.7 299.3 Q 575.7 297.3, 576.7 296.1 Q 577.7 295.0, 579.6 295.0 Q 581.5 295.0, 582.5 296.1 Q 583.5 297.3, 583.5 299.3 Q 583.5 301.4, 582.5 302.6 Q 581.5 303.7, 579.6 303.7 Q 577.7 303.7, 576.7 302.6 Q 575.7 301.4, 575.7 299.3 M 579.6 302.8 Q 580.9 302.8, 581.6 301.9 Q 582.3 301.0, 582.3 299.3 Q 582.3 297.7, 581.6 296.8 Q 580.9 296.0, 579.6 296.0 Q 578.3 296.0, 577.6 296.8 Q 576.9 297.6, 576.9 299.3 Q 576.9 301.0, 577.6 301.9 Q 578.3 302.8, 579.6 302.8 \" fill=\"#FF0000\"/>\n",
       "<path d=\"M 594.5,294.0 L 594.5,306.0\" style=\"fill:none;fill-rule:evenodd;stroke:#000000;stroke-width:2.0px;stroke-linecap:butt;stroke-linejoin:miter;stroke-opacity:1\"/>\n",
       "<path d=\"M 588.5,300.0 L 600.5,300.0\" style=\"fill:none;fill-rule:evenodd;stroke:#000000;stroke-width:2.0px;stroke-linecap:butt;stroke-linejoin:miter;stroke-opacity:1\"/>\n",
       "<path class=\"bond-27 atom-31 atom-32\" d=\"M 626.2,304.0 L 628.5,305.4 L 628.5,308.1 L 610.8,318.3 L 608.4,314.3 Z\" style=\"fill:#C1EFF4;fill-rule:evenodd;fill-opacity:1;stroke:#C1EFF4;stroke-width:0.0px;stroke-linecap:butt;stroke-linejoin:miter;stroke-opacity:1;\"/>\n",
       "<path class=\"bond-28 atom-32 atom-33\" d=\"M 630.8,304.0 L 648.6,314.3 L 646.2,318.3 L 628.5,308.1 L 628.5,305.4 Z\" style=\"fill:#C1EFF4;fill-rule:evenodd;fill-opacity:1;stroke:#C1EFF4;stroke-width:0.0px;stroke-linecap:butt;stroke-linejoin:miter;stroke-opacity:1;\"/>\n",
       "<path class=\"bond-29 atom-32 atom-34\" d=\"M 626.2,283.6 L 630.8,283.6 L 630.8,304.0 L 628.5,305.4 L 626.2,304.0 Z\" style=\"fill:#C1EFF4;fill-rule:evenodd;fill-opacity:1;stroke:#C1EFF4;stroke-width:0.0px;stroke-linecap:butt;stroke-linejoin:miter;stroke-opacity:1;\"/>\n",
       "<ellipse cx=\"609.6\" cy=\"316.4\" rx=\"5.4\" ry=\"6.0\" class=\"atom-31\" style=\"fill:#C1EFF4;fill-rule:evenodd;stroke:#C1EFF4;stroke-width:1.0px;stroke-linecap:butt;stroke-linejoin:miter;stroke-opacity:1\"/>\n",
       "<ellipse cx=\"628.5\" cy=\"305.5\" rx=\"4.4\" ry=\"6.0\" class=\"atom-32\" style=\"fill:#C1EFF4;fill-rule:evenodd;stroke:#C1EFF4;stroke-width:1.0px;stroke-linecap:butt;stroke-linejoin:miter;stroke-opacity:1\"/>\n",
       "<ellipse cx=\"647.4\" cy=\"316.4\" rx=\"5.4\" ry=\"6.0\" class=\"atom-33\" style=\"fill:#C1EFF4;fill-rule:evenodd;stroke:#C1EFF4;stroke-width:1.0px;stroke-linecap:butt;stroke-linejoin:miter;stroke-opacity:1\"/>\n",
       "<ellipse cx=\"628.5\" cy=\"283.6\" rx=\"5.4\" ry=\"6.0\" class=\"atom-34\" style=\"fill:#C1EFF4;fill-rule:evenodd;stroke:#C1EFF4;stroke-width:1.0px;stroke-linecap:butt;stroke-linejoin:miter;stroke-opacity:1\"/>\n",
       "<path class=\"bond-27 atom-31 atom-32\" d=\"M 613.3,312.3 L 618.8,309.1\" style=\"fill:none;fill-rule:evenodd;stroke:#FF0000;stroke-width:2.0px;stroke-linecap:butt;stroke-linejoin:miter;stroke-opacity:1\"/>\n",
       "<path class=\"bond-27 atom-31 atom-32\" d=\"M 618.8,309.1 L 624.3,305.9\" style=\"fill:none;fill-rule:evenodd;stroke:#CCCC00;stroke-width:2.0px;stroke-linecap:butt;stroke-linejoin:miter;stroke-opacity:1\"/>\n",
       "<path class=\"bond-27 atom-31 atom-32\" d=\"M 614.9,315.1 L 620.4,311.9\" style=\"fill:none;fill-rule:evenodd;stroke:#FF0000;stroke-width:2.0px;stroke-linecap:butt;stroke-linejoin:miter;stroke-opacity:1\"/>\n",
       "<path class=\"bond-27 atom-31 atom-32\" d=\"M 620.4,311.9 L 625.9,308.8\" style=\"fill:none;fill-rule:evenodd;stroke:#CCCC00;stroke-width:2.0px;stroke-linecap:butt;stroke-linejoin:miter;stroke-opacity:1\"/>\n",
       "<path class=\"bond-28 atom-32 atom-33\" d=\"M 631.1,308.8 L 636.6,311.9\" style=\"fill:none;fill-rule:evenodd;stroke:#CCCC00;stroke-width:2.0px;stroke-linecap:butt;stroke-linejoin:miter;stroke-opacity:1\"/>\n",
       "<path class=\"bond-28 atom-32 atom-33\" d=\"M 636.6,311.9 L 642.1,315.1\" style=\"fill:none;fill-rule:evenodd;stroke:#FF0000;stroke-width:2.0px;stroke-linecap:butt;stroke-linejoin:miter;stroke-opacity:1\"/>\n",
       "<path class=\"bond-28 atom-32 atom-33\" d=\"M 632.7,305.9 L 638.2,309.1\" style=\"fill:none;fill-rule:evenodd;stroke:#CCCC00;stroke-width:2.0px;stroke-linecap:butt;stroke-linejoin:miter;stroke-opacity:1\"/>\n",
       "<path class=\"bond-28 atom-32 atom-33\" d=\"M 638.2,309.1 L 643.7,312.3\" style=\"fill:none;fill-rule:evenodd;stroke:#FF0000;stroke-width:2.0px;stroke-linecap:butt;stroke-linejoin:miter;stroke-opacity:1\"/>\n",
       "<path class=\"bond-29 atom-32 atom-34\" d=\"M 630.1,300.6 L 630.1,294.6\" style=\"fill:none;fill-rule:evenodd;stroke:#CCCC00;stroke-width:2.0px;stroke-linecap:butt;stroke-linejoin:miter;stroke-opacity:1\"/>\n",
       "<path class=\"bond-29 atom-32 atom-34\" d=\"M 630.1,294.6 L 630.1,288.6\" style=\"fill:none;fill-rule:evenodd;stroke:#FF0000;stroke-width:2.0px;stroke-linecap:butt;stroke-linejoin:miter;stroke-opacity:1\"/>\n",
       "<path class=\"bond-29 atom-32 atom-34\" d=\"M 626.9,300.6 L 626.9,294.6\" style=\"fill:none;fill-rule:evenodd;stroke:#CCCC00;stroke-width:2.0px;stroke-linecap:butt;stroke-linejoin:miter;stroke-opacity:1\"/>\n",
       "<path class=\"bond-29 atom-32 atom-34\" d=\"M 626.9,294.6 L 626.9,288.6\" style=\"fill:none;fill-rule:evenodd;stroke:#FF0000;stroke-width:2.0px;stroke-linecap:butt;stroke-linejoin:miter;stroke-opacity:1\"/>\n",
       "<path class=\"atom-0\" d=\"M 605.7 316.3 Q 605.7 314.3, 606.7 313.2 Q 607.7 312.0, 609.6 312.0 Q 611.5 312.0, 612.5 313.2 Q 613.5 314.3, 613.5 316.3 Q 613.5 318.4, 612.5 319.6 Q 611.5 320.7, 609.6 320.7 Q 607.7 320.7, 606.7 319.6 Q 605.7 318.4, 605.7 316.3 M 609.6 319.8 Q 610.9 319.8, 611.6 318.9 Q 612.3 318.0, 612.3 316.3 Q 612.3 314.7, 611.6 313.8 Q 610.9 313.0, 609.6 313.0 Q 608.3 313.0, 607.6 313.8 Q 606.9 314.7, 606.9 316.3 Q 606.9 318.0, 607.6 318.9 Q 608.3 319.8, 609.6 319.8 \" fill=\"#FF0000\"/>\n",
       "<path class=\"atom-1\" d=\"M 626.1 308.3 Q 626.2 308.3, 626.6 308.5 Q 627.0 308.7, 627.4 308.8 Q 627.9 308.9, 628.3 308.9 Q 629.1 308.9, 629.6 308.5 Q 630.0 308.1, 630.0 307.4 Q 630.0 307.0, 629.8 306.7 Q 629.6 306.4, 629.2 306.2 Q 628.8 306.1, 628.2 305.9 Q 627.5 305.7, 627.0 305.4 Q 626.6 305.2, 626.3 304.8 Q 626.0 304.3, 626.0 303.5 Q 626.0 302.5, 626.7 301.8 Q 627.4 301.2, 628.8 301.2 Q 629.8 301.2, 630.9 301.6 L 630.7 302.5 Q 629.7 302.1, 628.9 302.1 Q 628.1 302.1, 627.6 302.5 Q 627.1 302.8, 627.2 303.4 Q 627.2 303.9, 627.4 304.1 Q 627.6 304.4, 628.0 304.6 Q 628.3 304.7, 628.9 304.9 Q 629.7 305.1, 630.1 305.4 Q 630.6 305.6, 630.9 306.1 Q 631.2 306.6, 631.2 307.4 Q 631.2 308.6, 630.4 309.2 Q 629.7 309.9, 628.3 309.9 Q 627.6 309.9, 627.0 309.7 Q 626.4 309.5, 625.8 309.3 L 626.1 308.3 \" fill=\"#CCCC00\"/>\n",
       "<path class=\"atom-2\" d=\"M 643.5 316.3 Q 643.5 314.3, 644.5 313.2 Q 645.5 312.0, 647.4 312.0 Q 649.3 312.0, 650.3 313.2 Q 651.3 314.3, 651.3 316.3 Q 651.3 318.4, 650.3 319.6 Q 649.3 320.7, 647.4 320.7 Q 645.5 320.7, 644.5 319.6 Q 643.5 318.4, 643.5 316.3 M 647.4 319.8 Q 648.7 319.8, 649.4 318.9 Q 650.1 318.0, 650.1 316.3 Q 650.1 314.7, 649.4 313.8 Q 648.7 313.0, 647.4 313.0 Q 646.1 313.0, 645.4 313.8 Q 644.7 314.7, 644.7 316.3 Q 644.7 318.0, 645.4 318.9 Q 646.1 319.8, 647.4 319.8 \" fill=\"#FF0000\"/>\n",
       "<path class=\"atom-3\" d=\"M 624.6 283.6 Q 624.6 281.5, 625.6 280.4 Q 626.6 279.3, 628.5 279.3 Q 630.4 279.3, 631.4 280.4 Q 632.4 281.5, 632.4 283.6 Q 632.4 285.7, 631.4 286.8 Q 630.4 288.0, 628.5 288.0 Q 626.6 288.0, 625.6 286.8 Q 624.6 285.7, 624.6 283.6 M 628.5 287.0 Q 629.8 287.0, 630.5 286.2 Q 631.2 285.3, 631.2 283.6 Q 631.2 281.9, 630.5 281.1 Q 629.8 280.2, 628.5 280.2 Q 627.2 280.2, 626.5 281.1 Q 625.8 281.9, 625.8 283.6 Q 625.8 285.3, 626.5 286.2 Q 627.2 287.0, 628.5 287.0 \" fill=\"#FF0000\"/>\n",
       "<path d=\"M 662.5,294.0 L 662.5,306.0\" style=\"fill:none;fill-rule:evenodd;stroke:#000000;stroke-width:2.0px;stroke-linecap:butt;stroke-linejoin:miter;stroke-opacity:1\"/>\n",
       "<path d=\"M 656.5,300.0 L 668.5,300.0\" style=\"fill:none;fill-rule:evenodd;stroke:#000000;stroke-width:2.0px;stroke-linecap:butt;stroke-linejoin:miter;stroke-opacity:1\"/>\n",
       "<path class=\"bond-30 atom-35 atom-36\" d=\"M 717.6,300.7 L 723.0,300.7 L 710.8,322.0 L 708.1,317.3 Z\" style=\"fill:#AAAAFF;fill-rule:evenodd;fill-opacity:1;stroke:#AAAAFF;stroke-width:0.0px;stroke-linecap:butt;stroke-linejoin:miter;stroke-opacity:1;\"/>\n",
       "<path class=\"bond-35 atom-35 atom-40\" d=\"M 710.8,279.5 L 723.0,300.7 L 717.6,300.7 L 708.1,284.2 Z\" style=\"fill:#AAAAFF;fill-rule:evenodd;fill-opacity:1;stroke:#AAAAFF;stroke-width:0.0px;stroke-linecap:butt;stroke-linejoin:miter;stroke-opacity:1;\"/>\n",
       "<path class=\"bond-31 atom-36 atom-37\" d=\"M 688.9,317.3 L 708.1,317.3 L 710.8,322.0 L 686.2,322.0 Z\" style=\"fill:#AAAAFF;fill-rule:evenodd;fill-opacity:1;stroke:#AAAAFF;stroke-width:0.0px;stroke-linecap:butt;stroke-linejoin:miter;stroke-opacity:1;\"/>\n",
       "<path class=\"bond-32 atom-37 atom-38\" d=\"M 674.0,300.7 L 679.4,300.7 L 688.9,317.3 L 686.2,322.0 Z\" style=\"fill:#AAAAFF;fill-rule:evenodd;fill-opacity:1;stroke:#AAAAFF;stroke-width:0.0px;stroke-linecap:butt;stroke-linejoin:miter;stroke-opacity:1;\"/>\n",
       "<path class=\"bond-33 atom-38 atom-39\" d=\"M 686.2,279.5 L 688.9,284.2 L 679.4,300.7 L 674.0,300.7 Z\" style=\"fill:#AAAAFF;fill-rule:evenodd;fill-opacity:1;stroke:#AAAAFF;stroke-width:0.0px;stroke-linecap:butt;stroke-linejoin:miter;stroke-opacity:1;\"/>\n",
       "<path class=\"bond-34 atom-39 atom-40\" d=\"M 686.2,279.5 L 710.8,279.5 L 708.1,284.2 L 688.9,284.2 Z\" style=\"fill:#AAAAFF;fill-rule:evenodd;fill-opacity:1;stroke:#AAAAFF;stroke-width:0.0px;stroke-linecap:butt;stroke-linejoin:miter;stroke-opacity:1;\"/>\n",
       "<ellipse cx=\"720.3\" cy=\"300.7\" rx=\"4.4\" ry=\"4.4\" class=\"atom-35\" style=\"fill:#AAAAFF;fill-rule:evenodd;stroke:#AAAAFF;stroke-width:1.0px;stroke-linecap:butt;stroke-linejoin:miter;stroke-opacity:1\"/>\n",
       "<ellipse cx=\"709.4\" cy=\"319.6\" rx=\"4.4\" ry=\"4.4\" class=\"atom-36\" style=\"fill:#AAAAFF;fill-rule:evenodd;stroke:#AAAAFF;stroke-width:1.0px;stroke-linecap:butt;stroke-linejoin:miter;stroke-opacity:1\"/>\n",
       "<ellipse cx=\"687.6\" cy=\"319.6\" rx=\"4.4\" ry=\"4.4\" class=\"atom-37\" style=\"fill:#AAAAFF;fill-rule:evenodd;stroke:#AAAAFF;stroke-width:1.0px;stroke-linecap:butt;stroke-linejoin:miter;stroke-opacity:1\"/>\n",
       "<ellipse cx=\"676.7\" cy=\"300.7\" rx=\"4.4\" ry=\"4.4\" class=\"atom-38\" style=\"fill:#AAAAFF;fill-rule:evenodd;stroke:#AAAAFF;stroke-width:1.0px;stroke-linecap:butt;stroke-linejoin:miter;stroke-opacity:1\"/>\n",
       "<ellipse cx=\"687.6\" cy=\"281.8\" rx=\"4.4\" ry=\"4.4\" class=\"atom-39\" style=\"fill:#AAAAFF;fill-rule:evenodd;stroke:#AAAAFF;stroke-width:1.0px;stroke-linecap:butt;stroke-linejoin:miter;stroke-opacity:1\"/>\n",
       "<ellipse cx=\"709.4\" cy=\"281.8\" rx=\"4.4\" ry=\"5.8\" class=\"atom-40\" style=\"fill:#AAAAFF;fill-rule:evenodd;stroke:#AAAAFF;stroke-width:1.0px;stroke-linecap:butt;stroke-linejoin:miter;stroke-opacity:1\"/>\n",
       "<path class=\"bond-30 atom-35 atom-36\" d=\"M 720.3,300.7 L 709.4,319.6\" style=\"fill:none;fill-rule:evenodd;stroke:#000000;stroke-width:2.0px;stroke-linecap:butt;stroke-linejoin:miter;stroke-opacity:1\"/>\n",
       "<path class=\"bond-30 atom-35 atom-36\" d=\"M 716.5,300.7 L 707.5,316.4\" style=\"fill:none;fill-rule:evenodd;stroke:#000000;stroke-width:2.0px;stroke-linecap:butt;stroke-linejoin:miter;stroke-opacity:1\"/>\n",
       "<path class=\"bond-31 atom-36 atom-37\" d=\"M 709.4,319.6 L 687.6,319.6\" style=\"fill:none;fill-rule:evenodd;stroke:#000000;stroke-width:2.0px;stroke-linecap:butt;stroke-linejoin:miter;stroke-opacity:1\"/>\n",
       "<path class=\"bond-32 atom-37 atom-38\" d=\"M 687.6,319.6 L 676.7,300.7\" style=\"fill:none;fill-rule:evenodd;stroke:#000000;stroke-width:2.0px;stroke-linecap:butt;stroke-linejoin:miter;stroke-opacity:1\"/>\n",
       "<path class=\"bond-32 atom-37 atom-38\" d=\"M 689.5,316.4 L 680.5,300.7\" style=\"fill:none;fill-rule:evenodd;stroke:#000000;stroke-width:2.0px;stroke-linecap:butt;stroke-linejoin:miter;stroke-opacity:1\"/>\n",
       "<path class=\"bond-33 atom-38 atom-39\" d=\"M 676.7,300.7 L 687.6,281.8\" style=\"fill:none;fill-rule:evenodd;stroke:#000000;stroke-width:2.0px;stroke-linecap:butt;stroke-linejoin:miter;stroke-opacity:1\"/>\n",
       "<path class=\"bond-34 atom-39 atom-40\" d=\"M 687.6,281.8 L 696.6,281.8\" style=\"fill:none;fill-rule:evenodd;stroke:#000000;stroke-width:2.0px;stroke-linecap:butt;stroke-linejoin:miter;stroke-opacity:1\"/>\n",
       "<path class=\"bond-34 atom-39 atom-40\" d=\"M 696.6,281.8 L 705.6,281.8\" style=\"fill:none;fill-rule:evenodd;stroke:#0000FF;stroke-width:2.0px;stroke-linecap:butt;stroke-linejoin:miter;stroke-opacity:1\"/>\n",
       "<path class=\"bond-34 atom-39 atom-40\" d=\"M 689.5,285.1 L 697.5,285.1\" style=\"fill:none;fill-rule:evenodd;stroke:#000000;stroke-width:2.0px;stroke-linecap:butt;stroke-linejoin:miter;stroke-opacity:1\"/>\n",
       "<path class=\"bond-34 atom-39 atom-40\" d=\"M 697.5,285.1 L 705.6,285.1\" style=\"fill:none;fill-rule:evenodd;stroke:#0000FF;stroke-width:2.0px;stroke-linecap:butt;stroke-linejoin:miter;stroke-opacity:1\"/>\n",
       "<path class=\"bond-35 atom-40 atom-35\" d=\"M 712.2,286.7 L 716.3,293.7\" style=\"fill:none;fill-rule:evenodd;stroke:#0000FF;stroke-width:2.0px;stroke-linecap:butt;stroke-linejoin:miter;stroke-opacity:1\"/>\n",
       "<path class=\"bond-35 atom-40 atom-35\" d=\"M 716.3,293.7 L 720.3,300.7\" style=\"fill:none;fill-rule:evenodd;stroke:#000000;stroke-width:2.0px;stroke-linecap:butt;stroke-linejoin:miter;stroke-opacity:1\"/>\n",
       "<path class=\"atom-5\" d=\"M 707.5 277.6 L 710.3 282.1 Q 710.6 282.5, 711.0 283.3 Q 711.5 284.1, 711.5 284.2 L 711.5 277.6 L 712.6 277.6 L 712.6 286.1 L 711.5 286.1 L 708.5 281.2 Q 708.1 280.6, 707.8 279.9 Q 707.4 279.3, 707.3 279.1 L 707.3 286.1 L 706.2 286.1 L 706.2 277.6 L 707.5 277.6 \" fill=\"#0000FF\"/>\n",
       "<path class=\"bond-36 atom-41 atom-42\" d=\"M 810.2,308.3 L 812.8,309.1 L 816.6,327.9 L 812.5,331.5 L 808.2,310.1 Z\" style=\"fill:#DDA0DD;fill-rule:evenodd;fill-opacity:1;stroke:#DDA0DD;stroke-width:0.0px;stroke-linecap:butt;stroke-linejoin:miter;stroke-opacity:1;\"/>\n",
       "<path class=\"bond-47 atom-41 atom-47\" d=\"M 816.6,327.9 L 834.7,334.0 L 835.8,339.3 L 812.5,331.5 Z\" style=\"fill:#DDA0DD;fill-rule:evenodd;fill-opacity:1;stroke:#DDA0DD;stroke-width:0.0px;stroke-linecap:butt;stroke-linejoin:miter;stroke-opacity:1;\"/>\n",
       "<path class=\"bond-37 atom-42 atom-43\" d=\"M 826.1,291.2 L 827.1,296.5 L 812.8,309.1 L 810.2,308.3 L 809.7,305.6 Z\" style=\"fill:#DDA0DD;fill-rule:evenodd;fill-opacity:1;stroke:#DDA0DD;stroke-width:0.0px;stroke-linecap:butt;stroke-linejoin:miter;stroke-opacity:1;\"/>\n",
       "<path class=\"bond-45 atom-42 atom-51\" d=\"M 791.6,299.6 L 809.7,305.6 L 810.2,308.3 L 808.2,310.1 L 787.5,303.1 Z\" style=\"fill:#DDA0DD;fill-rule:evenodd;fill-opacity:1;stroke:#DDA0DD;stroke-width:0.0px;stroke-linecap:butt;stroke-linejoin:miter;stroke-opacity:1;\"/>\n",
       "<path class=\"bond-38 atom-43 atom-44\" d=\"M 826.1,291.2 L 846.8,298.1 L 847.3,300.8 L 845.3,302.6 L 827.1,296.5 Z\" style=\"fill:#DDA0DD;fill-rule:evenodd;fill-opacity:1;stroke:#DDA0DD;stroke-width:0.0px;stroke-linecap:butt;stroke-linejoin:miter;stroke-opacity:1;\"/>\n",
       "<path class=\"bond-39 atom-44 atom-45\" d=\"M 847.3,300.8 L 849.8,301.6 L 853.6,320.4 L 851.6,322.2 L 849.1,321.3 L 845.3,302.6 Z\" style=\"fill:#DDA0DD;fill-rule:evenodd;fill-opacity:1;stroke:#DDA0DD;stroke-width:0.0px;stroke-linecap:butt;stroke-linejoin:miter;stroke-opacity:1;\"/>\n",
       "<path class=\"bond-42 atom-44 atom-48\" d=\"M 861.1,285.5 L 863.7,286.3 L 864.2,289.0 L 849.8,301.6 L 847.3,300.8 L 846.8,298.1 Z\" style=\"fill:#DDA0DD;fill-rule:evenodd;fill-opacity:1;stroke:#DDA0DD;stroke-width:0.0px;stroke-linecap:butt;stroke-linejoin:miter;stroke-opacity:1;\"/>\n",
       "<path class=\"bond-40 atom-45 atom-46\" d=\"M 853.6,320.4 L 873.1,326.9 L 871.6,331.3 L 852.2,324.8 L 851.6,322.2 Z\" style=\"fill:#DDA0DD;fill-rule:evenodd;fill-opacity:1;stroke:#DDA0DD;stroke-width:0.0px;stroke-linecap:butt;stroke-linejoin:miter;stroke-opacity:1;\"/>\n",
       "<path class=\"bond-41 atom-45 atom-47\" d=\"M 849.1,321.3 L 851.6,322.2 L 852.2,324.8 L 835.8,339.3 L 834.7,334.0 Z\" style=\"fill:#DDA0DD;fill-rule:evenodd;fill-opacity:1;stroke:#DDA0DD;stroke-width:0.0px;stroke-linecap:butt;stroke-linejoin:miter;stroke-opacity:1;\"/>\n",
       "<path class=\"bond-43 atom-48 atom-49\" d=\"M 865.7,284.6 L 885.1,291.1 L 883.6,295.5 L 864.2,289.0 L 863.7,286.3 Z\" style=\"fill:#DDA0DD;fill-rule:evenodd;fill-opacity:1;stroke:#DDA0DD;stroke-width:0.0px;stroke-linecap:butt;stroke-linejoin:miter;stroke-opacity:1;\"/>\n",
       "<path class=\"bond-44 atom-48 atom-50\" d=\"M 861.6,264.5 L 865.7,284.6 L 863.7,286.3 L 861.1,285.5 L 857.0,265.4 Z\" style=\"fill:#DDA0DD;fill-rule:evenodd;fill-opacity:1;stroke:#DDA0DD;stroke-width:0.0px;stroke-linecap:butt;stroke-linejoin:miter;stroke-opacity:1;\"/>\n",
       "<path class=\"bond-46 atom-51 atom-52\" d=\"M 787.5,279.5 L 791.6,299.6 L 787.5,303.1 L 782.9,280.4 Z\" style=\"fill:#DDA0DD;fill-rule:evenodd;fill-opacity:1;stroke:#DDA0DD;stroke-width:0.0px;stroke-linecap:butt;stroke-linejoin:miter;stroke-opacity:1;\"/>\n",
       "<ellipse cx=\"814.6\" cy=\"329.7\" rx=\"4.4\" ry=\"4.4\" class=\"atom-41\" style=\"fill:#DDA0DD;fill-rule:evenodd;stroke:#DDA0DD;stroke-width:1.0px;stroke-linecap:butt;stroke-linejoin:miter;stroke-opacity:1\"/>\n",
       "<ellipse cx=\"810.2\" cy=\"308.3\" rx=\"4.4\" ry=\"4.4\" class=\"atom-42\" style=\"fill:#DDA0DD;fill-rule:evenodd;stroke:#DDA0DD;stroke-width:1.0px;stroke-linecap:butt;stroke-linejoin:miter;stroke-opacity:1\"/>\n",
       "<ellipse cx=\"826.6\" cy=\"293.8\" rx=\"4.4\" ry=\"4.4\" class=\"atom-43\" style=\"fill:#DDA0DD;fill-rule:evenodd;stroke:#DDA0DD;stroke-width:1.0px;stroke-linecap:butt;stroke-linejoin:miter;stroke-opacity:1\"/>\n",
       "<ellipse cx=\"847.3\" cy=\"300.8\" rx=\"4.4\" ry=\"4.4\" class=\"atom-44\" style=\"fill:#DDA0DD;fill-rule:evenodd;stroke:#DDA0DD;stroke-width:1.0px;stroke-linecap:butt;stroke-linejoin:miter;stroke-opacity:1\"/>\n",
       "<ellipse cx=\"851.6\" cy=\"322.2\" rx=\"4.4\" ry=\"4.4\" class=\"atom-45\" style=\"fill:#DDA0DD;fill-rule:evenodd;stroke:#DDA0DD;stroke-width:1.0px;stroke-linecap:butt;stroke-linejoin:miter;stroke-opacity:1\"/>\n",
       "<ellipse cx=\"872.3\" cy=\"329.1\" rx=\"4.4\" ry=\"5.8\" class=\"atom-46\" style=\"fill:#DDA0DD;fill-rule:evenodd;stroke:#DDA0DD;stroke-width:1.0px;stroke-linecap:butt;stroke-linejoin:miter;stroke-opacity:1\"/>\n",
       "<ellipse cx=\"835.3\" cy=\"336.6\" rx=\"4.4\" ry=\"4.4\" class=\"atom-47\" style=\"fill:#DDA0DD;fill-rule:evenodd;stroke:#DDA0DD;stroke-width:1.0px;stroke-linecap:butt;stroke-linejoin:miter;stroke-opacity:1\"/>\n",
       "<ellipse cx=\"866.2\" cy=\"286.3\" rx=\"8.1\" ry=\"5.9\" class=\"atom-48\" style=\"fill:#DDA0DD;fill-rule:evenodd;stroke:#DDA0DD;stroke-width:1.0px;stroke-linecap:butt;stroke-linejoin:miter;stroke-opacity:1\"/>\n",
       "<ellipse cx=\"886.4\" cy=\"293.3\" rx=\"8.2\" ry=\"6.0\" class=\"atom-49\" style=\"fill:#DDA0DD;fill-rule:evenodd;stroke:#DDA0DD;stroke-width:1.0px;stroke-linecap:butt;stroke-linejoin:miter;stroke-opacity:1\"/>\n",
       "<ellipse cx=\"859.3\" cy=\"265.0\" rx=\"5.4\" ry=\"6.0\" class=\"atom-50\" style=\"fill:#DDA0DD;fill-rule:evenodd;stroke:#DDA0DD;stroke-width:1.0px;stroke-linecap:butt;stroke-linejoin:miter;stroke-opacity:1\"/>\n",
       "<ellipse cx=\"789.5\" cy=\"301.3\" rx=\"4.4\" ry=\"4.4\" class=\"atom-51\" style=\"fill:#DDA0DD;fill-rule:evenodd;stroke:#DDA0DD;stroke-width:1.0px;stroke-linecap:butt;stroke-linejoin:miter;stroke-opacity:1\"/>\n",
       "<ellipse cx=\"786.8\" cy=\"279.7\" rx=\"5.4\" ry=\"6.0\" class=\"atom-52\" style=\"fill:#DDA0DD;fill-rule:evenodd;stroke:#DDA0DD;stroke-width:1.0px;stroke-linecap:butt;stroke-linejoin:miter;stroke-opacity:1\"/>\n",
       "<path class=\"bond-36 atom-41 atom-42\" d=\"M 814.6,329.7 L 810.2,308.3\" style=\"fill:none;fill-rule:evenodd;stroke:#000000;stroke-width:2.0px;stroke-linecap:butt;stroke-linejoin:miter;stroke-opacity:1\"/>\n",
       "<path class=\"bond-36 atom-41 atom-42\" d=\"M 817.4,327.2 L 813.8,309.5\" style=\"fill:none;fill-rule:evenodd;stroke:#000000;stroke-width:2.0px;stroke-linecap:butt;stroke-linejoin:miter;stroke-opacity:1\"/>\n",
       "<path class=\"bond-37 atom-42 atom-43\" d=\"M 810.2,308.3 L 826.6,293.8\" style=\"fill:none;fill-rule:evenodd;stroke:#000000;stroke-width:2.0px;stroke-linecap:butt;stroke-linejoin:miter;stroke-opacity:1\"/>\n",
       "<path class=\"bond-38 atom-43 atom-44\" d=\"M 826.6,293.8 L 847.3,300.8\" style=\"fill:none;fill-rule:evenodd;stroke:#000000;stroke-width:2.0px;stroke-linecap:butt;stroke-linejoin:miter;stroke-opacity:1\"/>\n",
       "<path class=\"bond-38 atom-43 atom-44\" d=\"M 827.3,297.5 L 844.5,303.3\" style=\"fill:none;fill-rule:evenodd;stroke:#000000;stroke-width:2.0px;stroke-linecap:butt;stroke-linejoin:miter;stroke-opacity:1\"/>\n",
       "<path class=\"bond-39 atom-44 atom-45\" d=\"M 847.3,300.8 L 851.6,322.2\" style=\"fill:none;fill-rule:evenodd;stroke:#000000;stroke-width:2.0px;stroke-linecap:butt;stroke-linejoin:miter;stroke-opacity:1\"/>\n",
       "<path class=\"bond-40 atom-45 atom-46\" d=\"M 851.6,322.2 L 860.4,325.1\" style=\"fill:none;fill-rule:evenodd;stroke:#000000;stroke-width:2.0px;stroke-linecap:butt;stroke-linejoin:miter;stroke-opacity:1\"/>\n",
       "<path class=\"bond-40 atom-45 atom-46\" d=\"M 860.4,325.1 L 869.1,328.1\" style=\"fill:none;fill-rule:evenodd;stroke:#33CCCC;stroke-width:2.0px;stroke-linecap:butt;stroke-linejoin:miter;stroke-opacity:1\"/>\n",
       "<path class=\"bond-41 atom-45 atom-47\" d=\"M 851.6,322.2 L 835.3,336.6\" style=\"fill:none;fill-rule:evenodd;stroke:#000000;stroke-width:2.0px;stroke-linecap:butt;stroke-linejoin:miter;stroke-opacity:1\"/>\n",
       "<path class=\"bond-41 atom-45 atom-47\" d=\"M 848.0,321.0 L 834.5,332.9\" style=\"fill:none;fill-rule:evenodd;stroke:#000000;stroke-width:2.0px;stroke-linecap:butt;stroke-linejoin:miter;stroke-opacity:1\"/>\n",
       "<path class=\"bond-42 atom-44 atom-48\" d=\"M 847.3,300.8 L 853.6,295.3\" style=\"fill:none;fill-rule:evenodd;stroke:#000000;stroke-width:2.0px;stroke-linecap:butt;stroke-linejoin:miter;stroke-opacity:1\"/>\n",
       "<path class=\"bond-42 atom-44 atom-48\" d=\"M 853.6,295.3 L 859.8,289.7\" style=\"fill:none;fill-rule:evenodd;stroke:#0000FF;stroke-width:2.0px;stroke-linecap:butt;stroke-linejoin:miter;stroke-opacity:1\"/>\n",
       "<path class=\"bond-43 atom-48 atom-49\" d=\"M 867.5,287.6 L 873.7,289.7\" style=\"fill:none;fill-rule:evenodd;stroke:#0000FF;stroke-width:2.0px;stroke-linecap:butt;stroke-linejoin:miter;stroke-opacity:1\"/>\n",
       "<path class=\"bond-43 atom-48 atom-49\" d=\"M 873.7,289.7 L 879.8,291.8\" style=\"fill:none;fill-rule:evenodd;stroke:#FF0000;stroke-width:2.0px;stroke-linecap:butt;stroke-linejoin:miter;stroke-opacity:1\"/>\n",
       "<path class=\"bond-44 atom-48 atom-50\" d=\"M 864.3,281.2 L 863.1,275.4\" style=\"fill:none;fill-rule:evenodd;stroke:#0000FF;stroke-width:2.0px;stroke-linecap:butt;stroke-linejoin:miter;stroke-opacity:1\"/>\n",
       "<path class=\"bond-44 atom-48 atom-50\" d=\"M 863.1,275.4 L 862.0,269.6\" style=\"fill:none;fill-rule:evenodd;stroke:#FF0000;stroke-width:2.0px;stroke-linecap:butt;stroke-linejoin:miter;stroke-opacity:1\"/>\n",
       "<path class=\"bond-44 atom-48 atom-50\" d=\"M 861.1,281.8 L 859.9,276.0\" style=\"fill:none;fill-rule:evenodd;stroke:#0000FF;stroke-width:2.0px;stroke-linecap:butt;stroke-linejoin:miter;stroke-opacity:1\"/>\n",
       "<path class=\"bond-44 atom-48 atom-50\" d=\"M 859.9,276.0 L 858.7,270.3\" style=\"fill:none;fill-rule:evenodd;stroke:#FF0000;stroke-width:2.0px;stroke-linecap:butt;stroke-linejoin:miter;stroke-opacity:1\"/>\n",
       "<path class=\"bond-45 atom-42 atom-51\" d=\"M 810.2,308.3 L 789.5,301.3\" style=\"fill:none;fill-rule:evenodd;stroke:#000000;stroke-width:2.0px;stroke-linecap:butt;stroke-linejoin:miter;stroke-opacity:1\"/>\n",
       "<path class=\"bond-46 atom-51 atom-52\" d=\"M 789.5,301.3 L 787.9,293.1\" style=\"fill:none;fill-rule:evenodd;stroke:#000000;stroke-width:2.0px;stroke-linecap:butt;stroke-linejoin:miter;stroke-opacity:1\"/>\n",
       "<path class=\"bond-46 atom-51 atom-52\" d=\"M 787.9,293.1 L 786.2,285.0\" style=\"fill:none;fill-rule:evenodd;stroke:#FF0000;stroke-width:2.0px;stroke-linecap:butt;stroke-linejoin:miter;stroke-opacity:1\"/>\n",
       "<path class=\"bond-46 atom-51 atom-52\" d=\"M 792.4,298.8 L 791.1,292.5\" style=\"fill:none;fill-rule:evenodd;stroke:#000000;stroke-width:2.0px;stroke-linecap:butt;stroke-linejoin:miter;stroke-opacity:1\"/>\n",
       "<path class=\"bond-46 atom-51 atom-52\" d=\"M 791.1,292.5 L 789.4,284.3\" style=\"fill:none;fill-rule:evenodd;stroke:#FF0000;stroke-width:2.0px;stroke-linecap:butt;stroke-linejoin:miter;stroke-opacity:1\"/>\n",
       "<path class=\"bond-47 atom-47 atom-41\" d=\"M 835.3,336.6 L 814.6,329.7\" style=\"fill:none;fill-rule:evenodd;stroke:#000000;stroke-width:2.0px;stroke-linecap:butt;stroke-linejoin:miter;stroke-opacity:1\"/>\n",
       "<path class=\"atom-5\" d=\"M 869.8 324.9 L 874.8 324.9 L 874.8 325.9 L 870.9 325.9 L 870.9 328.4 L 874.4 328.4 L 874.4 329.4 L 870.9 329.4 L 870.9 333.4 L 869.8 333.4 L 869.8 324.9 \" fill=\"#33CCCC\"/>\n",
       "<path class=\"atom-7\" d=\"M 861.8 282.1 L 864.6 286.6 Q 864.8 287.0, 865.3 287.8 Q 865.7 288.6, 865.8 288.7 L 865.8 282.1 L 866.9 282.1 L 866.9 290.6 L 865.7 290.6 L 862.7 285.7 Q 862.4 285.1, 862.0 284.4 Q 861.7 283.8, 861.5 283.6 L 861.5 290.6 L 860.4 290.6 L 860.4 282.1 L 861.8 282.1 \" fill=\"#0000FF\"/>\n",
       "<path class=\"atom-7\" d=\"M 868.5 283.6 L 870.0 283.6 L 870.0 282.0 L 870.6 282.0 L 870.6 283.6 L 872.2 283.6 L 872.2 284.2 L 870.6 284.2 L 870.6 285.8 L 870.0 285.8 L 870.0 284.2 L 868.5 284.2 L 868.5 283.6 \" fill=\"#0000FF\"/>\n",
       "<path class=\"atom-8\" d=\"M 880.5 293.3 Q 880.5 291.3, 881.5 290.1 Q 882.5 289.0, 884.4 289.0 Q 886.2 289.0, 887.2 290.1 Q 888.3 291.3, 888.3 293.3 Q 888.3 295.4, 887.2 296.5 Q 886.2 297.7, 884.4 297.7 Q 882.5 297.7, 881.5 296.5 Q 880.5 295.4, 880.5 293.3 M 884.4 296.8 Q 885.7 296.8, 886.3 295.9 Q 887.1 295.0, 887.1 293.3 Q 887.1 291.6, 886.3 290.8 Q 885.7 289.9, 884.4 289.9 Q 883.1 289.9, 882.4 290.8 Q 881.7 291.6, 881.7 293.3 Q 881.7 295.0, 882.4 295.9 Q 883.1 296.8, 884.4 296.8 \" fill=\"#FF0000\"/>\n",
       "<path class=\"atom-8\" d=\"M 889.5 290.4 L 892.4 290.4 L 892.4 291.0 L 889.5 291.0 L 889.5 290.4 \" fill=\"#FF0000\"/>\n",
       "<path class=\"atom-9\" d=\"M 855.4 265.0 Q 855.4 262.9, 856.4 261.8 Q 857.4 260.6, 859.3 260.6 Q 861.2 260.6, 862.2 261.8 Q 863.2 262.9, 863.2 265.0 Q 863.2 267.0, 862.2 268.2 Q 861.2 269.4, 859.3 269.4 Q 857.5 269.4, 856.4 268.2 Q 855.4 267.0, 855.4 265.0 M 859.3 268.4 Q 860.6 268.4, 861.3 267.5 Q 862.0 266.7, 862.0 265.0 Q 862.0 263.3, 861.3 262.5 Q 860.6 261.6, 859.3 261.6 Q 858.0 261.6, 857.3 262.4 Q 856.6 263.3, 856.6 265.0 Q 856.6 266.7, 857.3 267.5 Q 858.0 268.4, 859.3 268.4 \" fill=\"#FF0000\"/>\n",
       "<path class=\"atom-11\" d=\"M 782.9 279.6 Q 782.9 277.6, 783.9 276.5 Q 784.9 275.3, 786.8 275.3 Q 788.7 275.3, 789.7 276.5 Q 790.7 277.6, 790.7 279.6 Q 790.7 281.7, 789.7 282.9 Q 788.7 284.0, 786.8 284.0 Q 784.9 284.0, 783.9 282.9 Q 782.9 281.7, 782.9 279.6 M 786.8 283.1 Q 788.1 283.1, 788.8 282.2 Q 789.5 281.3, 789.5 279.6 Q 789.5 278.0, 788.8 277.1 Q 788.1 276.3, 786.8 276.3 Q 785.5 276.3, 784.8 277.1 Q 784.1 278.0, 784.1 279.6 Q 784.1 281.4, 784.8 282.2 Q 785.5 283.1, 786.8 283.1 \" fill=\"#FF0000\"/>\n",
       "<path d=\"M 734.0,300.0 L 772.0,300.0\" style=\"fill:none;fill-rule:evenodd;stroke:#000000;stroke-width:2.0px;stroke-linecap:butt;stroke-linejoin:miter;stroke-opacity:1\"/>\n",
       "<path d=\"M 772.0,300.0 L 767.0,302.9\" style=\"fill:none;fill-rule:evenodd;stroke:#000000;stroke-width:2.0px;stroke-linecap:butt;stroke-linejoin:miter;stroke-opacity:1\"/>\n",
       "<path d=\"M 772.0,300.0 L 767.0,297.1\" style=\"fill:none;fill-rule:evenodd;stroke:#000000;stroke-width:2.0px;stroke-linecap:butt;stroke-linejoin:miter;stroke-opacity:1\"/>\n",
       "</svg></td><td style='border:1px solid black; padding:10px'><b style='font-size:16px;'>local_mapper</b><br><svg xmlns=\"http://www.w3.org/2000/svg\" xmlns:rdkit=\"http://www.rdkit.org/xml\" xmlns:xlink=\"http://www.w3.org/1999/xlink\" version=\"1.1\" baseProfile=\"full\" xml:space=\"preserve\" width=\"1000px\" height=\"600px\" viewBox=\"0 0 1000 600\">\n",
       "<!-- END OF HEADER -->\n",
       "<rect style=\"opacity:1.0;fill:#FFFFFF;stroke:none\" width=\"1000.0\" height=\"600.0\" x=\"0.0\" y=\"0.0\"> </rect>\n",
       "<path class=\"bond-0 atom-0 atom-1\" d=\"M 185.6,298.2 L 169.2,313.3\" style=\"fill:none;fill-rule:evenodd;stroke:#000000;stroke-width:2.0px;stroke-linecap:butt;stroke-linejoin:miter;stroke-opacity:1\"/>\n",
       "<path class=\"bond-1 atom-1 atom-2\" d=\"M 169.2,313.3 L 160.5,310.5\" style=\"fill:none;fill-rule:evenodd;stroke:#000000;stroke-width:2.0px;stroke-linecap:butt;stroke-linejoin:miter;stroke-opacity:1\"/>\n",
       "<path class=\"bond-1 atom-1 atom-2\" d=\"M 160.5,310.5 L 151.8,307.8\" style=\"fill:none;fill-rule:evenodd;stroke:#0000FF;stroke-width:2.0px;stroke-linecap:butt;stroke-linejoin:miter;stroke-opacity:1\"/>\n",
       "<path class=\"bond-2 atom-2 atom-3\" d=\"M 144.2,310.1 L 137.9,315.9\" style=\"fill:none;fill-rule:evenodd;stroke:#0000FF;stroke-width:2.0px;stroke-linecap:butt;stroke-linejoin:miter;stroke-opacity:1\"/>\n",
       "<path class=\"bond-2 atom-2 atom-3\" d=\"M 137.9,315.9 L 131.6,321.7\" style=\"fill:none;fill-rule:evenodd;stroke:#000000;stroke-width:2.0px;stroke-linecap:butt;stroke-linejoin:miter;stroke-opacity:1\"/>\n",
       "<path class=\"bond-3 atom-3 atom-4\" d=\"M 131.6,321.7 L 110.4,315.1\" style=\"fill:none;fill-rule:evenodd;stroke:#000000;stroke-width:2.0px;stroke-linecap:butt;stroke-linejoin:miter;stroke-opacity:1\"/>\n",
       "<path class=\"bond-4 atom-2 atom-5\" d=\"M 146.9,301.9 L 145.0,293.4\" style=\"fill:none;fill-rule:evenodd;stroke:#0000FF;stroke-width:2.0px;stroke-linecap:butt;stroke-linejoin:miter;stroke-opacity:1\"/>\n",
       "<path class=\"bond-4 atom-2 atom-5\" d=\"M 145.0,293.4 L 143.1,284.9\" style=\"fill:none;fill-rule:evenodd;stroke:#000000;stroke-width:2.0px;stroke-linecap:butt;stroke-linejoin:miter;stroke-opacity:1\"/>\n",
       "<path class=\"bond-5 atom-5 atom-6\" d=\"M 143.1,284.9 L 121.9,278.3\" style=\"fill:none;fill-rule:evenodd;stroke:#000000;stroke-width:2.0px;stroke-linecap:butt;stroke-linejoin:miter;stroke-opacity:1\"/>\n",
       "<path d=\"M 170.1,312.5 L 169.2,313.3 L 168.8,313.1\" style=\"fill:none;stroke:#000000;stroke-width:2.0px;stroke-linecap:butt;stroke-linejoin:miter;stroke-opacity:1;\"/>\n",
       "<path d=\"M 131.9,321.4 L 131.6,321.7 L 130.6,321.4\" style=\"fill:none;stroke:#000000;stroke-width:2.0px;stroke-linecap:butt;stroke-linejoin:miter;stroke-opacity:1;\"/>\n",
       "<path d=\"M 143.2,285.4 L 143.1,284.9 L 142.1,284.6\" style=\"fill:none;stroke:#000000;stroke-width:2.0px;stroke-linecap:butt;stroke-linejoin:miter;stroke-opacity:1;\"/>\n",
       "<path class=\"atom-2\" d=\"M 146.1 302.4 L 148.9 306.9 Q 149.2 307.3, 149.6 308.1 Q 150.1 308.9, 150.1 309.0 L 150.1 302.4 L 151.2 302.4 L 151.2 310.9 L 150.1 310.9 L 147.1 306.0 Q 146.7 305.4, 146.4 304.7 Q 146.0 304.1, 145.9 303.9 L 145.9 310.9 L 144.8 310.9 L 144.8 302.4 L 146.1 302.4 \" fill=\"#0000FF\"/>\n",
       "<path d=\"M 195.5,294.0 L 195.5,306.0\" style=\"fill:none;fill-rule:evenodd;stroke:#000000;stroke-width:2.0px;stroke-linecap:butt;stroke-linejoin:miter;stroke-opacity:1\"/>\n",
       "<path d=\"M 189.5,300.0 L 201.5,300.0\" style=\"fill:none;fill-rule:evenodd;stroke:#000000;stroke-width:2.0px;stroke-linecap:butt;stroke-linejoin:miter;stroke-opacity:1\"/>\n",
       "<path class=\"bond-6 atom-7 atom-8\" d=\"M 205.5,303.5 L 224.7,292.3\" style=\"fill:none;fill-rule:evenodd;stroke:#000000;stroke-width:2.0px;stroke-linecap:butt;stroke-linejoin:miter;stroke-opacity:1\"/>\n",
       "<path class=\"bond-7 atom-8 atom-9\" d=\"M 224.7,292.3 L 232.2,296.6\" style=\"fill:none;fill-rule:evenodd;stroke:#000000;stroke-width:2.0px;stroke-linecap:butt;stroke-linejoin:miter;stroke-opacity:1\"/>\n",
       "<path class=\"bond-7 atom-8 atom-9\" d=\"M 232.2,296.6 L 239.6,300.9\" style=\"fill:none;fill-rule:evenodd;stroke:#FF0000;stroke-width:2.0px;stroke-linecap:butt;stroke-linejoin:miter;stroke-opacity:1\"/>\n",
       "<path class=\"bond-8 atom-9 atom-10\" d=\"M 248.4,300.9 L 255.8,296.6\" style=\"fill:none;fill-rule:evenodd;stroke:#FF0000;stroke-width:2.0px;stroke-linecap:butt;stroke-linejoin:miter;stroke-opacity:1\"/>\n",
       "<path class=\"bond-8 atom-9 atom-10\" d=\"M 255.8,296.6 L 263.3,292.3\" style=\"fill:none;fill-rule:evenodd;stroke:#000000;stroke-width:2.0px;stroke-linecap:butt;stroke-linejoin:miter;stroke-opacity:1\"/>\n",
       "<path class=\"bond-9 atom-10 atom-11\" d=\"M 263.3,292.3 L 282.5,303.5\" style=\"fill:none;fill-rule:evenodd;stroke:#000000;stroke-width:2.0px;stroke-linecap:butt;stroke-linejoin:miter;stroke-opacity:1\"/>\n",
       "<path class=\"atom-2\" d=\"M 240.1 303.5 Q 240.1 301.4, 241.1 300.3 Q 242.1 299.2, 244.0 299.2 Q 245.9 299.2, 246.9 300.3 Q 247.9 301.4, 247.9 303.5 Q 247.9 305.6, 246.9 306.7 Q 245.9 307.9, 244.0 307.9 Q 242.1 307.9, 241.1 306.7 Q 240.1 305.6, 240.1 303.5 M 244.0 306.9 Q 245.3 306.9, 246.0 306.1 Q 246.7 305.2, 246.7 303.5 Q 246.7 301.8, 246.0 301.0 Q 245.3 300.1, 244.0 300.1 Q 242.7 300.1, 242.0 301.0 Q 241.3 301.8, 241.3 303.5 Q 241.3 305.2, 242.0 306.1 Q 242.7 306.9, 244.0 306.9 \" fill=\"#FF0000\"/>\n",
       "<path d=\"M 292.5,294.0 L 292.5,306.0\" style=\"fill:none;fill-rule:evenodd;stroke:#000000;stroke-width:2.0px;stroke-linecap:butt;stroke-linejoin:miter;stroke-opacity:1\"/>\n",
       "<path d=\"M 286.5,300.0 L 298.5,300.0\" style=\"fill:none;fill-rule:evenodd;stroke:#000000;stroke-width:2.0px;stroke-linecap:butt;stroke-linejoin:miter;stroke-opacity:1\"/>\n",
       "<path class=\"bond-10 atom-12 atom-13\" d=\"M 302.2,318.7 L 310.2,314.1\" style=\"fill:none;fill-rule:evenodd;stroke:#000000;stroke-width:2.0px;stroke-linecap:butt;stroke-linejoin:miter;stroke-opacity:1\"/>\n",
       "<path class=\"bond-10 atom-12 atom-13\" d=\"M 310.2,314.1 L 318.2,309.5\" style=\"fill:none;fill-rule:evenodd;stroke:#CCCC00;stroke-width:2.0px;stroke-linecap:butt;stroke-linejoin:miter;stroke-opacity:1\"/>\n",
       "<path class=\"bond-11 atom-13 atom-14\" d=\"M 324.8,309.5 L 332.8,314.1\" style=\"fill:none;fill-rule:evenodd;stroke:#CCCC00;stroke-width:2.0px;stroke-linecap:butt;stroke-linejoin:miter;stroke-opacity:1\"/>\n",
       "<path class=\"bond-11 atom-13 atom-14\" d=\"M 332.8,314.1 L 340.8,318.7\" style=\"fill:none;fill-rule:evenodd;stroke:#000000;stroke-width:2.0px;stroke-linecap:butt;stroke-linejoin:miter;stroke-opacity:1\"/>\n",
       "<path class=\"bond-12 atom-13 atom-15\" d=\"M 323.2,302.9 L 323.2,296.6\" style=\"fill:none;fill-rule:evenodd;stroke:#CCCC00;stroke-width:2.0px;stroke-linecap:butt;stroke-linejoin:miter;stroke-opacity:1\"/>\n",
       "<path class=\"bond-12 atom-13 atom-15\" d=\"M 323.2,296.6 L 323.2,290.3\" style=\"fill:none;fill-rule:evenodd;stroke:#FF0000;stroke-width:2.0px;stroke-linecap:butt;stroke-linejoin:miter;stroke-opacity:1\"/>\n",
       "<path class=\"bond-12 atom-13 atom-15\" d=\"M 319.8,302.9 L 319.8,296.6\" style=\"fill:none;fill-rule:evenodd;stroke:#CCCC00;stroke-width:2.0px;stroke-linecap:butt;stroke-linejoin:miter;stroke-opacity:1\"/>\n",
       "<path class=\"bond-12 atom-13 atom-15\" d=\"M 319.8,296.6 L 319.8,290.3\" style=\"fill:none;fill-rule:evenodd;stroke:#FF0000;stroke-width:2.0px;stroke-linecap:butt;stroke-linejoin:miter;stroke-opacity:1\"/>\n",
       "<path class=\"atom-1\" d=\"M 319.1 310.5 Q 319.2 310.5, 319.6 310.7 Q 320.0 310.9, 320.4 311.0 Q 320.9 311.1, 321.3 311.1 Q 322.1 311.1, 322.6 310.7 Q 323.0 310.3, 323.0 309.6 Q 323.0 309.2, 322.8 308.9 Q 322.6 308.6, 322.2 308.4 Q 321.8 308.3, 321.2 308.1 Q 320.5 307.9, 320.0 307.6 Q 319.6 307.4, 319.3 307.0 Q 319.0 306.5, 319.0 305.7 Q 319.0 304.7, 319.7 304.0 Q 320.4 303.4, 321.8 303.4 Q 322.8 303.4, 323.9 303.8 L 323.7 304.8 Q 322.7 304.3, 321.9 304.3 Q 321.1 304.3, 320.6 304.7 Q 320.1 305.0, 320.2 305.6 Q 320.2 306.1, 320.4 306.3 Q 320.6 306.6, 321.0 306.8 Q 321.3 306.9, 321.9 307.1 Q 322.7 307.3, 323.1 307.6 Q 323.6 307.8, 323.9 308.3 Q 324.2 308.8, 324.2 309.6 Q 324.2 310.8, 323.4 311.4 Q 322.7 312.1, 321.3 312.1 Q 320.6 312.1, 320.0 311.9 Q 319.4 311.7, 318.8 311.5 L 319.1 310.5 \" fill=\"#CCCC00\"/>\n",
       "<path class=\"atom-3\" d=\"M 317.6 285.4 Q 317.6 283.3, 318.6 282.2 Q 319.6 281.1, 321.5 281.1 Q 323.4 281.1, 324.4 282.2 Q 325.4 283.3, 325.4 285.4 Q 325.4 287.4, 324.4 288.6 Q 323.4 289.8, 321.5 289.8 Q 319.6 289.8, 318.6 288.6 Q 317.6 287.4, 317.6 285.4 M 321.5 288.8 Q 322.8 288.8, 323.5 288.0 Q 324.2 287.1, 324.2 285.4 Q 324.2 283.7, 323.5 282.9 Q 322.8 282.0, 321.5 282.0 Q 320.2 282.0, 319.5 282.9 Q 318.8 283.7, 318.8 285.4 Q 318.8 287.1, 319.5 288.0 Q 320.2 288.8, 321.5 288.8 \" fill=\"#FF0000\"/>\n",
       "<path d=\"M 350.5,294.0 L 350.5,306.0\" style=\"fill:none;fill-rule:evenodd;stroke:#000000;stroke-width:2.0px;stroke-linecap:butt;stroke-linejoin:miter;stroke-opacity:1\"/>\n",
       "<path d=\"M 344.5,300.0 L 356.5,300.0\" style=\"fill:none;fill-rule:evenodd;stroke:#000000;stroke-width:2.0px;stroke-linecap:butt;stroke-linejoin:miter;stroke-opacity:1\"/>\n",
       "<path class=\"bond-13 atom-16 atom-17\" d=\"M 402.7,298.8 L 395.0,303.3\" style=\"fill:none;fill-rule:evenodd;stroke:#00CC00;stroke-width:2.0px;stroke-linecap:butt;stroke-linejoin:miter;stroke-opacity:1\"/>\n",
       "<path class=\"bond-13 atom-16 atom-17\" d=\"M 395.0,303.3 L 387.3,307.7\" style=\"fill:none;fill-rule:evenodd;stroke:#000000;stroke-width:2.0px;stroke-linecap:butt;stroke-linejoin:miter;stroke-opacity:1\"/>\n",
       "<path class=\"bond-14 atom-17 atom-18\" d=\"M 387.3,307.7 L 378.3,302.5\" style=\"fill:none;fill-rule:evenodd;stroke:#000000;stroke-width:2.0px;stroke-linecap:butt;stroke-linejoin:miter;stroke-opacity:1\"/>\n",
       "<path class=\"bond-14 atom-17 atom-18\" d=\"M 378.3,302.5 L 369.3,297.3\" style=\"fill:none;fill-rule:evenodd;stroke:#00CC00;stroke-width:2.0px;stroke-linecap:butt;stroke-linejoin:miter;stroke-opacity:1\"/>\n",
       "<path class=\"atom-0\" d=\"M 403.3 296.9 Q 403.3 294.8, 404.3 293.7 Q 405.3 292.6, 407.1 292.6 Q 408.9 292.6, 409.8 293.8 L 409.0 294.4 Q 408.4 293.5, 407.1 293.5 Q 405.9 293.5, 405.2 294.4 Q 404.5 295.3, 404.5 296.9 Q 404.5 298.6, 405.2 299.4 Q 405.9 300.3, 407.3 300.3 Q 408.2 300.3, 409.3 299.7 L 409.6 300.6 Q 409.2 300.9, 408.5 301.1 Q 407.9 301.3, 407.1 301.3 Q 405.3 301.3, 404.3 300.1 Q 403.3 299.0, 403.3 296.9 \" fill=\"#00CC00\"/>\n",
       "<path class=\"atom-0\" d=\"M 410.7 292.0 L 411.8 292.0 L 411.8 301.1 L 410.7 301.1 L 410.7 292.0 \" fill=\"#00CC00\"/>\n",
       "<path class=\"atom-2\" d=\"M 360.1 296.9 Q 360.1 294.8, 361.0 293.7 Q 362.0 292.6, 363.9 292.6 Q 365.7 292.6, 366.6 293.8 L 365.8 294.4 Q 365.1 293.5, 363.9 293.5 Q 362.6 293.5, 362.0 294.4 Q 361.3 295.3, 361.3 296.9 Q 361.3 298.6, 362.0 299.4 Q 362.7 300.3, 364.1 300.3 Q 365.0 300.3, 366.1 299.7 L 366.4 300.6 Q 366.0 300.9, 365.3 301.1 Q 364.6 301.3, 363.9 301.3 Q 362.0 301.3, 361.0 300.1 Q 360.1 299.0, 360.1 296.9 \" fill=\"#00CC00\"/>\n",
       "<path class=\"atom-2\" d=\"M 367.5 292.0 L 368.6 292.0 L 368.6 301.1 L 367.5 301.1 L 367.5 292.0 \" fill=\"#00CC00\"/>\n",
       "<path d=\"M 421.5,294.0 L 421.5,306.0\" style=\"fill:none;fill-rule:evenodd;stroke:#000000;stroke-width:2.0px;stroke-linecap:butt;stroke-linejoin:miter;stroke-opacity:1\"/>\n",
       "<path d=\"M 415.5,300.0 L 427.5,300.0\" style=\"fill:none;fill-rule:evenodd;stroke:#000000;stroke-width:2.0px;stroke-linecap:butt;stroke-linejoin:miter;stroke-opacity:1\"/>\n",
       "<path class=\"bond-15 atom-19 atom-20\" d=\"M 438.3,312.6 L 444.1,309.3\" style=\"fill:none;fill-rule:evenodd;stroke:#FF0000;stroke-width:2.0px;stroke-linecap:butt;stroke-linejoin:miter;stroke-opacity:1\"/>\n",
       "<path class=\"bond-15 atom-19 atom-20\" d=\"M 444.1,309.3 L 449.9,306.0\" style=\"fill:none;fill-rule:evenodd;stroke:#CCCC00;stroke-width:2.0px;stroke-linecap:butt;stroke-linejoin:miter;stroke-opacity:1\"/>\n",
       "<path class=\"bond-15 atom-19 atom-20\" d=\"M 440.0,315.5 L 445.8,312.2\" style=\"fill:none;fill-rule:evenodd;stroke:#FF0000;stroke-width:2.0px;stroke-linecap:butt;stroke-linejoin:miter;stroke-opacity:1\"/>\n",
       "<path class=\"bond-15 atom-19 atom-20\" d=\"M 445.8,312.2 L 451.5,308.9\" style=\"fill:none;fill-rule:evenodd;stroke:#CCCC00;stroke-width:2.0px;stroke-linecap:butt;stroke-linejoin:miter;stroke-opacity:1\"/>\n",
       "<path class=\"bond-16 atom-20 atom-21\" d=\"M 456.5,308.9 L 462.2,312.2\" style=\"fill:none;fill-rule:evenodd;stroke:#CCCC00;stroke-width:2.0px;stroke-linecap:butt;stroke-linejoin:miter;stroke-opacity:1\"/>\n",
       "<path class=\"bond-16 atom-20 atom-21\" d=\"M 462.2,312.2 L 468.0,315.5\" style=\"fill:none;fill-rule:evenodd;stroke:#FF0000;stroke-width:2.0px;stroke-linecap:butt;stroke-linejoin:miter;stroke-opacity:1\"/>\n",
       "<path class=\"bond-16 atom-20 atom-21\" d=\"M 458.1,306.0 L 463.9,309.3\" style=\"fill:none;fill-rule:evenodd;stroke:#CCCC00;stroke-width:2.0px;stroke-linecap:butt;stroke-linejoin:miter;stroke-opacity:1\"/>\n",
       "<path class=\"bond-16 atom-20 atom-21\" d=\"M 463.9,309.3 L 469.7,312.6\" style=\"fill:none;fill-rule:evenodd;stroke:#FF0000;stroke-width:2.0px;stroke-linecap:butt;stroke-linejoin:miter;stroke-opacity:1\"/>\n",
       "<path class=\"bond-17 atom-20 atom-22\" d=\"M 455.7,300.8 L 455.7,294.5\" style=\"fill:none;fill-rule:evenodd;stroke:#CCCC00;stroke-width:2.0px;stroke-linecap:butt;stroke-linejoin:miter;stroke-opacity:1\"/>\n",
       "<path class=\"bond-17 atom-20 atom-22\" d=\"M 455.7,294.5 L 455.7,288.2\" style=\"fill:none;fill-rule:evenodd;stroke:#FF0000;stroke-width:2.0px;stroke-linecap:butt;stroke-linejoin:miter;stroke-opacity:1\"/>\n",
       "<path class=\"bond-17 atom-20 atom-22\" d=\"M 452.3,300.8 L 452.3,294.5\" style=\"fill:none;fill-rule:evenodd;stroke:#CCCC00;stroke-width:2.0px;stroke-linecap:butt;stroke-linejoin:miter;stroke-opacity:1\"/>\n",
       "<path class=\"bond-17 atom-20 atom-22\" d=\"M 452.3,294.5 L 452.3,288.2\" style=\"fill:none;fill-rule:evenodd;stroke:#FF0000;stroke-width:2.0px;stroke-linecap:butt;stroke-linejoin:miter;stroke-opacity:1\"/>\n",
       "<path class=\"atom-0\" d=\"M 430.8 316.6 Q 430.8 314.6, 431.8 313.5 Q 432.8 312.3, 434.7 312.3 Q 436.6 312.3, 437.6 313.5 Q 438.6 314.6, 438.6 316.6 Q 438.6 318.7, 437.6 319.9 Q 436.6 321.1, 434.7 321.1 Q 432.9 321.1, 431.8 319.9 Q 430.8 318.7, 430.8 316.6 M 434.7 320.1 Q 436.0 320.1, 436.7 319.2 Q 437.4 318.4, 437.4 316.6 Q 437.4 315.0, 436.7 314.1 Q 436.0 313.3, 434.7 313.3 Q 433.4 313.3, 432.7 314.1 Q 432.0 315.0, 432.0 316.6 Q 432.0 318.4, 432.7 319.2 Q 433.4 320.1, 434.7 320.1 \" fill=\"#FF0000\"/>\n",
       "<path class=\"atom-1\" d=\"M 451.6 308.4 Q 451.7 308.5, 452.1 308.6 Q 452.5 308.8, 452.9 308.9 Q 453.4 309.0, 453.8 309.0 Q 454.6 309.0, 455.1 308.6 Q 455.5 308.2, 455.5 307.5 Q 455.5 307.1, 455.3 306.8 Q 455.1 306.5, 454.7 306.3 Q 454.3 306.2, 453.7 306.0 Q 453.0 305.8, 452.5 305.5 Q 452.1 305.3, 451.8 304.9 Q 451.5 304.4, 451.5 303.7 Q 451.5 302.6, 452.2 301.9 Q 452.9 301.3, 454.3 301.3 Q 455.3 301.3, 456.4 301.7 L 456.2 302.7 Q 455.2 302.2, 454.4 302.2 Q 453.6 302.2, 453.1 302.6 Q 452.6 302.9, 452.7 303.5 Q 452.7 304.0, 452.9 304.2 Q 453.1 304.5, 453.5 304.7 Q 453.8 304.8, 454.4 305.0 Q 455.2 305.2, 455.6 305.5 Q 456.1 305.7, 456.4 306.2 Q 456.7 306.7, 456.7 307.5 Q 456.7 308.7, 455.9 309.3 Q 455.2 310.0, 453.8 310.0 Q 453.1 310.0, 452.5 309.8 Q 451.9 309.6, 451.3 309.4 L 451.6 308.4 \" fill=\"#CCCC00\"/>\n",
       "<path class=\"atom-2\" d=\"M 469.4 316.6 Q 469.4 314.6, 470.4 313.5 Q 471.4 312.3, 473.3 312.3 Q 475.2 312.3, 476.2 313.5 Q 477.2 314.6, 477.2 316.6 Q 477.2 318.7, 476.1 319.9 Q 475.1 321.1, 473.3 321.1 Q 471.4 321.1, 470.4 319.9 Q 469.4 318.7, 469.4 316.6 M 473.3 320.1 Q 474.6 320.1, 475.3 319.2 Q 476.0 318.4, 476.0 316.6 Q 476.0 315.0, 475.3 314.1 Q 474.6 313.3, 473.3 313.3 Q 472.0 313.3, 471.3 314.1 Q 470.6 315.0, 470.6 316.6 Q 470.6 318.4, 471.3 319.2 Q 472.0 320.1, 473.3 320.1 \" fill=\"#FF0000\"/>\n",
       "<path class=\"atom-3\" d=\"M 450.1 283.3 Q 450.1 281.2, 451.1 280.1 Q 452.1 279.0, 454.0 279.0 Q 455.9 279.0, 456.9 280.1 Q 457.9 281.2, 457.9 283.3 Q 457.9 285.3, 456.9 286.5 Q 455.9 287.7, 454.0 287.7 Q 452.1 287.7, 451.1 286.5 Q 450.1 285.4, 450.1 283.3 M 454.0 286.7 Q 455.3 286.7, 456.0 285.9 Q 456.7 285.0, 456.7 283.3 Q 456.7 281.6, 456.0 280.8 Q 455.3 279.9, 454.0 279.9 Q 452.7 279.9, 452.0 280.8 Q 451.3 281.6, 451.3 283.3 Q 451.3 285.0, 452.0 285.9 Q 452.7 286.7, 454.0 286.7 \" fill=\"#FF0000\"/>\n",
       "<path d=\"M 486.5,294.0 L 486.5,306.0\" style=\"fill:none;fill-rule:evenodd;stroke:#000000;stroke-width:2.0px;stroke-linecap:butt;stroke-linejoin:miter;stroke-opacity:1\"/>\n",
       "<path d=\"M 480.5,300.0 L 492.5,300.0\" style=\"fill:none;fill-rule:evenodd;stroke:#000000;stroke-width:2.0px;stroke-linecap:butt;stroke-linejoin:miter;stroke-opacity:1\"/>\n",
       "<path class=\"bond-18 atom-23 atom-24\" d=\"M 607.8,311.0 L 610.2,312.3 L 610.9,333.2 L 606.1,333.3 L 605.5,312.5 Z\" style=\"fill:#C1EFF4;fill-rule:evenodd;fill-opacity:1;stroke:#C1EFF4;stroke-width:0.0px;stroke-linecap:butt;stroke-linejoin:miter;stroke-opacity:1;\"/>\n",
       "<path class=\"bond-19 atom-24 atom-25\" d=\"M 625.5,297.3 L 628.0,301.3 L 610.2,312.3 L 607.8,311.0 L 607.7,308.3 Z\" style=\"fill:#C1EFF4;fill-rule:evenodd;fill-opacity:1;stroke:#C1EFF4;stroke-width:0.0px;stroke-linecap:butt;stroke-linejoin:miter;stroke-opacity:1;\"/>\n",
       "<path class=\"bond-20 atom-24 atom-26\" d=\"M 590.5,299.1 L 607.7,308.3 L 607.8,311.0 L 605.5,312.5 L 588.3,303.2 L 588.2,300.5 Z\" style=\"fill:#C1EFF4;fill-rule:evenodd;fill-opacity:1;stroke:#C1EFF4;stroke-width:0.0px;stroke-linecap:butt;stroke-linejoin:miter;stroke-opacity:1;\"/>\n",
       "<path class=\"bond-21 atom-26 atom-27\" d=\"M 585.8,299.2 L 588.2,300.5 L 588.3,303.2 L 569.4,315.0 L 569.2,309.5 Z\" style=\"fill:#C1EFF4;fill-rule:evenodd;fill-opacity:1;stroke:#C1EFF4;stroke-width:0.0px;stroke-linecap:butt;stroke-linejoin:miter;stroke-opacity:1;\"/>\n",
       "<path class=\"bond-29 atom-26 atom-33\" d=\"M 587.5,278.3 L 589.9,279.6 L 590.5,299.1 L 588.2,300.5 L 585.8,299.2 L 585.2,279.7 Z\" style=\"fill:#C1EFF4;fill-rule:evenodd;fill-opacity:1;stroke:#C1EFF4;stroke-width:0.0px;stroke-linecap:butt;stroke-linejoin:miter;stroke-opacity:1;\"/>\n",
       "<path class=\"bond-22 atom-27 atom-28\" d=\"M 552.0,300.3 L 569.2,309.5 L 569.4,315.0 L 549.8,304.4 L 549.7,301.7 Z\" style=\"fill:#C1EFF4;fill-rule:evenodd;fill-opacity:1;stroke:#C1EFF4;stroke-width:0.0px;stroke-linecap:butt;stroke-linejoin:miter;stroke-opacity:1;\"/>\n",
       "<path class=\"bond-23 atom-28 atom-29\" d=\"M 547.3,300.4 L 549.7,301.7 L 549.8,304.4 L 530.9,316.2 L 530.7,310.7 Z\" style=\"fill:#C1EFF4;fill-rule:evenodd;fill-opacity:1;stroke:#C1EFF4;stroke-width:0.0px;stroke-linecap:butt;stroke-linejoin:miter;stroke-opacity:1;\"/>\n",
       "<path class=\"bond-25 atom-28 atom-31\" d=\"M 546.6,278.2 L 551.4,280.8 L 552.0,300.3 L 549.7,301.7 L 547.3,300.4 Z\" style=\"fill:#C1EFF4;fill-rule:evenodd;fill-opacity:1;stroke:#C1EFF4;stroke-width:0.0px;stroke-linecap:butt;stroke-linejoin:miter;stroke-opacity:1;\"/>\n",
       "<path class=\"bond-24 atom-29 atom-30\" d=\"M 512.3,300.8 L 530.7,310.7 L 530.9,316.2 L 510.0,305.0 Z\" style=\"fill:#C1EFF4;fill-rule:evenodd;fill-opacity:1;stroke:#C1EFF4;stroke-width:0.0px;stroke-linecap:butt;stroke-linejoin:miter;stroke-opacity:1;\"/>\n",
       "<path class=\"bond-26 atom-31 atom-32\" d=\"M 567.8,265.0 L 568.0,270.5 L 551.4,280.8 L 546.6,278.2 Z\" style=\"fill:#C1EFF4;fill-rule:evenodd;fill-opacity:1;stroke:#C1EFF4;stroke-width:0.0px;stroke-linecap:butt;stroke-linejoin:miter;stroke-opacity:1;\"/>\n",
       "<path class=\"bond-27 atom-32 atom-33\" d=\"M 567.8,265.0 L 587.4,275.5 L 587.5,278.3 L 585.2,279.7 L 568.0,270.5 Z\" style=\"fill:#C1EFF4;fill-rule:evenodd;fill-opacity:1;stroke:#C1EFF4;stroke-width:0.0px;stroke-linecap:butt;stroke-linejoin:miter;stroke-opacity:1;\"/>\n",
       "<path class=\"bond-28 atom-33 atom-34\" d=\"M 605.2,264.5 L 607.7,268.6 L 589.9,279.6 L 587.5,278.3 L 587.4,275.5 Z\" style=\"fill:#C1EFF4;fill-rule:evenodd;fill-opacity:1;stroke:#C1EFF4;stroke-width:0.0px;stroke-linecap:butt;stroke-linejoin:miter;stroke-opacity:1;\"/>\n",
       "<ellipse cx=\"608.5\" cy=\"333.3\" rx=\"5.2\" ry=\"5.8\" class=\"atom-23\" style=\"fill:#C1EFF4;fill-rule:evenodd;stroke:#C1EFF4;stroke-width:1.0px;stroke-linecap:butt;stroke-linejoin:miter;stroke-opacity:1\"/>\n",
       "<ellipse cx=\"610.3\" cy=\"311.0\" rx=\"7.9\" ry=\"5.7\" class=\"atom-24\" style=\"fill:#C1EFF4;fill-rule:evenodd;stroke:#C1EFF4;stroke-width:1.0px;stroke-linecap:butt;stroke-linejoin:miter;stroke-opacity:1\"/>\n",
       "<ellipse cx=\"628.7\" cy=\"299.3\" rx=\"8.0\" ry=\"5.8\" class=\"atom-25\" style=\"fill:#C1EFF4;fill-rule:evenodd;stroke:#C1EFF4;stroke-width:1.0px;stroke-linecap:butt;stroke-linejoin:miter;stroke-opacity:1\"/>\n",
       "<ellipse cx=\"588.2\" cy=\"300.5\" rx=\"4.4\" ry=\"4.4\" class=\"atom-26\" style=\"fill:#C1EFF4;fill-rule:evenodd;stroke:#C1EFF4;stroke-width:1.0px;stroke-linecap:butt;stroke-linejoin:miter;stroke-opacity:1\"/>\n",
       "<ellipse cx=\"569.3\" cy=\"312.2\" rx=\"4.4\" ry=\"4.4\" class=\"atom-27\" style=\"fill:#C1EFF4;fill-rule:evenodd;stroke:#C1EFF4;stroke-width:1.0px;stroke-linecap:butt;stroke-linejoin:miter;stroke-opacity:1\"/>\n",
       "<ellipse cx=\"549.7\" cy=\"301.7\" rx=\"4.4\" ry=\"4.4\" class=\"atom-28\" style=\"fill:#C1EFF4;fill-rule:evenodd;stroke:#C1EFF4;stroke-width:1.0px;stroke-linecap:butt;stroke-linejoin:miter;stroke-opacity:1\"/>\n",
       "<ellipse cx=\"530.8\" cy=\"313.4\" rx=\"4.4\" ry=\"4.4\" class=\"atom-29\" style=\"fill:#C1EFF4;fill-rule:evenodd;stroke:#C1EFF4;stroke-width:1.0px;stroke-linecap:butt;stroke-linejoin:miter;stroke-opacity:1\"/>\n",
       "<ellipse cx=\"507.2\" cy=\"303.0\" rx=\"10.8\" ry=\"5.8\" class=\"atom-30\" style=\"fill:#C1EFF4;fill-rule:evenodd;stroke:#C1EFF4;stroke-width:1.0px;stroke-linecap:butt;stroke-linejoin:miter;stroke-opacity:1\"/>\n",
       "<ellipse cx=\"549.0\" cy=\"279.5\" rx=\"4.4\" ry=\"4.4\" class=\"atom-31\" style=\"fill:#C1EFF4;fill-rule:evenodd;stroke:#C1EFF4;stroke-width:1.0px;stroke-linecap:butt;stroke-linejoin:miter;stroke-opacity:1\"/>\n",
       "<ellipse cx=\"567.9\" cy=\"267.7\" rx=\"4.4\" ry=\"4.4\" class=\"atom-32\" style=\"fill:#C1EFF4;fill-rule:evenodd;stroke:#C1EFF4;stroke-width:1.0px;stroke-linecap:butt;stroke-linejoin:miter;stroke-opacity:1\"/>\n",
       "<ellipse cx=\"587.5\" cy=\"278.3\" rx=\"4.4\" ry=\"4.4\" class=\"atom-33\" style=\"fill:#C1EFF4;fill-rule:evenodd;stroke:#C1EFF4;stroke-width:1.0px;stroke-linecap:butt;stroke-linejoin:miter;stroke-opacity:1\"/>\n",
       "<ellipse cx=\"606.4\" cy=\"266.5\" rx=\"4.4\" ry=\"5.7\" class=\"atom-34\" style=\"fill:#C1EFF4;fill-rule:evenodd;stroke:#C1EFF4;stroke-width:1.0px;stroke-linecap:butt;stroke-linejoin:miter;stroke-opacity:1\"/>\n",
       "<path class=\"bond-18 atom-23 atom-24\" d=\"M 606.7,328.5 L 606.5,322.2\" style=\"fill:none;fill-rule:evenodd;stroke:#FF0000;stroke-width:2.0px;stroke-linecap:butt;stroke-linejoin:miter;stroke-opacity:1\"/>\n",
       "<path class=\"bond-18 atom-23 atom-24\" d=\"M 606.5,322.2 L 606.3,315.8\" style=\"fill:none;fill-rule:evenodd;stroke:#0000FF;stroke-width:2.0px;stroke-linecap:butt;stroke-linejoin:miter;stroke-opacity:1\"/>\n",
       "<path class=\"bond-18 atom-23 atom-24\" d=\"M 610.0,328.4 L 609.8,322.1\" style=\"fill:none;fill-rule:evenodd;stroke:#FF0000;stroke-width:2.0px;stroke-linecap:butt;stroke-linejoin:miter;stroke-opacity:1\"/>\n",
       "<path class=\"bond-18 atom-23 atom-24\" d=\"M 609.8,322.1 L 609.6,315.7\" style=\"fill:none;fill-rule:evenodd;stroke:#0000FF;stroke-width:2.0px;stroke-linecap:butt;stroke-linejoin:miter;stroke-opacity:1\"/>\n",
       "<path class=\"bond-19 atom-24 atom-25\" d=\"M 615.5,306.2 L 618.9,304.1\" style=\"fill:none;fill-rule:evenodd;stroke:#0000FF;stroke-width:2.0px;stroke-linecap:butt;stroke-linejoin:miter;stroke-opacity:1\"/>\n",
       "<path class=\"bond-19 atom-24 atom-25\" d=\"M 618.9,304.1 L 622.3,302.0\" style=\"fill:none;fill-rule:evenodd;stroke:#FF0000;stroke-width:2.0px;stroke-linecap:butt;stroke-linejoin:miter;stroke-opacity:1\"/>\n",
       "<path class=\"bond-20 atom-24 atom-26\" d=\"M 604.0,309.0 L 596.1,304.7\" style=\"fill:none;fill-rule:evenodd;stroke:#0000FF;stroke-width:2.0px;stroke-linecap:butt;stroke-linejoin:miter;stroke-opacity:1\"/>\n",
       "<path class=\"bond-20 atom-24 atom-26\" d=\"M 596.1,304.7 L 588.2,300.5\" style=\"fill:none;fill-rule:evenodd;stroke:#000000;stroke-width:2.0px;stroke-linecap:butt;stroke-linejoin:miter;stroke-opacity:1\"/>\n",
       "<path class=\"bond-21 atom-26 atom-27\" d=\"M 588.2,300.5 L 569.3,312.2\" style=\"fill:none;fill-rule:evenodd;stroke:#000000;stroke-width:2.0px;stroke-linecap:butt;stroke-linejoin:miter;stroke-opacity:1\"/>\n",
       "<path class=\"bond-21 atom-26 atom-27\" d=\"M 584.8,298.7 L 569.2,308.4\" style=\"fill:none;fill-rule:evenodd;stroke:#000000;stroke-width:2.0px;stroke-linecap:butt;stroke-linejoin:miter;stroke-opacity:1\"/>\n",
       "<path class=\"bond-22 atom-27 atom-28\" d=\"M 569.3,312.2 L 549.7,301.7\" style=\"fill:none;fill-rule:evenodd;stroke:#000000;stroke-width:2.0px;stroke-linecap:butt;stroke-linejoin:miter;stroke-opacity:1\"/>\n",
       "<path class=\"bond-23 atom-28 atom-29\" d=\"M 549.7,301.7 L 530.8,313.4\" style=\"fill:none;fill-rule:evenodd;stroke:#000000;stroke-width:2.0px;stroke-linecap:butt;stroke-linejoin:miter;stroke-opacity:1\"/>\n",
       "<path class=\"bond-24 atom-29 atom-30\" d=\"M 530.8,313.4 L 523.2,309.4\" style=\"fill:none;fill-rule:evenodd;stroke:#000000;stroke-width:2.0px;stroke-linecap:butt;stroke-linejoin:miter;stroke-opacity:1\"/>\n",
       "<path class=\"bond-24 atom-29 atom-30\" d=\"M 523.2,309.4 L 515.6,305.3\" style=\"fill:none;fill-rule:evenodd;stroke:#FF0000;stroke-width:2.0px;stroke-linecap:butt;stroke-linejoin:miter;stroke-opacity:1\"/>\n",
       "<path class=\"bond-25 atom-28 atom-31\" d=\"M 549.7,301.7 L 549.0,279.5\" style=\"fill:none;fill-rule:evenodd;stroke:#000000;stroke-width:2.0px;stroke-linecap:butt;stroke-linejoin:miter;stroke-opacity:1\"/>\n",
       "<path class=\"bond-25 atom-28 atom-31\" d=\"M 553.0,299.7 L 552.4,281.3\" style=\"fill:none;fill-rule:evenodd;stroke:#000000;stroke-width:2.0px;stroke-linecap:butt;stroke-linejoin:miter;stroke-opacity:1\"/>\n",
       "<path class=\"bond-26 atom-31 atom-32\" d=\"M 549.0,279.5 L 567.9,267.7\" style=\"fill:none;fill-rule:evenodd;stroke:#000000;stroke-width:2.0px;stroke-linecap:butt;stroke-linejoin:miter;stroke-opacity:1\"/>\n",
       "<path class=\"bond-27 atom-32 atom-33\" d=\"M 567.9,267.7 L 587.5,278.3\" style=\"fill:none;fill-rule:evenodd;stroke:#000000;stroke-width:2.0px;stroke-linecap:butt;stroke-linejoin:miter;stroke-opacity:1\"/>\n",
       "<path class=\"bond-27 atom-32 atom-33\" d=\"M 568.0,271.6 L 584.2,280.3\" style=\"fill:none;fill-rule:evenodd;stroke:#000000;stroke-width:2.0px;stroke-linecap:butt;stroke-linejoin:miter;stroke-opacity:1\"/>\n",
       "<path class=\"bond-28 atom-33 atom-34\" d=\"M 587.5,278.3 L 595.4,273.4\" style=\"fill:none;fill-rule:evenodd;stroke:#000000;stroke-width:2.0px;stroke-linecap:butt;stroke-linejoin:miter;stroke-opacity:1\"/>\n",
       "<path class=\"bond-28 atom-33 atom-34\" d=\"M 595.4,273.4 L 603.3,268.5\" style=\"fill:none;fill-rule:evenodd;stroke:#33CCCC;stroke-width:2.0px;stroke-linecap:butt;stroke-linejoin:miter;stroke-opacity:1\"/>\n",
       "<path class=\"bond-29 atom-33 atom-26\" d=\"M 587.5,278.3 L 588.2,300.5\" style=\"fill:none;fill-rule:evenodd;stroke:#000000;stroke-width:2.0px;stroke-linecap:butt;stroke-linejoin:miter;stroke-opacity:1\"/>\n",
       "<path class=\"atom-0\" d=\"M 604.6 333.3 Q 604.6 331.2, 605.6 330.1 Q 606.6 329.0, 608.5 329.0 Q 610.4 329.0, 611.4 330.1 Q 612.4 331.2, 612.4 333.3 Q 612.4 335.3, 611.4 336.5 Q 610.4 337.7, 608.5 337.7 Q 606.6 337.7, 605.6 336.5 Q 604.6 335.3, 604.6 333.3 M 608.5 336.7 Q 609.8 336.7, 610.5 335.9 Q 611.2 335.0, 611.2 333.3 Q 611.2 331.6, 610.5 330.8 Q 609.8 329.9, 608.5 329.9 Q 607.2 329.9, 606.5 330.8 Q 605.8 331.6, 605.8 333.3 Q 605.8 335.0, 606.5 335.9 Q 607.2 336.7, 608.5 336.7 \" fill=\"#FF0000\"/>\n",
       "<path class=\"atom-1\" d=\"M 605.9 306.8 L 608.7 311.3 Q 609.0 311.7, 609.4 312.5 Q 609.9 313.3, 609.9 313.4 L 609.9 306.8 L 611.0 306.8 L 611.0 315.3 L 609.9 315.3 L 606.9 310.3 Q 606.5 309.8, 606.2 309.1 Q 605.8 308.4, 605.7 308.2 L 605.7 315.3 L 604.6 315.3 L 604.6 306.8 L 605.9 306.8 \" fill=\"#0000FF\"/>\n",
       "<path class=\"atom-1\" d=\"M 612.6 308.3 L 614.1 308.3 L 614.1 306.7 L 614.8 306.7 L 614.8 308.3 L 616.3 308.3 L 616.3 308.9 L 614.8 308.9 L 614.8 310.4 L 614.1 310.4 L 614.1 308.9 L 612.6 308.9 L 612.6 308.3 \" fill=\"#0000FF\"/>\n",
       "<path class=\"atom-2\" d=\"M 622.8 299.3 Q 622.8 297.3, 623.8 296.1 Q 624.8 295.0, 626.7 295.0 Q 628.6 295.0, 629.6 296.1 Q 630.6 297.3, 630.6 299.3 Q 630.6 301.4, 629.6 302.6 Q 628.6 303.7, 626.7 303.7 Q 624.8 303.7, 623.8 302.6 Q 622.8 301.4, 622.8 299.3 M 626.7 302.8 Q 628.0 302.8, 628.7 301.9 Q 629.4 301.0, 629.4 299.3 Q 629.4 297.6, 628.7 296.8 Q 628.0 296.0, 626.7 296.0 Q 625.4 296.0, 624.7 296.8 Q 624.0 297.6, 624.0 299.3 Q 624.0 301.0, 624.7 301.9 Q 625.4 302.8, 626.7 302.8 \" fill=\"#FF0000\"/>\n",
       "<path class=\"atom-2\" d=\"M 631.8 296.4 L 634.7 296.4 L 634.7 297.0 L 631.8 297.0 L 631.8 296.4 \" fill=\"#FF0000\"/>\n",
       "<path class=\"atom-7\" d=\"M 498.9 298.7 L 500.0 298.7 L 500.0 302.3 L 504.4 302.3 L 504.4 298.7 L 505.5 298.7 L 505.5 307.2 L 504.4 307.2 L 504.4 303.3 L 500.0 303.3 L 500.0 307.2 L 498.9 307.2 L 498.9 298.7 \" fill=\"#FF0000\"/>\n",
       "<path class=\"atom-7\" d=\"M 507.3 302.9 Q 507.3 300.9, 508.3 299.8 Q 509.3 298.6, 511.2 298.6 Q 513.1 298.6, 514.1 299.8 Q 515.1 300.9, 515.1 302.9 Q 515.1 305.0, 514.0 306.2 Q 513.0 307.3, 511.2 307.3 Q 509.3 307.3, 508.3 306.2 Q 507.3 305.0, 507.3 302.9 M 511.2 306.4 Q 512.5 306.4, 513.2 305.5 Q 513.9 304.6, 513.9 302.9 Q 513.9 301.3, 513.2 300.4 Q 512.5 299.6, 511.2 299.6 Q 509.9 299.6, 509.2 300.4 Q 508.5 301.3, 508.5 302.9 Q 508.5 304.7, 509.2 305.5 Q 509.9 306.4, 511.2 306.4 \" fill=\"#FF0000\"/>\n",
       "<path class=\"atom-11\" d=\"M 603.9 262.3 L 608.9 262.3 L 608.9 263.3 L 605.0 263.3 L 605.0 265.8 L 608.5 265.8 L 608.5 266.8 L 605.0 266.8 L 605.0 270.8 L 603.9 270.8 L 603.9 262.3 \" fill=\"#33CCCC\"/>\n",
       "<path d=\"M 646.5,294.0 L 646.5,306.0\" style=\"fill:none;fill-rule:evenodd;stroke:#000000;stroke-width:2.0px;stroke-linecap:butt;stroke-linejoin:miter;stroke-opacity:1\"/>\n",
       "<path d=\"M 640.5,300.0 L 652.5,300.0\" style=\"fill:none;fill-rule:evenodd;stroke:#000000;stroke-width:2.0px;stroke-linecap:butt;stroke-linejoin:miter;stroke-opacity:1\"/>\n",
       "<path class=\"bond-30 atom-35 atom-36\" d=\"M 703.8,300.0 L 692.6,319.3\" style=\"fill:none;fill-rule:evenodd;stroke:#000000;stroke-width:2.0px;stroke-linecap:butt;stroke-linejoin:miter;stroke-opacity:1\"/>\n",
       "<path class=\"bond-30 atom-35 atom-36\" d=\"M 699.9,300.0 L 690.7,315.9\" style=\"fill:none;fill-rule:evenodd;stroke:#000000;stroke-width:2.0px;stroke-linecap:butt;stroke-linejoin:miter;stroke-opacity:1\"/>\n",
       "<path class=\"bond-31 atom-36 atom-37\" d=\"M 692.6,319.3 L 670.4,319.3\" style=\"fill:none;fill-rule:evenodd;stroke:#000000;stroke-width:2.0px;stroke-linecap:butt;stroke-linejoin:miter;stroke-opacity:1\"/>\n",
       "<path class=\"bond-32 atom-37 atom-38\" d=\"M 670.4,319.3 L 666.2,312.0\" style=\"fill:none;fill-rule:evenodd;stroke:#000000;stroke-width:2.0px;stroke-linecap:butt;stroke-linejoin:miter;stroke-opacity:1\"/>\n",
       "<path class=\"bond-32 atom-37 atom-38\" d=\"M 666.2,312.0 L 662.0,304.8\" style=\"fill:none;fill-rule:evenodd;stroke:#0000FF;stroke-width:2.0px;stroke-linecap:butt;stroke-linejoin:miter;stroke-opacity:1\"/>\n",
       "<path class=\"bond-32 atom-37 atom-38\" d=\"M 672.3,315.9 L 668.6,309.5\" style=\"fill:none;fill-rule:evenodd;stroke:#000000;stroke-width:2.0px;stroke-linecap:butt;stroke-linejoin:miter;stroke-opacity:1\"/>\n",
       "<path class=\"bond-32 atom-37 atom-38\" d=\"M 668.6,309.5 L 664.9,303.1\" style=\"fill:none;fill-rule:evenodd;stroke:#0000FF;stroke-width:2.0px;stroke-linecap:butt;stroke-linejoin:miter;stroke-opacity:1\"/>\n",
       "<path class=\"bond-33 atom-38 atom-39\" d=\"M 662.0,295.2 L 666.2,288.0\" style=\"fill:none;fill-rule:evenodd;stroke:#0000FF;stroke-width:2.0px;stroke-linecap:butt;stroke-linejoin:miter;stroke-opacity:1\"/>\n",
       "<path class=\"bond-33 atom-38 atom-39\" d=\"M 666.2,288.0 L 670.4,280.7\" style=\"fill:none;fill-rule:evenodd;stroke:#000000;stroke-width:2.0px;stroke-linecap:butt;stroke-linejoin:miter;stroke-opacity:1\"/>\n",
       "<path class=\"bond-34 atom-39 atom-40\" d=\"M 670.4,280.7 L 692.6,280.7\" style=\"fill:none;fill-rule:evenodd;stroke:#000000;stroke-width:2.0px;stroke-linecap:butt;stroke-linejoin:miter;stroke-opacity:1\"/>\n",
       "<path class=\"bond-34 atom-39 atom-40\" d=\"M 672.3,284.1 L 690.7,284.1\" style=\"fill:none;fill-rule:evenodd;stroke:#000000;stroke-width:2.0px;stroke-linecap:butt;stroke-linejoin:miter;stroke-opacity:1\"/>\n",
       "<path class=\"bond-35 atom-40 atom-35\" d=\"M 692.6,280.7 L 703.8,300.0\" style=\"fill:none;fill-rule:evenodd;stroke:#000000;stroke-width:2.0px;stroke-linecap:butt;stroke-linejoin:miter;stroke-opacity:1\"/>\n",
       "<path class=\"atom-3\" d=\"M 657.4 295.8 L 660.2 300.3 Q 660.5 300.7, 660.9 301.5 Q 661.3 302.3, 661.4 302.4 L 661.4 295.8 L 662.5 295.8 L 662.5 304.2 L 661.3 304.2 L 658.3 299.3 Q 658.0 298.8, 657.6 298.1 Q 657.3 297.4, 657.2 297.2 L 657.2 304.2 L 656.1 304.2 L 656.1 295.8 L 657.4 295.8 \" fill=\"#0000FF\"/>\n",
       "<path class=\"bond-36 atom-41 atom-42\" d=\"M 861.1,311.0 L 863.5,312.3 L 864.2,333.2 L 859.4,333.3 L 858.8,312.5 Z\" style=\"fill:#C1EFF4;fill-rule:evenodd;fill-opacity:1;stroke:#C1EFF4;stroke-width:0.0px;stroke-linecap:butt;stroke-linejoin:miter;stroke-opacity:1;\"/>\n",
       "<path class=\"bond-37 atom-42 atom-43\" d=\"M 878.8,297.3 L 881.3,301.3 L 863.5,312.3 L 861.1,311.0 L 861.0,308.3 Z\" style=\"fill:#C1EFF4;fill-rule:evenodd;fill-opacity:1;stroke:#C1EFF4;stroke-width:0.0px;stroke-linecap:butt;stroke-linejoin:miter;stroke-opacity:1;\"/>\n",
       "<path class=\"bond-38 atom-42 atom-44\" d=\"M 843.8,299.1 L 861.0,308.3 L 861.1,311.0 L 858.8,312.5 L 841.6,303.2 L 841.5,300.5 Z\" style=\"fill:#C1EFF4;fill-rule:evenodd;fill-opacity:1;stroke:#C1EFF4;stroke-width:0.0px;stroke-linecap:butt;stroke-linejoin:miter;stroke-opacity:1;\"/>\n",
       "<path class=\"bond-39 atom-44 atom-45\" d=\"M 839.1,299.2 L 841.5,300.5 L 841.6,303.2 L 822.7,315.0 L 822.5,309.5 Z\" style=\"fill:#C1EFF4;fill-rule:evenodd;fill-opacity:1;stroke:#C1EFF4;stroke-width:0.0px;stroke-linecap:butt;stroke-linejoin:miter;stroke-opacity:1;\"/>\n",
       "<path class=\"bond-47 atom-44 atom-51\" d=\"M 840.8,278.3 L 843.2,279.6 L 843.8,299.1 L 841.5,300.5 L 839.1,299.2 L 838.5,279.7 Z\" style=\"fill:#C1EFF4;fill-rule:evenodd;fill-opacity:1;stroke:#C1EFF4;stroke-width:0.0px;stroke-linecap:butt;stroke-linejoin:miter;stroke-opacity:1;\"/>\n",
       "<path class=\"bond-40 atom-45 atom-46\" d=\"M 805.3,300.3 L 822.5,309.5 L 822.7,315.0 L 803.1,304.4 L 803.0,301.7 Z\" style=\"fill:#C1EFF4;fill-rule:evenodd;fill-opacity:1;stroke:#C1EFF4;stroke-width:0.0px;stroke-linecap:butt;stroke-linejoin:miter;stroke-opacity:1;\"/>\n",
       "<path class=\"bond-41 atom-46 atom-47\" d=\"M 800.6,300.4 L 803.0,301.7 L 803.1,304.4 L 784.2,316.2 L 784.0,310.7 Z\" style=\"fill:#C1EFF4;fill-rule:evenodd;fill-opacity:1;stroke:#C1EFF4;stroke-width:0.0px;stroke-linecap:butt;stroke-linejoin:miter;stroke-opacity:1;\"/>\n",
       "<path class=\"bond-43 atom-46 atom-49\" d=\"M 799.9,278.2 L 804.7,280.8 L 805.3,300.3 L 803.0,301.7 L 800.6,300.4 Z\" style=\"fill:#C1EFF4;fill-rule:evenodd;fill-opacity:1;stroke:#C1EFF4;stroke-width:0.0px;stroke-linecap:butt;stroke-linejoin:miter;stroke-opacity:1;\"/>\n",
       "<path class=\"bond-42 atom-47 atom-48\" d=\"M 765.6,300.8 L 784.0,310.7 L 784.2,316.2 L 763.4,305.0 Z\" style=\"fill:#C1EFF4;fill-rule:evenodd;fill-opacity:1;stroke:#C1EFF4;stroke-width:0.0px;stroke-linecap:butt;stroke-linejoin:miter;stroke-opacity:1;\"/>\n",
       "<path class=\"bond-44 atom-49 atom-50\" d=\"M 821.1,265.0 L 821.3,270.5 L 804.7,280.8 L 799.9,278.2 Z\" style=\"fill:#C1EFF4;fill-rule:evenodd;fill-opacity:1;stroke:#C1EFF4;stroke-width:0.0px;stroke-linecap:butt;stroke-linejoin:miter;stroke-opacity:1;\"/>\n",
       "<path class=\"bond-45 atom-50 atom-51\" d=\"M 821.1,265.0 L 840.7,275.5 L 840.8,278.3 L 838.5,279.7 L 821.3,270.5 Z\" style=\"fill:#C1EFF4;fill-rule:evenodd;fill-opacity:1;stroke:#C1EFF4;stroke-width:0.0px;stroke-linecap:butt;stroke-linejoin:miter;stroke-opacity:1;\"/>\n",
       "<path class=\"bond-46 atom-51 atom-52\" d=\"M 858.5,264.5 L 861.0,268.6 L 843.2,279.6 L 840.8,278.3 L 840.7,275.5 Z\" style=\"fill:#C1EFF4;fill-rule:evenodd;fill-opacity:1;stroke:#C1EFF4;stroke-width:0.0px;stroke-linecap:butt;stroke-linejoin:miter;stroke-opacity:1;\"/>\n",
       "<ellipse cx=\"861.8\" cy=\"333.3\" rx=\"5.2\" ry=\"5.8\" class=\"atom-41\" style=\"fill:#C1EFF4;fill-rule:evenodd;stroke:#C1EFF4;stroke-width:1.0px;stroke-linecap:butt;stroke-linejoin:miter;stroke-opacity:1\"/>\n",
       "<ellipse cx=\"863.6\" cy=\"311.0\" rx=\"7.9\" ry=\"5.7\" class=\"atom-42\" style=\"fill:#C1EFF4;fill-rule:evenodd;stroke:#C1EFF4;stroke-width:1.0px;stroke-linecap:butt;stroke-linejoin:miter;stroke-opacity:1\"/>\n",
       "<ellipse cx=\"882.0\" cy=\"299.3\" rx=\"8.0\" ry=\"5.8\" class=\"atom-43\" style=\"fill:#C1EFF4;fill-rule:evenodd;stroke:#C1EFF4;stroke-width:1.0px;stroke-linecap:butt;stroke-linejoin:miter;stroke-opacity:1\"/>\n",
       "<ellipse cx=\"841.5\" cy=\"300.5\" rx=\"4.4\" ry=\"4.4\" class=\"atom-44\" style=\"fill:#C1EFF4;fill-rule:evenodd;stroke:#C1EFF4;stroke-width:1.0px;stroke-linecap:butt;stroke-linejoin:miter;stroke-opacity:1\"/>\n",
       "<ellipse cx=\"822.6\" cy=\"312.2\" rx=\"4.4\" ry=\"4.4\" class=\"atom-45\" style=\"fill:#C1EFF4;fill-rule:evenodd;stroke:#C1EFF4;stroke-width:1.0px;stroke-linecap:butt;stroke-linejoin:miter;stroke-opacity:1\"/>\n",
       "<ellipse cx=\"803.0\" cy=\"301.7\" rx=\"4.4\" ry=\"4.4\" class=\"atom-46\" style=\"fill:#C1EFF4;fill-rule:evenodd;stroke:#C1EFF4;stroke-width:1.0px;stroke-linecap:butt;stroke-linejoin:miter;stroke-opacity:1\"/>\n",
       "<ellipse cx=\"784.1\" cy=\"313.4\" rx=\"4.4\" ry=\"4.4\" class=\"atom-47\" style=\"fill:#C1EFF4;fill-rule:evenodd;stroke:#C1EFF4;stroke-width:1.0px;stroke-linecap:butt;stroke-linejoin:miter;stroke-opacity:1\"/>\n",
       "<ellipse cx=\"765.3\" cy=\"301.5\" rx=\"5.2\" ry=\"5.8\" class=\"atom-48\" style=\"fill:#C1EFF4;fill-rule:evenodd;stroke:#C1EFF4;stroke-width:1.0px;stroke-linecap:butt;stroke-linejoin:miter;stroke-opacity:1\"/>\n",
       "<ellipse cx=\"802.3\" cy=\"279.5\" rx=\"4.4\" ry=\"4.4\" class=\"atom-49\" style=\"fill:#C1EFF4;fill-rule:evenodd;stroke:#C1EFF4;stroke-width:1.0px;stroke-linecap:butt;stroke-linejoin:miter;stroke-opacity:1\"/>\n",
       "<ellipse cx=\"821.2\" cy=\"267.7\" rx=\"4.4\" ry=\"4.4\" class=\"atom-50\" style=\"fill:#C1EFF4;fill-rule:evenodd;stroke:#C1EFF4;stroke-width:1.0px;stroke-linecap:butt;stroke-linejoin:miter;stroke-opacity:1\"/>\n",
       "<ellipse cx=\"840.8\" cy=\"278.3\" rx=\"4.4\" ry=\"4.4\" class=\"atom-51\" style=\"fill:#C1EFF4;fill-rule:evenodd;stroke:#C1EFF4;stroke-width:1.0px;stroke-linecap:butt;stroke-linejoin:miter;stroke-opacity:1\"/>\n",
       "<ellipse cx=\"859.7\" cy=\"266.5\" rx=\"4.4\" ry=\"5.7\" class=\"atom-52\" style=\"fill:#C1EFF4;fill-rule:evenodd;stroke:#C1EFF4;stroke-width:1.0px;stroke-linecap:butt;stroke-linejoin:miter;stroke-opacity:1\"/>\n",
       "<path class=\"bond-36 atom-41 atom-42\" d=\"M 860.0,328.5 L 859.8,322.2\" style=\"fill:none;fill-rule:evenodd;stroke:#FF0000;stroke-width:2.0px;stroke-linecap:butt;stroke-linejoin:miter;stroke-opacity:1\"/>\n",
       "<path class=\"bond-36 atom-41 atom-42\" d=\"M 859.8,322.2 L 859.6,315.8\" style=\"fill:none;fill-rule:evenodd;stroke:#0000FF;stroke-width:2.0px;stroke-linecap:butt;stroke-linejoin:miter;stroke-opacity:1\"/>\n",
       "<path class=\"bond-36 atom-41 atom-42\" d=\"M 863.3,328.4 L 863.1,322.1\" style=\"fill:none;fill-rule:evenodd;stroke:#FF0000;stroke-width:2.0px;stroke-linecap:butt;stroke-linejoin:miter;stroke-opacity:1\"/>\n",
       "<path class=\"bond-36 atom-41 atom-42\" d=\"M 863.1,322.1 L 862.9,315.7\" style=\"fill:none;fill-rule:evenodd;stroke:#0000FF;stroke-width:2.0px;stroke-linecap:butt;stroke-linejoin:miter;stroke-opacity:1\"/>\n",
       "<path class=\"bond-37 atom-42 atom-43\" d=\"M 868.9,306.2 L 872.2,304.1\" style=\"fill:none;fill-rule:evenodd;stroke:#0000FF;stroke-width:2.0px;stroke-linecap:butt;stroke-linejoin:miter;stroke-opacity:1\"/>\n",
       "<path class=\"bond-37 atom-42 atom-43\" d=\"M 872.2,304.1 L 875.6,302.0\" style=\"fill:none;fill-rule:evenodd;stroke:#FF0000;stroke-width:2.0px;stroke-linecap:butt;stroke-linejoin:miter;stroke-opacity:1\"/>\n",
       "<path class=\"bond-38 atom-42 atom-44\" d=\"M 857.3,309.0 L 849.4,304.7\" style=\"fill:none;fill-rule:evenodd;stroke:#0000FF;stroke-width:2.0px;stroke-linecap:butt;stroke-linejoin:miter;stroke-opacity:1\"/>\n",
       "<path class=\"bond-38 atom-42 atom-44\" d=\"M 849.4,304.7 L 841.5,300.5\" style=\"fill:none;fill-rule:evenodd;stroke:#000000;stroke-width:2.0px;stroke-linecap:butt;stroke-linejoin:miter;stroke-opacity:1\"/>\n",
       "<path class=\"bond-39 atom-44 atom-45\" d=\"M 841.5,300.5 L 822.6,312.2\" style=\"fill:none;fill-rule:evenodd;stroke:#000000;stroke-width:2.0px;stroke-linecap:butt;stroke-linejoin:miter;stroke-opacity:1\"/>\n",
       "<path class=\"bond-39 atom-44 atom-45\" d=\"M 838.1,298.7 L 822.5,308.4\" style=\"fill:none;fill-rule:evenodd;stroke:#000000;stroke-width:2.0px;stroke-linecap:butt;stroke-linejoin:miter;stroke-opacity:1\"/>\n",
       "<path class=\"bond-40 atom-45 atom-46\" d=\"M 822.6,312.2 L 803.0,301.7\" style=\"fill:none;fill-rule:evenodd;stroke:#000000;stroke-width:2.0px;stroke-linecap:butt;stroke-linejoin:miter;stroke-opacity:1\"/>\n",
       "<path class=\"bond-41 atom-46 atom-47\" d=\"M 803.0,301.7 L 784.1,313.4\" style=\"fill:none;fill-rule:evenodd;stroke:#000000;stroke-width:2.0px;stroke-linecap:butt;stroke-linejoin:miter;stroke-opacity:1\"/>\n",
       "<path class=\"bond-42 atom-47 atom-48\" d=\"M 784.1,313.4 L 776.5,309.4\" style=\"fill:none;fill-rule:evenodd;stroke:#000000;stroke-width:2.0px;stroke-linecap:butt;stroke-linejoin:miter;stroke-opacity:1\"/>\n",
       "<path class=\"bond-42 atom-47 atom-48\" d=\"M 776.5,309.4 L 768.9,305.3\" style=\"fill:none;fill-rule:evenodd;stroke:#FF0000;stroke-width:2.0px;stroke-linecap:butt;stroke-linejoin:miter;stroke-opacity:1\"/>\n",
       "<path class=\"bond-42 atom-47 atom-48\" d=\"M 784.0,309.6 L 778.1,306.4\" style=\"fill:none;fill-rule:evenodd;stroke:#000000;stroke-width:2.0px;stroke-linecap:butt;stroke-linejoin:miter;stroke-opacity:1\"/>\n",
       "<path class=\"bond-42 atom-47 atom-48\" d=\"M 778.1,306.4 L 770.5,302.4\" style=\"fill:none;fill-rule:evenodd;stroke:#FF0000;stroke-width:2.0px;stroke-linecap:butt;stroke-linejoin:miter;stroke-opacity:1\"/>\n",
       "<path class=\"bond-43 atom-46 atom-49\" d=\"M 803.0,301.7 L 802.3,279.5\" style=\"fill:none;fill-rule:evenodd;stroke:#000000;stroke-width:2.0px;stroke-linecap:butt;stroke-linejoin:miter;stroke-opacity:1\"/>\n",
       "<path class=\"bond-43 atom-46 atom-49\" d=\"M 806.3,299.7 L 805.7,281.3\" style=\"fill:none;fill-rule:evenodd;stroke:#000000;stroke-width:2.0px;stroke-linecap:butt;stroke-linejoin:miter;stroke-opacity:1\"/>\n",
       "<path class=\"bond-44 atom-49 atom-50\" d=\"M 802.3,279.5 L 821.2,267.7\" style=\"fill:none;fill-rule:evenodd;stroke:#000000;stroke-width:2.0px;stroke-linecap:butt;stroke-linejoin:miter;stroke-opacity:1\"/>\n",
       "<path class=\"bond-45 atom-50 atom-51\" d=\"M 821.2,267.7 L 840.8,278.3\" style=\"fill:none;fill-rule:evenodd;stroke:#000000;stroke-width:2.0px;stroke-linecap:butt;stroke-linejoin:miter;stroke-opacity:1\"/>\n",
       "<path class=\"bond-45 atom-50 atom-51\" d=\"M 821.3,271.6 L 837.5,280.3\" style=\"fill:none;fill-rule:evenodd;stroke:#000000;stroke-width:2.0px;stroke-linecap:butt;stroke-linejoin:miter;stroke-opacity:1\"/>\n",
       "<path class=\"bond-46 atom-51 atom-52\" d=\"M 840.8,278.3 L 848.7,273.4\" style=\"fill:none;fill-rule:evenodd;stroke:#000000;stroke-width:2.0px;stroke-linecap:butt;stroke-linejoin:miter;stroke-opacity:1\"/>\n",
       "<path class=\"bond-46 atom-51 atom-52\" d=\"M 848.7,273.4 L 856.6,268.5\" style=\"fill:none;fill-rule:evenodd;stroke:#33CCCC;stroke-width:2.0px;stroke-linecap:butt;stroke-linejoin:miter;stroke-opacity:1\"/>\n",
       "<path class=\"bond-47 atom-51 atom-44\" d=\"M 840.8,278.3 L 841.5,300.5\" style=\"fill:none;fill-rule:evenodd;stroke:#000000;stroke-width:2.0px;stroke-linecap:butt;stroke-linejoin:miter;stroke-opacity:1\"/>\n",
       "<path class=\"atom-0\" d=\"M 857.9 333.3 Q 857.9 331.2, 858.9 330.1 Q 859.9 329.0, 861.8 329.0 Q 863.7 329.0, 864.7 330.1 Q 865.7 331.2, 865.7 333.3 Q 865.7 335.3, 864.7 336.5 Q 863.7 337.7, 861.8 337.7 Q 859.9 337.7, 858.9 336.5 Q 857.9 335.3, 857.9 333.3 M 861.8 336.7 Q 863.1 336.7, 863.8 335.9 Q 864.5 335.0, 864.5 333.3 Q 864.5 331.6, 863.8 330.8 Q 863.1 329.9, 861.8 329.9 Q 860.5 329.9, 859.8 330.8 Q 859.1 331.6, 859.1 333.3 Q 859.1 335.0, 859.8 335.9 Q 860.5 336.7, 861.8 336.7 \" fill=\"#FF0000\"/>\n",
       "<path class=\"atom-1\" d=\"M 859.2 306.8 L 862.0 311.3 Q 862.3 311.7, 862.7 312.5 Q 863.2 313.3, 863.2 313.4 L 863.2 306.8 L 864.3 306.8 L 864.3 315.3 L 863.2 315.3 L 860.2 310.3 Q 859.8 309.8, 859.5 309.1 Q 859.1 308.4, 859.0 308.2 L 859.0 315.3 L 857.9 315.3 L 857.9 306.8 L 859.2 306.8 \" fill=\"#0000FF\"/>\n",
       "<path class=\"atom-1\" d=\"M 865.9 308.3 L 867.4 308.3 L 867.4 306.7 L 868.1 306.7 L 868.1 308.3 L 869.6 308.3 L 869.6 308.9 L 868.1 308.9 L 868.1 310.4 L 867.4 310.4 L 867.4 308.9 L 865.9 308.9 L 865.9 308.3 \" fill=\"#0000FF\"/>\n",
       "<path class=\"atom-2\" d=\"M 876.1 299.3 Q 876.1 297.3, 877.1 296.1 Q 878.1 295.0, 880.0 295.0 Q 881.9 295.0, 882.9 296.1 Q 883.9 297.3, 883.9 299.3 Q 883.9 301.4, 882.9 302.6 Q 881.9 303.7, 880.0 303.7 Q 878.2 303.7, 877.1 302.6 Q 876.1 301.4, 876.1 299.3 M 880.0 302.8 Q 881.3 302.8, 882.0 301.9 Q 882.7 301.0, 882.7 299.3 Q 882.7 297.6, 882.0 296.8 Q 881.3 296.0, 880.0 296.0 Q 878.7 296.0, 878.0 296.8 Q 877.3 297.6, 877.3 299.3 Q 877.3 301.0, 878.0 301.9 Q 878.7 302.8, 880.0 302.8 \" fill=\"#FF0000\"/>\n",
       "<path class=\"atom-2\" d=\"M 885.1 296.4 L 888.0 296.4 L 888.0 297.0 L 885.1 297.0 L 885.1 296.4 \" fill=\"#FF0000\"/>\n",
       "<path class=\"atom-7\" d=\"M 761.4 301.5 Q 761.4 299.4, 762.4 298.3 Q 763.4 297.2, 765.3 297.2 Q 767.2 297.2, 768.2 298.3 Q 769.2 299.4, 769.2 301.5 Q 769.2 303.5, 768.1 304.7 Q 767.1 305.9, 765.3 305.9 Q 763.4 305.9, 762.4 304.7 Q 761.4 303.6, 761.4 301.5 M 765.3 304.9 Q 766.6 304.9, 767.3 304.1 Q 768.0 303.2, 768.0 301.5 Q 768.0 299.8, 767.3 299.0 Q 766.6 298.1, 765.3 298.1 Q 764.0 298.1, 763.3 299.0 Q 762.6 299.8, 762.6 301.5 Q 762.6 303.2, 763.3 304.1 Q 764.0 304.9, 765.3 304.9 \" fill=\"#FF0000\"/>\n",
       "<path class=\"atom-11\" d=\"M 857.2 262.3 L 862.2 262.3 L 862.2 263.3 L 858.3 263.3 L 858.3 265.8 L 861.8 265.8 L 861.8 266.8 L 858.3 266.8 L 858.3 270.8 L 857.2 270.8 L 857.2 262.3 \" fill=\"#33CCCC\"/>\n",
       "<path d=\"M 713.0,300.0 L 751.0,300.0\" style=\"fill:none;fill-rule:evenodd;stroke:#000000;stroke-width:2.0px;stroke-linecap:butt;stroke-linejoin:miter;stroke-opacity:1\"/>\n",
       "<path d=\"M 751.0,300.0 L 746.0,302.9\" style=\"fill:none;fill-rule:evenodd;stroke:#000000;stroke-width:2.0px;stroke-linecap:butt;stroke-linejoin:miter;stroke-opacity:1\"/>\n",
       "<path d=\"M 751.0,300.0 L 746.0,297.1\" style=\"fill:none;fill-rule:evenodd;stroke:#000000;stroke-width:2.0px;stroke-linecap:butt;stroke-linejoin:miter;stroke-opacity:1\"/>\n",
       "</svg></td></tr></table>"
      ],
      "text/plain": [
       "<IPython.core.display.HTML object>"
      ]
     },
     "metadata": {},
     "output_type": "display_data"
    }
   ],
   "source": [
    "from SynTemp.SynVis.chemical_reaction_visualizer import ChemicalReactionVisualizer\n",
    "vis = ChemicalReactionVisualizer()\n",
    "vis.visualize_and_compare_reactions(data[0], num_cols=3)"
   ]
  },
  {
   "cell_type": "code",
   "execution_count": 5,
   "metadata": {},
   "outputs": [
    {
     "name": "stderr",
     "output_type": "stream",
     "text": [
      "[22:12:21] reactant 0 has no mapped atoms.\n",
      "[22:12:21] reactant 1 has no mapped atoms.\n",
      "[22:12:21] reactant 2 has no mapped atoms.\n",
      "[22:12:21] reactant 3 has no mapped atoms.\n",
      "[22:12:21] reactant 4 has no mapped atoms.\n",
      "[22:12:21] reactant 6 has no mapped atoms.\n"
     ]
    },
    {
     "data": {
      "image/png": "[encoded data removed]",
      "text/plain": [
       "<IPython.core.display.Image object>"
      ]
     },
     "metadata": {},
     "output_type": "display_data"
    }
   ],
   "source": [
    "from SynTemp.SynVis.its_visualizer import ITSVisualizer\n",
    "from IPython.display import Image\n",
    "its_vis = ITSVisualizer(data[0]['rxn_mapper'])\n",
    "display(Image(its_vis.draw_product_with_modified_bonds()))"
   ]
  },
  {
   "cell_type": "code",
   "execution_count": null,
   "metadata": {},
   "outputs": [],
   "source": []
  }
 ],
 "metadata": {
  "kernelspec": {
   "display_name": "SynITSG",
   "language": "python",
   "name": "python3"
  },
  "language_info": {
   "codemirror_mode": {
    "name": "ipython",
    "version": 3
   },
   "file_extension": ".py",
   "mimetype": "text/x-python",
   "name": "python",
   "nbconvert_exporter": "python",
   "pygments_lexer": "ipython3",
   "version": "3.11.0"
  }
 },
 "nbformat": 4,
 "nbformat_minor": 2
}
