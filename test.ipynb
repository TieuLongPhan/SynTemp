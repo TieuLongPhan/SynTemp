{
 "cells": [
  {
   "cell_type": "code",
   "execution_count": null,
   "metadata": {},
   "outputs": [],
   "source": [
    "from SynTemp.SynAAM.atom_mappers import map_with_local_mapper, map_with_rdt\n",
    "from SynTemp.SynAAM.consensus_aam import ConsensusAAM"
   ]
  },
  {
   "cell_type": "code",
   "execution_count": null,
   "metadata": {},
   "outputs": [],
   "source": [
    "from SynTemp.SynAAM.run_consensus import run_consensus_aam\n",
    "from SynTemp.utils import load_database\n",
    "from rxnmapper import RXNMapper\n",
    "rxn_mapper = RXNMapper()\n",
    "data = load_database('./Data/jaworski/jaworski_reactions.json.gz')[:5]"
   ]
  },
  {
   "cell_type": "code",
   "execution_count": null,
   "metadata": {},
   "outputs": [],
   "source": [
    "mapper_types = ['graphormer', 'local_mapper']\n",
    "mapped_reactions = run_consensus_aam(data, check_balance=False, mapper_types=mapper_types, rdt_jar_path='../Data/RDT_2.4.1.jar', working_dir='./',\n",
    "                            data_name='Jaworski_8', n_jobs=1)"
   ]
  },
  {
   "cell_type": "code",
   "execution_count": null,
   "metadata": {},
   "outputs": [],
   "source": [
    "import sys\n",
    "sys.path.append('../')\n",
    "from SynTemp.SynAAM.aam_postprocess import AMMPostprocessor\n",
    "from SynTemp.SynITS.its_extraction import ITSExtraction\n",
    "from SynTemp.utils import load_database, save_database\n",
    "\n",
    "data = load_database(f'./Data/uspto//uspto_balance_aam_reactions.json.gz')\n",
    "mapper_name = ['rxn_mapper', 'graphormer', 'local_mapper']\n",
    "\n",
    "# make sure reactions all have atom mapping\n",
    "check_valid = AMMPostprocessor.parallel_postprocess(data, mapper_name, threshold=3, n_jobs=5, verbose=1)\n",
    "valid_data = [reaction for reaction in check_valid if reaction.get('Valid')]"
   ]
  },
  {
   "cell_type": "code",
   "execution_count": null,
   "metadata": {},
   "outputs": [],
   "source": [
    "golden = pd.read_csv('./Data/golden/golden_dataset.csv')\n",
    "golden['reactions']"
   ]
  },
  {
   "cell_type": "code",
   "execution_count": null,
   "metadata": {},
   "outputs": [],
   "source": [
    "data_check2 = load_database('./Data/golden/golden_aam_reactions.json.gz')\n",
    "data_check2[0]"
   ]
  },
  {
   "cell_type": "code",
   "execution_count": null,
   "metadata": {},
   "outputs": [],
   "source": [
    "import pandas as pd\n",
    "data_check =pd.DataFrame(data_check2)\n",
    "data_check['ground_truth'] = golden['reactions']"
   ]
  },
  {
   "cell_type": "code",
   "execution_count": null,
   "metadata": {},
   "outputs": [],
   "source": [
    "import pandas as pd\n",
    "data_check = pd.read_csv('./Data/benchmark.csv')\n",
    "data_check"
   ]
  },
  {
   "cell_type": "code",
   "execution_count": 25,
   "metadata": {},
   "outputs": [
    {
     "data": {
      "text/plain": [
       "{'R-id': 'G_0',\n",
       " 'reactions': 'C=CCC(N)(c1ccccc1)c1ccccc1.O=CC(C(=O)N1CCOCC1)c1ccccc1>>C=CCC(N=C(c1ccccc1)c1ccccc1)C(C(=O)N1CCOCC1)c1ccccc1',\n",
       " 'local_mapper': '[CH2:1]=[CH:2][CH2:3][C:6]([NH2:5])([c:7]1[cH:8][cH:9][cH:10][cH:11][cH:12]1)[c:13]1[cH:14][cH:15][cH:16][cH:17][cH:18]1.O=[CH:4][CH:19]([C:20](=[O:21])[N:22]1[CH2:23][CH2:24][O:25][CH2:26][CH2:27]1)[c:28]1[cH:29][cH:30][cH:31][cH:32][cH:33]1>>[CH2:1]=[CH:2][CH2:3][CH:4]([N:5]=[C:6]([c:7]1[cH:8][cH:9][cH:10][cH:11][cH:12]1)[c:13]1[cH:14][cH:15][cH:16][cH:17][cH:18]1)[CH:19]([C:20](=[O:21])[N:22]1[CH2:23][CH2:24][O:25][CH2:26][CH2:27]1)[c:28]1[cH:29][cH:30][cH:31][cH:32][cH:33]1',\n",
       " 'rxn_mapper': '[CH2:1]=[CH:2][CH2:3][C:6]([NH2:5])([c:7]1[cH:8][cH:9][cH:10][cH:11][cH:12]1)[c:13]1[cH:14][cH:15][cH:16][cH:17][cH:18]1.O=[CH:4][CH:19]([C:20](=[O:21])[N:22]1[CH2:23][CH2:24][O:25][CH2:26][CH2:27]1)[c:28]1[cH:29][cH:30][cH:31][cH:32][cH:33]1>>[CH2:1]=[CH:2][CH2:3][CH:4]([N:5]=[C:6]([c:7]1[cH:8][cH:9][cH:10][cH:11][cH:12]1)[c:13]1[cH:14][cH:15][cH:16][cH:17][cH:18]1)[CH:19]([C:20](=[O:21])[N:22]1[CH2:23][CH2:24][O:25][CH2:26][CH2:27]1)[c:28]1[cH:29][cH:30][cH:31][cH:32][cH:33]1',\n",
       " 'graphormer': '[CH2:25]1[CH2:24][N:23]([CH2:28][CH2:27][O:26]1)[C:21](=[O:22])[CH:20]([CH:19]=[O:18])[c:29]1[cH:34][cH:33][cH:32][cH:31][cH:30]1.[cH:8]1[cH:7][c:6]([cH:11][cH:10][cH:9]1)[C:4]([c:12]1[cH:17][cH:16][cH:15][cH:14][cH:13]1)([NH2:5])[CH2:3][CH:2]=[CH2:1]>>[cH:8]1[cH:7][c:6]([cH:11][cH:10][cH:9]1)[C:4]([c:12]1[cH:17][cH:16][cH:15][cH:14][cH:13]1)=[N:5][CH:19]([CH2:3][CH:2]=[CH2:1])[CH:20]([c:29]1[cH:34][cH:33][cH:32][cH:31][cH:30]1)[C:21](=[O:22])[N:23]1[CH2:24][CH2:25][O:26][CH2:27][CH2:28]1',\n",
       " 'ground_truth': '[CH:9]1=[CH:8][CH:7]=[C:6]([CH:11]=[CH:10]1)[C:2]([C:12]2=[CH:13][CH:14]=[CH:15][CH:16]=[CH:17]2)([CH2:3][CH:4]=[CH2:5])[NH2:1].[CH2:25]1[CH2:24][N:23]([CH2:28][CH2:27][O:26]1)[C:21]([CH:20]([CH:19]=[O:18])[C:29]=2[CH:34]=[CH:33][CH:32]=[CH:31][CH:30]=2)=[O:22]>>[CH:10]=1[CH:11]=[C:6]([CH:7]=[CH:8][CH:9]=1)[C:2]([C:12]2=[CH:17][CH:16]=[CH:15][CH:14]=[CH:13]2)=[N:1][CH:19]([CH2:5][CH:4]=[CH2:3])[CH:20]([C:29]3=[CH:34][CH:33]=[CH:32][CH:31]=[CH:30]3)[C:21](=[O:22])[N:23]4[CH2:24][CH2:25][O:26][CH2:27][CH2:28]4'}"
      ]
     },
     "execution_count": 25,
     "metadata": {},
     "output_type": "execute_result"
    }
   ],
   "source": [
    "data_check[0]"
   ]
  },
  {
   "cell_type": "code",
   "execution_count": 26,
   "metadata": {},
   "outputs": [
    {
     "data": {
      "text/plain": [
       "{'R-id': 'G_1',\n",
       " 'reactions': 'C=CCSCC(C)=O.C=CC(O)C(C)N>>CC(=O)CSCC=CC(O)C(C)N',\n",
       " 'local_mapper': 'C=[CH:7][CH2:6][S:5][CH2:4][C:2]([CH3:1])=[O:3].C=[CH:8][CH:9]([OH:10])[CH:11]([CH3:12])[NH2:13]>>[CH3:1][C:2](=[O:3])[CH2:4][S:5][CH2:6][CH:7]=[CH:8][CH:9]([OH:10])[CH:11]([CH3:12])[NH2:13]',\n",
       " 'rxn_mapper': 'C=[CH:7][CH2:6][S:5][CH2:4][C:2]([CH3:1])=[O:3].C=[CH:8][CH:9]([OH:10])[CH:11]([CH3:12])[NH2:13]>>[CH3:1][C:2](=[O:3])[CH2:4][S:5][CH2:6][CH:7]=[CH:8][CH:9]([OH:10])[CH:11]([CH3:12])[NH2:13]',\n",
       " 'graphormer': '[CH3:7][C:6](=[O:8])[CH2:5][S:4][CH2:3][CH:2]=[CH2:1].[NH2:15][CH:13]([CH3:14])[CH:11]([OH:12])[CH:10]=[CH2:9]>>[CH:10](=[CH:2][CH2:3][S:4][CH2:5][C:6]([CH3:7])=[O:8])[CH:11]([OH:12])[CH:13]([NH2:15])[CH3:14]',\n",
       " 'ground_truth': '[CH3:1][C:2](=[O:3])[CH2:4][S:5][CH2:6][CH:7]=[CH2:8].[NH2:11][CH:10]([CH3:9])[CH:12]([OH:13])[CH:14]=[CH2:15]>>[CH:14](=[CH:7][CH2:6][S:5][CH2:4][C:2]([CH3:1])=[O:3])[CH:12]([OH:13])[CH:10]([NH2:11])[CH3:9]'}"
      ]
     },
     "execution_count": 26,
     "metadata": {},
     "output_type": "execute_result"
    }
   ],
   "source": [
    "data_check[1]"
   ]
  },
  {
   "cell_type": "code",
   "execution_count": 19,
   "metadata": {},
   "outputs": [
    {
     "data": {
      "text/plain": [
       "{'R-id': 'G_4',\n",
       " 'reactions': 'CN(CC#Cc1ccsc1)c1ccccc1.O>>CN(C(=CC=O)c1ccsc1)c1ccccc1',\n",
       " 'local_mapper': '[CH3:1][N:2]([CH2:5][C:4]#[C:3][c:7]1[cH:8][cH:9][s:10][cH:11]1)[c:12]1[cH:17][cH:16][cH:15][cH:14][cH:13]1.[OH2:6]>>[CH3:1][N:2]([C:3](=[CH:4][CH:5]=[O:6])[c:7]1[cH:8][cH:9][s:10][cH:11]1)[c:12]1[cH:13][cH:14][cH:15][cH:16][cH:17]1',\n",
       " 'rxn_mapper': '[CH3:1][N:2]([CH2:3][C:4]#[C:5][c:7]1[cH:8][cH:9][s:10][cH:11]1)[c:12]1[cH:13][cH:14][cH:15][cH:16][cH:17]1.[OH2:6]>>[CH3:1][N:2]([C:3](=[CH:4][CH:5]=[O:6])[c:7]1[cH:8][cH:9][s:10][cH:11]1)[c:12]1[cH:13][cH:14][cH:15][cH:16][cH:17]1',\n",
       " 'graphormer': '[OH2:17].[cH:12]1[cH:13][cH:14][cH:15][cH:16][c:11]1[N:2]([CH3:1])[CH2:3][C:4]#[C:5][c:6]1[cH:10][s:9][cH:8][cH:7]1>>[cH:12]1[cH:13][cH:14][cH:15][cH:16][c:11]1[N:2]([CH3:1])[C:5](=[CH:4][CH:3]=[O:17])[c:6]1[cH:10][s:9][cH:8][cH:7]1',\n",
       " 'ground_truth': '[CH:8]=1[S:9][CH:10]=[C:6]([C:5]#[C:4][CH2:3][N:2]([C:11]2=[CH:12][CH:13]=[CH:14][CH:15]=[CH:16]2)[CH3:1])[CH:7]=1.[OH2:17]>>[C:5]([N:2]([CH3:1])[C:11]1=[CH:12][CH:13]=[CH:14][CH:15]=[CH:16]1)([C:6]2=[CH:10][S:9][CH:8]=[CH:7]2)=[CH:4][CH:3]=[O:17]'}"
      ]
     },
     "execution_count": 19,
     "metadata": {},
     "output_type": "execute_result"
    }
   ],
   "source": [
    "data_check[4]"
   ]
  },
  {
   "cell_type": "code",
   "execution_count": null,
   "metadata": {},
   "outputs": [],
   "source": [
    "from SynTemp.SynAAM.aam_validator import AMMValidator\n",
    "mapped_cols = ['rxn_mapper', 'graphormer', 'local_mapper']\n",
    "validation_results = AMMValidator.validate_smiles(data_check, 'ground_truth', mapped_cols, check_method='RC', ignore_aromaticity=False, n_jobs=4, verbose=2)\n",
    "validation_results"
   ]
  },
  {
   "cell_type": "code",
   "execution_count": 23,
   "metadata": {},
   "outputs": [
    {
     "data": {
      "text/plain": [
       "0.8924905456509995"
      ]
     },
     "execution_count": 23,
     "metadata": {},
     "output_type": "execute_result"
    }
   ],
   "source": [
    "validation_results[1]['accuracy']"
   ]
  },
  {
   "cell_type": "code",
   "execution_count": 18,
   "metadata": {},
   "outputs": [
    {
     "data": {
      "text/html": [
       "<div>\n",
       "<style scoped>\n",
       "    .dataframe tbody tr th:only-of-type {\n",
       "        vertical-align: middle;\n",
       "    }\n",
       "\n",
       "    .dataframe tbody tr th {\n",
       "        vertical-align: top;\n",
       "    }\n",
       "\n",
       "    .dataframe thead th {\n",
       "        text-align: right;\n",
       "    }\n",
       "</style>\n",
       "<table border=\"1\" class=\"dataframe\">\n",
       "  <thead>\n",
       "    <tr style=\"text-align: right;\">\n",
       "      <th></th>\n",
       "      <th>mapper</th>\n",
       "      <th>accuracy</th>\n",
       "      <th>results</th>\n",
       "    </tr>\n",
       "  </thead>\n",
       "  <tbody>\n",
       "    <tr>\n",
       "      <th>0</th>\n",
       "      <td>rxn_mapper</td>\n",
       "      <td>0.835764</td>\n",
       "      <td>[False, True, True, True, False, False, False,...</td>\n",
       "    </tr>\n",
       "    <tr>\n",
       "      <th>1</th>\n",
       "      <td>graphormer</td>\n",
       "      <td>0.892491</td>\n",
       "      <td>[False, True, True, True, True, False, False, ...</td>\n",
       "    </tr>\n",
       "    <tr>\n",
       "      <th>2</th>\n",
       "      <td>local_mapper</td>\n",
       "      <td>0.852512</td>\n",
       "      <td>[False, True, True, True, True, False, False, ...</td>\n",
       "    </tr>\n",
       "  </tbody>\n",
       "</table>\n",
       "</div>"
      ],
      "text/plain": [
       "         mapper  accuracy                                            results\n",
       "0    rxn_mapper  0.835764  [False, True, True, True, False, False, False,...\n",
       "1    graphormer  0.892491  [False, True, True, True, True, False, False, ...\n",
       "2  local_mapper  0.852512  [False, True, True, True, True, False, False, ..."
      ]
     },
     "execution_count": 18,
     "metadata": {},
     "output_type": "execute_result"
    }
   ],
   "source": [
    "pd.DataFrame(validation_results)"
   ]
  },
  {
   "cell_type": "code",
   "execution_count": null,
   "metadata": {},
   "outputs": [],
   "source": [
    "from SynTemp.SynAAM.aam_validator import AMMValidator\n",
    "\n",
    "accuracy, results = AMMValidator.validate_smiles(data_check, 'ground_truth', 'graphormer', check_method='RC', ignore_aromaticity=False, n_jobs=2, verbose=2)\n",
    "accuracy"
   ]
  },
  {
   "cell_type": "code",
   "execution_count": null,
   "metadata": {},
   "outputs": [],
   "source": [
    "from SynTemp.SynAAM.aam_validator import AMMValidator\n",
    "\n",
    "accuracy, results = AMMValidator.validate_smiles(data_check, 'ground_truth', 'local_mapper', check_method='RC', ignore_aromaticity=False, n_jobs=2, verbose=2)\n",
    "accuracy"
   ]
  },
  {
   "cell_type": "code",
   "execution_count": null,
   "metadata": {},
   "outputs": [],
   "source": [
    "accuracy"
   ]
  },
  {
   "cell_type": "code",
   "execution_count": null,
   "metadata": {},
   "outputs": [],
   "source": [
    "from SynTemp.SynAAM.aam_validator import AMMValidator\n",
    "\n",
    "accuracy, results = AMMValidator.validate_smiles(data_check, 'ground_truth', 'mapper', check_method='RC', ignore_aromaticity=False, n_jobs=1, verbose=2)"
   ]
  },
  {
   "cell_type": "code",
   "execution_count": null,
   "metadata": {},
   "outputs": [],
   "source": [
    "accuracy"
   ]
  },
  {
   "cell_type": "code",
   "execution_count": null,
   "metadata": {},
   "outputs": [],
   "source": []
  },
  {
   "cell_type": "code",
   "execution_count": null,
   "metadata": {},
   "outputs": [],
   "source": [
    "test = valid_data[:]\n",
    "test[0]"
   ]
  },
  {
   "cell_type": "code",
   "execution_count": null,
   "metadata": {},
   "outputs": [],
   "source": [
    "AMMValidator.validate_smiles(test, 'local_mapper', 'graphormer', check_method='RC', ignore_aromaticity=False, n_jobs=1, verbose=2)"
   ]
  },
  {
   "cell_type": "code",
   "execution_count": null,
   "metadata": {},
   "outputs": [],
   "source": [
    "mapped_smile = valid_data[0]['rxn_mapper']\n",
    "ground_truth = valid_data[0]['local_mapper']\n",
    "checker = AMMValidator.smiles_check(mapped_smile, ground_truth, check_method='RC', ignore_aromaticity=False)"
   ]
  },
  {
   "cell_type": "code",
   "execution_count": null,
   "metadata": {},
   "outputs": [],
   "source": [
    "AMMValidator.smiles_check(mapped_smile, ground_truth, check_method='ITS', ignore_aromaticity=False)"
   ]
  },
  {
   "cell_type": "code",
   "execution_count": null,
   "metadata": {},
   "outputs": [],
   "source": [
    "AMMValidator.smiles_check(mapped_smile, ground_truth, check_method='RC', ignore_aromaticity=False)"
   ]
  },
  {
   "cell_type": "code",
   "execution_count": null,
   "metadata": {},
   "outputs": [],
   "source": [
    "import pandas as pd\n",
    "data_check = pd.read_csv('./Data/benchmark.csv', index_col=0)\n",
    "data_check = data_check.to_dict('records')"
   ]
  },
  {
   "cell_type": "code",
   "execution_count": null,
   "metadata": {},
   "outputs": [],
   "source": [
    "from SynTemp.SynITS.its_extraction import ITSExtraction\n",
    "#mapper_name = ['rxn_mapper', 'graphormer', 'local_mapper', 'ground_truth']\n",
    "mapper_name = ['ground_truth', 'rxn_mapper', 'graphormer', 'local_mapper']\n",
    "# Extract rules and graph rules based on Imaginary Transition State (ITS)\n",
    "its_graph, its_graph_wrong = ITSExtraction.parallel_process_smiles(data_check, mapper_name, threshold=3, n_jobs=4, verbose=1, export_full=False, check_method='RC')\n",
    "\n",
    "len(its_graph)"
   ]
  },
  {
   "cell_type": "code",
   "execution_count": null,
   "metadata": {},
   "outputs": [],
   "source": [
    "len(its_graph_wrong)"
   ]
  },
  {
   "cell_type": "code",
   "execution_count": null,
   "metadata": {},
   "outputs": [],
   "source": [
    "from SynTemp.SynITS.graph_rules_extraction import GraphRuleExtraction\n",
    "key = 0\n",
    "ground_its = its_graph_wrong[key]['ground_truth']\n",
    "ground_rules =GraphRuleExtraction.extract_reaction_rules(ground_its[0], ground_its[1], ground_its[2], extend=False)\n",
    "\n",
    "rxn_its = its_graph_wrong[key]['rxn_mapper']\n",
    "rxn_rules =GraphRuleExtraction.extract_reaction_rules(rxn_its[0], rxn_its[1], rxn_its[2], extend=False)\n",
    "\n",
    "graph_its = its_graph_wrong[key]['graphormer']\n",
    "graph_rules = GraphRuleExtraction.extract_reaction_rules(graph_its[0], graph_its[1], graph_its[2], extend=False)\n",
    "\n",
    "local_its = its_graph_wrong[key]['local_mapper']\n",
    "local_rules = GraphRuleExtraction.extract_reaction_rules(local_its[0], local_its[1], local_its[2], extend=False)"
   ]
  },
  {
   "cell_type": "code",
   "execution_count": null,
   "metadata": {},
   "outputs": [],
   "source": [
    "for i in ground_rules[2].nodes(data=True):\n",
    "    print(i)"
   ]
  },
  {
   "cell_type": "code",
   "execution_count": null,
   "metadata": {},
   "outputs": [],
   "source": [
    "for i in rxn_rules[2].nodes(data=True):\n",
    "    print(i)"
   ]
  },
  {
   "cell_type": "code",
   "execution_count": null,
   "metadata": {},
   "outputs": [],
   "source": [
    "for i in graph_rules[2].nodes(data=True):\n",
    "    print(i)\n"
   ]
  },
  {
   "cell_type": "code",
   "execution_count": null,
   "metadata": {},
   "outputs": [],
   "source": [
    "for i in local_rules[2].nodes(data=True):\n",
    "    print(i)"
   ]
  },
  {
   "cell_type": "code",
   "execution_count": null,
   "metadata": {},
   "outputs": [],
   "source": []
  },
  {
   "cell_type": "code",
   "execution_count": null,
   "metadata": {},
   "outputs": [],
   "source": [
    "from SynTemp.SynVis.chemical_graph_vis import ChemicalGraphVisualizer\n",
    "vis = ChemicalGraphVisualizer(seed = 42)\n",
    "vis.visualize_all(ground_rules)"
   ]
  },
  {
   "cell_type": "code",
   "execution_count": null,
   "metadata": {},
   "outputs": [],
   "source": [
    "from SynTemp.SynVis.chemical_graph_vis import ChemicalGraphVisualizer\n",
    "vis = ChemicalGraphVisualizer(seed =42)\n",
    "vis.visualize_all(rxn_rules)"
   ]
  },
  {
   "cell_type": "code",
   "execution_count": null,
   "metadata": {},
   "outputs": [],
   "source": [
    "vis.visualize_all(graph_rules)"
   ]
  },
  {
   "cell_type": "code",
   "execution_count": null,
   "metadata": {},
   "outputs": [],
   "source": [
    "vis.visualize_all(local_rules)"
   ]
  },
  {
   "cell_type": "code",
   "execution_count": null,
   "metadata": {},
   "outputs": [],
   "source": []
  },
  {
   "cell_type": "code",
   "execution_count": null,
   "metadata": {},
   "outputs": [],
   "source": []
  },
  {
   "cell_type": "code",
   "execution_count": null,
   "metadata": {},
   "outputs": [],
   "source": []
  },
  {
   "cell_type": "code",
   "execution_count": null,
   "metadata": {},
   "outputs": [],
   "source": [
    "vis.visualize_all(its_graph_wrong[0]['graphormer'])"
   ]
  },
  {
   "cell_type": "code",
   "execution_count": null,
   "metadata": {},
   "outputs": [],
   "source": [
    "vis.visualize_all(its_graph_wrong[0]['local_mapper'])"
   ]
  },
  {
   "cell_type": "code",
   "execution_count": null,
   "metadata": {},
   "outputs": [],
   "source": [
    "347/1855"
   ]
  },
  {
   "cell_type": "code",
   "execution_count": null,
   "metadata": {},
   "outputs": [],
   "source": []
  }
 ],
 "metadata": {
  "kernelspec": {
   "display_name": "SynITSG",
   "language": "python",
   "name": "python3"
  },
  "language_info": {
   "codemirror_mode": {
    "name": "ipython",
    "version": 3
   },
   "file_extension": ".py",
   "mimetype": "text/x-python",
   "name": "python",
   "nbconvert_exporter": "python",
   "pygments_lexer": "ipython3",
   "version": "3.11.0"
  }
 },
 "nbformat": 4,
 "nbformat_minor": 2
}
