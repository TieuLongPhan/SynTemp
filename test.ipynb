{
 "cells": [
  {
   "cell_type": "code",
   "execution_count": null,
   "metadata": {},
   "outputs": [],
   "source": [
    "from SynTemp.SynUtils.utils import load_database, load_from_pickle\n",
    "data = load_from_pickle('./Data/uspto/uspto_its_graph_rules_cluster.pkl.gz')"
   ]
  },
  {
   "cell_type": "code",
   "execution_count": null,
   "metadata": {},
   "outputs": [],
   "source": [
    "from SynTemp.SynMØD.rule_cluster import NaiveCluster\n",
    "node_label_names = [\"element\", \"charge\"]\n",
    "naive_cluster = NaiveCluster(node_label_names=node_label_names, node_label_default=[\"*\", 0], edge_attribute=\"order\")\n",
    "its_graph_rules_cluster = naive_cluster.process_rules_clustering(data, rule_column='GraphRules')"
   ]
  },
  {
   "cell_type": "code",
   "execution_count": null,
   "metadata": {},
   "outputs": [],
   "source": [
    "its_graph_rules_cluster[0]"
   ]
  },
  {
   "cell_type": "code",
   "execution_count": null,
   "metadata": {},
   "outputs": [],
   "source": [
    "from SynTemp.SynUtils.utils import stratified_random_sample\n",
    "import pandas as pd\n",
    "sampled_data = stratified_random_sample(its_graph_rules_cluster, property_key='naive_cluster', samples_per_class=1, seed=23)\n",
    "pd.DataFrame(sampled_data)['Reaction Type'].value_counts()"
   ]
  },
  {
   "cell_type": "code",
   "execution_count": null,
   "metadata": {},
   "outputs": [],
   "source": [
    "single = [x['GraphRules'][2] for x in sampled_data if x['Reaction Type'] == 'Single Cyclic']\n",
    "complex = [x['GraphRules'][2] for x in sampled_data if x['Reaction Type'] == 'Complex Cyclic']\n",
    "neither = [x['GraphRules'][2] for x in sampled_data if x['Reaction Type'] == 'None']\n",
    "acyclic = [x['GraphRules'][2] for x in sampled_data if x['Reaction Type'] == 'Acyclic']"
   ]
  },
  {
   "cell_type": "code",
   "execution_count": null,
   "metadata": {},
   "outputs": [],
   "source": [
    "from SynTemp.SynVis.chemical_graph_vis import ChemicalGraphVisualizer\n",
    "vis = ChemicalGraphVisualizer()\n",
    "vis.graph_vis(complex[4], show_node_labels=True)"
   ]
  },
  {
   "cell_type": "code",
   "execution_count": null,
   "metadata": {},
   "outputs": [],
   "source": [
    "from SynTemp.SynMØD.rule_decompose import GraphRuleDecompose"
   ]
  },
  {
   "cell_type": "code",
   "execution_count": null,
   "metadata": {},
   "outputs": [],
   "source": [
    "from copy import deepcopy\n",
    "complex_graph = complex[11]\n",
    "# Add nodes and edges to complex_graph with the required attributes\n",
    "\n",
    "single_cyclic_graphs = deepcopy(single)\n",
    "# Define your single cyclic graphs by adding nodes and edges with the required attributes\n",
    "\n",
    "# Call the function\n",
    "explained_graphs = GraphRuleDecompose.bfs_remove_isomorphic_subgraphs(complex_graph, single_cyclic_graphs)\n",
    "\n",
    "if explained_graphs is not None:\n",
    "    print(\"List of single cyclic graphs that explain the complex graph:\", explained_graphs)\n",
    "    GraphRuleDecompose.visualize_with_common_subgraphs(complex_graph, explained_graphs)\n",
    "else:\n",
    "    print(\"Some parts of the complex graph could not be explained by any of the single cyclic graphs.\")"
   ]
  },
  {
   "cell_type": "code",
   "execution_count": null,
   "metadata": {},
   "outputs": [],
   "source": [
    "import pandas as pd \n",
    "\n",
    "df = pd.read_csv('./Data/golden/golden_dataset.csv')\n",
    "df.head(2)\n",
    "\n",
    "from SynTemp.SynUtils.utils import load_database\n",
    "data = load_database('./Data/golden/golden_aam_reactions.json.gz')\n",
    "for key, value in enumerate(data):\n",
    "    data[key]['ground_truth'] = df.iloc[key,0]"
   ]
  },
  {
   "cell_type": "code",
   "execution_count": null,
   "metadata": {},
   "outputs": [],
   "source": [
    "from SynTemp.SynUtils.utils import load_database\n",
    "data = load_database('./Data/golden/golden_aam_reactions.json.gz')\n",
    "for key, value in enumerate(data):\n",
    "    data[key]['ground_truth'] = df.iloc[key,0]"
   ]
  },
  {
   "cell_type": "code",
   "execution_count": null,
   "metadata": {},
   "outputs": [],
   "source": [
    "pd.DataFrame(data).info()"
   ]
  },
  {
   "cell_type": "code",
   "execution_count": null,
   "metadata": {},
   "outputs": [],
   "source": [
    "from SynTemp.SynAAM.aam_validator import AMMValidator \n",
    "for key, value in enumerate(data):\n",
    "    try:\n",
    "        AMMValidator.smiles_check(data[key]['ground_truth'], data[key]['rdt'])\n",
    "    except:\n",
    "        print(key)"
   ]
  },
  {
   "cell_type": "code",
   "execution_count": null,
   "metadata": {},
   "outputs": [],
   "source": [
    "data[366]['rdt']"
   ]
  },
  {
   "cell_type": "code",
   "execution_count": null,
   "metadata": {},
   "outputs": [],
   "source": [
    "from SynTemp.SynAAM.aam_validator import AMMValidator  \n",
    "results = AMMValidator.validate_smiles(data=data, ground_truth_col='ground_truth', \n",
    "                                       mapped_cols=['rxn_mapper', 'graphormer', 'local_mapper', 'rdt'], \n",
    "                                       check_method='RC', \n",
    "                                       ignore_aromaticity=False, n_jobs=4, verbose=0)"
   ]
  },
  {
   "cell_type": "code",
   "execution_count": null,
   "metadata": {},
   "outputs": [],
   "source": [
    "pd.DataFrame(results)[['mapper', 'accuracy']]"
   ]
  },
  {
   "cell_type": "code",
   "execution_count": null,
   "metadata": {},
   "outputs": [],
   "source": [
    "from SynTemp.SynAAM.aam_validator import AMMValidator  \n",
    "results = AMMValidator.validate_smiles(data=data, ground_truth_col='Ground turth', \n",
    "                                       mapped_cols=['RXNMapper', 'GraphMapper', 'LocalMapper'], \n",
    "                                       check_method='RC', \n",
    "                                       ignore_aromaticity=False, n_jobs=4, verbose=0)"
   ]
  },
  {
   "cell_type": "code",
   "execution_count": null,
   "metadata": {},
   "outputs": [],
   "source": [
    "pd.DataFrame(results)[['mapper', 'accuracy']]"
   ]
  },
  {
   "cell_type": "code",
   "execution_count": null,
   "metadata": {},
   "outputs": [],
   "source": [
    "pd.DataFrame(results)[['mapper', 'accuracy']]"
   ]
  },
  {
   "cell_type": "code",
   "execution_count": null,
   "metadata": {},
   "outputs": [],
   "source": []
  },
  {
   "cell_type": "code",
   "execution_count": null,
   "metadata": {},
   "outputs": [],
   "source": [
    "from SynTemp.SynUtils.utils import load_database\n",
    "recon = load_database('./Data/Recon3D/Recon3D_aam_reactions.json.gz')\n",
    "\n",
    "from SynTemp.SynAAM.aam_validator import AMMValidator  \n",
    "results, _ = AMMValidator.validate_smiles(data=recon, ground_truth_col='ground_truth', \n",
    "                                       mapped_cols=['rxn_mapper', 'graphormer', 'local_mapper', 'rdt'], \n",
    "                                       check_method='RC', \n",
    "                                       ignore_aromaticity=False, n_jobs=4, verbose=0, ensemble=True)"
   ]
  },
  {
   "cell_type": "code",
   "execution_count": null,
   "metadata": {},
   "outputs": [],
   "source": [
    "pd.DataFrame(recon).to_csv('./Data/Recon3D/Recon3D_aam_reactions.csv')"
   ]
  },
  {
   "cell_type": "code",
   "execution_count": null,
   "metadata": {},
   "outputs": [],
   "source": [
    "import pandas as pd\n",
    "pd.DataFrame(results)[['mapper', 'accuracy', 'success_rate']]"
   ]
  },
  {
   "cell_type": "code",
   "execution_count": null,
   "metadata": {},
   "outputs": [],
   "source": []
  },
  {
   "cell_type": "code",
   "execution_count": null,
   "metadata": {},
   "outputs": [],
   "source": []
  },
  {
   "cell_type": "code",
   "execution_count": null,
   "metadata": {},
   "outputs": [],
   "source": []
  },
  {
   "cell_type": "code",
   "execution_count": null,
   "metadata": {},
   "outputs": [],
   "source": [
    "import pandas as pd"
   ]
  },
  {
   "cell_type": "code",
   "execution_count": null,
   "metadata": {},
   "outputs": [],
   "source": [
    "ecoli = pd.read_csv('./Data/ecoli/ecoli.smiles', header=None)\n",
    "ecoli.rename({0:'ground_truth'}, axis=1, inplace=True)\n",
    "ecoli['R-id'] = range(1, len(ecoli) + 1)"
   ]
  },
  {
   "cell_type": "code",
   "execution_count": null,
   "metadata": {},
   "outputs": [],
   "source": [
    "from rdkit import Chem\n",
    "from rdkit.Chem import rdChemReactions\n",
    "ok = []\n",
    "bug = []\n",
    "for key, value in enumerate(ecoli['ground_truth']):\n",
    "    try:\n",
    "        rdChemReactions.ReactionFromSmarts(value)\n",
    "        ok.append(key)\n",
    "    except:\n",
    "        bug.append(key)"
   ]
  },
  {
   "cell_type": "code",
   "execution_count": null,
   "metadata": {},
   "outputs": [],
   "source": [
    "a,b,c =ecoli['ground_truth'][bug[0]].split('>>')"
   ]
  },
  {
   "cell_type": "code",
   "execution_count": null,
   "metadata": {},
   "outputs": [],
   "source": [
    "from rdkit import Chem\n",
    "Chem.MolFromSmiles(a)"
   ]
  },
  {
   "cell_type": "code",
   "execution_count": null,
   "metadata": {},
   "outputs": [],
   "source": [
    "Chem.MolFromSmiles(b)"
   ]
  },
  {
   "cell_type": "code",
   "execution_count": null,
   "metadata": {},
   "outputs": [],
   "source": [
    "Chem.MolFromSmiles(c)"
   ]
  },
  {
   "cell_type": "code",
   "execution_count": null,
   "metadata": {},
   "outputs": [],
   "source": [
    "print(ecoli.iloc[bug,:]['ground_truth'])"
   ]
  },
  {
   "cell_type": "code",
   "execution_count": null,
   "metadata": {},
   "outputs": [],
   "source": [
    "ecoli = ecoli.iloc[ok, :]\n",
    "ecoli.reset_index(drop=True, inplace=True)\n",
    "#ecoli = ecoli.to_dict('records')"
   ]
  },
  {
   "cell_type": "code",
   "execution_count": null,
   "metadata": {},
   "outputs": [],
   "source": [
    "from rdkit import Chem\n",
    "from typing import List, Optional\n",
    "import re\n",
    "\n",
    "def remove_atom_mapping(smiles: str) -> str:\n",
    "    \"\"\"\n",
    "    Removes atom mapping numbers and simplifies atomic notation in a SMILES string.\n",
    "    \n",
    "    This function processes a SMILES string to:\n",
    "    1. Remove any atom mapping numbers denoted by ':' followed by one or more digits.\n",
    "    2. Simplify the atomic notation by removing square brackets around atoms that do not need them.\n",
    "    \n",
    "    Parameters:\n",
    "    - smiles (str): The SMILES string to be processed.\n",
    "    \n",
    "    Returns:\n",
    "    - str: The processed SMILES string with atom mappings removed and simplified atomic notations.\n",
    "    \"\"\"\n",
    "    # Remove atom mapping numbers\n",
    "    pattern = re.compile(r\":\\d+\")\n",
    "    smiles = pattern.sub(\"\", smiles)\n",
    "    # Simplify atomic notation by removing unnecessary square brackets\n",
    "    pattern = re.compile(r\"\\[(?P<atom>(B|C|N|O|P|S|F|Cl|Br|I){1,2})(?:H\\d?)?\\]\")\n",
    "    smiles = pattern.sub(r\"\\g<atom>\", smiles)\n",
    "    return smiles\n",
    "\n",
    "def mol_from_smiles(smiles: str) -> Optional[Chem.Mol]:\n",
    "    \"\"\"\n",
    "    Converts a SMILES string to an RDKit Mol object, with error handling for invalid strings.\n",
    "    \n",
    "    Parameters:\n",
    "    - smiles (str): The SMILES string to be converted.\n",
    "    \n",
    "    Returns:\n",
    "    - Chem.Mol: An RDKit Mol object created from the given SMILES string. None if conversion fails.\n",
    "    \n",
    "    Raises:\n",
    "    - ValueError: If the SMILES string is invalid and cannot be converted to a Mol object.\n",
    "    \"\"\"\n",
    "    mol = Chem.MolFromSmiles(smiles)\n",
    "    if mol is None:\n",
    "        raise ValueError(f\"Invalid SMILES string: {smiles}\")\n",
    "    return mol\n",
    "\n",
    "def filter_valid_molecules(smiles_list: List[str]) -> List[Chem.Mol]:\n",
    "    \"\"\"\n",
    "    Filters a list of SMILES strings, converting them to RDKit Mol objects, while ignoring invalid or empty molecules.\n",
    "    \n",
    "    Parameters:\n",
    "    - smiles_list (List[str]): A list of SMILES strings to be processed.\n",
    "    \n",
    "    Returns:\n",
    "    - List[Chem.Mol]: A list of RDKit Mol objects derived from valid, non-empty SMILES strings in the input list.\n",
    "    \"\"\"\n",
    "    valid_molecules = []\n",
    "    for smiles in smiles_list:\n",
    "        try:\n",
    "            mol = mol_from_smiles(smiles)\n",
    "            if mol.GetNumAtoms() > 0:\n",
    "                valid_molecules.append(mol)\n",
    "        except ValueError:\n",
    "            continue\n",
    "    return valid_molecules\n",
    "\n",
    "def standardize_rsmi(rsmi: str) -> str:\n",
    "    \"\"\"\n",
    "    Standardizes a reaction SMILES (rSMI) by ensuring that all reactants and products are valid molecules with atoms.\n",
    "    \n",
    "    The function splits the reaction into reactants and products, filters and validates them, and then\n",
    "    assembles them back into a standardized reaction SMILES string.\n",
    "    \n",
    "    Parameters:\n",
    "    - rsmi (str): The reaction SMILES string to be standardized.\n",
    "    \n",
    "    Returns:\n",
    "    - str: The standardized reaction SMILES string with valid and non-empty reactants and products.\n",
    "    \"\"\"\n",
    "    reactants, products = rsmi.split('>>')\n",
    "    reactant_molecules = filter_valid_molecules(reactants.split('.'))\n",
    "    product_molecules = filter_valid_molecules(products.split('.'))\n",
    "\n",
    "    # Convert molecules back to SMILES and assemble the standardized reaction SMILES string\n",
    "    standardized_reactants = '.'.join(Chem.MolToSmiles(mol) for mol in reactant_molecules)\n",
    "    standardized_products = '.'.join(Chem.MolToSmiles(mol) for mol in product_molecules)\n",
    "\n",
    "    return f\"{standardized_reactants}>>{standardized_products}\"\n",
    "\n",
    "\n",
    "ecoli['ground_truth'] = ecoli['ground_truth'].apply(standardize_rsmi)\n"
   ]
  },
  {
   "cell_type": "code",
   "execution_count": null,
   "metadata": {},
   "outputs": [],
   "source": [
    "import re\n",
    "def remove_atom_mapping(smiles: str) -> str:\n",
    "    pattern = re.compile(r\":\\d+\")\n",
    "    smiles = pattern.sub(\"\", smiles)\n",
    "    pattern = re.compile(r\"\\[(?P<atom>(B|C|N|O|P|S|F|Cl|Br|I){1,2})(?:H\\d?)?\\]\")\n",
    "    smiles = pattern.sub(r\"\\g<atom>\", smiles)\n",
    "    return smiles\n",
    "ecoli['reactions'] = ecoli['ground_truth'].apply(remove_atom_mapping)\n",
    "ecoli = ecoli.to_dict('records')"
   ]
  },
  {
   "cell_type": "code",
   "execution_count": null,
   "metadata": {},
   "outputs": [],
   "source": [
    "from SynTemp.SynUtils.utils import save_database\n",
    "save_database(ecoli, './Data/ecoli/ecoli_reactions.json.gz')"
   ]
  },
  {
   "cell_type": "code",
   "execution_count": null,
   "metadata": {},
   "outputs": [],
   "source": [
    "Chem.MolFromSmiles(ecoli.loc[189, 'reactions'])"
   ]
  },
  {
   "cell_type": "code",
   "execution_count": null,
   "metadata": {},
   "outputs": [],
   "source": [
    "bug"
   ]
  },
  {
   "cell_type": "code",
   "execution_count": null,
   "metadata": {},
   "outputs": [],
   "source": [
    "\n",
    "rxn = rdChemReactions.ReactionFromSmarts('[C:1](=[O:2])O.[N:3]>>[C:1](=[O:2])[N:3]')\n",
    "reacts = (Chem.MolFromSmiles('C(=O)O'),Chem.MolFromSmiles('CNC'))\n",
    "products = rxn.RunReactants(reacts)"
   ]
  },
  {
   "cell_type": "code",
   "execution_count": null,
   "metadata": {},
   "outputs": [],
   "source": []
  },
  {
   "cell_type": "code",
   "execution_count": null,
   "metadata": {},
   "outputs": [],
   "source": [
    "from SynTemp.SynUtils.utils import load_database\n",
    "recon = load_database('./Data/Recon3D/Recon3D_aam_reactions.json.gz')\n",
    "\n",
    "from SynTemp.SynAAM.aam_validator import AMMValidator  \n",
    "results, _ = AMMValidator.validate_smiles(data=recon, ground_truth_col='ground_truth', \n",
    "                                       mapped_cols=['rxn_mapper', 'graphormer', 'local_mapper'], \n",
    "                                       check_method='RC', \n",
    "                                       ignore_aromaticity=False, n_jobs=4, verbose=0, ensemble=True)\n",
    "\n",
    "import pandas as pd\n",
    "pd.DataFrame(results)[['mapper', 'accuracy', 'success_rate']]"
   ]
  },
  {
   "cell_type": "code",
   "execution_count": null,
   "metadata": {},
   "outputs": [],
   "source": [
    "recon[0]"
   ]
  },
  {
   "cell_type": "code",
   "execution_count": null,
   "metadata": {},
   "outputs": [],
   "source": [
    "from SynTemp.SynUtils.utils import load_database\n",
    "recon = load_database('./Data/ecoli/ecoli_aam_reactions.json.gz')\n",
    "\n",
    "from SynTemp.SynAAM.aam_validator import AMMValidator  \n",
    "results, _ = AMMValidator.validate_smiles(data=recon, ground_truth_col='ground_truth', \n",
    "                                       mapped_cols=['rxn_mapper', 'graphormer', 'local_mapper', 'rdt', 'ground_truth'], \n",
    "                                       check_method='RC', \n",
    "                                       ignore_aromaticity=False, n_jobs=4, verbose=0, ensemble=False)\n",
    "\n",
    "import pandas as pd\n",
    "pd.DataFrame(results)[['mapper', 'accuracy', 'success_rate']]"
   ]
  },
  {
   "cell_type": "code",
   "execution_count": null,
   "metadata": {},
   "outputs": [],
   "source": [
    "test = pd.DataFrame(recon).drop(['reactions'], axis =1)\n",
    "test['local_mapper_result'] = pd.DataFrame(results).loc[2, 'results']\n",
    "test['rxn_mapper_result'] = pd.DataFrame(results).loc[0, 'results']\n",
    "test['graphormer_result'] = pd.DataFrame(results).loc[1, 'results']\n",
    "test['rdt_result'] = pd.DataFrame(results).loc[3, 'results']"
   ]
  },
  {
   "cell_type": "code",
   "execution_count": null,
   "metadata": {},
   "outputs": [],
   "source": [
    "test.to_csv('./Data/ecoli/ecoli_aam_reactions.csv')"
   ]
  },
  {
   "cell_type": "code",
   "execution_count": null,
   "metadata": {},
   "outputs": [],
   "source": [
    "pd.DataFrame(results)"
   ]
  },
  {
   "cell_type": "code",
   "execution_count": null,
   "metadata": {},
   "outputs": [],
   "source": [
    "pd.DataFrame(results).loc[2, 'results']"
   ]
  },
  {
   "cell_type": "code",
   "execution_count": null,
   "metadata": {},
   "outputs": [],
   "source": [
    "test_2 = test[['local_mapper_result', 'rxn_mapper_result', 'graphormer_result', 'rdt_result']]"
   ]
  },
  {
   "cell_type": "code",
   "execution_count": null,
   "metadata": {},
   "outputs": [],
   "source": [
    "def ensemble_results(df, threshold):\n",
    "    # Calculate the sum of True values in each row\n",
    "    true_counts = df.sum(axis=1)\n",
    "    # Apply the threshold to determine the final result\n",
    "    final_results = true_counts >= threshold\n",
    "    return final_results\n",
    "\n",
    "test_3 = ensemble_results(test_2, 2)"
   ]
  },
  {
   "cell_type": "code",
   "execution_count": null,
   "metadata": {},
   "outputs": [],
   "source": [
    "test_3.sum()/273"
   ]
  },
  {
   "cell_type": "code",
   "execution_count": null,
   "metadata": {},
   "outputs": [],
   "source": [
    "uspto_sample = pd.read_csv('./Data/aam_benchmark/USPTO_sampled.csv')"
   ]
  },
  {
   "cell_type": "code",
   "execution_count": null,
   "metadata": {},
   "outputs": [],
   "source": [
    "uspto_sample['LocalMapper_correct'].sum()"
   ]
  },
  {
   "cell_type": "code",
   "execution_count": null,
   "metadata": {},
   "outputs": [],
   "source": [
    "uspto_sample"
   ]
  },
  {
   "cell_type": "markdown",
   "metadata": {},
   "source": [
    "# Bug"
   ]
  },
  {
   "cell_type": "code",
   "execution_count": null,
   "metadata": {},
   "outputs": [],
   "source": [
    "import pandas as pd \n",
    "\n",
    "df = pd.read_csv('./Data/aam_benchmark/Golden_mappings.csv')\n",
    "df = pd.read_csv('./Data/aam_benchmark/benchmark.csv')\n",
    "df = pd.read_csv('./Data/aam_benchmark/NatComm_mappings.csv')\n",
    "df = pd.read_csv('./Data/aam_benchmark/USPTO_sampled.csv')\n",
    "df = pd.read_csv('./Data/ecoli/ecoli_aam_reactions.csv')\n",
    "#df = pd.read_csv('./Data/Recon3D/Recon3D_aam_reactions.csv')\n",
    "df.head(1)"
   ]
  },
  {
   "cell_type": "code",
   "execution_count": null,
   "metadata": {},
   "outputs": [],
   "source": [
    "from SynTemp.SynAAM.aam_validator import AMMValidator  \n",
    "results, _ = AMMValidator.validate_smiles(data=df, ground_truth_col='ground_truth', \n",
    "                                       mapped_cols=['ground_truth'], \n",
    "                                       check_method='RC', \n",
    "                                       ignore_aromaticity=False, n_jobs=4, verbose=0, ensemble=False)\n",
    "\n",
    "import pandas as pd\n",
    "pd.DataFrame(results)[['mapper', 'accuracy', 'success_rate']]"
   ]
  },
  {
   "cell_type": "code",
   "execution_count": null,
   "metadata": {},
   "outputs": [],
   "source": [
    "test_0 = df[['ground_truth', 'R-id']]\n",
    "test_0['results'] = results[0]['results']"
   ]
  },
  {
   "cell_type": "code",
   "execution_count": null,
   "metadata": {},
   "outputs": [],
   "source": [
    "test_0_bug = test_0.loc[test_0['results']==False, :]"
   ]
  },
  {
   "cell_type": "code",
   "execution_count": null,
   "metadata": {},
   "outputs": [],
   "source": [
    "rsmi = test_0_bug['ground_truth'][74]"
   ]
  },
  {
   "cell_type": "code",
   "execution_count": null,
   "metadata": {},
   "outputs": [],
   "source": [
    "from SynTemp.SynITS.its_construction import ITSConstruction\n",
    "from SynTemp.SynITS.its_extraction import ITSExtraction\n",
    "reactants, products = rsmi.split('>>')\n",
    "G, H = ITSExtraction.graph_from_smiles(reactants), ITSExtraction.graph_from_smiles(products)"
   ]
  },
  {
   "cell_type": "code",
   "execution_count": null,
   "metadata": {},
   "outputs": [],
   "source": [
    "rsmi"
   ]
  },
  {
   "cell_type": "code",
   "execution_count": null,
   "metadata": {},
   "outputs": [],
   "source": [
    "reactants"
   ]
  },
  {
   "cell_type": "code",
   "execution_count": null,
   "metadata": {},
   "outputs": [],
   "source": [
    "from rdkit import Chem\n",
    "Chem.MolFromSmiles(reactants)"
   ]
  },
  {
   "cell_type": "code",
   "execution_count": null,
   "metadata": {},
   "outputs": [],
   "source": []
  },
  {
   "cell_type": "code",
   "execution_count": null,
   "metadata": {},
   "outputs": [],
   "source": []
  },
  {
   "cell_type": "code",
   "execution_count": null,
   "metadata": {},
   "outputs": [],
   "source": [
    "from SynTemp.SynVis.reaction_visualizer import ReactionVisualizer\n",
    "vis = ReactionVisualizer()"
   ]
  },
  {
   "cell_type": "code",
   "execution_count": null,
   "metadata": {},
   "outputs": [],
   "source": [
    "vis.visualize_reaction(test_0_bug.iloc[0]['ground_truth'])"
   ]
  },
  {
   "cell_type": "code",
   "execution_count": null,
   "metadata": {},
   "outputs": [],
   "source": [
    "test_0_bug.iloc[0]['ground_truth']"
   ]
  },
  {
   "cell_type": "code",
   "execution_count": null,
   "metadata": {},
   "outputs": [],
   "source": [
    "import pandas as pd\n",
    "\n",
    "\n",
    "df = pd.read_csv('./Data/USPTO_50K/USPTO_50K.csv')\n",
    "df.drop_duplicates(subset=['reactions'], inplace=True)\n",
    "df['R-id'] = ['USPTO-' + str(i) for i in range(len(df))]\n",
    "df.head(2)"
   ]
  },
  {
   "cell_type": "markdown",
   "metadata": {},
   "source": [
    "# MOD"
   ]
  },
  {
   "cell_type": "code",
   "execution_count": null,
   "metadata": {},
   "outputs": [],
   "source": [
    "from SynTemp.SynMØD.rule_executor import RuleExecutor\n",
    "test = RuleExecutor.reaction_prediction(input_smiles=['C=C1C(=C)C2OC1C1=C2CC(C(C)=O)CC1'],\n",
    "                                        rule_file_path='./Data/uspto/Rule/USPTO_50K_31.gml',\n",
    "                                        prediction_type='backward', repeat_times=1, print_results=False)\n",
    "\n",
    "test"
   ]
  },
  {
   "cell_type": "code",
   "execution_count": null,
   "metadata": {},
   "outputs": [],
   "source": [
    "from SynTemp.SynMØD.rule_executor import RuleExecutor\n",
    "from SynTemp.SynUtils.utils import load_database\n",
    "database = load_database('./test_database.json.gz')\n",
    "test = RuleExecutor.reaction_database_prediction(database=database[:],  rule_file_path='./Data/uspto/Rule/',\n",
    "                                         original_rsmi_col='reactions', prediction_type = 'backward', repeat_times=1)\n"
   ]
  },
  {
   "cell_type": "code",
   "execution_count": null,
   "metadata": {},
   "outputs": [],
   "source": [
    "from SynTemp.SynMØD.rule_benchmark import RuleBenchmark\n",
    "from SynTemp.SynUtils.utils import load_database\n",
    "database = load_database('./test_database.json.gz')\n",
    "fw, bw = RuleBenchmark.reproduce_reactions(database=database[:],  id_col='R-id', rule_file_path='./Data/uspto/Rule',\n",
    "                                         original_rsmi_col='reactions', repeat_times=1)\n"
   ]
  },
  {
   "cell_type": "code",
   "execution_count": null,
   "metadata": {},
   "outputs": [],
   "source": [
    "import pandas as pd\n",
    "pd.DataFrame(bw).info()"
   ]
  },
  {
   "cell_type": "markdown",
   "metadata": {},
   "source": [
    "# Ranking"
   ]
  },
  {
   "cell_type": "code",
   "execution_count": null,
   "metadata": {},
   "outputs": [],
   "source": [
    "from SynTemp.SynUtils.utils import load_database\n",
    "from SynTemp.SynMØD.rule_benchmark import RuleBenchmark\n",
    "database = load_database('./test_database.json.gz')\n",
    "fw, bw = RuleBenchmark.reproduce_reactions(database=database[:],  id_col='R-id', rule_file_path='./Data/uspto/Rule',\n",
    "                                         original_rsmi_col='reactions', repeat_times=1, known_class=False)"
   ]
  },
  {
   "cell_type": "code",
   "execution_count": null,
   "metadata": {},
   "outputs": [],
   "source": [
    "from SynTemp.SynMØD.similarity_ranking import SimilarityRanking\n",
    "\n",
    "\n",
    "processed_dicts = SimilarityRanking.process_list_of_dicts(fw, 'unrank', ['RDK5', 'RDK6', 'RDK7'])\n",
    "print(\"Top 5 accuracy:\", RuleBenchmark.TopKAccuracy(processed_dicts, 'reactions','rank', 5, ignore_stero=True))"
   ]
  }
 ],
 "metadata": {
  "kernelspec": {
   "display_name": "SynITSG",
   "language": "python",
   "name": "python3"
  },
  "language_info": {
   "codemirror_mode": {
    "name": "ipython",
    "version": 3
   },
   "file_extension": ".py",
   "mimetype": "text/x-python",
   "name": "python",
   "nbconvert_exporter": "python",
   "pygments_lexer": "ipython3",
   "version": "3.11.0"
  }
 },
 "nbformat": 4,
 "nbformat_minor": 2
}
